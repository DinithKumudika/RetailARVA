{
 "nbformat": 4,
 "nbformat_minor": 0,
 "metadata": {
  "colab": {
   "provenance": []
  },
  "kernelspec": {
   "name": "python3",
   "display_name": "Python 3 (ipykernel)",
   "language": "python"
  },
  "language_info": {
   "name": "python"
  }
 },
 "cells": [
  {
   "cell_type": "code",
   "source": [
    "# https://arxiv.org/html/2411.10541v1/\n",
    "# https://arxiv.org/pdf/2411.10541"
   ],
   "metadata": {
    "id": "zR3wzJXqbQbs",
    "ExecuteTime": {
     "end_time": "2025-04-15T16:11:46.934506Z",
     "start_time": "2025-04-15T16:11:46.927486Z"
    }
   },
   "outputs": [],
   "execution_count": 1
  },
  {
   "metadata": {
    "ExecuteTime": {
     "end_time": "2025-04-15T16:11:53.211911Z",
     "start_time": "2025-04-15T16:11:48.364860Z"
    }
   },
   "cell_type": "code",
   "source": "%pip install --upgrade langchain langchain-community langchain-core langchainhub langchain-qdrant langchain-ollama langchain-text-splitters langsmith",
   "outputs": [
    {
     "name": "stdout",
     "output_type": "stream",
     "text": [
      "Requirement already satisfied: langchain in c:\\users\\dinit\\documents\\research\\development\\retailarva\\notebooks\\.venv\\lib\\site-packages (0.3.23)\n",
      "Requirement already satisfied: langchain-community in c:\\users\\dinit\\documents\\research\\development\\retailarva\\notebooks\\.venv\\lib\\site-packages (0.3.21)\n",
      "Requirement already satisfied: langchain-core in c:\\users\\dinit\\documents\\research\\development\\retailarva\\notebooks\\.venv\\lib\\site-packages (0.3.51)\n",
      "Requirement already satisfied: langchainhub in c:\\users\\dinit\\documents\\research\\development\\retailarva\\notebooks\\.venv\\lib\\site-packages (0.1.21)\n",
      "Requirement already satisfied: langchain-qdrant in c:\\users\\dinit\\documents\\research\\development\\retailarva\\notebooks\\.venv\\lib\\site-packages (0.2.0)\n",
      "Requirement already satisfied: langchain-ollama in c:\\users\\dinit\\documents\\research\\development\\retailarva\\notebooks\\.venv\\lib\\site-packages (0.3.1)\n",
      "Requirement already satisfied: langchain-text-splitters in c:\\users\\dinit\\documents\\research\\development\\retailarva\\notebooks\\.venv\\lib\\site-packages (0.3.8)\n",
      "Requirement already satisfied: langsmith in c:\\users\\dinit\\documents\\research\\development\\retailarva\\notebooks\\.venv\\lib\\site-packages (0.3.31)\n",
      "Requirement already satisfied: pydantic<3.0.0,>=2.7.4 in c:\\users\\dinit\\documents\\research\\development\\retailarva\\notebooks\\.venv\\lib\\site-packages (from langchain) (2.11.3)\n",
      "Requirement already satisfied: SQLAlchemy<3,>=1.4 in c:\\users\\dinit\\documents\\research\\development\\retailarva\\notebooks\\.venv\\lib\\site-packages (from langchain) (2.0.40)\n",
      "Requirement already satisfied: requests<3,>=2 in c:\\users\\dinit\\documents\\research\\development\\retailarva\\notebooks\\.venv\\lib\\site-packages (from langchain) (2.32.3)\n",
      "Requirement already satisfied: PyYAML>=5.3 in c:\\users\\dinit\\documents\\research\\development\\retailarva\\notebooks\\.venv\\lib\\site-packages (from langchain) (6.0.2)\n",
      "Requirement already satisfied: aiohttp<4.0.0,>=3.8.3 in c:\\users\\dinit\\documents\\research\\development\\retailarva\\notebooks\\.venv\\lib\\site-packages (from langchain-community) (3.11.16)\n",
      "Requirement already satisfied: tenacity!=8.4.0,<10,>=8.1.0 in c:\\users\\dinit\\documents\\research\\development\\retailarva\\notebooks\\.venv\\lib\\site-packages (from langchain-community) (9.1.2)\n",
      "Requirement already satisfied: dataclasses-json<0.7,>=0.5.7 in c:\\users\\dinit\\documents\\research\\development\\retailarva\\notebooks\\.venv\\lib\\site-packages (from langchain-community) (0.6.7)\n",
      "Requirement already satisfied: pydantic-settings<3.0.0,>=2.4.0 in c:\\users\\dinit\\documents\\research\\development\\retailarva\\notebooks\\.venv\\lib\\site-packages (from langchain-community) (2.8.1)\n",
      "Requirement already satisfied: httpx-sse<1.0.0,>=0.4.0 in c:\\users\\dinit\\documents\\research\\development\\retailarva\\notebooks\\.venv\\lib\\site-packages (from langchain-community) (0.4.0)\n",
      "Requirement already satisfied: numpy<3,>=1.26.2 in c:\\users\\dinit\\documents\\research\\development\\retailarva\\notebooks\\.venv\\lib\\site-packages (from langchain-community) (2.2.4)\n",
      "Requirement already satisfied: jsonpatch<2.0,>=1.33 in c:\\users\\dinit\\documents\\research\\development\\retailarva\\notebooks\\.venv\\lib\\site-packages (from langchain-core) (1.33)\n",
      "Requirement already satisfied: packaging<25,>=23.2 in c:\\users\\dinit\\documents\\research\\development\\retailarva\\notebooks\\.venv\\lib\\site-packages (from langchain-core) (24.2)\n",
      "Requirement already satisfied: typing-extensions>=4.7 in c:\\users\\dinit\\documents\\research\\development\\retailarva\\notebooks\\.venv\\lib\\site-packages (from langchain-core) (4.13.2)\n",
      "Requirement already satisfied: types-requests<3.0.0.0,>=2.31.0.2 in c:\\users\\dinit\\documents\\research\\development\\retailarva\\notebooks\\.venv\\lib\\site-packages (from langchainhub) (2.32.0.20250328)\n",
      "Requirement already satisfied: qdrant-client<2.0.0,>=1.10.1 in c:\\users\\dinit\\documents\\research\\development\\retailarva\\notebooks\\.venv\\lib\\site-packages (from langchain-qdrant) (1.13.3)\n",
      "Requirement already satisfied: ollama<1,>=0.4.4 in c:\\users\\dinit\\documents\\research\\development\\retailarva\\notebooks\\.venv\\lib\\site-packages (from langchain-ollama) (0.4.7)\n",
      "Requirement already satisfied: httpx<1,>=0.23.0 in c:\\users\\dinit\\documents\\research\\development\\retailarva\\notebooks\\.venv\\lib\\site-packages (from langsmith) (0.28.1)\n",
      "Requirement already satisfied: orjson<4.0.0,>=3.9.14 in c:\\users\\dinit\\documents\\research\\development\\retailarva\\notebooks\\.venv\\lib\\site-packages (from langsmith) (3.10.16)\n",
      "Requirement already satisfied: requests-toolbelt<2.0.0,>=1.0.0 in c:\\users\\dinit\\documents\\research\\development\\retailarva\\notebooks\\.venv\\lib\\site-packages (from langsmith) (1.0.0)\n",
      "Requirement already satisfied: zstandard<0.24.0,>=0.23.0 in c:\\users\\dinit\\documents\\research\\development\\retailarva\\notebooks\\.venv\\lib\\site-packages (from langsmith) (0.23.0)\n",
      "Requirement already satisfied: aiohappyeyeballs>=2.3.0 in c:\\users\\dinit\\documents\\research\\development\\retailarva\\notebooks\\.venv\\lib\\site-packages (from aiohttp<4.0.0,>=3.8.3->langchain-community) (2.6.1)\n",
      "Requirement already satisfied: aiosignal>=1.1.2 in c:\\users\\dinit\\documents\\research\\development\\retailarva\\notebooks\\.venv\\lib\\site-packages (from aiohttp<4.0.0,>=3.8.3->langchain-community) (1.3.2)\n",
      "Requirement already satisfied: attrs>=17.3.0 in c:\\users\\dinit\\documents\\research\\development\\retailarva\\notebooks\\.venv\\lib\\site-packages (from aiohttp<4.0.0,>=3.8.3->langchain-community) (25.3.0)\n",
      "Requirement already satisfied: frozenlist>=1.1.1 in c:\\users\\dinit\\documents\\research\\development\\retailarva\\notebooks\\.venv\\lib\\site-packages (from aiohttp<4.0.0,>=3.8.3->langchain-community) (1.5.0)\n",
      "Requirement already satisfied: multidict<7.0,>=4.5 in c:\\users\\dinit\\documents\\research\\development\\retailarva\\notebooks\\.venv\\lib\\site-packages (from aiohttp<4.0.0,>=3.8.3->langchain-community) (6.4.3)\n",
      "Requirement already satisfied: propcache>=0.2.0 in c:\\users\\dinit\\documents\\research\\development\\retailarva\\notebooks\\.venv\\lib\\site-packages (from aiohttp<4.0.0,>=3.8.3->langchain-community) (0.3.1)\n",
      "Requirement already satisfied: yarl<2.0,>=1.17.0 in c:\\users\\dinit\\documents\\research\\development\\retailarva\\notebooks\\.venv\\lib\\site-packages (from aiohttp<4.0.0,>=3.8.3->langchain-community) (1.19.0)\n",
      "Requirement already satisfied: marshmallow<4.0.0,>=3.18.0 in c:\\users\\dinit\\documents\\research\\development\\retailarva\\notebooks\\.venv\\lib\\site-packages (from dataclasses-json<0.7,>=0.5.7->langchain-community) (3.26.1)\n",
      "Requirement already satisfied: typing-inspect<1,>=0.4.0 in c:\\users\\dinit\\documents\\research\\development\\retailarva\\notebooks\\.venv\\lib\\site-packages (from dataclasses-json<0.7,>=0.5.7->langchain-community) (0.9.0)\n",
      "Requirement already satisfied: anyio in c:\\users\\dinit\\documents\\research\\development\\retailarva\\notebooks\\.venv\\lib\\site-packages (from httpx<1,>=0.23.0->langsmith) (4.9.0)\n",
      "Requirement already satisfied: certifi in c:\\users\\dinit\\documents\\research\\development\\retailarva\\notebooks\\.venv\\lib\\site-packages (from httpx<1,>=0.23.0->langsmith) (2025.1.31)\n",
      "Requirement already satisfied: httpcore==1.* in c:\\users\\dinit\\documents\\research\\development\\retailarva\\notebooks\\.venv\\lib\\site-packages (from httpx<1,>=0.23.0->langsmith) (1.0.8)\n",
      "Requirement already satisfied: idna in c:\\users\\dinit\\documents\\research\\development\\retailarva\\notebooks\\.venv\\lib\\site-packages (from httpx<1,>=0.23.0->langsmith) (3.10)\n",
      "Requirement already satisfied: h11<0.15,>=0.13 in c:\\users\\dinit\\documents\\research\\development\\retailarva\\notebooks\\.venv\\lib\\site-packages (from httpcore==1.*->httpx<1,>=0.23.0->langsmith) (0.14.0)\n",
      "Requirement already satisfied: jsonpointer>=1.9 in c:\\users\\dinit\\documents\\research\\development\\retailarva\\notebooks\\.venv\\lib\\site-packages (from jsonpatch<2.0,>=1.33->langchain-core) (3.0.0)\n",
      "Requirement already satisfied: annotated-types>=0.6.0 in c:\\users\\dinit\\documents\\research\\development\\retailarva\\notebooks\\.venv\\lib\\site-packages (from pydantic<3.0.0,>=2.7.4->langchain) (0.7.0)\n",
      "Requirement already satisfied: pydantic-core==2.33.1 in c:\\users\\dinit\\documents\\research\\development\\retailarva\\notebooks\\.venv\\lib\\site-packages (from pydantic<3.0.0,>=2.7.4->langchain) (2.33.1)\n",
      "Requirement already satisfied: typing-inspection>=0.4.0 in c:\\users\\dinit\\documents\\research\\development\\retailarva\\notebooks\\.venv\\lib\\site-packages (from pydantic<3.0.0,>=2.7.4->langchain) (0.4.0)\n",
      "Requirement already satisfied: python-dotenv>=0.21.0 in c:\\users\\dinit\\documents\\research\\development\\retailarva\\notebooks\\.venv\\lib\\site-packages (from pydantic-settings<3.0.0,>=2.4.0->langchain-community) (1.1.0)\n",
      "Requirement already satisfied: grpcio>=1.41.0 in c:\\users\\dinit\\documents\\research\\development\\retailarva\\notebooks\\.venv\\lib\\site-packages (from qdrant-client<2.0.0,>=1.10.1->langchain-qdrant) (1.71.0)\n",
      "Requirement already satisfied: grpcio-tools>=1.41.0 in c:\\users\\dinit\\documents\\research\\development\\retailarva\\notebooks\\.venv\\lib\\site-packages (from qdrant-client<2.0.0,>=1.10.1->langchain-qdrant) (1.71.0)\n",
      "Requirement already satisfied: portalocker<3.0.0,>=2.7.0 in c:\\users\\dinit\\documents\\research\\development\\retailarva\\notebooks\\.venv\\lib\\site-packages (from qdrant-client<2.0.0,>=1.10.1->langchain-qdrant) (2.10.1)\n",
      "Requirement already satisfied: urllib3<3,>=1.26.14 in c:\\users\\dinit\\documents\\research\\development\\retailarva\\notebooks\\.venv\\lib\\site-packages (from qdrant-client<2.0.0,>=1.10.1->langchain-qdrant) (2.4.0)\n",
      "Requirement already satisfied: charset-normalizer<4,>=2 in c:\\users\\dinit\\documents\\research\\development\\retailarva\\notebooks\\.venv\\lib\\site-packages (from requests<3,>=2->langchain) (3.4.1)\n",
      "Requirement already satisfied: greenlet>=1 in c:\\users\\dinit\\documents\\research\\development\\retailarva\\notebooks\\.venv\\lib\\site-packages (from SQLAlchemy<3,>=1.4->langchain) (3.1.1)\n",
      "Requirement already satisfied: protobuf<6.0dev,>=5.26.1 in c:\\users\\dinit\\documents\\research\\development\\retailarva\\notebooks\\.venv\\lib\\site-packages (from grpcio-tools>=1.41.0->qdrant-client<2.0.0,>=1.10.1->langchain-qdrant) (5.29.4)\n",
      "Requirement already satisfied: setuptools in c:\\users\\dinit\\documents\\research\\development\\retailarva\\notebooks\\.venv\\lib\\site-packages (from grpcio-tools>=1.41.0->qdrant-client<2.0.0,>=1.10.1->langchain-qdrant) (68.2.0)\n",
      "Requirement already satisfied: h2<5,>=3 in c:\\users\\dinit\\documents\\research\\development\\retailarva\\notebooks\\.venv\\lib\\site-packages (from httpx<1,>=0.23.0->langsmith) (4.2.0)\n",
      "Requirement already satisfied: pywin32>=226 in c:\\users\\dinit\\documents\\research\\development\\retailarva\\notebooks\\.venv\\lib\\site-packages (from portalocker<3.0.0,>=2.7.0->qdrant-client<2.0.0,>=1.10.1->langchain-qdrant) (310)\n",
      "Requirement already satisfied: mypy-extensions>=0.3.0 in c:\\users\\dinit\\documents\\research\\development\\retailarva\\notebooks\\.venv\\lib\\site-packages (from typing-inspect<1,>=0.4.0->dataclasses-json<0.7,>=0.5.7->langchain-community) (1.0.0)\n",
      "Requirement already satisfied: sniffio>=1.1 in c:\\users\\dinit\\documents\\research\\development\\retailarva\\notebooks\\.venv\\lib\\site-packages (from anyio->httpx<1,>=0.23.0->langsmith) (1.3.1)\n",
      "Requirement already satisfied: hyperframe<7,>=6.1 in c:\\users\\dinit\\documents\\research\\development\\retailarva\\notebooks\\.venv\\lib\\site-packages (from h2<5,>=3->httpx<1,>=0.23.0->langsmith) (6.1.0)\n",
      "Requirement already satisfied: hpack<5,>=4.1 in c:\\users\\dinit\\documents\\research\\development\\retailarva\\notebooks\\.venv\\lib\\site-packages (from h2<5,>=3->httpx<1,>=0.23.0->langsmith) (4.1.0)\n",
      "Note: you may need to restart the kernel to use updated packages.\n"
     ]
    },
    {
     "name": "stderr",
     "output_type": "stream",
     "text": [
      "\n",
      "[notice] A new release of pip is available: 23.2.1 -> 25.0.1\n",
      "[notice] To update, run: python.exe -m pip install --upgrade pip\n"
     ]
    }
   ],
   "execution_count": 2
  },
  {
   "cell_type": "code",
   "source": "json_file_path = './products_v4.json'",
   "metadata": {
    "id": "mDkDS5YYthSP",
    "ExecuteTime": {
     "end_time": "2025-04-15T16:47:34.389260Z",
     "start_time": "2025-04-15T16:47:34.383688Z"
    }
   },
   "outputs": [],
   "execution_count": 3
  },
  {
   "cell_type": "code",
   "source": [
    "import json\n",
    "#read the content of json file\n",
    "with open(json_file_path, 'r') as f:\n",
    "    products_json = json.load(f)"
   ],
   "metadata": {
    "id": "ODygJUQcdlag",
    "ExecuteTime": {
     "end_time": "2025-04-15T16:47:38.679847Z",
     "start_time": "2025-04-15T16:47:38.670476Z"
    }
   },
   "outputs": [],
   "execution_count": 4
  },
  {
   "cell_type": "code",
   "source": [
    "for product in products_json[:5]:\n",
    "  print(product)"
   ],
   "metadata": {
    "colab": {
     "base_uri": "https://localhost:8080/"
    },
    "id": "4S0weXxZd8nk",
    "outputId": "cb087344-3da9-424f-879d-ae841247f75c",
    "ExecuteTime": {
     "end_time": "2025-04-15T16:47:41.050873Z",
     "start_time": "2025-04-15T16:47:41.044884Z"
    }
   },
   "outputs": [
    {
     "name": "stdout",
     "output_type": "stream",
     "text": [
      "{'Id': 1, 'Name': 'The Ordinary Peeling Solution', 'Brand': 'The Ordinary', 'Category': 'Exfoliating Peel', 'Price': '6,350.00', 'Ingredients': ['Glycolic Acid', 'Lactic Acid', 'Tartaric Acid', 'Citric Acid', 'Salicylic Acid', 'Sodium Hyaluronate Crosspolymer', 'Tasmannia Lanceolata Fruit/Leaf Extract'], 'Key Ingredients': ['Glycolic Acid', 'Salicylic Acid'], 'Benefits': ['Improves texture', 'clears pore congestion', 'targets uneven skin tone'], 'Potential Side Effects': ['Sun sensitivity', 'tingling', 'redness', 'potential irritation'], 'Natural': False, 'Concentrations': ['AHA 30%', 'BHA 2%'], 'Usage': 'Use once or twice a week on dry skin, Leave on for max 10 minutes and rinse, Avoid eye contour', 'Application Tips': 'Apply evenly using fingertips on clean/dry skin , Do not use on wet or compromised skin , Patch test recommended , Use sunscreen afterward', 'Skin Type': ['Normal', 'Oily', 'Combination'], 'Skin Concerns': ['Dullness', 'Uneven Texture', 'Enlarged Pores'], 'Average Rating': 4.8, 'Customer Reviews': [{'review': 'Skin feels baby-soft after one use!', 'rating': 5.0}, {'review': 'Brightened my complexion overnight.', 'rating': 4.5}, {'review': 'Strong but very effective, definitely for experienced users.', 'rating': 4.5}], 'Expert Review': 'Backed by clinical dermatology research', 'Allergens': ['Fragrances', 'Parabens'], 'For Sensitive Skin': 'No', 'Claims': ['Clinically formulated', 'High-strength exfoliator']}\n",
      "{'Id': 2, 'Name': 'COSRX Advanced Snail 92 All In One Cream', 'Brand': 'COSRX', 'Category': 'Moisturizer', 'Price': '6,650.00', 'Ingredients': ['Snail Secretion Filtrate', 'Betaine', 'Caprylic/Capric Triglyceride', 'Butylene Glycol', 'Cetearyl Olivate', 'Sorbitan Olivate', 'Cetearyl Alcohol', 'Carbomer', 'Ethyl Hexanediol', 'Phenoxyethanol', 'Arginine', 'Dimethicone', 'Sodium Polyacrylate', 'Sodium Hyaluronate', 'Allantoin', 'Palmitic Acid', 'Panthenol', 'Xanthan Gum', 'Stearic Acid', 'Adenosine', 'Water', 'Myristic Acid'], 'Key Ingredients': ['Snail Mucin', 'Sodium Hyaluronate'], 'Benefits': ['Deep hydration', 'repairs damaged skin', 'reduces fine lines', 'soothes and nourishes', 'brightens and softens texture'], 'Potential Side Effects': ['Minor breakouts in rare cases', 'potential reaction to snail filtrate'], 'Natural': True, 'Concentrations': ['Snail Mucin 92%', '1000 ppm Hyaluronate'], 'Usage': 'Apply on face after cleansing and toning, avoiding eye and mouth area, Gently pat until absorbed', 'Application Tips': 'Use at the final step of skincare , Apply with clean hands and gently pat for full absorption', 'Skin Type': ['Dry', 'Normal', 'Combination', 'Sensitive'], 'Skin Concerns': ['Redness', 'Dullness', 'Scarring', 'Dryness', 'Fine Lines'], 'Average Rating': 4.9, 'Customer Reviews': [{'review': 'Calms, hydrates, soothes acne-prone and sensitive skin, rebuilds skin barrier, prevents excessive sebum production, controls redness.', 'rating': 4.0}], 'Expert Review': 'Dermatologist tested and K-beauty approved', 'Allergens': ['Parabens'], 'For Sensitive Skin': 'Yes', 'Claims': ['Hypoallergenic', 'Cruelty-Free', 'Dermatologist Tested']}\n",
      "{'Id': 3, 'Name': 'CeraVe Daily Moisturizing Lotion', 'Brand': 'CeraVe', 'Category': 'Moisturizer', 'Price': '7,950.00', 'Ingredients': ['Purified Water', 'Glycerin', 'Caprylic/Capric Triglyceride', 'Behentrimonium Methosulfate', 'Cetearyl Alcohol', 'Ceteareth-20', 'Cetyl Alcohol', 'Polyglyceryl-3-Diisosterate', 'Dimethicone', 'Hyaluronic Acid', 'Ceramides 1', '3', '6-II', 'Cholesterol', 'Phytosphingosine', 'Potassium Phosphate', 'Dipotassium phosphate', 'Methylparaben', 'Propylparaben', 'Disodium EDTA', 'Sodium Lauroyl Lactylate', 'Polysorbate 20', 'Carbomer', 'Xanthan Gum.'], 'Key Ingredients': ['Ceramides 1', '3', '6-II', 'Hyaluronic Acid'], 'Benefits': ['Hydrates for 24 hours', 'restores skin barrier', 'lightweight', 'non-greasy', 'relieves dryness'], 'Potential Side Effects': ['May not suit extremely oily skin', 'parabens may irritate very sensitive skin'], 'Natural': False, 'Concentrations': ['Hyaluronic Acid (low %)', 'Ceramides blend'], 'Usage': 'Apply liberally as often as needed or as directed by physician', 'Application Tips': 'Use after cleansing , Especially post-shower for max absorption , Ideal for layering under SPF or makeup', 'Skin Type': ['Normal ', 'Dry Skin'], 'Skin Concerns': ['Dryness', 'Dehydration', 'Sensitive Skin'], 'Average Rating': 4.8, 'Customer Reviews': [{'review': 'Best lotion for dry, sensitive skin!', 'rating': 5.0}, {'review': 'Feels so light and hydrates all day.', 'rating': 5.0}, {'review': 'My eczema is under control now.', 'rating': 4.5}, {'review': 'Gentle and absorbs fast.', 'rating': 4.5}, {'review': 'Will repurchase for sure!', 'rating': 5.0}], 'Expert Review': 'Dermatologist Recommended Brand', 'Allergens': ['Parabens'], 'For Sensitive Skin': 'Yes', 'Claims': ['Fragrance-free', 'Oil-free', 'Non-comedogenic', 'National Eczema Association Approved']}\n",
      "{'Id': 4, 'Name': 'CeraVe PM Facial Moisturizing Lotion', 'Brand': 'CeraVe', 'Category': 'Moisturizer', 'Price': '7,250.00', 'Ingredients': ['Aqua/Water', 'Glycerin', 'Caprylic/Capric Triglyceride', 'Niacinamide', 'Cetearyl Alcohol', 'Potassium Phosphate', 'Ceramide NP', 'Ceramide AP', 'Ceramide EOP', 'Carbomer', 'Dimethicone', 'Ceteareth-20', 'Behentrimonium Methosulfate', 'Sodium Lauroyl Lactylate', 'Sodium Hyaluronate', 'Cholesterol', 'Phenoxyethanol', 'Disodium EDTA', 'Dipotassium Phosphate', 'Caprylyl Glycol', 'Phytosphingosine', 'Xanthan Gum', 'Polyglyceryl-3 Diisostearate', 'Ethylhexylglycerin'], 'Key Ingredients': ['Niacinamide', 'Hyaluronic Acid', 'Ceramides 1,3,6-II'], 'Benefits': ['Hydrates', 'calms skin', 'repairs barrier', 'non-comedogenic', 'fragrance-free', 'hypoallergenic'], 'Potential Side Effects': ['May be too light for very dry skin', 'contains alcohol derivatives that may irritate very sensitive skin'], 'Natural': False, 'Concentrations': ['Niacinamide (medium-high)', 'Ceramides'], 'Usage': 'Apply liberally to face and neck at night or as directed by physician', 'Application Tips': 'Use on clean/dry skin after cleansing and toning , Can be layered with other nighttime serums or treatments', 'Skin Type': ['Normal', 'Oily'], 'Skin Concerns': ['Sensitivity', 'Dehydration', 'Barrier Repair'], 'Average Rating': 5.0, 'Customer Reviews': [{'review': 'Good moisturizer', 'rating': 5.0}, {'review': 'Effective and calming', 'rating': 5.0}], 'Expert Review': 'Trusted by dermatologists worldwide', 'Allergens': None, 'For Sensitive Skin': 'Yes', 'Claims': ['Fragrance-free', 'Oil-free', 'Non-comedogenic', 'Hypoallergenic']}\n",
      "{'Id': 5, 'Name': 'CeraVe AM Facial Moisturizing Lotion', 'Brand': 'CeraVe', 'Category': 'Moisturizer', 'Price': '7,250.00', 'Ingredients': ['Aqua/Water', 'Glycerin', 'Caprylic/Capric Triglyceride', 'Niacinamide', 'Ceramide NP', 'Ceramide AP', 'Ceramide EOP', 'Dimethicone', 'Cetearyl Alcohol', 'Behentrimonium Methosulfate', 'Potassium Phosphate', 'Sodium Lauroyl Lactylate', 'Sodium Hyaluronate', 'Cholesterol', 'Phenoxyethanol', 'Disodium EDTA', 'Dipotassium Phosphate', 'Caprylyl Glycol'], 'Key Ingredients': ['Niacinamide', 'Ceramides', 'Hyaluronic Acid'], 'Benefits': ['Hydrates', 'protects skin from UV damage', 'non-comedogenic', 'replenishes skin barrier', 'SPF 30 protection'], 'Potential Side Effects': ['No side effects mentioned'], 'Natural': False, 'Concentrations': ['Niacinamide (medium)', 'Ceramides', 'Hyaluronic Acid'], 'Usage': 'Apply liberally to face and neck in the morning after cleansing and before makeup', 'Application Tips': 'Apply a generous amount to face and neck , Reapply throughout the day for prolonged sun exposure , Can be used alone or layered with other skincare products', 'Skin Type': ['Normal', 'Oily', 'Combination'], 'Skin Concerns': ['Sun Damage', 'Oiliness', 'Dryness', 'Uneven skin tone'], 'Average Rating': 4.8, 'Customer Reviews': [{'review': 'Great moisturizer, keeps skin soft and hydrated', 'rating': 5.0}, {'review': 'Provides good SPF protection', 'rating': 5.0}, {'review': 'Not heavy or greasy', 'rating': 5.0}], 'Expert Review': 'Dermatologist recommended for sensitive and acne-prone skin; offers broad-spectrum UV protection', 'Allergens': ['Parabens'], 'For Sensitive Skin': 'Yes', 'Claims': ['SPF 30', 'Non-comedogenic', 'Fragrance-free', 'Barrier Repair']}\n"
     ]
    }
   ],
   "execution_count": 5
  },
  {
   "metadata": {
    "id": "gcNla6v-mgxf",
    "ExecuteTime": {
     "end_time": "2025-04-15T16:47:44.460022Z",
     "start_time": "2025-04-15T16:47:44.455207Z"
    }
   },
   "cell_type": "code",
   "source": [
    "def display(value):\n",
    "  if value is None or len(value) == 0:\n",
    "    return 'Not specified'\n",
    "  return value\n",
    "\n",
    "def display_list(lst):\n",
    "  if lst is None or len(lst) == 0:\n",
    "    return 'Not specified'\n",
    "  return ', '.join(lst)"
   ],
   "outputs": [],
   "execution_count": 6
  },
  {
   "cell_type": "code",
   "source": [
    "def generate_product_profile(product):\n",
    "  # Format the product profile\n",
    "  product_profile = f\"\"\"\n",
    "  # {product['Name']} - {product['Category']}\n",
    "  ---\n",
    "\n",
    "  ## Product Overview\n",
    "  - Name: {display(product[\"Name\"])}\n",
    "  - Brand: {display(product[\"Brand\"])}\n",
    "  - Category: {display(product[\"Category\"])}\n",
    "  - Price: {display(product[\"Price\"])} (in LKR)\n",
    "  - Natural: {product[\"Natural\"]}\n",
    "\n",
    "  ## Ingredients\n",
    "  - Key Ingredients: {display_list(product['Key Ingredients'])}\n",
    "  - Concentrations: {display_list(product['Concentrations'])}\n",
    "  - Full Ingredient List: {display_list(product['Ingredients'])}\n",
    "\n",
    "  ## Benefits and Claims\n",
    "  - Benefits: {display_list(product['Benefits'])}\n",
    "  - Claims: {display_list(product['Claims'])}\n",
    "\n",
    "  ## Usage and Application\n",
    "  - Usage: {display(product['Usage'])}\n",
    "  - Application Tips: {display(product['Application Tips'])}\n",
    "\n",
    "  ## Skin Suitability\n",
    "  - Suitable for Skin Types: {display_list(product['Skin Type'])}\n",
    "  - Addresses Skin Concerns: {display_list(product['Skin Concerns'])}\n",
    "  - For Sensitive Skin: {display(product['For Sensitive Skin'])}\n",
    "\n",
    "  ## Safety Information\n",
    "  - Potential Side Effects: {display_list(product['Potential Side Effects'])}\n",
    "  - Allergens: {display_list(product['Allergens'])}\n",
    "\n",
    "  ## Reviews and Ratings\n",
    "  - Average Rating: {product['Average Rating']}/5\n",
    "  - Customer Reviews:\n",
    "  \"\"\"\n",
    "  # Append customer reviews with consistent indentation\n",
    "  if product['Customer Reviews']:\n",
    "    for i, review in enumerate(product['Customer Reviews']):\n",
    "      if i == 0:\n",
    "        product_profile += f\"  - \\\"{review['review']}\\\" - {review['rating']} stars\\n\"\n",
    "      else:\n",
    "        product_profile += f\"    - \\\"{review['review']}\\\" - {review['rating']} stars\\n\"\n",
    "  else:\n",
    "    product_profile += \"    No customer reviews available.\\n\"\n",
    "\n",
    "  # Append expert review\n",
    "  product_profile += f\"  - Expert Review: {display(product['Expert Review'])}\"\n",
    "\n",
    "  return product_profile"
   ],
   "metadata": {
    "id": "SNcNnM4gdooK",
    "ExecuteTime": {
     "end_time": "2025-04-15T16:47:46.728185Z",
     "start_time": "2025-04-15T16:47:46.721031Z"
    }
   },
   "outputs": [],
   "execution_count": 7
  },
  {
   "cell_type": "code",
   "source": [
    "product_profile = generate_product_profile(products_json[0])\n",
    "print(product_profile)"
   ],
   "metadata": {
    "colab": {
     "base_uri": "https://localhost:8080/"
    },
    "id": "J14KCx_Qvdr4",
    "outputId": "ccfd6a10-0613-4b37-d832-bd6dcfeaccfb",
    "ExecuteTime": {
     "end_time": "2025-04-15T16:47:52.712221Z",
     "start_time": "2025-04-15T16:47:52.705221Z"
    }
   },
   "outputs": [
    {
     "name": "stdout",
     "output_type": "stream",
     "text": [
      "\n",
      "  # The Ordinary Peeling Solution - Exfoliating Peel\n",
      "  ---\n",
      "\n",
      "  ## Product Overview\n",
      "  - Name: The Ordinary Peeling Solution\n",
      "  - Brand: The Ordinary\n",
      "  - Category: Exfoliating Peel\n",
      "  - Price: 6,350.00 (in LKR)\n",
      "  - Natural: False\n",
      "\n",
      "  ## Ingredients\n",
      "  - Key Ingredients: Glycolic Acid, Salicylic Acid\n",
      "  - Concentrations: AHA 30%, BHA 2%\n",
      "  - Full Ingredient List: Glycolic Acid, Lactic Acid, Tartaric Acid, Citric Acid, Salicylic Acid, Sodium Hyaluronate Crosspolymer, Tasmannia Lanceolata Fruit/Leaf Extract\n",
      "\n",
      "  ## Benefits and Claims\n",
      "  - Benefits: Improves texture, clears pore congestion, targets uneven skin tone\n",
      "  - Claims: Clinically formulated, High-strength exfoliator\n",
      "\n",
      "  ## Usage and Application\n",
      "  - Usage: Use once or twice a week on dry skin, Leave on for max 10 minutes and rinse, Avoid eye contour\n",
      "  - Application Tips: Apply evenly using fingertips on clean/dry skin , Do not use on wet or compromised skin , Patch test recommended , Use sunscreen afterward\n",
      "\n",
      "  ## Skin Suitability\n",
      "  - Suitable for Skin Types: Normal, Oily, Combination\n",
      "  - Addresses Skin Concerns: Dullness, Uneven Texture, Enlarged Pores\n",
      "  - For Sensitive Skin: No\n",
      "\n",
      "  ## Safety Information\n",
      "  - Potential Side Effects: Sun sensitivity, tingling, redness, potential irritation\n",
      "  - Allergens: Fragrances, Parabens\n",
      "\n",
      "  ## Reviews and Ratings\n",
      "  - Average Rating: 4.8/5\n",
      "  - Customer Reviews:\n",
      "    - \"Skin feels baby-soft after one use!\" - 5.0 stars\n",
      "    - \"Brightened my complexion overnight.\" - 4.5 stars\n",
      "    - \"Strong but very effective, definitely for experienced users.\" - 4.5 stars\n",
      "  - Expert Review: Backed by clinical dermatology research\n"
     ]
    }
   ],
   "execution_count": 8
  },
  {
   "cell_type": "code",
   "source": [
    "product_docs = []\n",
    "\n",
    "for product in products_json:\n",
    "  # Add formatted profile to the list\n",
    "  product_docs.append({\n",
    "    \"template\": generate_product_profile(product),\n",
    "    \"metadata\": {\n",
    "      \"id\": product[\"Id\"],\n",
    "      \"name\": product[\"Name\"],\n",
    "      \"brand\": product[\"Brand\"],\n",
    "      \"category\": product[\"Category\"],\n",
    "      \"price\": \"LKR \" + product[\"Price\"]\n",
    "    }\n",
    "  })"
   ],
   "metadata": {
    "id": "vVByjOsAqUnr",
    "ExecuteTime": {
     "end_time": "2025-04-15T16:47:55.300825Z",
     "start_time": "2025-04-15T16:47:55.293540Z"
    }
   },
   "outputs": [],
   "execution_count": 9
  },
  {
   "metadata": {
    "ExecuteTime": {
     "end_time": "2025-04-15T16:47:58.858220Z",
     "start_time": "2025-04-15T16:47:58.848656Z"
    }
   },
   "cell_type": "code",
   "source": "len(product_docs)",
   "outputs": [
    {
     "data": {
      "text/plain": [
       "100"
      ]
     },
     "execution_count": 10,
     "metadata": {},
     "output_type": "execute_result"
    }
   ],
   "execution_count": 10
  },
  {
   "metadata": {
    "ExecuteTime": {
     "end_time": "2025-04-15T16:48:02.059817Z",
     "start_time": "2025-04-15T16:48:02.051249Z"
    }
   },
   "cell_type": "code",
   "source": "product_docs[0]",
   "outputs": [
    {
     "data": {
      "text/plain": [
       "{'template': '\\n  # The Ordinary Peeling Solution - Exfoliating Peel\\n  ---\\n\\n  ## Product Overview\\n  - Name: The Ordinary Peeling Solution\\n  - Brand: The Ordinary\\n  - Category: Exfoliating Peel\\n  - Price: 6,350.00 (in LKR)\\n  - Natural: False\\n\\n  ## Ingredients\\n  - Key Ingredients: Glycolic Acid, Salicylic Acid\\n  - Concentrations: AHA 30%, BHA 2%\\n  - Full Ingredient List: Glycolic Acid, Lactic Acid, Tartaric Acid, Citric Acid, Salicylic Acid, Sodium Hyaluronate Crosspolymer, Tasmannia Lanceolata Fruit/Leaf Extract\\n\\n  ## Benefits and Claims\\n  - Benefits: Improves texture, clears pore congestion, targets uneven skin tone\\n  - Claims: Clinically formulated, High-strength exfoliator\\n\\n  ## Usage and Application\\n  - Usage: Use once or twice a week on dry skin, Leave on for max 10 minutes and rinse, Avoid eye contour\\n  - Application Tips: Apply evenly using fingertips on clean/dry skin , Do not use on wet or compromised skin , Patch test recommended , Use sunscreen afterward\\n\\n  ## Skin Suitability\\n  - Suitable for Skin Types: Normal, Oily, Combination\\n  - Addresses Skin Concerns: Dullness, Uneven Texture, Enlarged Pores\\n  - For Sensitive Skin: No\\n\\n  ## Safety Information\\n  - Potential Side Effects: Sun sensitivity, tingling, redness, potential irritation\\n  - Allergens: Fragrances, Parabens\\n\\n  ## Reviews and Ratings\\n  - Average Rating: 4.8/5\\n  - Customer Reviews:\\n    - \"Skin feels baby-soft after one use!\" - 5.0 stars\\n    - \"Brightened my complexion overnight.\" - 4.5 stars\\n    - \"Strong but very effective, definitely for experienced users.\" - 4.5 stars\\n  - Expert Review: Backed by clinical dermatology research',\n",
       " 'metadata': {'id': 1,\n",
       "  'name': 'The Ordinary Peeling Solution',\n",
       "  'brand': 'The Ordinary',\n",
       "  'category': 'Exfoliating Peel',\n",
       "  'price': 'LKR 6,350.00'}}"
      ]
     },
     "execution_count": 11,
     "metadata": {},
     "output_type": "execute_result"
    }
   ],
   "execution_count": 11
  },
  {
   "metadata": {
    "ExecuteTime": {
     "end_time": "2025-04-15T16:48:09.023934Z",
     "start_time": "2025-04-15T16:48:09.019694Z"
    }
   },
   "cell_type": "code",
   "source": "print(product_docs[0][\"template\"])",
   "outputs": [
    {
     "name": "stdout",
     "output_type": "stream",
     "text": [
      "\n",
      "  # The Ordinary Peeling Solution - Exfoliating Peel\n",
      "  ---\n",
      "\n",
      "  ## Product Overview\n",
      "  - Name: The Ordinary Peeling Solution\n",
      "  - Brand: The Ordinary\n",
      "  - Category: Exfoliating Peel\n",
      "  - Price: 6,350.00 (in LKR)\n",
      "  - Natural: False\n",
      "\n",
      "  ## Ingredients\n",
      "  - Key Ingredients: Glycolic Acid, Salicylic Acid\n",
      "  - Concentrations: AHA 30%, BHA 2%\n",
      "  - Full Ingredient List: Glycolic Acid, Lactic Acid, Tartaric Acid, Citric Acid, Salicylic Acid, Sodium Hyaluronate Crosspolymer, Tasmannia Lanceolata Fruit/Leaf Extract\n",
      "\n",
      "  ## Benefits and Claims\n",
      "  - Benefits: Improves texture, clears pore congestion, targets uneven skin tone\n",
      "  - Claims: Clinically formulated, High-strength exfoliator\n",
      "\n",
      "  ## Usage and Application\n",
      "  - Usage: Use once or twice a week on dry skin, Leave on for max 10 minutes and rinse, Avoid eye contour\n",
      "  - Application Tips: Apply evenly using fingertips on clean/dry skin , Do not use on wet or compromised skin , Patch test recommended , Use sunscreen afterward\n",
      "\n",
      "  ## Skin Suitability\n",
      "  - Suitable for Skin Types: Normal, Oily, Combination\n",
      "  - Addresses Skin Concerns: Dullness, Uneven Texture, Enlarged Pores\n",
      "  - For Sensitive Skin: No\n",
      "\n",
      "  ## Safety Information\n",
      "  - Potential Side Effects: Sun sensitivity, tingling, redness, potential irritation\n",
      "  - Allergens: Fragrances, Parabens\n",
      "\n",
      "  ## Reviews and Ratings\n",
      "  - Average Rating: 4.8/5\n",
      "  - Customer Reviews:\n",
      "    - \"Skin feels baby-soft after one use!\" - 5.0 stars\n",
      "    - \"Brightened my complexion overnight.\" - 4.5 stars\n",
      "    - \"Strong but very effective, definitely for experienced users.\" - 4.5 stars\n",
      "  - Expert Review: Backed by clinical dermatology research\n"
     ]
    }
   ],
   "execution_count": 12
  },
  {
   "metadata": {
    "ExecuteTime": {
     "end_time": "2025-04-15T16:48:14.900268Z",
     "start_time": "2025-04-15T16:48:14.891120Z"
    }
   },
   "cell_type": "code",
   "source": [
    "from IPython.display import display, Markdown\n",
    "\n",
    "display(Markdown(product_docs[0][\"template\"]))"
   ],
   "outputs": [
    {
     "data": {
      "text/plain": [
       "<IPython.core.display.Markdown object>"
      ],
      "text/markdown": "\n  # The Ordinary Peeling Solution - Exfoliating Peel\n  ---\n\n  ## Product Overview\n  - Name: The Ordinary Peeling Solution\n  - Brand: The Ordinary\n  - Category: Exfoliating Peel\n  - Price: 6,350.00 (in LKR)\n  - Natural: False\n\n  ## Ingredients\n  - Key Ingredients: Glycolic Acid, Salicylic Acid\n  - Concentrations: AHA 30%, BHA 2%\n  - Full Ingredient List: Glycolic Acid, Lactic Acid, Tartaric Acid, Citric Acid, Salicylic Acid, Sodium Hyaluronate Crosspolymer, Tasmannia Lanceolata Fruit/Leaf Extract\n\n  ## Benefits and Claims\n  - Benefits: Improves texture, clears pore congestion, targets uneven skin tone\n  - Claims: Clinically formulated, High-strength exfoliator\n\n  ## Usage and Application\n  - Usage: Use once or twice a week on dry skin, Leave on for max 10 minutes and rinse, Avoid eye contour\n  - Application Tips: Apply evenly using fingertips on clean/dry skin , Do not use on wet or compromised skin , Patch test recommended , Use sunscreen afterward\n\n  ## Skin Suitability\n  - Suitable for Skin Types: Normal, Oily, Combination\n  - Addresses Skin Concerns: Dullness, Uneven Texture, Enlarged Pores\n  - For Sensitive Skin: No\n\n  ## Safety Information\n  - Potential Side Effects: Sun sensitivity, tingling, redness, potential irritation\n  - Allergens: Fragrances, Parabens\n\n  ## Reviews and Ratings\n  - Average Rating: 4.8/5\n  - Customer Reviews:\n    - \"Skin feels baby-soft after one use!\" - 5.0 stars\n    - \"Brightened my complexion overnight.\" - 4.5 stars\n    - \"Strong but very effective, definitely for experienced users.\" - 4.5 stars\n  - Expert Review: Backed by clinical dermatology research"
     },
     "metadata": {},
     "output_type": "display_data"
    }
   ],
   "execution_count": 13
  },
  {
   "cell_type": "markdown",
   "source": [
    "### Generate engaging product descriptions using product profiles"
   ],
   "metadata": {
    "id": "89n4UZn77uTS"
   }
  },
  {
   "cell_type": "code",
   "source": [
    "product_copywrite_prompt = \"\"\"\n",
    "You are an expert product copywriter. Based on the given product profile, write a professional and engaging product description that covers all the essential details, ingredients, benefits, usage instructions, and any special considerations.\n",
    "Create a summary description of the skincare product based on the given structured product details.\n",
    "Use only then given product information and phrase them as use see fit.\n",
    "Don't remove any vital information from the product profile.\n",
    "Be accurate and through.\n",
    "\n",
    "Product Profile:\n",
    "{product_profile}\n",
    "\n",
    "Product Description:\n",
    "\"\"\""
   ],
   "metadata": {
    "id": "6im3WNIF70Md",
    "ExecuteTime": {
     "end_time": "2025-04-15T16:48:19.180767Z",
     "start_time": "2025-04-15T16:48:19.176094Z"
    }
   },
   "outputs": [],
   "execution_count": 14
  },
  {
   "cell_type": "markdown",
   "source": [
    "### Product Copywriter Agent"
   ],
   "metadata": {
    "id": "1WREokJe8BTS"
   }
  },
  {
   "cell_type": "code",
   "source": [
    "from langchain.prompts import PromptTemplate\n",
    "from langchain.chains import LLMChain\n",
    "from langchain_ollama import ChatOllama\n",
    "\n",
    "def product_copywriter_agent(product_profile, prompt_template):\n",
    "  prompt = PromptTemplate(input_variables=[\"product_profile\"], template=prompt_template)\n",
    "\n",
    "  agent = ChatOllama(\n",
    "    base_url=\"http://216.81.248.11:11434\",\n",
    "    model=\"llama3.3:70b-instruct-q4_K_M\",\n",
    "    temperature=0,\n",
    "  )\n",
    "\n",
    "  product_copywrite_chain = LLMChain(llm=agent, prompt=prompt)\n",
    "\n",
    "  product_description = product_copywrite_chain.run(product_profile=product_profile)\n",
    "\n",
    "  return product_description"
   ],
   "metadata": {
    "id": "uAx4gTGH7-aT",
    "ExecuteTime": {
     "end_time": "2025-04-15T19:45:36.065061Z",
     "start_time": "2025-04-15T19:45:36.058064Z"
    }
   },
   "outputs": [],
   "execution_count": 20
  },
  {
   "metadata": {
    "ExecuteTime": {
     "end_time": "2025-04-15T19:45:42.771542Z",
     "start_time": "2025-04-15T19:45:42.766054Z"
    }
   },
   "cell_type": "code",
   "source": [
    "product_docs_1 = product_docs[:25]\n",
    "product_docs_2 = product_docs[25:50]\n",
    "product_docs_3 = product_docs[50:75]\n",
    "product_docs_4 = product_docs[75:]"
   ],
   "outputs": [],
   "execution_count": 21
  },
  {
   "cell_type": "code",
   "source": [
    "product_descriptions = []\n",
    "\n",
    "for doc in product_docs_4:\n",
    "  agent_response = product_copywriter_agent(doc[\"template\"], product_copywrite_prompt)\n",
    "  product_description = {\n",
    "      \"id\": doc[\"metadata\"][\"id\"],\n",
    "      \"metadata\": doc[\"metadata\"],\n",
    "      \"content\": agent_response\n",
    "  }\n",
    "  product_descriptions.append(product_description)\n",
    "  print(f\"Product description for product {doc['metadata']['id']} generated\")"
   ],
   "metadata": {
    "id": "gxPeciyp8Uzh",
    "ExecuteTime": {
     "end_time": "2025-04-15T21:21:05.502860Z",
     "start_time": "2025-04-15T21:00:27.760535Z"
    }
   },
   "outputs": [
    {
     "name": "stdout",
     "output_type": "stream",
     "text": [
      "Product description for product 76 generated\n",
      "Product description for product 77 generated\n",
      "Product description for product 78 generated\n",
      "Product description for product 79 generated\n",
      "Product description for product 80 generated\n",
      "Product description for product 81 generated\n",
      "Product description for product 82 generated\n",
      "Product description for product 83 generated\n",
      "Product description for product 84 generated\n",
      "Product description for product 85 generated\n",
      "Product description for product 86 generated\n",
      "Product description for product 87 generated\n",
      "Product description for product 88 generated\n",
      "Product description for product 89 generated\n",
      "Product description for product 90 generated\n",
      "Product description for product 91 generated\n",
      "Product description for product 92 generated\n",
      "Product description for product 93 generated\n",
      "Product description for product 94 generated\n",
      "Product description for product 95 generated\n",
      "Product description for product 96 generated\n",
      "Product description for product 97 generated\n",
      "Product description for product 98 generated\n",
      "Product description for product 99 generated\n",
      "Product description for product 100 generated\n"
     ]
    }
   ],
   "execution_count": 44
  },
  {
   "cell_type": "code",
   "source": "len(product_descriptions)",
   "metadata": {
    "id": "WkFC6oqm8hGz",
    "ExecuteTime": {
     "end_time": "2025-04-15T21:21:20.203013Z",
     "start_time": "2025-04-15T21:21:20.194439Z"
    }
   },
   "outputs": [
    {
     "data": {
      "text/plain": [
       "25"
      ]
     },
     "execution_count": 45,
     "metadata": {},
     "output_type": "execute_result"
    }
   ],
   "execution_count": 45
  },
  {
   "cell_type": "code",
   "source": "output_file = \"./product_descriptions.json\"",
   "metadata": {
    "id": "53JRZ-de8ocd",
    "ExecuteTime": {
     "end_time": "2025-04-15T21:21:22.538398Z",
     "start_time": "2025-04-15T21:21:22.531485Z"
    }
   },
   "outputs": [],
   "execution_count": 46
  },
  {
   "metadata": {
    "ExecuteTime": {
     "end_time": "2025-04-15T21:21:27.354006Z",
     "start_time": "2025-04-15T21:21:27.348678Z"
    }
   },
   "cell_type": "code",
   "source": [
    "def append_to_json(file_path, new_data):\n",
    "    # Read existing data\n",
    "    try:\n",
    "        with open(file_path, 'r') as file:\n",
    "            data = json.load(file)\n",
    "    except (FileNotFoundError, json.JSONDecodeError):\n",
    "        data = []  # Initialize as list if file doesn't exist or is empty\n",
    "\n",
    "    # Append new data\n",
    "    data.append(new_data)\n",
    "\n",
    "    # Write back to file\n",
    "    with open(file_path, 'w') as file:\n",
    "        json.dump(data, file, indent=4)"
   ],
   "outputs": [],
   "execution_count": 48
  },
  {
   "metadata": {
    "ExecuteTime": {
     "end_time": "2025-04-15T21:21:29.380210Z",
     "start_time": "2025-04-15T21:21:29.356812Z"
    }
   },
   "cell_type": "code",
   "source": "append_to_json(output_file, product_descriptions)",
   "outputs": [],
   "execution_count": 49
  }
 ]
}

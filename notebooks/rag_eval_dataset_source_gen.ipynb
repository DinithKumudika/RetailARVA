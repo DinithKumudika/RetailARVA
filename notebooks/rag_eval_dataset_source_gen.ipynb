{
  "nbformat": 4,
  "nbformat_minor": 0,
  "metadata": {
    "colab": {
      "provenance": []
    },
    "kernelspec": {
      "name": "python3",
      "display_name": "Python 3"
    },
    "language_info": {
      "name": "python"
    }
  },
  "cells": [
    {
      "cell_type": "code",
      "source": [
        "# https://arxiv.org/html/2411.10541v1/\n",
        "# https://arxiv.org/pdf/2411.10541"
      ],
      "metadata": {
        "id": "zR3wzJXqbQbs"
      },
      "execution_count": null,
      "outputs": []
    },
    {
      "cell_type": "code",
      "execution_count": null,
      "metadata": {
        "colab": {
          "base_uri": "https://localhost:8080/"
        },
        "collapsed": true,
        "id": "BuXUxeRRcoIh",
        "outputId": "1271d168-80ed-426d-c574-2805d7947175"
      },
      "outputs": [
        {
          "output_type": "stream",
          "name": "stdout",
          "text": [
            "Requirement already satisfied: langchain in /usr/local/lib/python3.11/dist-packages (0.3.23)\n",
            "Requirement already satisfied: langchain-community in /usr/local/lib/python3.11/dist-packages (0.3.21)\n",
            "Requirement already satisfied: langchain-core in /usr/local/lib/python3.11/dist-packages (0.3.51)\n",
            "Requirement already satisfied: langchainhub in /usr/local/lib/python3.11/dist-packages (0.1.21)\n",
            "Requirement already satisfied: langchain-qdrant in /usr/local/lib/python3.11/dist-packages (0.2.0)\n",
            "Requirement already satisfied: langchain-text-splitters in /usr/local/lib/python3.11/dist-packages (0.3.8)\n",
            "Requirement already satisfied: langsmith in /usr/local/lib/python3.11/dist-packages (0.3.27)\n",
            "Requirement already satisfied: langchain-google-genai in /usr/local/lib/python3.11/dist-packages (2.1.2)\n",
            "Requirement already satisfied: pandas in /usr/local/lib/python3.11/dist-packages (2.2.3)\n",
            "Requirement already satisfied: pydantic<3.0.0,>=2.7.4 in /usr/local/lib/python3.11/dist-packages (from langchain) (2.11.2)\n",
            "Requirement already satisfied: SQLAlchemy<3,>=1.4 in /usr/local/lib/python3.11/dist-packages (from langchain) (2.0.40)\n",
            "Requirement already satisfied: requests<3,>=2 in /usr/local/lib/python3.11/dist-packages (from langchain) (2.32.3)\n",
            "Requirement already satisfied: PyYAML>=5.3 in /usr/local/lib/python3.11/dist-packages (from langchain) (6.0.2)\n",
            "Requirement already satisfied: aiohttp<4.0.0,>=3.8.3 in /usr/local/lib/python3.11/dist-packages (from langchain-community) (3.11.15)\n",
            "Requirement already satisfied: tenacity!=8.4.0,<10,>=8.1.0 in /usr/local/lib/python3.11/dist-packages (from langchain-community) (9.1.2)\n",
            "Requirement already satisfied: dataclasses-json<0.7,>=0.5.7 in /usr/local/lib/python3.11/dist-packages (from langchain-community) (0.6.7)\n",
            "Requirement already satisfied: pydantic-settings<3.0.0,>=2.4.0 in /usr/local/lib/python3.11/dist-packages (from langchain-community) (2.8.1)\n",
            "Requirement already satisfied: httpx-sse<1.0.0,>=0.4.0 in /usr/local/lib/python3.11/dist-packages (from langchain-community) (0.4.0)\n",
            "Requirement already satisfied: numpy<3,>=1.26.2 in /usr/local/lib/python3.11/dist-packages (from langchain-community) (2.0.2)\n",
            "Requirement already satisfied: jsonpatch<2.0,>=1.33 in /usr/local/lib/python3.11/dist-packages (from langchain-core) (1.33)\n",
            "Requirement already satisfied: packaging<25,>=23.2 in /usr/local/lib/python3.11/dist-packages (from langchain-core) (24.2)\n",
            "Requirement already satisfied: typing-extensions>=4.7 in /usr/local/lib/python3.11/dist-packages (from langchain-core) (4.13.1)\n",
            "Requirement already satisfied: types-requests<3.0.0.0,>=2.31.0.2 in /usr/local/lib/python3.11/dist-packages (from langchainhub) (2.32.0.20250328)\n",
            "Requirement already satisfied: qdrant-client<2.0.0,>=1.10.1 in /usr/local/lib/python3.11/dist-packages (from langchain-qdrant) (1.13.3)\n",
            "Requirement already satisfied: httpx<1,>=0.23.0 in /usr/local/lib/python3.11/dist-packages (from langsmith) (0.28.1)\n",
            "Requirement already satisfied: orjson<4.0.0,>=3.9.14 in /usr/local/lib/python3.11/dist-packages (from langsmith) (3.10.16)\n",
            "Requirement already satisfied: requests-toolbelt<2.0.0,>=1.0.0 in /usr/local/lib/python3.11/dist-packages (from langsmith) (1.0.0)\n",
            "Requirement already satisfied: zstandard<0.24.0,>=0.23.0 in /usr/local/lib/python3.11/dist-packages (from langsmith) (0.23.0)\n",
            "Requirement already satisfied: filetype<2.0.0,>=1.2.0 in /usr/local/lib/python3.11/dist-packages (from langchain-google-genai) (1.2.0)\n",
            "Requirement already satisfied: google-ai-generativelanguage<0.7.0,>=0.6.16 in /usr/local/lib/python3.11/dist-packages (from langchain-google-genai) (0.6.17)\n",
            "Requirement already satisfied: python-dateutil>=2.8.2 in /usr/local/lib/python3.11/dist-packages (from pandas) (2.8.2)\n",
            "Requirement already satisfied: pytz>=2020.1 in /usr/local/lib/python3.11/dist-packages (from pandas) (2025.2)\n",
            "Requirement already satisfied: tzdata>=2022.7 in /usr/local/lib/python3.11/dist-packages (from pandas) (2025.2)\n",
            "Requirement already satisfied: aiohappyeyeballs>=2.3.0 in /usr/local/lib/python3.11/dist-packages (from aiohttp<4.0.0,>=3.8.3->langchain-community) (2.6.1)\n",
            "Requirement already satisfied: aiosignal>=1.1.2 in /usr/local/lib/python3.11/dist-packages (from aiohttp<4.0.0,>=3.8.3->langchain-community) (1.3.2)\n",
            "Requirement already satisfied: attrs>=17.3.0 in /usr/local/lib/python3.11/dist-packages (from aiohttp<4.0.0,>=3.8.3->langchain-community) (25.3.0)\n",
            "Requirement already satisfied: frozenlist>=1.1.1 in /usr/local/lib/python3.11/dist-packages (from aiohttp<4.0.0,>=3.8.3->langchain-community) (1.5.0)\n",
            "Requirement already satisfied: multidict<7.0,>=4.5 in /usr/local/lib/python3.11/dist-packages (from aiohttp<4.0.0,>=3.8.3->langchain-community) (6.2.0)\n",
            "Requirement already satisfied: propcache>=0.2.0 in /usr/local/lib/python3.11/dist-packages (from aiohttp<4.0.0,>=3.8.3->langchain-community) (0.3.1)\n",
            "Requirement already satisfied: yarl<2.0,>=1.17.0 in /usr/local/lib/python3.11/dist-packages (from aiohttp<4.0.0,>=3.8.3->langchain-community) (1.18.3)\n",
            "Requirement already satisfied: marshmallow<4.0.0,>=3.18.0 in /usr/local/lib/python3.11/dist-packages (from dataclasses-json<0.7,>=0.5.7->langchain-community) (3.26.1)\n",
            "Requirement already satisfied: typing-inspect<1,>=0.4.0 in /usr/local/lib/python3.11/dist-packages (from dataclasses-json<0.7,>=0.5.7->langchain-community) (0.9.0)\n",
            "Requirement already satisfied: google-api-core!=2.0.*,!=2.1.*,!=2.10.*,!=2.2.*,!=2.3.*,!=2.4.*,!=2.5.*,!=2.6.*,!=2.7.*,!=2.8.*,!=2.9.*,<3.0.0,>=1.34.1 in /usr/local/lib/python3.11/dist-packages (from google-api-core[grpc]!=2.0.*,!=2.1.*,!=2.10.*,!=2.2.*,!=2.3.*,!=2.4.*,!=2.5.*,!=2.6.*,!=2.7.*,!=2.8.*,!=2.9.*,<3.0.0,>=1.34.1->google-ai-generativelanguage<0.7.0,>=0.6.16->langchain-google-genai) (2.24.2)\n",
            "Requirement already satisfied: google-auth!=2.24.0,!=2.25.0,<3.0.0,>=2.14.1 in /usr/local/lib/python3.11/dist-packages (from google-ai-generativelanguage<0.7.0,>=0.6.16->langchain-google-genai) (2.38.0)\n",
            "Requirement already satisfied: proto-plus<2.0.0,>=1.22.3 in /usr/local/lib/python3.11/dist-packages (from google-ai-generativelanguage<0.7.0,>=0.6.16->langchain-google-genai) (1.26.1)\n",
            "Requirement already satisfied: protobuf!=4.21.0,!=4.21.1,!=4.21.2,!=4.21.3,!=4.21.4,!=4.21.5,<7.0.0,>=3.20.2 in /usr/local/lib/python3.11/dist-packages (from google-ai-generativelanguage<0.7.0,>=0.6.16->langchain-google-genai) (5.29.4)\n",
            "Requirement already satisfied: anyio in /usr/local/lib/python3.11/dist-packages (from httpx<1,>=0.23.0->langsmith) (4.9.0)\n",
            "Requirement already satisfied: certifi in /usr/local/lib/python3.11/dist-packages (from httpx<1,>=0.23.0->langsmith) (2025.1.31)\n",
            "Requirement already satisfied: httpcore==1.* in /usr/local/lib/python3.11/dist-packages (from httpx<1,>=0.23.0->langsmith) (1.0.7)\n",
            "Requirement already satisfied: idna in /usr/local/lib/python3.11/dist-packages (from httpx<1,>=0.23.0->langsmith) (3.10)\n",
            "Requirement already satisfied: h11<0.15,>=0.13 in /usr/local/lib/python3.11/dist-packages (from httpcore==1.*->httpx<1,>=0.23.0->langsmith) (0.14.0)\n",
            "Requirement already satisfied: jsonpointer>=1.9 in /usr/local/lib/python3.11/dist-packages (from jsonpatch<2.0,>=1.33->langchain-core) (3.0.0)\n",
            "Requirement already satisfied: annotated-types>=0.6.0 in /usr/local/lib/python3.11/dist-packages (from pydantic<3.0.0,>=2.7.4->langchain) (0.7.0)\n",
            "Requirement already satisfied: pydantic-core==2.33.1 in /usr/local/lib/python3.11/dist-packages (from pydantic<3.0.0,>=2.7.4->langchain) (2.33.1)\n",
            "Requirement already satisfied: typing-inspection>=0.4.0 in /usr/local/lib/python3.11/dist-packages (from pydantic<3.0.0,>=2.7.4->langchain) (0.4.0)\n",
            "Requirement already satisfied: python-dotenv>=0.21.0 in /usr/local/lib/python3.11/dist-packages (from pydantic-settings<3.0.0,>=2.4.0->langchain-community) (1.1.0)\n",
            "Requirement already satisfied: six>=1.5 in /usr/local/lib/python3.11/dist-packages (from python-dateutil>=2.8.2->pandas) (1.17.0)\n",
            "Requirement already satisfied: grpcio>=1.41.0 in /usr/local/lib/python3.11/dist-packages (from qdrant-client<2.0.0,>=1.10.1->langchain-qdrant) (1.71.0)\n",
            "Requirement already satisfied: grpcio-tools>=1.41.0 in /usr/local/lib/python3.11/dist-packages (from qdrant-client<2.0.0,>=1.10.1->langchain-qdrant) (1.71.0)\n",
            "Requirement already satisfied: portalocker<3.0.0,>=2.7.0 in /usr/local/lib/python3.11/dist-packages (from qdrant-client<2.0.0,>=1.10.1->langchain-qdrant) (2.10.1)\n",
            "Requirement already satisfied: urllib3<3,>=1.26.14 in /usr/local/lib/python3.11/dist-packages (from qdrant-client<2.0.0,>=1.10.1->langchain-qdrant) (2.3.0)\n",
            "Requirement already satisfied: charset-normalizer<4,>=2 in /usr/local/lib/python3.11/dist-packages (from requests<3,>=2->langchain) (3.4.1)\n",
            "Requirement already satisfied: greenlet>=1 in /usr/local/lib/python3.11/dist-packages (from SQLAlchemy<3,>=1.4->langchain) (3.1.1)\n",
            "Requirement already satisfied: googleapis-common-protos<2.0.0,>=1.56.2 in /usr/local/lib/python3.11/dist-packages (from google-api-core!=2.0.*,!=2.1.*,!=2.10.*,!=2.2.*,!=2.3.*,!=2.4.*,!=2.5.*,!=2.6.*,!=2.7.*,!=2.8.*,!=2.9.*,<3.0.0,>=1.34.1->google-api-core[grpc]!=2.0.*,!=2.1.*,!=2.10.*,!=2.2.*,!=2.3.*,!=2.4.*,!=2.5.*,!=2.6.*,!=2.7.*,!=2.8.*,!=2.9.*,<3.0.0,>=1.34.1->google-ai-generativelanguage<0.7.0,>=0.6.16->langchain-google-genai) (1.69.2)\n",
            "Requirement already satisfied: grpcio-status<2.0.dev0,>=1.33.2 in /usr/local/lib/python3.11/dist-packages (from google-api-core[grpc]!=2.0.*,!=2.1.*,!=2.10.*,!=2.2.*,!=2.3.*,!=2.4.*,!=2.5.*,!=2.6.*,!=2.7.*,!=2.8.*,!=2.9.*,<3.0.0,>=1.34.1->google-ai-generativelanguage<0.7.0,>=0.6.16->langchain-google-genai) (1.71.0)\n",
            "Requirement already satisfied: cachetools<6.0,>=2.0.0 in /usr/local/lib/python3.11/dist-packages (from google-auth!=2.24.0,!=2.25.0,<3.0.0,>=2.14.1->google-ai-generativelanguage<0.7.0,>=0.6.16->langchain-google-genai) (5.5.2)\n",
            "Requirement already satisfied: pyasn1-modules>=0.2.1 in /usr/local/lib/python3.11/dist-packages (from google-auth!=2.24.0,!=2.25.0,<3.0.0,>=2.14.1->google-ai-generativelanguage<0.7.0,>=0.6.16->langchain-google-genai) (0.4.2)\n",
            "Requirement already satisfied: rsa<5,>=3.1.4 in /usr/local/lib/python3.11/dist-packages (from google-auth!=2.24.0,!=2.25.0,<3.0.0,>=2.14.1->google-ai-generativelanguage<0.7.0,>=0.6.16->langchain-google-genai) (4.9)\n",
            "Requirement already satisfied: setuptools in /usr/local/lib/python3.11/dist-packages (from grpcio-tools>=1.41.0->qdrant-client<2.0.0,>=1.10.1->langchain-qdrant) (75.2.0)\n",
            "Requirement already satisfied: h2<5,>=3 in /usr/local/lib/python3.11/dist-packages (from httpx[http2]>=0.20.0->qdrant-client<2.0.0,>=1.10.1->langchain-qdrant) (4.2.0)\n",
            "Requirement already satisfied: mypy-extensions>=0.3.0 in /usr/local/lib/python3.11/dist-packages (from typing-inspect<1,>=0.4.0->dataclasses-json<0.7,>=0.5.7->langchain-community) (1.0.0)\n",
            "Requirement already satisfied: sniffio>=1.1 in /usr/local/lib/python3.11/dist-packages (from anyio->httpx<1,>=0.23.0->langsmith) (1.3.1)\n",
            "Requirement already satisfied: hyperframe<7,>=6.1 in /usr/local/lib/python3.11/dist-packages (from h2<5,>=3->httpx[http2]>=0.20.0->qdrant-client<2.0.0,>=1.10.1->langchain-qdrant) (6.1.0)\n",
            "Requirement already satisfied: hpack<5,>=4.1 in /usr/local/lib/python3.11/dist-packages (from h2<5,>=3->httpx[http2]>=0.20.0->qdrant-client<2.0.0,>=1.10.1->langchain-qdrant) (4.1.0)\n",
            "Requirement already satisfied: pyasn1<0.7.0,>=0.6.1 in /usr/local/lib/python3.11/dist-packages (from pyasn1-modules>=0.2.1->google-auth!=2.24.0,!=2.25.0,<3.0.0,>=2.14.1->google-ai-generativelanguage<0.7.0,>=0.6.16->langchain-google-genai) (0.6.1)\n"
          ]
        }
      ],
      "source": [
        "%pip install --upgrade langchain langchain-community langchain-core langchainhub langchain-qdrant langchain-text-splitters langsmith langchain-google-genai pandas"
      ]
    },
    {
      "cell_type": "code",
      "source": [
        "from google.colab import drive\n",
        "drive.mount('/content/drive')"
      ],
      "metadata": {
        "colab": {
          "base_uri": "https://localhost:8080/"
        },
        "id": "YZxQe9B2tlVQ",
        "outputId": "33438e7d-f216-42f2-8089-b66600c505b2"
      },
      "execution_count": null,
      "outputs": [
        {
          "output_type": "stream",
          "name": "stdout",
          "text": [
            "Drive already mounted at /content/drive; to attempt to forcibly remount, call drive.mount(\"/content/drive\", force_remount=True).\n"
          ]
        }
      ]
    },
    {
      "cell_type": "code",
      "source": [
        "import pandas as pd"
      ],
      "metadata": {
        "id": "M3Yo57zKtELa"
      },
      "execution_count": null,
      "outputs": []
    },
    {
      "cell_type": "code",
      "source": [
        "csv_file_path = '/content/drive/MyDrive/4th year research/Development/data/Data  - New Dataset.csv'"
      ],
      "metadata": {
        "id": "mDkDS5YYthSP"
      },
      "execution_count": null,
      "outputs": []
    },
    {
      "cell_type": "code",
      "source": [
        "df = pd.read_csv(csv_file_path)\n",
        "\n",
        "# Generate sequential IDs starting from 1\n",
        "df['Id'] = range(1, len(df) + 1)\n",
        "\n",
        "output_file = '/content/drive/MyDrive/4th year research/Development/data/new_dataset.csv'\n",
        "df.to_csv(output_file, index=False)\n",
        "\n",
        "print(f\"Updated CSV file with new IDs has been saved as '{output_file}'\")\n",
        "print(\"First few rows of the updated DataFrame:\")\n",
        "print(df.head())"
      ],
      "metadata": {
        "colab": {
          "base_uri": "https://localhost:8080/"
        },
        "collapsed": true,
        "id": "VHbUSzrPDejw",
        "outputId": "598fe53f-1ec8-4e94-c84a-3b42b69dbe2f"
      },
      "execution_count": null,
      "outputs": [
        {
          "output_type": "stream",
          "name": "stdout",
          "text": [
            "Updated CSV file with new IDs has been saved as '/content/drive/MyDrive/4th year research/Development/data/new_dataset.csv'\n",
            "First few rows of the updated DataFrame:\n",
            "   Id                                     Name         Brand         Price  \\\n",
            "0   1             The Ordinary Peeling Solution  The Ordinary  Rs 6,350.00   \n",
            "1   2  COSRX Advanced Snail 92 All In One Cream         COSRX  Rs 6,650.00   \n",
            "2   3          CeraVe Daily Moisturizing Lotion        CeraVe  Rs 7,950.00   \n",
            "3   4      CeraVe PM Facial Moisturizing Lotion        CeraVe  Rs 7,250.00   \n",
            "4   5      CeraVe AM Facial Moisturizing Lotion        CeraVe  Rs 7,250.00   \n",
            "\n",
            "          Category                                        Ingredients   \\\n",
            "0  Exfoliating Peel  Glycolic Acid, Lactic Acid, Tartaric Acid, Cit...   \n",
            "1       Moisturizer  Snail Secretion Filtrate, Betaine, Caprylic/Ca...   \n",
            "2       Moisturizer  Purified Water, Glycerin, Caprylic/Capric Trig...   \n",
            "3       Moisturizer  Aqua/Water, Glycerin, Caprylic/Capric Triglyce...   \n",
            "4       Moisturizer  Aqua/Water, Glycerin, Caprylic/Capric Triglyce...   \n",
            "\n",
            "                                   Key Ingredients   \\\n",
            "0                     Glycolic Acid, Salicylic Acid   \n",
            "1                   Snail Mucin, Sodium Hyaluronate   \n",
            "2             Ceramides 1, 3, 6-II, Hyaluronic Acid   \n",
            "3  Niacinamide, Hyaluronic Acid, Ceramides 1,3,6-II   \n",
            "4           Niacinamide, Ceramides, Hyaluronic Acid   \n",
            "\n",
            "                                            Benefit   \\\n",
            "0  Improves texture, clears pore congestion, and ...   \n",
            "1  Deep hydration, repairs damaged skin, reduces ...   \n",
            "2  Hydrates for 24 hours, restores skin barrier, ...   \n",
            "3  Hydrates, calms skin, repairs barrier, non-com...   \n",
            "4  Hydrates, protects skin from UV damage, non-co...   \n",
            "\n",
            "                              Potential Side Effects Natural  ...  \\\n",
            "0  Sun sensitivity, tingling, redness, potential ...      No  ...   \n",
            "1  Minor breakouts in rare cases, potential react...     Yes  ...   \n",
            "2  May not suit extremely oily skin, parabens may...      No  ...   \n",
            "3  May be too light for very dry skin, contains a...      No  ...   \n",
            "4                          No side effects mentioned      No  ...   \n",
            "\n",
            "                                              Usage   \\\n",
            "0  Use once or twice a week on dry skin. Leave on...   \n",
            "1  Apply on face after cleansing and toning, avoi...   \n",
            "2  Apply liberally as often as needed or as direc...   \n",
            "3  Apply liberally to face and neck at night or a...   \n",
            "4  Apply liberally to face and neck in the mornin...   \n",
            "\n",
            "                                    Application Tips  \\\n",
            "0  Apply evenly using fingertips on clean, dry sk...   \n",
            "1  Use at the final step of skincare. Apply with ...   \n",
            "2  Use after cleansing, especially post-shower fo...   \n",
            "3  Use on clean, dry skin after cleansing and ton...   \n",
            "4  Apply a generous amount to face and neck, and ...   \n",
            "\n",
            "                            Skin Type   \\\n",
            "0            Normal, Oily, Combination   \n",
            "1  Dry, Normal, Combination, Sensitive   \n",
            "2                    Normal , Dry Skin   \n",
            "3                         Normal, Oily   \n",
            "4            Normal, Oily, Combination   \n",
            "\n",
            "                                      Skin Concern  Average Rating   \\\n",
            "0          Dullness, Uneven Texture, Enlarged Pores             4.8   \n",
            "1  Redness, Dullness, Scarring, Dryness, Fine Lines             4.9   \n",
            "2              Dryness, Dehydration, Sensitive Skin             4.8   \n",
            "3          Sensitivity, Dehydration, Barrier Repair             5.0   \n",
            "4   Sun Damage, Oiliness, Dryness, Uneven skin tone             4.8   \n",
            "\n",
            "                                    Customer Reviews  \\\n",
            "0  \"Skin feels baby-soft after one use! – 5 stars...   \n",
            "1  \"My go-to moisturizer! Leaves skin glowing. – ...   \n",
            "2  \"Best lotion for dry, sensitive skin! – 5 star...   \n",
            "3  \"Good moisturizer – 5 stars\", \"Effective and c...   \n",
            "4  \"Great moisturizer, keeps skin soft and hydrat...   \n",
            "\n",
            "                                      Expert Review             Allergens   \\\n",
            "0            Backed by clinical dermatology research  Fragrances, Parabens   \n",
            "1         Dermatologist tested and K-beauty approved             Parabens    \n",
            "2                    Dermatologist Recommended Brand             Parabens    \n",
            "3                Trusted by dermatologists worldwide                   NaN   \n",
            "4  Dermatologist recommended for sensitive and ac...              Parabens   \n",
            "\n",
            "  For Sensitive Skin                                             Claims   \n",
            "0                  No    Clinically formulated, High-strength exfoliator  \n",
            "1                 Yes  Hypoallergenic, Cruelty-Free, Dermatologist Te...  \n",
            "2                 Yes  Fragrance-free, Oil-free, Non-comedogenic, Nat...  \n",
            "3                 Yes  Fragrance-free, Oil-free, Non-comedogenic, Hyp...  \n",
            "4                 Yes  SPF 30, Non-comedogenic, Fragrance-free, Barri...  \n",
            "\n",
            "[5 rows x 21 columns]\n"
          ]
        }
      ]
    },
    {
      "cell_type": "code",
      "source": [
        "dataset_path = '/content/drive/MyDrive/4th year research/Development/data/new_dataset.csv'\n",
        "json_file_path = '/content/drive/MyDrive/4th year research/Development/data/products.json'"
      ],
      "metadata": {
        "id": "Tp3l1CwMD4il"
      },
      "execution_count": null,
      "outputs": []
    },
    {
      "cell_type": "code",
      "source": [
        "df = pd.read_csv(dataset_path)"
      ],
      "metadata": {
        "id": "KrzsFjGnBFyH"
      },
      "execution_count": null,
      "outputs": []
    },
    {
      "cell_type": "code",
      "source": [
        "df['Concentrations'][:5]"
      ],
      "metadata": {
        "colab": {
          "base_uri": "https://localhost:8080/",
          "height": 241
        },
        "id": "s5XJ9RAvR9c4",
        "outputId": "2cd9a887-40a8-4c59-c070-ed0dae0fd72f"
      },
      "execution_count": null,
      "outputs": [
        {
          "output_type": "execute_result",
          "data": {
            "text/plain": [
              "0                                     AHA 30%, BHA 2%\n",
              "1               Snail Mucin 92%, 1000 ppm Hyaluronate\n",
              "2            Hyaluronic Acid (low %), Ceramides blend\n",
              "3                Niacinamide (medium-high), Ceramides\n",
              "4    Niacinamide (medium), Ceramides, Hyaluronic Acid\n",
              "Name: Concentrations, dtype: object"
            ],
            "text/html": [
              "<div>\n",
              "<style scoped>\n",
              "    .dataframe tbody tr th:only-of-type {\n",
              "        vertical-align: middle;\n",
              "    }\n",
              "\n",
              "    .dataframe tbody tr th {\n",
              "        vertical-align: top;\n",
              "    }\n",
              "\n",
              "    .dataframe thead th {\n",
              "        text-align: right;\n",
              "    }\n",
              "</style>\n",
              "<table border=\"1\" class=\"dataframe\">\n",
              "  <thead>\n",
              "    <tr style=\"text-align: right;\">\n",
              "      <th></th>\n",
              "      <th>Concentrations</th>\n",
              "    </tr>\n",
              "  </thead>\n",
              "  <tbody>\n",
              "    <tr>\n",
              "      <th>0</th>\n",
              "      <td>AHA 30%, BHA 2%</td>\n",
              "    </tr>\n",
              "    <tr>\n",
              "      <th>1</th>\n",
              "      <td>Snail Mucin 92%, 1000 ppm Hyaluronate</td>\n",
              "    </tr>\n",
              "    <tr>\n",
              "      <th>2</th>\n",
              "      <td>Hyaluronic Acid (low %), Ceramides blend</td>\n",
              "    </tr>\n",
              "    <tr>\n",
              "      <th>3</th>\n",
              "      <td>Niacinamide (medium-high), Ceramides</td>\n",
              "    </tr>\n",
              "    <tr>\n",
              "      <th>4</th>\n",
              "      <td>Niacinamide (medium), Ceramides, Hyaluronic Acid</td>\n",
              "    </tr>\n",
              "  </tbody>\n",
              "</table>\n",
              "</div><br><label><b>dtype:</b> object</label>"
            ]
          },
          "metadata": {},
          "execution_count": 378
        }
      ]
    },
    {
      "cell_type": "code",
      "source": [
        "print(df.columns)"
      ],
      "metadata": {
        "colab": {
          "base_uri": "https://localhost:8080/"
        },
        "id": "w6jkY0A5F-Kr",
        "outputId": "fb4a5bec-2fc8-4817-89a9-ef422c789ea5"
      },
      "execution_count": null,
      "outputs": [
        {
          "output_type": "stream",
          "name": "stdout",
          "text": [
            "Index(['Id', 'Name ', 'Brand ', 'Price', 'Category ', 'Ingredients ',\n",
            "       'Key Ingredients ', 'Benefit ', 'Potential Side Effects', 'Natural',\n",
            "       'Concentrations', 'Usage ', 'Application Tips', 'Skin Type ',\n",
            "       'Skin Concern ', 'Average Rating ', 'Customer Reviews',\n",
            "       'Expert Review ', 'Allergens ', 'For Sensitive Skin ', 'Claims '],\n",
            "      dtype='object')\n"
          ]
        }
      ]
    },
    {
      "cell_type": "code",
      "source": [
        "def parse_reviews(review_string):\n",
        "    if pd.isna(review_string):  # Handle NaN values\n",
        "        return []\n",
        "    # Split reviews by quotes and filter out empty strings\n",
        "    reviews = [r.strip() for r in review_string.split('\"') if r.strip() and \"stars\" in r]\n",
        "    result = []\n",
        "    for review in reviews:\n",
        "        # Extract review text and rating\n",
        "        parts = review.rsplit(\" – \", 1)\n",
        "        if len(parts) == 2:\n",
        "            text = parts[0].strip()\n",
        "            rating = float(parts[1].replace(\" stars\", \"\").strip())\n",
        "            result.append({\"review\": text, \"rating\": rating})\n",
        "    return result"
      ],
      "metadata": {
        "id": "ipp6U1YlZzLG"
      },
      "execution_count": null,
      "outputs": []
    },
    {
      "cell_type": "code",
      "source": [
        "def parse_allergens(allergen_string):\n",
        "    if pd.isna(allergen_string):  # Handle NaN values\n",
        "        return None\n",
        "    return [allergen.strip() for allergen in allergen_string.split(\", \")]"
      ],
      "metadata": {
        "id": "qbtVWaHDb5wp"
      },
      "execution_count": null,
      "outputs": []
    },
    {
      "cell_type": "code",
      "source": [
        "import json\n",
        "\n",
        "def to_json(df, json_file_path):\n",
        "  json_array = []\n",
        "\n",
        "  for index, row in df.iterrows():\n",
        "    is_natural = True if row[\"Natural\"] == \"Yes\" else False\n",
        "    reviews = parse_reviews(row[\"Customer Reviews\"])\n",
        "    allergens = parse_allergens(row[\"Allergens \"])\n",
        "\n",
        "    json_obj = {\n",
        "        \"Id\": row[\"Id\"],\n",
        "        \"Name\": row[\"Name \"],\n",
        "        \"Brand\": row[\"Brand \"],\n",
        "        \"Category\": row[\"Category \"],\n",
        "        \"Price\": row[\"Price\"],\n",
        "        \"Ingredients\": row[\"Ingredients \"].split(\", \") if row[\"Ingredients \"] else [],\n",
        "        \"Key Ingredients\": row[\"Key Ingredients \"].split(\", \") if row[\"Key Ingredients \"] else [],\n",
        "        \"Benefits\": row[\"Benefit \"].split(\", \") if row[\"Benefit \"] else [],\n",
        "        \"Potential Side Effects\": row[\"Potential Side Effects\"].split(\", \") if row[\"Potential Side Effects\"] else [],\n",
        "        \"Natural\": is_natural,\n",
        "        \"Concentrations\": row[\"Concentrations\"].split(\", \") if row[\"Concentrations\"] else [],\n",
        "        \"Usage\": row[\"Usage \"],\n",
        "        \"Application Tips\": row[\"Application Tips\"],\n",
        "        \"Skin Type\": row[\"Skin Type \"].split(\", \") if row[\"Skin Type \"] else [],\n",
        "        \"Skin Concerns\": row[\"Skin Concern \"].split(\", \") if row[\"Skin Concern \"] else [],\n",
        "        \"Average Rating\": float(row[\"Average Rating \"]),\n",
        "        \"Customer Reviews\": reviews,\n",
        "        \"Expert Review\": row[\"Expert Review \"],\n",
        "        \"Allergens\": allergens,\n",
        "        \"For Sensitive Skin\": row[\"For Sensitive Skin \"],\n",
        "        \"Claims\": row[\"Claims \"].split(\", \") if row[\"Claims \"] else [],\n",
        "    }\n",
        "    json_array.append(json_obj)\n",
        "  return json_array"
      ],
      "metadata": {
        "id": "JF3P0wopEWgS"
      },
      "execution_count": null,
      "outputs": []
    },
    {
      "cell_type": "code",
      "source": [
        "json_arr = to_json(df, json_file_path)\n",
        "print(len(json_arr))"
      ],
      "metadata": {
        "colab": {
          "base_uri": "https://localhost:8080/"
        },
        "id": "qVtKWZfKFk2S",
        "outputId": "761cc12a-7772-4c13-d8f7-6d9f4cc365c6"
      },
      "execution_count": null,
      "outputs": [
        {
          "output_type": "stream",
          "name": "stdout",
          "text": [
            "100\n"
          ]
        }
      ]
    },
    {
      "cell_type": "code",
      "source": [
        "for i in json_arr[:4]:\n",
        "  print(i)"
      ],
      "metadata": {
        "colab": {
          "base_uri": "https://localhost:8080/"
        },
        "id": "q5LLRsljchiD",
        "outputId": "de869289-9f0a-4542-b17d-0f056ec8f152"
      },
      "execution_count": null,
      "outputs": [
        {
          "output_type": "stream",
          "name": "stdout",
          "text": [
            "{'Id': 1, 'Name': 'The Ordinary Peeling Solution', 'Brand': 'The Ordinary', 'Category': 'Exfoliating Peel', 'Price': 'Rs 6,350.00', 'Ingredients': ['Glycolic Acid', 'Lactic Acid', 'Tartaric Acid', 'Citric Acid', 'Salicylic Acid', 'Sodium Hyaluronate Crosspolymer', 'Tasmannia Lanceolata Fruit/Leaf Extract'], 'Key Ingredients': ['Glycolic Acid', 'Salicylic Acid'], 'Benefits': ['Improves texture', 'clears pore congestion', 'and targets uneven skin tone'], 'Potential Side Effects': ['Sun sensitivity', 'tingling', 'redness', 'potential irritation'], 'Natural': False, 'Concentrations': ['AHA 30%', 'BHA 2%'], 'Usage': 'Use once or twice a week on dry skin. Leave on for max 10 minutes and rinse. Avoid eye contour.', 'Application Tips': 'Apply evenly using fingertips on clean, dry skin. Do not use on wet or compromised skin. Patch test recommended. Use sunscreen afterward.', 'Skin Type': ['Normal', 'Oily', 'Combination'], 'Skin Concerns': ['Dullness', 'Uneven Texture', 'Enlarged Pores'], 'Average Rating': 4.8, 'Customer Reviews': [{'review': 'Skin feels baby-soft after one use!', 'rating': 5.0}, {'review': 'Brightened my complexion overnight.', 'rating': 4.5}, {'review': 'Strong but very effective, definitely for experienced users.', 'rating': 4.5}], 'Expert Review': 'Backed by clinical dermatology research', 'Allergens': ['Fragrances', 'Parabens'], 'For Sensitive Skin': 'No', 'Claims': ['Clinically formulated', 'High-strength exfoliator']}\n",
            "{'Id': 2, 'Name': 'COSRX Advanced Snail 92 All In One Cream', 'Brand': 'COSRX', 'Category': 'Moisturizer', 'Price': 'Rs 6,650.00', 'Ingredients': ['Snail Secretion Filtrate', 'Betaine', 'Caprylic/Capric Triglyceride', 'Butylene Glycol', 'Cetearyl Olivate', 'Sorbitan Olivate', 'Cetearyl Alcohol', 'Carbomer', 'Ethyl Hexanediol', 'Phenoxyethanol', 'Arginine', 'Dimethicone', 'Sodium Polyacrylate', 'Sodium Hyaluronate', 'Allantoin', 'Palmitic Acid', 'Panthenol', 'Xanthan Gum', 'Stearic Acid', 'Adenosine', 'Water', 'Myristic Acid'], 'Key Ingredients': ['Snail Mucin', 'Sodium Hyaluronate'], 'Benefits': ['Deep hydration', 'repairs damaged skin', 'reduces fine lines', 'soothes and nourishes', 'brightens and softens texture'], 'Potential Side Effects': ['Minor breakouts in rare cases', 'potential reaction to snail filtrate'], 'Natural': True, 'Concentrations': ['Snail Mucin 92%', '1000 ppm Hyaluronate'], 'Usage': 'Apply on face after cleansing and toning, avoiding eye and mouth area. Gently pat until absorbed.', 'Application Tips': 'Use at the final step of skincare. Apply with clean hands and gently pat for full absorption.', 'Skin Type': ['Dry', 'Normal', 'Combination', 'Sensitive'], 'Skin Concerns': ['Redness', 'Dullness', 'Scarring', 'Dryness', 'Fine Lines'], 'Average Rating': 4.9, 'Customer Reviews': [{'review': 'My go-to moisturizer! Leaves skin glowing.', 'rating': 5.0}, {'review': 'Hydrates like no other cream.', 'rating': 5.0}, {'review': 'Perfect for healing acne scars.', 'rating': 4.5}, {'review': 'Love the texture and finish.', 'rating': 4.5}, {'review': 'Gentle and lightweight.', 'rating': 5.0}], 'Expert Review': 'Dermatologist tested and K-beauty approved', 'Allergens': ['Parabens'], 'For Sensitive Skin': 'Yes', 'Claims': ['Hypoallergenic', 'Cruelty-Free', 'Dermatologist Tested']}\n",
            "{'Id': 3, 'Name': 'CeraVe Daily Moisturizing Lotion', 'Brand': 'CeraVe', 'Category': 'Moisturizer', 'Price': 'Rs 7,950.00', 'Ingredients': ['Purified Water', 'Glycerin', 'Caprylic/Capric Triglyceride', 'Behentrimonium Methosulfate', 'Cetearyl Alcohol', 'Ceteareth-20', 'Cetyl Alcohol', 'Polyglyceryl-3-Diisosterate', 'Dimethicone', 'Hyaluronic Acid', 'Ceramides 1', '3', '6-II', 'Cholesterol', 'Phytosphingosine', 'Potassium Phosphate', 'Dipotassium phosphate', 'Methylparaben', 'Propylparaben', 'Disodium EDTA', 'Sodium Lauroyl Lactylate', 'Polysorbate 20', 'Carbomer', 'Xanthan Gum.'], 'Key Ingredients': ['Ceramides 1', '3', '6-II', 'Hyaluronic Acid'], 'Benefits': ['Hydrates for 24 hours', 'restores skin barrier', 'lightweight', 'non-greasy', 'relieves dryness'], 'Potential Side Effects': ['May not suit extremely oily skin', 'parabens may irritate very sensitive skin'], 'Natural': False, 'Concentrations': ['Hyaluronic Acid (low %)', 'Ceramides blend'], 'Usage': 'Apply liberally as often as needed or as directed by physician', 'Application Tips': 'Use after cleansing, especially post-shower for max absorption. Ideal for layering under SPF or makeup.', 'Skin Type': ['Normal ', 'Dry Skin'], 'Skin Concerns': ['Dryness', 'Dehydration', 'Sensitive Skin'], 'Average Rating': 4.8, 'Customer Reviews': [{'review': 'Best lotion for dry, sensitive skin!', 'rating': 5.0}, {'review': 'Feels so light and hydrates all day.', 'rating': 5.0}, {'review': 'My eczema is under control now.', 'rating': 4.5}, {'review': 'Gentle and absorbs fast.', 'rating': 4.5}, {'review': 'Will repurchase for sure!', 'rating': 5.0}], 'Expert Review': 'Dermatologist Recommended Brand', 'Allergens': ['Parabens'], 'For Sensitive Skin': 'Yes', 'Claims': ['Fragrance-free', 'Oil-free', 'Non-comedogenic', 'National Eczema Association Approved']}\n",
            "{'Id': 4, 'Name': 'CeraVe PM Facial Moisturizing Lotion', 'Brand': 'CeraVe', 'Category': 'Moisturizer', 'Price': 'Rs 7,250.00', 'Ingredients': ['Aqua/Water', 'Glycerin', 'Caprylic/Capric Triglyceride', 'Niacinamide', 'Cetearyl Alcohol', 'Potassium Phosphate', 'Ceramide NP', 'Ceramide AP', 'Ceramide EOP', 'Carbomer', 'Dimethicone', 'Ceteareth-20', 'Behentrimonium Methosulfate', 'Sodium Lauroyl Lactylate', 'Sodium Hyaluronate', 'Cholesterol', 'Phenoxyethanol', 'Disodium EDTA', 'Dipotassium Phosphate', 'Caprylyl Glycol', 'Phytosphingosine', 'Xanthan Gum', 'Polyglyceryl-3 Diisostearate', 'Ethylhexylglycerin'], 'Key Ingredients': ['Niacinamide', 'Hyaluronic Acid', 'Ceramides 1,3,6-II'], 'Benefits': ['Hydrates', 'calms skin', 'repairs barrier', 'non-comedogenic', 'fragrance-free', 'hypoallergenic'], 'Potential Side Effects': ['May be too light for very dry skin', 'contains alcohol derivatives that may irritate very sensitive skin'], 'Natural': False, 'Concentrations': ['Niacinamide (medium-high)', 'Ceramides'], 'Usage': 'Apply liberally to face and neck at night or as directed by physician', 'Application Tips': 'Use on clean, dry skin after cleansing and toning. Can be layered with other nighttime serums or treatments.', 'Skin Type': ['Normal', 'Oily'], 'Skin Concerns': ['Sensitivity', 'Dehydration', 'Barrier Repair'], 'Average Rating': 5.0, 'Customer Reviews': [{'review': 'Good moisturizer', 'rating': 5.0}, {'review': 'Effective and calming', 'rating': 5.0}], 'Expert Review': 'Trusted by dermatologists worldwide', 'Allergens': None, 'For Sensitive Skin': 'Yes', 'Claims': ['Fragrance-free', 'Oil-free', 'Non-comedogenic', 'Hypoallergenic']}\n"
          ]
        }
      ]
    },
    {
      "cell_type": "code",
      "source": [
        "# Write JSON data to a file\n",
        "with open(json_file_path, mode='w', encoding='utf-8') as json_file:\n",
        "  json.dump(json_arr, json_file, indent=4)"
      ],
      "metadata": {
        "id": "AgL3w1Drdhht"
      },
      "execution_count": null,
      "outputs": []
    },
    {
      "cell_type": "code",
      "source": [
        "#read the content of json file\n",
        "with open(json_file_path, 'r') as f:\n",
        "    products_json = json.load(f)"
      ],
      "metadata": {
        "id": "ODygJUQcdlag"
      },
      "execution_count": null,
      "outputs": []
    },
    {
      "cell_type": "code",
      "source": [
        "for product in products_json[:5]:\n",
        "  print(product)"
      ],
      "metadata": {
        "colab": {
          "base_uri": "https://localhost:8080/"
        },
        "id": "4S0weXxZd8nk",
        "outputId": "cb087344-3da9-424f-879d-ae841247f75c"
      },
      "execution_count": null,
      "outputs": [
        {
          "output_type": "stream",
          "name": "stdout",
          "text": [
            "{'Id': 1, 'Name': 'The Ordinary Peeling Solution', 'Brand': 'The Ordinary', 'Category': 'Exfoliating Peel', 'Price': 'Rs 6,350.00', 'Ingredients': ['Glycolic Acid', 'Lactic Acid', 'Tartaric Acid', 'Citric Acid', 'Salicylic Acid', 'Sodium Hyaluronate Crosspolymer', 'Tasmannia Lanceolata Fruit/Leaf Extract'], 'Key Ingredients': ['Glycolic Acid', 'Salicylic Acid'], 'Benefits': ['Improves texture', 'clears pore congestion', 'and targets uneven skin tone'], 'Potential Side Effects': ['Sun sensitivity', 'tingling', 'redness', 'potential irritation'], 'Natural': False, 'Concentrations': ['AHA 30%', 'BHA 2%'], 'Usage': 'Use once or twice a week on dry skin. Leave on for max 10 minutes and rinse. Avoid eye contour.', 'Application Tips': 'Apply evenly using fingertips on clean, dry skin. Do not use on wet or compromised skin. Patch test recommended. Use sunscreen afterward.', 'Skin Type': ['Normal', 'Oily', 'Combination'], 'Skin Concerns': ['Dullness', 'Uneven Texture', 'Enlarged Pores'], 'Average Rating': 4.8, 'Customer Reviews': [{'review': 'Skin feels baby-soft after one use!', 'rating': 5.0}, {'review': 'Brightened my complexion overnight.', 'rating': 4.5}, {'review': 'Strong but very effective, definitely for experienced users.', 'rating': 4.5}], 'Expert Review': 'Backed by clinical dermatology research', 'Allergens': ['Fragrances', 'Parabens'], 'For Sensitive Skin': 'No', 'Claims': ['Clinically formulated', 'High-strength exfoliator']}\n",
            "{'Id': 2, 'Name': 'COSRX Advanced Snail 92 All In One Cream', 'Brand': 'COSRX', 'Category': 'Moisturizer', 'Price': 'Rs 6,650.00', 'Ingredients': ['Snail Secretion Filtrate', 'Betaine', 'Caprylic/Capric Triglyceride', 'Butylene Glycol', 'Cetearyl Olivate', 'Sorbitan Olivate', 'Cetearyl Alcohol', 'Carbomer', 'Ethyl Hexanediol', 'Phenoxyethanol', 'Arginine', 'Dimethicone', 'Sodium Polyacrylate', 'Sodium Hyaluronate', 'Allantoin', 'Palmitic Acid', 'Panthenol', 'Xanthan Gum', 'Stearic Acid', 'Adenosine', 'Water', 'Myristic Acid'], 'Key Ingredients': ['Snail Mucin', 'Sodium Hyaluronate'], 'Benefits': ['Deep hydration', 'repairs damaged skin', 'reduces fine lines', 'soothes and nourishes', 'brightens and softens texture'], 'Potential Side Effects': ['Minor breakouts in rare cases', 'potential reaction to snail filtrate'], 'Natural': True, 'Concentrations': ['Snail Mucin 92%', '1000 ppm Hyaluronate'], 'Usage': 'Apply on face after cleansing and toning, avoiding eye and mouth area. Gently pat until absorbed.', 'Application Tips': 'Use at the final step of skincare. Apply with clean hands and gently pat for full absorption.', 'Skin Type': ['Dry', 'Normal', 'Combination', 'Sensitive'], 'Skin Concerns': ['Redness', 'Dullness', 'Scarring', 'Dryness', 'Fine Lines'], 'Average Rating': 4.9, 'Customer Reviews': [{'review': 'My go-to moisturizer! Leaves skin glowing.', 'rating': 5.0}, {'review': 'Hydrates like no other cream.', 'rating': 5.0}, {'review': 'Perfect for healing acne scars.', 'rating': 4.5}, {'review': 'Love the texture and finish.', 'rating': 4.5}, {'review': 'Gentle and lightweight.', 'rating': 5.0}], 'Expert Review': 'Dermatologist tested and K-beauty approved', 'Allergens': ['Parabens'], 'For Sensitive Skin': 'Yes', 'Claims': ['Hypoallergenic', 'Cruelty-Free', 'Dermatologist Tested']}\n",
            "{'Id': 3, 'Name': 'CeraVe Daily Moisturizing Lotion', 'Brand': 'CeraVe', 'Category': 'Moisturizer', 'Price': 'Rs 7,950.00', 'Ingredients': ['Purified Water', 'Glycerin', 'Caprylic/Capric Triglyceride', 'Behentrimonium Methosulfate', 'Cetearyl Alcohol', 'Ceteareth-20', 'Cetyl Alcohol', 'Polyglyceryl-3-Diisosterate', 'Dimethicone', 'Hyaluronic Acid', 'Ceramides 1', '3', '6-II', 'Cholesterol', 'Phytosphingosine', 'Potassium Phosphate', 'Dipotassium phosphate', 'Methylparaben', 'Propylparaben', 'Disodium EDTA', 'Sodium Lauroyl Lactylate', 'Polysorbate 20', 'Carbomer', 'Xanthan Gum.'], 'Key Ingredients': ['Ceramides 1', '3', '6-II', 'Hyaluronic Acid'], 'Benefits': ['Hydrates for 24 hours', 'restores skin barrier', 'lightweight', 'non-greasy', 'relieves dryness'], 'Potential Side Effects': ['May not suit extremely oily skin', 'parabens may irritate very sensitive skin'], 'Natural': False, 'Concentrations': ['Hyaluronic Acid (low %)', 'Ceramides blend'], 'Usage': 'Apply liberally as often as needed or as directed by physician', 'Application Tips': 'Use after cleansing, especially post-shower for max absorption. Ideal for layering under SPF or makeup.', 'Skin Type': ['Normal ', 'Dry Skin'], 'Skin Concerns': ['Dryness', 'Dehydration', 'Sensitive Skin'], 'Average Rating': 4.8, 'Customer Reviews': [{'review': 'Best lotion for dry, sensitive skin!', 'rating': 5.0}, {'review': 'Feels so light and hydrates all day.', 'rating': 5.0}, {'review': 'My eczema is under control now.', 'rating': 4.5}, {'review': 'Gentle and absorbs fast.', 'rating': 4.5}, {'review': 'Will repurchase for sure!', 'rating': 5.0}], 'Expert Review': 'Dermatologist Recommended Brand', 'Allergens': ['Parabens'], 'For Sensitive Skin': 'Yes', 'Claims': ['Fragrance-free', 'Oil-free', 'Non-comedogenic', 'National Eczema Association Approved']}\n",
            "{'Id': 4, 'Name': 'CeraVe PM Facial Moisturizing Lotion', 'Brand': 'CeraVe', 'Category': 'Moisturizer', 'Price': 'Rs 7,250.00', 'Ingredients': ['Aqua/Water', 'Glycerin', 'Caprylic/Capric Triglyceride', 'Niacinamide', 'Cetearyl Alcohol', 'Potassium Phosphate', 'Ceramide NP', 'Ceramide AP', 'Ceramide EOP', 'Carbomer', 'Dimethicone', 'Ceteareth-20', 'Behentrimonium Methosulfate', 'Sodium Lauroyl Lactylate', 'Sodium Hyaluronate', 'Cholesterol', 'Phenoxyethanol', 'Disodium EDTA', 'Dipotassium Phosphate', 'Caprylyl Glycol', 'Phytosphingosine', 'Xanthan Gum', 'Polyglyceryl-3 Diisostearate', 'Ethylhexylglycerin'], 'Key Ingredients': ['Niacinamide', 'Hyaluronic Acid', 'Ceramides 1,3,6-II'], 'Benefits': ['Hydrates', 'calms skin', 'repairs barrier', 'non-comedogenic', 'fragrance-free', 'hypoallergenic'], 'Potential Side Effects': ['May be too light for very dry skin', 'contains alcohol derivatives that may irritate very sensitive skin'], 'Natural': False, 'Concentrations': ['Niacinamide (medium-high)', 'Ceramides'], 'Usage': 'Apply liberally to face and neck at night or as directed by physician', 'Application Tips': 'Use on clean, dry skin after cleansing and toning. Can be layered with other nighttime serums or treatments.', 'Skin Type': ['Normal', 'Oily'], 'Skin Concerns': ['Sensitivity', 'Dehydration', 'Barrier Repair'], 'Average Rating': 5.0, 'Customer Reviews': [{'review': 'Good moisturizer', 'rating': 5.0}, {'review': 'Effective and calming', 'rating': 5.0}], 'Expert Review': 'Trusted by dermatologists worldwide', 'Allergens': None, 'For Sensitive Skin': 'Yes', 'Claims': ['Fragrance-free', 'Oil-free', 'Non-comedogenic', 'Hypoallergenic']}\n",
            "{'Id': 5, 'Name': 'CeraVe AM Facial Moisturizing Lotion', 'Brand': 'CeraVe', 'Category': 'Moisturizer', 'Price': 'Rs 7,250.00', 'Ingredients': ['Aqua/Water', 'Glycerin', 'Caprylic/Capric Triglyceride', 'Niacinamide', 'Ceramide NP', 'Ceramide AP', 'Ceramide EOP', 'Dimethicone', 'Cetearyl Alcohol', 'Behentrimonium Methosulfate', 'Potassium Phosphate', 'Sodium Lauroyl Lactylate', 'Sodium Hyaluronate', 'Cholesterol', 'Phenoxyethanol', 'Disodium EDTA', 'Dipotassium Phosphate', 'Caprylyl Glycol'], 'Key Ingredients': ['Niacinamide', 'Ceramides', 'Hyaluronic Acid'], 'Benefits': ['Hydrates', 'protects skin from UV damage', 'non-comedogenic', 'replenishes skin barrier', 'SPF 30 protection'], 'Potential Side Effects': ['No side effects mentioned'], 'Natural': False, 'Concentrations': ['Niacinamide (medium)', 'Ceramides', 'Hyaluronic Acid'], 'Usage': 'Apply liberally to face and neck in the morning, after cleansing and before makeup', 'Application Tips': 'Apply a generous amount to face and neck, and reapply throughout the day for prolonged sun exposure. Can be used alone or layered with other skincare products.', 'Skin Type': ['Normal', 'Oily', 'Combination'], 'Skin Concerns': ['Sun Damage', 'Oiliness', 'Dryness', 'Uneven skin tone'], 'Average Rating': 4.8, 'Customer Reviews': [{'review': 'Great moisturizer, keeps skin soft and hydrated', 'rating': 5.0}, {'review': 'Provides good SPF protection', 'rating': 5.0}, {'review': 'Not heavy or greasy', 'rating': 5.0}], 'Expert Review': 'Dermatologist recommended for sensitive and acne-prone skin; offers broad-spectrum UV protection', 'Allergens': ['Parabens'], 'For Sensitive Skin': 'Yes', 'Claims': ['SPF 30', 'Non-comedogenic', 'Fragrance-free', 'Barrier Repair']}\n"
          ]
        }
      ]
    },
    {
      "cell_type": "code",
      "source": [
        "def display(value):\n",
        "  if len(value) == 0 or None:\n",
        "    return 'Not specified'\n",
        "  return value\n",
        "\n",
        "def display_list(lst):\n",
        "  if len(lst) == 0 or None:\n",
        "    return 'Not specified'\n",
        "  return ', '.join(lst)"
      ],
      "metadata": {
        "id": "gcNla6v-mgxf"
      },
      "execution_count": null,
      "outputs": []
    },
    {
      "cell_type": "code",
      "source": [
        "def generate_product_profile(product):\n",
        "  # Format the product profile\n",
        "  product_profile = f\"\"\"\n",
        "  # {product['Name']} - {product['Category']}\n",
        "  ---\n",
        "\n",
        "  ## Product Overview\n",
        "  - Name: {display(product[\"Name\"])}\n",
        "  - Brand: {display(product[\"Brand\"])}\n",
        "  - Category: {display(product[\"Category\"])}\n",
        "  - Price: {display(product[\"Price\"])} (in LKR)\n",
        "  - Natural: {product[\"Natural\"]}\n",
        "\n",
        "  ## Ingredients\n",
        "  - Key Ingredients: {display_list(product['Key Ingredients'])}\n",
        "  - Concentrations: {display_list(product['Concentrations'])}\n",
        "  - Full Ingredient List: {display_list(product['Ingredients'])}\n",
        "\n",
        "  ## Benefits and Claims\n",
        "  - Benefits: {display_list(product['Benefits'])}\n",
        "  - Claims: {display_list(product['Claims'])}\n",
        "\n",
        "  ## Usage and Application\n",
        "  - Usage: {display(product['Usage'])}\n",
        "  - Application Tips: {display(product['Application Tips'])}\n",
        "\n",
        "  ## Skin Suitability\n",
        "  - Suitable for Skin Types: {display_list(product['Skin Type'])}\n",
        "  - Addresses Skin Concerns: {display_list(product['Skin Concerns'])}\n",
        "  - For Sensitive Skin: {display(product['For Sensitive Skin'])}\n",
        "\n",
        "  ## Safety Information\n",
        "  - Potential Side Effects: {display_list(product['Potential Side Effects'])}\n",
        "  - Allergens: {display_list(product['Allergens'])}\n",
        "\n",
        "  ## Reviews and Ratings\n",
        "  - Average Rating: {product['Average Rating']}/5\n",
        "  - Customer Reviews:\n",
        "  \"\"\"\n",
        "  # Append customer reviews with consistent indentation\n",
        "  if product['Customer Reviews']:\n",
        "    for i, review in enumerate(product['Customer Reviews']):\n",
        "      if i == 0:\n",
        "        product_profile += f\"  - \\\"{review['review']}\\\" - {review['rating']} stars\\n\"\n",
        "      else:\n",
        "        product_profile += f\"    - \\\"{review['review']}\\\" - {review['rating']} stars\\n\"\n",
        "  else:\n",
        "    product_profile += \"    No customer reviews available.\\n\"\n",
        "\n",
        "  # Append expert review\n",
        "  product_profile += f\"  - Expert Review: {display(product['Expert Review'])}\"\n",
        "\n",
        "  return product_profile"
      ],
      "metadata": {
        "id": "SNcNnM4gdooK"
      },
      "execution_count": null,
      "outputs": []
    },
    {
      "cell_type": "code",
      "source": [
        "product_profile = generate_product_profile(products_json[0])\n",
        "print(product_profile)"
      ],
      "metadata": {
        "colab": {
          "base_uri": "https://localhost:8080/"
        },
        "id": "J14KCx_Qvdr4",
        "outputId": "ccfd6a10-0613-4b37-d832-bd6dcfeaccfb"
      },
      "execution_count": null,
      "outputs": [
        {
          "output_type": "stream",
          "name": "stdout",
          "text": [
            "\n",
            "  # The Ordinary Peeling Solution - Exfoliating Peel\n",
            "  ---\n",
            "\n",
            "  ## Product Overview\n",
            "  - Name: The Ordinary Peeling Solution  \n",
            "  - Brand: The Ordinary \n",
            "  - Category: Exfoliating Peel  \n",
            "  - Price: Rs 6,350.00 (in LKR)  \n",
            "  - Natural: False  \n",
            "\n",
            "  ## Ingredients\n",
            "  - Key Ingredients: Glycolic Acid, Salicylic Acid\n",
            "  - Concentrations: AHA 30%, BHA 2%\n",
            "  - Full Ingredient List: Glycolic Acid, Lactic Acid, Tartaric Acid, Citric Acid, Salicylic Acid, Sodium Hyaluronate Crosspolymer, Tasmannia Lanceolata Fruit/Leaf Extract\n",
            "\n",
            "  ## Benefits and Claims\n",
            "  - Benefits: Improves texture, clears pore congestion, and targets uneven skin tone\n",
            "  - Claims: Clinically formulated, High-strength exfoliator\n",
            "\n",
            "  ## Usage and Application\n",
            "  - Usage: Use once or twice a week on dry skin. Leave on for max 10 minutes and rinse. Avoid eye contour.\n",
            "  - Application Tips: Apply evenly using fingertips on clean, dry skin. Do not use on wet or compromised skin. Patch test recommended. Use sunscreen afterward.\n",
            "\n",
            "  ## Skin Suitability\n",
            "  - Suitable for Skin Types: Normal, Oily, Combination\n",
            "  - Addresses Skin Concerns: Dullness, Uneven Texture, Enlarged Pores\n",
            "  - For Sensitive Skin: No\n",
            "\n",
            "  ## Safety Information\n",
            "  - Potential Side Effects: Sun sensitivity, tingling, redness, potential irritation\n",
            "  - Allergens: Fragrances, Parabens\n",
            "\n",
            "  ## Reviews and Ratings\n",
            "  - Average Rating: 4.8/5\n",
            "  - Customer Reviews:\n",
            "    - \"Skin feels baby-soft after one use!\" - 5.0 stars\n",
            "    - \"Brightened my complexion overnight.\" - 4.5 stars\n",
            "    - \"Strong but very effective, definitely for experienced users.\" - 4.5 stars\n",
            "  - Expert Review: Backed by clinical dermatology research\n"
          ]
        }
      ]
    },
    {
      "cell_type": "code",
      "source": [
        "product_docs = []\n",
        "\n",
        "for product in products_json:\n",
        "  # Add formatted profile to the list\n",
        "  product_docs.append({\n",
        "    \"template\": generate_product_profile(product),\n",
        "    \"metadata\": {\n",
        "      \"id\": product[\"Id\"],\n",
        "      \"name\": product[\"Name\"],\n",
        "      \"brand\": product[\"Brand\"],\n",
        "      \"category\": product[\"Category\"],\n",
        "      \"price\": product[\"Price\"]\n",
        "    }\n",
        "  })"
      ],
      "metadata": {
        "id": "vVByjOsAqUnr"
      },
      "execution_count": null,
      "outputs": []
    },
    {
      "cell_type": "markdown",
      "source": [
        "### Generate engaging product descriptions using product profiles"
      ],
      "metadata": {
        "id": "89n4UZn77uTS"
      }
    },
    {
      "cell_type": "code",
      "source": [
        "import os\n",
        "from google.colab import userdata\n",
        "\n",
        "GEMINI_API_KEY=userdata.get('GEMINI_API_KEY')\n",
        "os.environ[\"GOOGLE_API_KEY\"] = GEMINI_API_KEY"
      ],
      "metadata": {
        "id": "cJlfIs0Z7nma"
      },
      "execution_count": null,
      "outputs": []
    },
    {
      "cell_type": "code",
      "source": [
        "product_copywrite_prompt = \"\"\"\n",
        "You are an expert product copywriter. Based on the given product profile, write a professional and engaging product description that covers all the essential details, benefits, usage instructions, and any special considerations.\n",
        "Create a summary discription of a skincare product based on the given structured product details.\n",
        "Use only then given product information and phrase them as use see fit.\n",
        "Don't remove any vital information from the product profile.\n",
        "Be accurate and through.\n",
        "\n",
        "Product Profile:\n",
        "{product_profile}\n",
        "\n",
        "Product Description:\n",
        "\"\"\""
      ],
      "metadata": {
        "id": "6im3WNIF70Md"
      },
      "execution_count": null,
      "outputs": []
    },
    {
      "cell_type": "markdown",
      "source": [
        "### Product Copywriter Agent"
      ],
      "metadata": {
        "id": "1WREokJe8BTS"
      }
    },
    {
      "cell_type": "code",
      "source": [
        "from langchain.prompts import PromptTemplate\n",
        "from langchain.chains import LLMChain\n",
        "from langchain_google_genai import ChatGoogleGenerativeAI\n",
        "\n",
        "def product_copywriter_agent(product_profile, prompt_template):\n",
        "  prompt = PromptTemplate(input_variables=[\"product_profile\"], template=prompt_template)\n",
        "\n",
        "  agent = ChatGoogleGenerativeAI(\n",
        "    model=\"gemini-1.5-pro\",\n",
        "    temperature=0,\n",
        "    max_retries=2,\n",
        "  )\n",
        "\n",
        "  product_copywrite_chain = LLMChain(llm=agent, prompt=prompt)\n",
        "\n",
        "  product_description = product_copywrite_chain.run(product_profile=product_profile)\n",
        "\n",
        "  return product_description"
      ],
      "metadata": {
        "id": "uAx4gTGH7-aT"
      },
      "execution_count": null,
      "outputs": []
    },
    {
      "cell_type": "code",
      "source": [
        "import time\n",
        "\n",
        "product_descriptions = []\n",
        "\n",
        "for doc in product_docs:\n",
        "  agent_response = product_copywriter_agent(doc[\"template\"], product_copywrite_prompt)\n",
        "  product_description = {\n",
        "      \"id\": doc[\"metadata\"][\"id\"],\n",
        "      \"metadata\": doc[\"metadata\"],\n",
        "      \"content\": agent_response\n",
        "  }\n",
        "  product_descriptions.append(product_description)\n",
        "  print(f\"Product description for product {doc['metadata']['id']} generated\")\n",
        "  time.sleep(3)"
      ],
      "metadata": {
        "id": "gxPeciyp8Uzh"
      },
      "execution_count": null,
      "outputs": []
    },
    {
      "cell_type": "code",
      "source": [
        "product_descriptions[:2]"
      ],
      "metadata": {
        "id": "WkFC6oqm8hGz"
      },
      "execution_count": null,
      "outputs": []
    },
    {
      "cell_type": "code",
      "source": [
        "output_file = \"/content/drive/MyDrive/4th year research/Development/data/product_descriptions.json\""
      ],
      "metadata": {
        "id": "53JRZ-de8ocd"
      },
      "execution_count": null,
      "outputs": []
    },
    {
      "cell_type": "code",
      "source": [
        "with open(output_file, \"w\") as file:\n",
        "    json.dump(product_descriptions, file, indent=4)\n",
        "\n",
        "print(f\"Product description written to {output_file}\")"
      ],
      "metadata": {
        "id": "Z5sGVvpR8pKj"
      },
      "execution_count": null,
      "outputs": []
    }
  ]
}
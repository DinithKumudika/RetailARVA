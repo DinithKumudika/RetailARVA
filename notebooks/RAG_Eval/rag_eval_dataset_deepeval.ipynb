{
 "cells": [
  {
   "cell_type": "code",
   "execution_count": 1,
   "metadata": {
    "ExecuteTime": {
     "end_time": "2025-05-01T13:52:16.680929Z",
     "start_time": "2025-05-01T13:52:16.673932Z"
    },
    "id": "E3nEYNNe6rTv"
   },
   "outputs": [],
   "source": [
    "\n",
    "# https://ssahuupgrad-93226.medium.com/using-llms-for-synthetic-data-generation-the-definitive-guide-78aab5f506f0\n",
    "# https://www.confident-ai.com/blog/the-definitive-guide-to-synthetic-data-generation-using-llms\n",
    "# https://www.confident-ai.com/blog/why-llm-as-a-judge-is-the-best-llm-evaluation-method\n",
    "# https://arxiv.org/abs/2304.12244"
   ]
  },
  {
   "cell_type": "code",
   "execution_count": null,
   "metadata": {
    "ExecuteTime": {
     "end_time": "2025-05-01T13:54:12.917621Z",
     "start_time": "2025-05-01T13:54:12.854010Z"
    },
    "colab": {
     "base_uri": "https://localhost:8080/"
    },
    "collapsed": true,
    "id": "5QXz0XHxjVGZ",
    "outputId": "a7032aed-7983-4e6d-fb8b-b99df242896a"
   },
   "outputs": [
    {
     "name": "stdout",
     "output_type": "stream",
     "text": [
      "Note: you may need to restart the kernel to use updated packages.\n"
     ]
    },
    {
     "name": "stderr",
     "output_type": "stream",
     "text": [
      "The system cannot find the file specified.\n"
     ]
    }
   ],
   "source": [
    "pip install -U deepeval langchain langchain-community jq langchain-core 'ollama<0.4.0' langchain-ollama tqdm pandas pydantic"
   ]
  },
  {
   "cell_type": "code",
   "execution_count": 2,
   "metadata": {
    "ExecuteTime": {
     "end_time": "2025-05-01T13:50:59.941009Z",
     "start_time": "2025-05-01T13:50:58.677207Z"
    },
    "id": "i5LQcHCmkQ6p"
   },
   "outputs": [],
   "source": [
    "import os\n",
    "import pandas as pd"
   ]
  },
  {
   "cell_type": "code",
   "execution_count": 3,
   "metadata": {},
   "outputs": [],
   "source": [
    "from pydantic import BaseModel\n",
    "from typing import Optional, List"
   ]
  },
  {
   "cell_type": "code",
   "execution_count": 46,
   "metadata": {},
   "outputs": [],
   "source": [
    "class SyntheticData(BaseModel):\n",
    "\tquery: str\n",
    "\texpected_output: Optional[str]\n",
    "\tcontext: str\n",
    "\tgroundedness_score: Optional[int]\n",
    "\tgroundedness_eval: Optional[str]\n",
    "\trelevance_score: Optional[int]\n",
    "\trelevance_eval: Optional[str]"
   ]
  },
  {
   "cell_type": "code",
   "execution_count": 5,
   "metadata": {
    "id": "Vgq6R3TjWA09"
   },
   "outputs": [],
   "source": [
    "from langchain.schema import Document\n",
    "\n",
    "def metadata_func(record: dict, metadata: dict) -> dict:\n",
    "    \"\"\"\n",
    "    Merges existing metadata with the metadata extracted from the JSON file\n",
    "    under the 'product_details' key.\n",
    "    \"\"\"\n",
    "    metadata[\"product_details\"] = record.get(\"metadata\", {})\n",
    "    return metadata"
   ]
  },
  {
   "cell_type": "code",
   "execution_count": 6,
   "metadata": {
    "id": "_JsP3KKo3f2D"
   },
   "outputs": [],
   "source": [
    "from langchain_community.document_loaders import JSONLoader\n",
    "\n",
    "loader = JSONLoader(\n",
    "    file_path='../product_descriptions.json',\n",
    "    jq_schema=\".[]\",\n",
    "    content_key=\"content\",\n",
    "    metadata_func=metadata_func)\n",
    "\n",
    "docs = loader.load()"
   ]
  },
  {
   "cell_type": "code",
   "execution_count": 7,
   "metadata": {
    "colab": {
     "base_uri": "https://localhost:8080/"
    },
    "id": "Ym1IBPS-VEZN",
    "outputId": "b4882afc-0700-4013-92d7-97a59c69c2b0"
   },
   "outputs": [
    {
     "data": {
      "text/plain": [
       "Document(metadata={'source': 'D:\\\\research\\\\RetailARVA\\\\notebooks\\\\product_descriptions.json', 'seq_num': 1, 'product_details': {'id': 1, 'name': 'The Ordinary Peeling Solution', 'brand': 'The Ordinary', 'category': 'Exfoliating Peel', 'price': 'LKR 6,350.00'}}, page_content='**Introducing The Ordinary Peeling Solution: A High-Strength Exfoliating Peel for Radiant Skin**\\n\\nExperience the power of a clinically formulated exfoliating peel with The Ordinary Peeling Solution, designed to improve skin texture, clear pore congestion, and target uneven skin tone. This high-strength exfoliator is packed with 30% Alpha Hydroxy Acids (AHA) and 2% Beta Hydroxy Acids (BHA), including Glycolic Acid, Salicylic Acid, Lactic Acid, Tartaric Acid, and Citric Acid.\\n\\n**Key Benefits:**\\n\\n* Improves skin texture for a smoother complexion\\n* Clears pore congestion to reduce the appearance of enlarged pores\\n* Targets uneven skin tone to reveal brighter, more radiant skin\\n\\n**How to Use:**\\n\\nFor optimal results, use The Ordinary Peeling Solution once or twice a week on dry skin. Apply evenly using your fingertips on clean and dry skin, avoiding the eye contour area. Leave the solution on for no more than 10 minutes before rinsing thoroughly with water. To minimize potential irritation, patch testing is recommended before first use. After application, be sure to follow up with a broad-spectrum sunscreen to protect your skin from sun sensitivity.\\n\\n**Suitable Skin Types:**\\n\\nThe Ordinary Peeling Solution is suitable for normal, oily, and combination skin types, addressing concerns such as dullness, uneven texture, and enlarged pores. However, it is not recommended for sensitive skin due to its high-strength exfoliating properties.\\n\\n**Important Safety Information:**\\n\\nAs with any exfoliating product, potential side effects may include sun sensitivity, tingling, redness, and irritation. The solution is free from fragrances and parabens, but individuals with sensitivities should still exercise caution. If you experience any adverse reactions, discontinue use and consult a dermatologist.\\n\\n**What Our Customers Say:**\\n\\nDon\\'t just take our word for it - our customers rave about The Ordinary Peeling Solution! With an average rating of 4.8/5 stars, reviewers have reported remarkable results, including \"skin that feels baby-soft after one use\" and a \"brightened complexion overnight.\" Expert dermatology research backs the effectiveness of this product, making it a trusted choice for those seeking a powerful exfoliating solution.\\n\\n**Product Details:**\\n\\n* Price: 6,350.00 LKR\\n* Brand: The Ordinary\\n* Category: Exfoliating Peel\\n* Natural: No\\n* Full Ingredient List: Glycolic Acid, Lactic Acid, Tartaric Acid, Citric Acid, Salicylic Acid, Sodium Hyaluronate Crosspolymer, Tasmannia Lanceolata Fruit/Leaf Extract\\n\\nExperience the transformative power of The Ordinary Peeling Solution and reveal radiant, healthy-looking skin. Order now and discover a brighter, smoother complexion!')"
      ]
     },
     "execution_count": 7,
     "metadata": {},
     "output_type": "execute_result"
    }
   ],
   "source": [
    "docs[0]"
   ]
  },
  {
   "cell_type": "code",
   "execution_count": 8,
   "metadata": {
    "id": "4Zb7InLmYfnb"
   },
   "outputs": [],
   "source": [
    "import os\n",
    "\n",
    "EMBEDDING_MODEL = 'nomic-embed-text:latest'\n",
    "CHAT_MODEL = 'qwen3:14b-q4_K_M'\n",
    "OLLAMA_URL = 'http://209.137.198.202:11434'"
   ]
  },
  {
   "cell_type": "code",
   "execution_count": 9,
   "metadata": {},
   "outputs": [],
   "source": [
    "os.environ[\"LANGSMITH_TRACING\"]='true'\n",
    "os.environ[\"LANGSMITH_ENDPOINT\"]=\"https://api.smith.langchain.com\"\n",
    "os.environ[\"LANGSMITH_API_KEY\"]=\"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\"\n",
    "os.environ[\"LANGSMITH_PROJECT\"]=\"retailarva-rag-eval\""
   ]
  },
  {
   "cell_type": "code",
   "execution_count": 10,
   "metadata": {
    "colab": {
     "base_uri": "https://localhost:8080/"
    },
    "id": "Z5YjI2sSYNiZ",
    "outputId": "3cdb240e-3feb-4b14-ef28-14dea771a0d9"
   },
   "outputs": [],
   "source": [
    "\n",
    "from langchain_ollama import OllamaEmbeddings\n",
    "\n",
    "ollama_embeddings = OllamaEmbeddings(model=EMBEDDING_MODEL, base_url=OLLAMA_URL)"
   ]
  },
  {
   "cell_type": "code",
   "execution_count": 11,
   "metadata": {
    "id": "Ib411ejPY0Jc"
   },
   "outputs": [],
   "source": [
    "# content = [doc.page_content for doc in docs]\n",
    "contents = []\n",
    "embeddings = []\n",
    "synthetic_dataset = []"
   ]
  },
  {
   "cell_type": "code",
   "execution_count": 12,
   "metadata": {},
   "outputs": [],
   "source": [
    "for doc in docs:\n",
    "     contents.append({\n",
    "          \"content\": doc.page_content,\n",
    "          \"name\": doc.metadata['product_details']['name']\n",
    "     })"
   ]
  },
  {
   "cell_type": "code",
   "execution_count": 13,
   "metadata": {},
   "outputs": [
    {
     "name": "stderr",
     "output_type": "stream",
     "text": [
      "Embedding Documents:   0%|          | 0/100 [00:00<?, ?it/s]"
     ]
    },
    {
     "name": "stderr",
     "output_type": "stream",
     "text": [
      "Embedding Documents: 100%|██████████| 100/100 [00:29<00:00,  3.34it/s]"
     ]
    },
    {
     "name": "stdout",
     "output_type": "stream",
     "text": [
      "100 Embeddings generated successfully.\n"
     ]
    },
    {
     "name": "stderr",
     "output_type": "stream",
     "text": [
      "\n"
     ]
    }
   ],
   "source": [
    "from tqdm import tqdm\n",
    "\n",
    "for doc in tqdm(contents, desc=\"Embedding Documents\", total=len(contents)):\n",
    "    embedding = ollama_embeddings.embed_query(doc['content'])\n",
    "    embeddings.append(embedding)\n",
    "\n",
    "print(f\"{len(embeddings)} Embeddings generated successfully.\")"
   ]
  },
  {
   "cell_type": "code",
   "execution_count": 49,
   "metadata": {
    "id": "BXdayWJBZLH5"
   },
   "outputs": [],
   "source": [
    "import random\n",
    "\n",
    "# randomly selecting a chunk of data to act as your focal anchor\n",
    "reference_index = random.randint(0, len(embeddings) - 1)\n",
    "reference_embedding = embeddings[reference_index]\n",
    "context = contents[reference_index]"
   ]
  },
  {
   "cell_type": "code",
   "execution_count": 50,
   "metadata": {
    "colab": {
     "base_uri": "https://localhost:8080/"
    },
    "id": "Sh-bwDtMne3B",
    "outputId": "d8b78c24-5c7a-4edc-b0d6-57f6ba82ba98"
   },
   "outputs": [
    {
     "data": {
      "text/plain": [
       "{'content': '**Introducing Differin Acne Treatment: A Powerful Solution for Clearer Skin**\\n\\nSay goodbye to acne, blackheads, and clogged pores with Differin Acne Treatment, a clinically-proven formula designed to regulate skin cell turnover and reduce inflammation. This effective treatment is specifically formulated for oily, combination, and acne-prone skin types, addressing concerns such as sensitivity, redness, and irritation.\\n\\n**Key Ingredients:**\\n\\nDifferin Acne Treatment features Adapalene as its key ingredient, a derivative of vitamin A that helps to prevent clogged pores and reduce the appearance of acne. With a concentration of 0.1%, this gel is gentle yet effective in controlling breakouts. The full ingredient list includes:\\n\\n* Active: Adapalene 0.1%\\n* Inactive: Carbomer 940, Edetate Disodium, Methylparaben, Poloxamer 182, Propylene Glycol, Purified Water, Sodium Hydroxide\\n\\n**Benefits and Claims:**\\n\\nThis fragrance-free, dye-free, lanolin-free, and sulfate-free treatment offers numerous benefits, including:\\n\\n* Clears and prevents acne by regulating skin cell turnover\\n* Reduces inflammation and prevents new pimples and blackheads\\n* Suitable for daily use, with a gentle and non-irritating formula\\n\\n**Usage and Application:**\\n\\nFor optimal results, apply a thin layer of Differin Acne Treatment once daily after cleansing. Be sure to:\\n\\n* Start with a small amount and use sparingly\\n* Gradually build tolerance to avoid irritation\\n* Avoid sun exposure and use sunscreen during the day\\n* Do not apply more than once daily\\n\\n**Skin Suitability:**\\n\\nDifferin Acne Treatment is designed for oily, combination, and acne-prone skin types, addressing concerns such as:\\n\\n* Acne\\n* Blackheads\\n* Clogged pores\\n* Inflammation\\n* Sensitivity\\n\\nPlease note that this product contains Methylparaben (preservative) and may not be suitable for extremely sensitive skin.\\n\\n**Safety Information:**\\n\\nAs with any skincare treatment, potential side effects may include:\\n\\n* Irritation\\n* Dryness\\n* Redness\\n* Burning\\n* Itching\\n* Worsening of acne initially\\n* Sun sensitivity\\n\\nAdditionally, this product contains rubber as an allergen.\\n\\n**What Our Customers Say:**\\n\\nWith an average rating of 5.0/5 stars, our customers rave about the effectiveness of Differin Acne Treatment:\\n\\n* \"I\\'ve struggled with acne for years, and this is the first treatment that really worked\" - 5.0 stars\\n* \"It\\'s a bit harsh, but it cleared up my acne fast\" - 4.0 stars\\n\\n**Expert Review:**\\n\\nDifferin Gel effectively targets acne by regulating skin cell turnover and controlling inflammation. It is known to be less irritating compared to other retinoids, making it an excellent choice for those seeking a gentle yet effective treatment.\\n\\nTry Differin Acne Treatment today and discover a clearer, healthier complexion. Available at a price of 8,950.00 LKR.',\n",
       " 'name': 'Differin Acne Treatment'}"
      ]
     },
     "execution_count": 50,
     "metadata": {},
     "output_type": "execute_result"
    }
   ],
   "source": [
    "context"
   ]
  },
  {
   "cell_type": "code",
   "execution_count": 51,
   "metadata": {
    "id": "UwDP25dUnyYq"
   },
   "outputs": [],
   "source": [
    "prompt = f\"\"\"I want you act as a copywriter. Based on the given context,\n",
    "which is list of strings, please generate a list of 5 JSON objects\n",
    "with a `input` key. \n",
    "- The `input` should be a question that can be addressed by the given context.\n",
    "- The `input` should Mimic the kind of queries a customer might ask from shop assistant regarding skincare products.\n",
    "\n",
    "context:\n",
    "{context['content']}\"\"\""
   ]
  },
  {
   "cell_type": "code",
   "execution_count": 52,
   "metadata": {},
   "outputs": [],
   "source": [
    "from langchain_ollama import ChatOllama\n",
    "\n",
    "llm = ChatOllama(\n",
    "    base_url=OLLAMA_URL, \n",
    "    model=CHAT_MODEL, \n",
    "    temperature=0.6,\n",
    "    max_tokens=512,\n",
    ")"
   ]
  },
  {
   "cell_type": "code",
   "execution_count": 54,
   "metadata": {
    "id": "V8hp_md5rU0U"
   },
   "outputs": [],
   "source": [
    "query = llm.invoke(prompt)"
   ]
  },
  {
   "cell_type": "code",
   "execution_count": 55,
   "metadata": {
    "colab": {
     "base_uri": "https://localhost:8080/",
     "height": 105
    },
    "id": "UE83vcdQqdHA",
    "outputId": "b98ba33a-a590-41f0-856d-c4e3b8d3070c"
   },
   "outputs": [
    {
     "data": {
      "text/plain": [
       "'<think>\\nOkay, so I need to generate 5 JSON objects based on the given context about Differin Acne Treatment. Each JSON should have an \"input\" key that\\'s a question a customer might ask a shop assistant regarding skincare products. Let me start by reading through the context carefully to understand the key points.\\n\\nThe context mentions Differin\\'s key ingredient is Adapalene 0.1%, which is a vitamin A derivative. It\\'s for oily, combination, and acne-prone skin. Benefits include clearing acne, reducing inflammation, and being gentle. Usage instructions say to apply once daily, start with a small amount, avoid sun exposure, and use sunscreen. It also mentions possible side effects like irritation, dryness, and that it contains Methylparaben and rubber as an allergen. Customer reviews are positive, and the price is 8,950 LKR.\\n\\nNow, thinking about possible customer questions. They might ask about the main ingredient, how it works, suitability for their skin type, how to use it, side effects, and maybe price. Let me make sure each question is specific and relates to the product\\'s features.\\n\\nFirst question: \"What is the main active ingredient in Differin Acne Treatment and how does it help with acne?\" That covers the key ingredient and its function.\\n\\nSecond: \"Is Differin Acne Treatment suitable for sensitive skin?\" Since the context mentions it\\'s suitable for acne-prone skin but note that it contains Methylparaben and may not be suitable for extremely sensitive skin.\\n\\nThird: \"How should I apply Differin Acne Treatment for the best results?\" This relates to the usage instructions.\\n\\nFourth: \"What are the potential side effects of using Differin Acne Treatment?\" The safety info section lists possible side effects.\\n\\nFifth: \"What is the price of Differin Acne Treatment?\" The context ends with the price.\\n\\nI need to make sure each question is phrased naturally, as a customer would ask. Also, check that they are all different and cover various aspects of the product. Let me verify each one against the context to ensure accuracy.\\n</think>\\n\\n[\\n  {\\n    \"input\": \"What is the main active ingredient in Differin Acne Treatment and how does it help with acne?\"\\n  },\\n  {\\n    \"input\": \"Is Differin Acne Treatment suitable for sensitive skin?\"\\n  },\\n  {\\n    \"input\": \"How should I apply Differin Acne Treatment for the best results?\"\\n  },\\n  {\\n    \"input\": \"What are the potential side effects of using Differin Acne Treatment?\"\\n  },\\n  {\\n    \"input\": \"What is the price of Differin Acne Treatment?\"\\n  }\\n]'"
      ]
     },
     "execution_count": 55,
     "metadata": {},
     "output_type": "execute_result"
    }
   ],
   "source": [
    "query.content"
   ]
  },
  {
   "cell_type": "markdown",
   "metadata": {},
   "source": [
    "### if you are using a reasoning model do this"
   ]
  },
  {
   "cell_type": "code",
   "execution_count": 56,
   "metadata": {},
   "outputs": [
    {
     "name": "stdout",
     "output_type": "stream",
     "text": [
      "[{'input': 'What is the main active ingredient in Differin Acne Treatment and how does it help with acne?'}, {'input': 'Is Differin Acne Treatment suitable for sensitive skin?'}, {'input': 'How should I apply Differin Acne Treatment for the best results?'}, {'input': 'What are the potential side effects of using Differin Acne Treatment?'}, {'input': 'What is the price of Differin Acne Treatment?'}]\n"
     ]
    }
   ],
   "source": [
    "import re, json\n",
    "\n",
    "no_think = re.sub(r'<think>.*?</think>', '', query.content, flags=re.DOTALL).strip()\n",
    "\n",
    "# 2. Locate the JSON array\n",
    "match = re.search(r'(\\[\\s*\\{.*\\}\\s*\\])', no_think, flags=re.DOTALL)\n",
    "if not match:\n",
    "    raise ValueError(\"Could not find JSON array in the output\")\n",
    "\n",
    "json_text = match.group(1)\n",
    "\n",
    "# 3. Parse it\n",
    "result = json.loads(json_text)\n",
    "print(result)"
   ]
  },
  {
   "cell_type": "code",
   "execution_count": 57,
   "metadata": {},
   "outputs": [
    {
     "name": "stdout",
     "output_type": "stream",
     "text": [
      "What is the main active ingredient in Differin Acne Treatment and how does it help with acne?\n",
      "Is Differin Acne Treatment suitable for sensitive skin?\n",
      "How should I apply Differin Acne Treatment for the best results?\n",
      "What are the potential side effects of using Differin Acne Treatment?\n",
      "What is the price of Differin Acne Treatment?\n"
     ]
    }
   ],
   "source": [
    "for input in result:\n",
    "     print(input['input'])"
   ]
  },
  {
   "cell_type": "code",
   "execution_count": 58,
   "metadata": {},
   "outputs": [
    {
     "data": {
      "text/plain": [
       "5"
      ]
     },
     "execution_count": 58,
     "metadata": {},
     "output_type": "execute_result"
    }
   ],
   "source": [
    "len(result)"
   ]
  },
  {
   "cell_type": "code",
   "execution_count": 59,
   "metadata": {
    "id": "SUbSH99INOIP"
   },
   "outputs": [],
   "source": [
    "multi_context_template = \"\"\"\n",
    "I want you to rewrite the given `input` so that it requires readers to use information in `Context`\n",
    "1. `Input` should require information from `Context` elements.\n",
    "2. `Rewritten Input` must be concise and fully answerable from `Context`.\n",
    "3. `Rewritten Input` should Mimic the kind of queries a customer might ask from shop assistant regarding skincare products.\n",
    "4. Do not use phrases like 'based on the provided context.'\n",
    "5. `Rewritten Input` should not exceed 30 words.\n",
    "Context: {context}\n",
    "Input: {original_input}\n",
    "Rewritten Input:\n",
    "\"\"\"\n",
    "\n",
    "reasoning_template = \"\"\"\n",
    "I want you to rewrite the given `input` so that it explicitly requests multi-step reasoning.\n",
    "1. `Rewritten Input` should require multiple logical connections or inferences.\n",
    "2. `Rewritten Input` should be concise and understandable.\n",
    "3. `Rewritten Input` should Mimic the kind of queries a customer might ask from shop assistant regarding skincare products.\n",
    "4. Do not use phrases like 'based on the provided context.'\n",
    "5. `Rewritten Input` must be fully answerable from `Context`.\n",
    "6. `Rewritten Input` should not exceed 30 words.\n",
    "Context: {context}\n",
    "Input: {original_input}\n",
    "Rewritten Input:\n",
    "\"\"\"\n",
    "\n",
    "hypothetical_scenario_template = \"\"\"\n",
    "I want you to rewrite the given `input` to incorporate a hypothetical or speculative scenario.\n",
    "1. scenario is a customer asking information about a skincare or asking alternative products/recommendations from a shop assistant.\n",
    "2. `Rewritten Input` should encourage applying knowledge from `Context` to deduce outcomes.\n",
    "3. `Rewritten Input` should be concise and understandable.\n",
    "4. `Rewritten Input` should Mimic the kind of queries a customer might ask from shop assistant regarding skincare products.\n",
    "5. Do not use phrases like 'based on the provided context.'\n",
    "6. `Rewritten Input` must be fully answerable from `Context`.\n",
    "7. `Rewritten Input` should not exceed 30 words.\n",
    "Context: {context}\n",
    "Input: {original_input}\n",
    "Rewritten Input:\n",
    "\"\"\""
   ]
  },
  {
   "cell_type": "code",
   "execution_count": 60,
   "metadata": {
    "id": "vp63z84zx8nq"
   },
   "outputs": [],
   "source": [
    "from langchain_core.prompts import PromptTemplate\n",
    "\n",
    "multi_context_template = PromptTemplate.from_template(multi_context_template)\n",
    "reasoning_template = PromptTemplate.from_template(reasoning_template)\n",
    "hypothetical_scenario_template = PromptTemplate.from_template(hypothetical_scenario_template)"
   ]
  },
  {
   "cell_type": "code",
   "execution_count": 61,
   "metadata": {
    "colab": {
     "base_uri": "https://localhost:8080/"
    },
    "id": "T3EPKzYlyVcd",
    "outputId": "e0e28071-a899-4bc5-b2e8-f20680136821"
   },
   "outputs": [
    {
     "data": {
      "text/plain": [
       "PromptTemplate(input_variables=['context', 'original_input'], input_types={}, partial_variables={}, template=\"\\nI want you to rewrite the given `input` so that it requires readers to use information in `Context`\\n1. `Input` should require information from `Context` elements.\\n2. `Rewritten Input` must be concise and fully answerable from `Context`.\\n3. `Rewritten Input` should Mimic the kind of queries a customer might ask from shop assistant regarding skincare products.\\n4. Do not use phrases like 'based on the provided context.'\\n5. `Rewritten Input` should not exceed 30 words.\\nContext: {context}\\nInput: {original_input}\\nRewritten Input:\\n\")"
      ]
     },
     "execution_count": 61,
     "metadata": {},
     "output_type": "execute_result"
    }
   ],
   "source": [
    "multi_context_template"
   ]
  },
  {
   "cell_type": "code",
   "execution_count": 62,
   "metadata": {
    "id": "G7_Xlj8uqwf1"
   },
   "outputs": [],
   "source": [
    "evolution_templates = [multi_context_template, reasoning_template, hypothetical_scenario_template]\n",
    "# Number of evolution steps to apply\n",
    "num_evolution_steps = 3"
   ]
  },
  {
   "cell_type": "code",
   "execution_count": 63,
   "metadata": {
    "id": "GqXP_9BIw5QU"
   },
   "outputs": [],
   "source": [
    "multi_context_prompt = multi_context_template.format(context=context['content'], original_input=result[0]['input'])\n",
    "reasoning_prompt = reasoning_template.format(context=context['content'], original_input=result[0]['input'])\n",
    "hypothetical_scenario_prompt = hypothetical_scenario_template.format(context=context['content'], original_input=result[0]['input'])"
   ]
  },
  {
   "cell_type": "code",
   "execution_count": 64,
   "metadata": {
    "colab": {
     "base_uri": "https://localhost:8080/",
     "height": 105
    },
    "id": "HBlQZkv-1wLf",
    "outputId": "fd66326d-c6fc-4374-f95e-d83a3d9ee028"
   },
   "outputs": [
    {
     "data": {
      "text/plain": [
       "'\\nI want you to rewrite the given `input` so that it requires readers to use information in `Context`\\n1. `Input` should require information from `Context` elements.\\n2. `Rewritten Input` must be concise and fully answerable from `Context`.\\n3. `Rewritten Input` should Mimic the kind of queries a customer might ask from shop assistant regarding skincare products.\\n4. Do not use phrases like \\'based on the provided context.\\'\\n5. `Rewritten Input` should not exceed 30 words.\\nContext: **Introducing Differin Acne Treatment: A Powerful Solution for Clearer Skin**\\n\\nSay goodbye to acne, blackheads, and clogged pores with Differin Acne Treatment, a clinically-proven formula designed to regulate skin cell turnover and reduce inflammation. This effective treatment is specifically formulated for oily, combination, and acne-prone skin types, addressing concerns such as sensitivity, redness, and irritation.\\n\\n**Key Ingredients:**\\n\\nDifferin Acne Treatment features Adapalene as its key ingredient, a derivative of vitamin A that helps to prevent clogged pores and reduce the appearance of acne. With a concentration of 0.1%, this gel is gentle yet effective in controlling breakouts. The full ingredient list includes:\\n\\n* Active: Adapalene 0.1%\\n* Inactive: Carbomer 940, Edetate Disodium, Methylparaben, Poloxamer 182, Propylene Glycol, Purified Water, Sodium Hydroxide\\n\\n**Benefits and Claims:**\\n\\nThis fragrance-free, dye-free, lanolin-free, and sulfate-free treatment offers numerous benefits, including:\\n\\n* Clears and prevents acne by regulating skin cell turnover\\n* Reduces inflammation and prevents new pimples and blackheads\\n* Suitable for daily use, with a gentle and non-irritating formula\\n\\n**Usage and Application:**\\n\\nFor optimal results, apply a thin layer of Differin Acne Treatment once daily after cleansing. Be sure to:\\n\\n* Start with a small amount and use sparingly\\n* Gradually build tolerance to avoid irritation\\n* Avoid sun exposure and use sunscreen during the day\\n* Do not apply more than once daily\\n\\n**Skin Suitability:**\\n\\nDifferin Acne Treatment is designed for oily, combination, and acne-prone skin types, addressing concerns such as:\\n\\n* Acne\\n* Blackheads\\n* Clogged pores\\n* Inflammation\\n* Sensitivity\\n\\nPlease note that this product contains Methylparaben (preservative) and may not be suitable for extremely sensitive skin.\\n\\n**Safety Information:**\\n\\nAs with any skincare treatment, potential side effects may include:\\n\\n* Irritation\\n* Dryness\\n* Redness\\n* Burning\\n* Itching\\n* Worsening of acne initially\\n* Sun sensitivity\\n\\nAdditionally, this product contains rubber as an allergen.\\n\\n**What Our Customers Say:**\\n\\nWith an average rating of 5.0/5 stars, our customers rave about the effectiveness of Differin Acne Treatment:\\n\\n* \"I\\'ve struggled with acne for years, and this is the first treatment that really worked\" - 5.0 stars\\n* \"It\\'s a bit harsh, but it cleared up my acne fast\" - 4.0 stars\\n\\n**Expert Review:**\\n\\nDifferin Gel effectively targets acne by regulating skin cell turnover and controlling inflammation. It is known to be less irritating compared to other retinoids, making it an excellent choice for those seeking a gentle yet effective treatment.\\n\\nTry Differin Acne Treatment today and discover a clearer, healthier complexion. Available at a price of 8,950.00 LKR.\\nInput: What is the main active ingredient in Differin Acne Treatment and how does it help with acne?\\nRewritten Input:\\n'"
      ]
     },
     "execution_count": 64,
     "metadata": {},
     "output_type": "execute_result"
    }
   ],
   "source": [
    "multi_context_prompt"
   ]
  },
  {
   "cell_type": "code",
   "execution_count": 65,
   "metadata": {
    "id": "KzkiCGx2wnDy"
   },
   "outputs": [],
   "source": [
    "# Function to perform random evolution steps\n",
    "def evolve_query(original_input, context, steps):\n",
    "    current_input = original_input\n",
    "    for _ in range(steps):\n",
    "        # Choose a random (or using custom logic) template from the list\n",
    "        chosen_template = random.choice(evolution_templates)\n",
    "        # Replace the placeholders with the current context and input\n",
    "        evolved_prompt = chosen_template.invoke({\"context\": context['content'], \"original_input\": current_input})\n",
    "        # Update the current input with the \"Rewritten Input\" section\n",
    "        current_input = llm.invoke(evolved_prompt)\n",
    "        # commment out if not using a reasoning model\n",
    "        current_input = re.sub(r'<think>.*?</think>', '', current_input.content, flags=re.DOTALL).strip()\n",
    "    return current_input\n",
    "\n"
   ]
  },
  {
   "cell_type": "code",
   "execution_count": 66,
   "metadata": {},
   "outputs": [],
   "source": [
    "evolved_queries = []"
   ]
  },
  {
   "cell_type": "code",
   "execution_count": 67,
   "metadata": {},
   "outputs": [
    {
     "name": "stdout",
     "output_type": "stream",
     "text": [
      "Original Input: What is the main active ingredient in Differin Acne Treatment and how does it help with acne?\n",
      "Evolved Query: \"I have acne-prone skin. How does Differin's key ingredient help prevent breakouts by regulating skin cell turnover?\"\n",
      "--------------------------------------------------\n",
      "Original Input: Is Differin Acne Treatment suitable for sensitive skin?\n",
      "Evolved Query: \"Can Differin Acne Treatment irritate sensitive skin?\"\n",
      "--------------------------------------------------\n",
      "Original Input: How should I apply Differin Acne Treatment for the best results?\n",
      "Evolved Query: What's the correct way to apply Differin Acne Treatment for best results?\n",
      "--------------------------------------------------\n",
      "Original Input: What are the potential side effects of using Differin Acne Treatment?\n",
      "Evolved Query: What side effects might occur with Differin Acne Treatment, and why does Adapalene cause initial irritation?\n",
      "--------------------------------------------------\n",
      "Original Input: What is the price of Differin Acne Treatment?\n",
      "Evolved Query: What's the cost of Differin Acne Treatment and the strength of its active ingredient?\n",
      "--------------------------------------------------\n"
     ]
    }
   ],
   "source": [
    "for original_input in result:\n",
    "    # Evolve the input by randomly selecting the evolution type\n",
    "    evolved_query = evolve_query(original_input['input'], context, num_evolution_steps)\n",
    "    # evolve_query = re.sub(r'<think>.*?</think>', '', evolve_query.content, flags=re.DOTALL).strip()\n",
    "    print(f\"Original Input: {original_input['input']}\")\n",
    "    print(f\"Evolved Query: {evolved_query}\")\n",
    "    print(\"-\" * 50)\n",
    "    evolved_queries.append(evolved_query)\n",
    "    "
   ]
  },
  {
   "cell_type": "code",
   "execution_count": 68,
   "metadata": {},
   "outputs": [
    {
     "name": "stdout",
     "output_type": "stream",
     "text": [
      "Generated 5 evolved queries.\n"
     ]
    }
   ],
   "source": [
    "print(f\"Generated {len(evolved_queries)} evolved queries.\")"
   ]
  },
  {
   "cell_type": "code",
   "execution_count": 69,
   "metadata": {
    "id": "LU4P5QDt0WcC"
   },
   "outputs": [],
   "source": [
    "expected_output_prompt_template = \"\"\"\n",
    "I want you to generate an answer for the given `input`. This answer has to be factually aligned to the provided context.\n",
    "Ensure the answer resembles a shop assistant tasked with helping a customer with the questions they have regarding skincare products. It should pose additional questions if the details are inadequate or provides an answer when the input is sufficiently detailed.\n",
    "Context: {context}\n",
    "Input: {evolved_query}\n",
    "Answer:\n",
    "\"\"\""
   ]
  },
  {
   "cell_type": "code",
   "execution_count": 70,
   "metadata": {},
   "outputs": [],
   "source": [
    "expected_outputs = []"
   ]
  },
  {
   "cell_type": "code",
   "execution_count": 71,
   "metadata": {},
   "outputs": [
    {
     "name": "stdout",
     "output_type": "stream",
     "text": [
      "Evolved Query: \"I have acne-prone skin. How does Differin's key ingredient help prevent breakouts by regulating skin cell turnover?\"\n",
      "Expected Output: Differin Acne Treatment’s key ingredient, **Adapalene** (a vitamin A derivative), helps prevent breakouts by **regulating skin cell turnover**. Here’s how it works:  \n",
      "- **Accelerates cell turnover**: Adapalene promotes the shedding of dead skin cells, preventing them from clogging pores and reducing the formation of blackheads and whiteheads.  \n",
      "- **Normalizes skin texture**: By encouraging healthy cell renewal, it minimizes the buildup of keratin (a protein that can block pores), which is a common cause of acne.  \n",
      "- **Reduces inflammation**: It also calms inflamed skin, lessening the severity of existing pimples and preventing new ones from forming.  \n",
      "\n",
      "Since it’s a **0.1% concentration retinoid**, it’s gentler than some other retinoids but still effective for acne-prone skin. For best results, start with a small amount, apply it once daily after cleansing, and pair it with sunscreen during the day (as retinoids can increase sun sensitivity).  \n",
      "\n",
      "Would you like advice on how to incorporate this into your routine or address any concerns about potential irritation?\n",
      "--------------------------------------------------\n",
      "Evolved Query: \"Can Differin Acne Treatment irritate sensitive skin?\"\n",
      "Expected Output: Differin Acne Treatment may cause irritation for individuals with **extremely sensitive skin**, as noted in the product's safety information. Common side effects include dryness, redness, and mild burning or itching, particularly during the initial stages of use. While the formula is designed to be gentle and less irritating compared to other retinoids, the presence of **Methylparaben** (a preservative) and **rubber** (an allergen) could potentially trigger reactions in those with heightened sensitivity.  \n",
      "\n",
      "If you have a history of sensitive skin or allergies, I’d recommend consulting a dermatologist before use. Would you like guidance on how to introduce this product gradually to minimize irritation, or are you looking for alternatives suited for extremely sensitive skin?\n",
      "--------------------------------------------------\n",
      "Evolved Query: What's the correct way to apply Differin Acne Treatment for best results?\n",
      "Expected Output: To apply **Differin Acne Treatment** correctly for the best results, follow these steps:  \n",
      "\n",
      "1. **Cleanse your skin** thoroughly with a gentle, non-abrasive cleanser.  \n",
      "2. **Apply a thin, even layer** of the gel to the affected areas (avoiding the eyes and lips) **once daily**, preferably in the evening.  \n",
      "3. **Start slowly**: Use a small amount initially to build your skin’s tolerance and minimize irritation. Gradually increase usage as your skin adjusts.  \n",
      "4. **Avoid overapplication**—using more than the recommended amount may加重 irritation without improving results.  \n",
      "5. **Protect your skin from the sun**: Use a broad-spectrum sunscreen during the day, as the product may increase sun sensitivity.  \n",
      "\n",
      "**Additional tips**:  \n",
      "- If irritation occurs (e.g., dryness, redness), reduce frequency to every other day and reintroduce gradually.  \n",
      "- Always patch-test new products, especially if you have sensitive skin.  \n",
      "\n",
      "Would you like advice on how to handle irritation or combine this with other skincare products?\n",
      "--------------------------------------------------\n",
      "Evolved Query: What side effects might occur with Differin Acne Treatment, and why does Adapalene cause initial irritation?\n",
      "Expected Output: **Answer:**  \n",
      "Differin Acne Treatment may cause temporary side effects such as **irritation, dryness, redness, burning, itching, or a worsening of acne initially**. These reactions are common during the first few weeks of use and are often part of the skin’s adjustment to Adapalene, the active ingredient.  \n",
      "\n",
      "**Why does Adapalene cause initial irritation?**  \n",
      "Adapalene is a retinoid (a derivative of vitamin A) that works by accelerating skin cell turnover and unclogging pores. This process can temporarily increase skin sensitivity, leading to dryness or irritation as the skin adapts. Additionally, retinoids like Adapalene may trigger a \"purging\" phase, where existing acne appears to worsen before improving—this is due to the ingredient pushing trapped debris to the surface.  \n",
      "\n",
      "To minimize irritation, it’s recommended to **start with a small amount**, **gradually increase usage**, and **pair with a gentle moisturizer**. If irritation persists or becomes severe, consult a dermatologist.  \n",
      "\n",
      "Would you like advice on how to manage these side effects or recommendations for complementary products?\n",
      "--------------------------------------------------\n",
      "Evolved Query: What's the cost of Differin Acne Treatment and the strength of its active ingredient?\n",
      "Expected Output: The Differin Acne Treatment is priced at **8,950.00 LKR**. Its active ingredient is **Adapalene at a strength of 0.1%**, which is a clinically-proven concentration to effectively regulate skin cell turnover and reduce acne. Let me know if you'd like further details about its usage or suitability for your skin type!\n",
      "--------------------------------------------------\n"
     ]
    }
   ],
   "source": [
    "for evolved_query in evolved_queries:\n",
    "    expected_output_template = PromptTemplate.from_template(expected_output_prompt_template)\n",
    "    expected_output_prompt = expected_output_template.invoke({\"context\": context['content'], \"evolved_query\": evolved_query})\n",
    "    print(f\"Evolved Query: {evolved_query}\")\n",
    "    expected_output = llm.invoke(expected_output_prompt)\n",
    "    # only if using a reasoning model\n",
    "    expected_output = re.sub(r'<think>.*?</think>', '', expected_output.content, flags=re.DOTALL).strip()\n",
    "    print(f\"Expected Output: {expected_output}\")\n",
    "    print(\"-\" * 50)\n",
    "    expected_outputs.append(expected_output)"
   ]
  },
  {
   "cell_type": "code",
   "execution_count": 38,
   "metadata": {},
   "outputs": [],
   "source": [
    "question_groundedness_critique_prompt = \"\"\"\n",
    "You will be given a context and a question.\n",
    "Your task is to provide a 'total rating' scoring how well one can answer the given question unambiguously with the given context.\n",
    "Give your answer on a scale of 1 to 5, where 1 means that the question is not answerable at all given the context, and 5 means that the question is clearly and unambiguously answerable with the context.\n",
    "\n",
    "Provide your answer as follows:\n",
    "\n",
    "Answer:::\n",
    "Evaluation: (your rationale for the rating, as a text)\n",
    "Total rating: (your rating, as a number between 1 and 5)\n",
    "\n",
    "You MUST provide values for 'Evaluation:' and 'Total rating:' in your answer.\n",
    "\n",
    "Now here are the question and context.\n",
    "\n",
    "Question: {question}\\n\n",
    "Context: {context}\\n\n",
    "Answer::: \"\"\"\n",
    "\n",
    "question_relevance_critique_prompt = \"\"\"\n",
    "You will be given a question.\n",
    "Your task is to provide a 'total rating' representing how useful this question can be to sales assistant .\n",
    "Give your answer on a scale of 1 to 5, where 1 means that the question is not useful at all, and 5 means that the question is extremely useful.\n",
    "\n",
    "Provide your answer as follows:\n",
    "\n",
    "Answer:::\n",
    "Evaluation: (your rationale for the rating, as a text)\n",
    "Total rating: (your rating, as a number between 1 and 5)\n",
    "\n",
    "You MUST provide values for 'Evaluation:' and 'Total rating:' in your answer.\n",
    "\n",
    "Now here is the question.\n",
    "\n",
    "Question: {question}\\n\n",
    "Answer::: \"\"\""
   ]
  },
  {
   "cell_type": "code",
   "execution_count": 39,
   "metadata": {},
   "outputs": [],
   "source": [
    "qa_sets = []"
   ]
  },
  {
   "cell_type": "code",
   "execution_count": 40,
   "metadata": {},
   "outputs": [],
   "source": [
    "for i, evolved_query in enumerate(evolved_queries):\n",
    "     qa_dict = {\n",
    "          \"question\": evolved_query,\n",
    "          \"context\": context['content'],\n",
    "          \"expected_output\": expected_outputs[i]\n",
    "     }\n",
    "     qa_sets.append(qa_dict)"
   ]
  },
  {
   "cell_type": "code",
   "execution_count": 42,
   "metadata": {},
   "outputs": [
    {
     "name": "stdout",
     "output_type": "stream",
     "text": [
      "Generating critique for each QA couple...\n"
     ]
    },
    {
     "name": "stderr",
     "output_type": "stream",
     "text": [
      "100%|██████████| 5/5 [01:17<00:00, 15.52s/it]\n"
     ]
    }
   ],
   "source": [
    "print(\"Generating critique for each QA couple...\")\n",
    "for data in tqdm(qa_sets):\n",
    "     groundedness_critic_template = PromptTemplate.from_template(question_groundedness_critique_prompt)\n",
    "     groundedness_critic_prompt = groundedness_critic_template.invoke({\"context\": data[\"context\"], \"question\": data[\"question\"]})\n",
    "     \n",
    "     relevance_critique_template = PromptTemplate.from_template(question_relevance_critique_prompt)\n",
    "     relevance_critique_prompt = relevance_critique_template.invoke({\"question\": data[\"question\"]})\n",
    "     \n",
    "     groundedness_result = llm.invoke(groundedness_critic_prompt)\n",
    "     relevance_result = llm.invoke(relevance_critique_prompt)\n",
    "     \n",
    "     evaluations = {\n",
    "          \"groundedness\": re.sub(r'<think>.*?</think>', '', groundedness_result.content, flags=re.DOTALL).strip(),\n",
    "          \"relevance\": re.sub(r'<think>.*?</think>', '', relevance_result.content, flags=re.DOTALL).strip()\n",
    "     }\n",
    "     \n",
    "     try:\n",
    "          for criterion, evaluation in evaluations.items():\n",
    "               score, eval = (\n",
    "                    int(evaluation.split(\"Total rating: \")[-1].strip()),\n",
    "                    evaluation.split(\"Total rating: \")[-2].split(\"Evaluation: \")[1],\n",
    "               )\n",
    "               if criterion == \"groundedness\":\n",
    "                    data['groundedness_score'] = score\n",
    "                    data['groundedness_eval'] = eval\n",
    "               else:\n",
    "                    data['relevance_score'] = score\n",
    "                    data['relevance_eval'] = eval\n",
    "     except Exception as e:\n",
    "          continue"
   ]
  },
  {
   "cell_type": "code",
   "execution_count": 43,
   "metadata": {},
   "outputs": [
    {
     "name": "stdout",
     "output_type": "stream",
     "text": [
      "Question: Is this cleanser safe for sensitive skin, considering potential allergens and the need for patch testing?\n",
      "Expected Output: Yes, the Heimish All Clean Balm is **suitable for sensitive skin** and formulated with a **low-irritation formula** to minimize discomfort. However, as noted in the safety information, it **may contain fragrances and parabens**, which are potential allergens for some individuals. To ensure safety, **patch testing is strongly recommended** before full facial use, especially if you have a history of allergies or sensitive skin.  \n",
      "\n",
      "If you’d like, I can help you check the full ingredient list for any specific allergens you’re concerned about or guide you on how to perform a patch test. Would you like that?\n",
      "Groundedness Score: 5\n",
      "Relevance Score: 5\n",
      "--------------------------------------------------\n",
      "Question: Does this balm effectively remove waterproof eye makeup without irritating sensitive skin?\n",
      "Expected Output: Yes, the Heimish All Clean Balm is specifically formulated to effectively remove waterproof eye makeup without causing irritation to sensitive skin. Its low-irritation formula is designed to be gentle, and the product explicitly states \"No eye irritation\" as one of its key benefits. However, as it contains fragrances and parabens (which may be potential allergens for some individuals), we recommend performing a patch test before use to ensure compatibility with your skin. Would you like guidance on how to perform a patch test or any additional tips for using this product?\n",
      "Groundedness Score: 5\n",
      "Relevance Score: 5\n",
      "--------------------------------------------------\n",
      "Question: Is this product safe for sensitive skin considering it contains fragrances and parabens?\n",
      "Expected Output: The Heimish All Clean Balm is formulated with a low-irritation formula and is explicitly labeled as suitable for **sensitive skin**, which suggests it has been tested for mildness. However, as noted in the safety information, it **may contain fragrances and parabens**, which are common allergens. While the product aims to be gentle, individuals with known sensitivities to these ingredients should perform a **patch test** before full use to ensure compatibility.  \n",
      "\n",
      "If you have a history of allergic reactions to fragrances, parabens, or other ingredients listed in the full ingredient list (e.g., citrus oils, lavender, or tea tree oil), I’d recommend consulting a dermatologist or checking the product’s allergen information further. Would you like guidance on how to conduct a patch test or alternatives for fragrance-free/paraben-free options?\n",
      "Groundedness Score: 4\n",
      "Relevance Score: 5\n",
      "--------------------------------------------------\n",
      "Question: What steps should I follow to remove waterproof makeup with this balm on a dry face, especially if I have sensitive skin?\n",
      "Expected Output: To remove waterproof makeup with the Heimish All Clean Balm on a dry face—especially for sensitive skin—follow these steps:  \n",
      "\n",
      "1. **Use a spatula** to scoop a small amount of balm (avoiding direct contact with your fingers to maintain hygiene).  \n",
      "2. **Gently massage** the balm onto your dry face in circular motions, focusing on areas with waterproof makeup (e.g., eyes, lips). The balm’s low-irritation formula is designed to be gentle on sensitive skin.  \n",
      "3. **Rinse thoroughly** with lukewarm water, ensuring all residue is removed.  \n",
      "\n",
      "This method is ideal for sensitive skin, as the product is free from harsh irritants and formulated to be non-irritating. For added safety, always perform a **patch test** before first use, as mentioned in the safety guidelines. Let me know if you’d like tips for specific skin concerns! 😊\n",
      "Groundedness Score: 5\n",
      "Relevance Score: 5\n",
      "--------------------------------------------------\n",
      "Question: Is this product suitable for sensitive skin, and is it vegan-friendly?\n",
      "Expected Output: Yes, the Heimish All Clean Balm is **suitable for sensitive skin** and is **vegan-friendly**, as explicitly stated in the product’s benefits and claims. Its low-irritation formula is designed to be gentle on sensitive skin, and it avoids harsh or drying ingredients.  \n",
      "\n",
      "If you have specific concerns about ingredients (e.g., fragrances or parabens mentioned in the safety information), I’d be happy to clarify further! Would you like guidance on how to use it for your skin type or any other questions? 😊\n",
      "Groundedness Score: 5\n",
      "Relevance Score: 5\n",
      "--------------------------------------------------\n"
     ]
    }
   ],
   "source": [
    "for data in qa_sets:\n",
    "     print(f\"Question: {data['question']}\")\n",
    "     print(f\"Expected Output: {data['expected_output']}\")\n",
    "     print(f\"Groundedness Score: {data['groundedness_score']}\")\n",
    "     print(f\"Relevance Score: {data['relevance_score']}\")\n",
    "     print(\"-\" * 50)"
   ]
  },
  {
   "cell_type": "code",
   "execution_count": 47,
   "metadata": {},
   "outputs": [],
   "source": [
    "synthetic_dataset.append(SyntheticData(\n",
    "     query=data['question'],\n",
    "     expected_output=data['expected_output'],\n",
    "     context=data['context'],\n",
    "     groundedness_score=int(data['groundedness_score']),\n",
    "     groundedness_eval=data['groundedness_eval'],\n",
    "     relevance_score=int(data['relevance_score']),\n",
    "     relevance_eval=data['relevance_eval']\n",
    "))"
   ]
  },
  {
   "cell_type": "code",
   "execution_count": 48,
   "metadata": {},
   "outputs": [
    {
     "data": {
      "text/plain": [
       "1"
      ]
     },
     "execution_count": 48,
     "metadata": {},
     "output_type": "execute_result"
    }
   ],
   "source": [
    "len(synthetic_dataset)"
   ]
  }
 ],
 "metadata": {
  "colab": {
   "provenance": []
  },
  "kernelspec": {
   "display_name": "env",
   "language": "python",
   "name": "python3"
  },
  "language_info": {
   "codemirror_mode": {
    "name": "ipython",
    "version": 3
   },
   "file_extension": ".py",
   "mimetype": "text/x-python",
   "name": "python",
   "nbconvert_exporter": "python",
   "pygments_lexer": "ipython3",
   "version": "3.11.0"
  }
 },
 "nbformat": 4,
 "nbformat_minor": 0
}

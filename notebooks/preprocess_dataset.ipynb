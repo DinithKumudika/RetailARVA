{
 "nbformat": 4,
 "nbformat_minor": 0,
 "metadata": {
  "colab": {
   "provenance": []
  },
  "kernelspec": {
   "name": "python3",
   "display_name": "Python 3 (ipykernel)",
   "language": "python"
  },
  "language_info": {
   "name": "python"
  }
 },
 "cells": [
  {
   "cell_type": "code",
   "source": [
    "# https://arxiv.org/html/2411.10541v1/\n",
    "# https://arxiv.org/pdf/2411.10541"
   ],
   "metadata": {
    "id": "zR3wzJXqbQbs",
    "ExecuteTime": {
     "end_time": "2025-04-15T09:54:23.862730Z",
     "start_time": "2025-04-15T09:54:23.851201Z"
    }
   },
   "outputs": [],
   "execution_count": 1
  },
  {
   "cell_type": "code",
   "metadata": {
    "colab": {
     "base_uri": "https://localhost:8080/"
    },
    "collapsed": true,
    "id": "BuXUxeRRcoIh",
    "outputId": "1271d168-80ed-426d-c574-2805d7947175",
    "ExecuteTime": {
     "end_time": "2025-04-15T09:55:08.886239Z",
     "start_time": "2025-04-15T09:54:26.734244Z"
    }
   },
   "source": [
    "%pip install --upgrade langchain langchain-community langchain-core langchainhub langchain-qdrant langchain-text-splitters langsmith langchain-google-genai pandas"
   ],
   "outputs": [
    {
     "name": "stdout",
     "output_type": "stream",
     "text": [
      "Requirement already satisfied: langchain in c:\\users\\dinit\\documents\\research\\development\\retailarva\\notebooks\\.venv\\lib\\site-packages (0.3.23)\n",
      "Requirement already satisfied: langchain-community in c:\\users\\dinit\\documents\\research\\development\\retailarva\\notebooks\\.venv\\lib\\site-packages (0.3.21)\n",
      "Requirement already satisfied: langchain-core in c:\\users\\dinit\\documents\\research\\development\\retailarva\\notebooks\\.venv\\lib\\site-packages (0.3.51)\n",
      "Requirement already satisfied: langchainhub in c:\\users\\dinit\\documents\\research\\development\\retailarva\\notebooks\\.venv\\lib\\site-packages (0.1.21)\n",
      "Requirement already satisfied: langchain-qdrant in c:\\users\\dinit\\documents\\research\\development\\retailarva\\notebooks\\.venv\\lib\\site-packages (0.2.0)\n",
      "Requirement already satisfied: langchain-text-splitters in c:\\users\\dinit\\documents\\research\\development\\retailarva\\notebooks\\.venv\\lib\\site-packages (0.3.8)\n",
      "Requirement already satisfied: langsmith in c:\\users\\dinit\\documents\\research\\development\\retailarva\\notebooks\\.venv\\lib\\site-packages (0.3.31)\n",
      "Collecting langchain-google-genai\n",
      "  Obtaining dependency information for langchain-google-genai from https://files.pythonhosted.org/packages/59/82/2a5d3fe54df23d6471768b9558f9a73e1a712065e6c20a228aa3254092aa/langchain_google_genai-2.1.2-py3-none-any.whl.metadata\n",
      "  Downloading langchain_google_genai-2.1.2-py3-none-any.whl.metadata (4.7 kB)\n",
      "Collecting pandas\n",
      "  Obtaining dependency information for pandas from https://files.pythonhosted.org/packages/ed/8c/87ddf1fcb55d11f9f847e3c69bb1c6f8e46e2f40ab1a2d2abadb2401b007/pandas-2.2.3-cp311-cp311-win_amd64.whl.metadata\n",
      "  Downloading pandas-2.2.3-cp311-cp311-win_amd64.whl.metadata (19 kB)\n",
      "Requirement already satisfied: pydantic<3.0.0,>=2.7.4 in c:\\users\\dinit\\documents\\research\\development\\retailarva\\notebooks\\.venv\\lib\\site-packages (from langchain) (2.11.3)\n",
      "Requirement already satisfied: SQLAlchemy<3,>=1.4 in c:\\users\\dinit\\documents\\research\\development\\retailarva\\notebooks\\.venv\\lib\\site-packages (from langchain) (2.0.40)\n",
      "Requirement already satisfied: requests<3,>=2 in c:\\users\\dinit\\documents\\research\\development\\retailarva\\notebooks\\.venv\\lib\\site-packages (from langchain) (2.32.3)\n",
      "Requirement already satisfied: PyYAML>=5.3 in c:\\users\\dinit\\documents\\research\\development\\retailarva\\notebooks\\.venv\\lib\\site-packages (from langchain) (6.0.2)\n",
      "Requirement already satisfied: aiohttp<4.0.0,>=3.8.3 in c:\\users\\dinit\\documents\\research\\development\\retailarva\\notebooks\\.venv\\lib\\site-packages (from langchain-community) (3.11.16)\n",
      "Requirement already satisfied: tenacity!=8.4.0,<10,>=8.1.0 in c:\\users\\dinit\\documents\\research\\development\\retailarva\\notebooks\\.venv\\lib\\site-packages (from langchain-community) (9.1.2)\n",
      "Requirement already satisfied: dataclasses-json<0.7,>=0.5.7 in c:\\users\\dinit\\documents\\research\\development\\retailarva\\notebooks\\.venv\\lib\\site-packages (from langchain-community) (0.6.7)\n",
      "Requirement already satisfied: pydantic-settings<3.0.0,>=2.4.0 in c:\\users\\dinit\\documents\\research\\development\\retailarva\\notebooks\\.venv\\lib\\site-packages (from langchain-community) (2.8.1)\n",
      "Requirement already satisfied: httpx-sse<1.0.0,>=0.4.0 in c:\\users\\dinit\\documents\\research\\development\\retailarva\\notebooks\\.venv\\lib\\site-packages (from langchain-community) (0.4.0)\n",
      "Requirement already satisfied: numpy<3,>=1.26.2 in c:\\users\\dinit\\documents\\research\\development\\retailarva\\notebooks\\.venv\\lib\\site-packages (from langchain-community) (2.2.4)\n",
      "Requirement already satisfied: jsonpatch<2.0,>=1.33 in c:\\users\\dinit\\documents\\research\\development\\retailarva\\notebooks\\.venv\\lib\\site-packages (from langchain-core) (1.33)\n",
      "Requirement already satisfied: packaging<25,>=23.2 in c:\\users\\dinit\\documents\\research\\development\\retailarva\\notebooks\\.venv\\lib\\site-packages (from langchain-core) (24.2)\n",
      "Requirement already satisfied: typing-extensions>=4.7 in c:\\users\\dinit\\documents\\research\\development\\retailarva\\notebooks\\.venv\\lib\\site-packages (from langchain-core) (4.13.2)\n",
      "Requirement already satisfied: types-requests<3.0.0.0,>=2.31.0.2 in c:\\users\\dinit\\documents\\research\\development\\retailarva\\notebooks\\.venv\\lib\\site-packages (from langchainhub) (2.32.0.20250328)\n",
      "Requirement already satisfied: qdrant-client<2.0.0,>=1.10.1 in c:\\users\\dinit\\documents\\research\\development\\retailarva\\notebooks\\.venv\\lib\\site-packages (from langchain-qdrant) (1.13.3)\n",
      "Requirement already satisfied: httpx<1,>=0.23.0 in c:\\users\\dinit\\documents\\research\\development\\retailarva\\notebooks\\.venv\\lib\\site-packages (from langsmith) (0.28.1)\n",
      "Requirement already satisfied: orjson<4.0.0,>=3.9.14 in c:\\users\\dinit\\documents\\research\\development\\retailarva\\notebooks\\.venv\\lib\\site-packages (from langsmith) (3.10.16)\n",
      "Requirement already satisfied: requests-toolbelt<2.0.0,>=1.0.0 in c:\\users\\dinit\\documents\\research\\development\\retailarva\\notebooks\\.venv\\lib\\site-packages (from langsmith) (1.0.0)\n",
      "Requirement already satisfied: zstandard<0.24.0,>=0.23.0 in c:\\users\\dinit\\documents\\research\\development\\retailarva\\notebooks\\.venv\\lib\\site-packages (from langsmith) (0.23.0)\n",
      "Collecting filetype<2.0.0,>=1.2.0 (from langchain-google-genai)\n",
      "  Obtaining dependency information for filetype<2.0.0,>=1.2.0 from https://files.pythonhosted.org/packages/18/79/1b8fa1bb3568781e84c9200f951c735f3f157429f44be0495da55894d620/filetype-1.2.0-py2.py3-none-any.whl.metadata\n",
      "  Downloading filetype-1.2.0-py2.py3-none-any.whl.metadata (6.5 kB)\n",
      "Collecting google-ai-generativelanguage<0.7.0,>=0.6.16 (from langchain-google-genai)\n",
      "  Obtaining dependency information for google-ai-generativelanguage<0.7.0,>=0.6.16 from https://files.pythonhosted.org/packages/e7/ae/1c1553aea9209db84ed8c0b2f8d2dd3feb146290fdae5988b54ee71b5c9d/google_ai_generativelanguage-0.6.17-py3-none-any.whl.metadata\n",
      "  Downloading google_ai_generativelanguage-0.6.17-py3-none-any.whl.metadata (9.8 kB)\n",
      "Requirement already satisfied: python-dateutil>=2.8.2 in c:\\users\\dinit\\documents\\research\\development\\retailarva\\notebooks\\.venv\\lib\\site-packages (from pandas) (2.9.0.post0)\n",
      "Collecting pytz>=2020.1 (from pandas)\n",
      "  Obtaining dependency information for pytz>=2020.1 from https://files.pythonhosted.org/packages/81/c4/34e93fe5f5429d7570ec1fa436f1986fb1f00c3e0f43a589fe2bbcd22c3f/pytz-2025.2-py2.py3-none-any.whl.metadata\n",
      "  Downloading pytz-2025.2-py2.py3-none-any.whl.metadata (22 kB)\n",
      "Collecting tzdata>=2022.7 (from pandas)\n",
      "  Obtaining dependency information for tzdata>=2022.7 from https://files.pythonhosted.org/packages/5c/23/c7abc0ca0a1526a0774eca151daeb8de62ec457e77262b66b359c3c7679e/tzdata-2025.2-py2.py3-none-any.whl.metadata\n",
      "  Downloading tzdata-2025.2-py2.py3-none-any.whl.metadata (1.4 kB)\n",
      "Requirement already satisfied: aiohappyeyeballs>=2.3.0 in c:\\users\\dinit\\documents\\research\\development\\retailarva\\notebooks\\.venv\\lib\\site-packages (from aiohttp<4.0.0,>=3.8.3->langchain-community) (2.6.1)\n",
      "Requirement already satisfied: aiosignal>=1.1.2 in c:\\users\\dinit\\documents\\research\\development\\retailarva\\notebooks\\.venv\\lib\\site-packages (from aiohttp<4.0.0,>=3.8.3->langchain-community) (1.3.2)\n",
      "Requirement already satisfied: attrs>=17.3.0 in c:\\users\\dinit\\documents\\research\\development\\retailarva\\notebooks\\.venv\\lib\\site-packages (from aiohttp<4.0.0,>=3.8.3->langchain-community) (25.3.0)\n",
      "Requirement already satisfied: frozenlist>=1.1.1 in c:\\users\\dinit\\documents\\research\\development\\retailarva\\notebooks\\.venv\\lib\\site-packages (from aiohttp<4.0.0,>=3.8.3->langchain-community) (1.5.0)\n",
      "Requirement already satisfied: multidict<7.0,>=4.5 in c:\\users\\dinit\\documents\\research\\development\\retailarva\\notebooks\\.venv\\lib\\site-packages (from aiohttp<4.0.0,>=3.8.3->langchain-community) (6.4.3)\n",
      "Requirement already satisfied: propcache>=0.2.0 in c:\\users\\dinit\\documents\\research\\development\\retailarva\\notebooks\\.venv\\lib\\site-packages (from aiohttp<4.0.0,>=3.8.3->langchain-community) (0.3.1)\n",
      "Requirement already satisfied: yarl<2.0,>=1.17.0 in c:\\users\\dinit\\documents\\research\\development\\retailarva\\notebooks\\.venv\\lib\\site-packages (from aiohttp<4.0.0,>=3.8.3->langchain-community) (1.19.0)\n",
      "Requirement already satisfied: marshmallow<4.0.0,>=3.18.0 in c:\\users\\dinit\\documents\\research\\development\\retailarva\\notebooks\\.venv\\lib\\site-packages (from dataclasses-json<0.7,>=0.5.7->langchain-community) (3.26.1)\n",
      "Requirement already satisfied: typing-inspect<1,>=0.4.0 in c:\\users\\dinit\\documents\\research\\development\\retailarva\\notebooks\\.venv\\lib\\site-packages (from dataclasses-json<0.7,>=0.5.7->langchain-community) (0.9.0)\n",
      "Collecting google-api-core[grpc]!=2.0.*,!=2.1.*,!=2.10.*,!=2.2.*,!=2.3.*,!=2.4.*,!=2.5.*,!=2.6.*,!=2.7.*,!=2.8.*,!=2.9.*,<3.0.0,>=1.34.1 (from google-ai-generativelanguage<0.7.0,>=0.6.16->langchain-google-genai)\n",
      "  Obtaining dependency information for google-api-core[grpc]!=2.0.*,!=2.1.*,!=2.10.*,!=2.2.*,!=2.3.*,!=2.4.*,!=2.5.*,!=2.6.*,!=2.7.*,!=2.8.*,!=2.9.*,<3.0.0,>=1.34.1 from https://files.pythonhosted.org/packages/46/95/f472d85adab6e538da2025dfca9e976a0d125cc0af2301f190e77b76e51c/google_api_core-2.24.2-py3-none-any.whl.metadata\n",
      "  Downloading google_api_core-2.24.2-py3-none-any.whl.metadata (3.0 kB)\n",
      "Collecting google-auth!=2.24.0,!=2.25.0,<3.0.0,>=2.14.1 (from google-ai-generativelanguage<0.7.0,>=0.6.16->langchain-google-genai)\n",
      "  Obtaining dependency information for google-auth!=2.24.0,!=2.25.0,<3.0.0,>=2.14.1 from https://files.pythonhosted.org/packages/ce/12/ad37a1ef86006d0a0117fc06a4a00bd461c775356b534b425f00dde208ea/google_auth-2.39.0-py2.py3-none-any.whl.metadata\n",
      "  Downloading google_auth-2.39.0-py2.py3-none-any.whl.metadata (6.2 kB)\n",
      "Collecting proto-plus<2.0.0,>=1.22.3 (from google-ai-generativelanguage<0.7.0,>=0.6.16->langchain-google-genai)\n",
      "  Obtaining dependency information for proto-plus<2.0.0,>=1.22.3 from https://files.pythonhosted.org/packages/4e/6d/280c4c2ce28b1593a19ad5239c8b826871fc6ec275c21afc8e1820108039/proto_plus-1.26.1-py3-none-any.whl.metadata\n",
      "  Downloading proto_plus-1.26.1-py3-none-any.whl.metadata (2.2 kB)\n",
      "Requirement already satisfied: protobuf!=4.21.0,!=4.21.1,!=4.21.2,!=4.21.3,!=4.21.4,!=4.21.5,<7.0.0,>=3.20.2 in c:\\users\\dinit\\documents\\research\\development\\retailarva\\notebooks\\.venv\\lib\\site-packages (from google-ai-generativelanguage<0.7.0,>=0.6.16->langchain-google-genai) (5.29.4)\n",
      "Requirement already satisfied: anyio in c:\\users\\dinit\\documents\\research\\development\\retailarva\\notebooks\\.venv\\lib\\site-packages (from httpx<1,>=0.23.0->langsmith) (4.9.0)\n",
      "Requirement already satisfied: certifi in c:\\users\\dinit\\documents\\research\\development\\retailarva\\notebooks\\.venv\\lib\\site-packages (from httpx<1,>=0.23.0->langsmith) (2025.1.31)\n",
      "Requirement already satisfied: httpcore==1.* in c:\\users\\dinit\\documents\\research\\development\\retailarva\\notebooks\\.venv\\lib\\site-packages (from httpx<1,>=0.23.0->langsmith) (1.0.8)\n",
      "Requirement already satisfied: idna in c:\\users\\dinit\\documents\\research\\development\\retailarva\\notebooks\\.venv\\lib\\site-packages (from httpx<1,>=0.23.0->langsmith) (3.10)\n",
      "Requirement already satisfied: h11<0.15,>=0.13 in c:\\users\\dinit\\documents\\research\\development\\retailarva\\notebooks\\.venv\\lib\\site-packages (from httpcore==1.*->httpx<1,>=0.23.0->langsmith) (0.14.0)\n",
      "Requirement already satisfied: jsonpointer>=1.9 in c:\\users\\dinit\\documents\\research\\development\\retailarva\\notebooks\\.venv\\lib\\site-packages (from jsonpatch<2.0,>=1.33->langchain-core) (3.0.0)\n",
      "Requirement already satisfied: annotated-types>=0.6.0 in c:\\users\\dinit\\documents\\research\\development\\retailarva\\notebooks\\.venv\\lib\\site-packages (from pydantic<3.0.0,>=2.7.4->langchain) (0.7.0)\n",
      "Requirement already satisfied: pydantic-core==2.33.1 in c:\\users\\dinit\\documents\\research\\development\\retailarva\\notebooks\\.venv\\lib\\site-packages (from pydantic<3.0.0,>=2.7.4->langchain) (2.33.1)\n",
      "Requirement already satisfied: typing-inspection>=0.4.0 in c:\\users\\dinit\\documents\\research\\development\\retailarva\\notebooks\\.venv\\lib\\site-packages (from pydantic<3.0.0,>=2.7.4->langchain) (0.4.0)\n",
      "Requirement already satisfied: python-dotenv>=0.21.0 in c:\\users\\dinit\\documents\\research\\development\\retailarva\\notebooks\\.venv\\lib\\site-packages (from pydantic-settings<3.0.0,>=2.4.0->langchain-community) (1.1.0)\n",
      "Requirement already satisfied: six>=1.5 in c:\\users\\dinit\\documents\\research\\development\\retailarva\\notebooks\\.venv\\lib\\site-packages (from python-dateutil>=2.8.2->pandas) (1.17.0)\n",
      "Requirement already satisfied: grpcio>=1.41.0 in c:\\users\\dinit\\documents\\research\\development\\retailarva\\notebooks\\.venv\\lib\\site-packages (from qdrant-client<2.0.0,>=1.10.1->langchain-qdrant) (1.71.0)\n",
      "Requirement already satisfied: grpcio-tools>=1.41.0 in c:\\users\\dinit\\documents\\research\\development\\retailarva\\notebooks\\.venv\\lib\\site-packages (from qdrant-client<2.0.0,>=1.10.1->langchain-qdrant) (1.71.0)\n",
      "Requirement already satisfied: portalocker<3.0.0,>=2.7.0 in c:\\users\\dinit\\documents\\research\\development\\retailarva\\notebooks\\.venv\\lib\\site-packages (from qdrant-client<2.0.0,>=1.10.1->langchain-qdrant) (2.10.1)\n",
      "Requirement already satisfied: urllib3<3,>=1.26.14 in c:\\users\\dinit\\documents\\research\\development\\retailarva\\notebooks\\.venv\\lib\\site-packages (from qdrant-client<2.0.0,>=1.10.1->langchain-qdrant) (2.4.0)\n",
      "Requirement already satisfied: charset-normalizer<4,>=2 in c:\\users\\dinit\\documents\\research\\development\\retailarva\\notebooks\\.venv\\lib\\site-packages (from requests<3,>=2->langchain) (3.4.1)\n",
      "Requirement already satisfied: greenlet>=1 in c:\\users\\dinit\\documents\\research\\development\\retailarva\\notebooks\\.venv\\lib\\site-packages (from SQLAlchemy<3,>=1.4->langchain) (3.1.1)\n",
      "Collecting googleapis-common-protos<2.0.0,>=1.56.2 (from google-api-core[grpc]!=2.0.*,!=2.1.*,!=2.10.*,!=2.2.*,!=2.3.*,!=2.4.*,!=2.5.*,!=2.6.*,!=2.7.*,!=2.8.*,!=2.9.*,<3.0.0,>=1.34.1->google-ai-generativelanguage<0.7.0,>=0.6.16->langchain-google-genai)\n",
      "  Obtaining dependency information for googleapis-common-protos<2.0.0,>=1.56.2 from https://files.pythonhosted.org/packages/86/f1/62a193f0227cf15a920390abe675f386dec35f7ae3ffe6da582d3ade42c7/googleapis_common_protos-1.70.0-py3-none-any.whl.metadata\n",
      "  Downloading googleapis_common_protos-1.70.0-py3-none-any.whl.metadata (9.3 kB)\n",
      "Collecting grpcio-status<2.0.dev0,>=1.33.2 (from google-api-core[grpc]!=2.0.*,!=2.1.*,!=2.10.*,!=2.2.*,!=2.3.*,!=2.4.*,!=2.5.*,!=2.6.*,!=2.7.*,!=2.8.*,!=2.9.*,<3.0.0,>=1.34.1->google-ai-generativelanguage<0.7.0,>=0.6.16->langchain-google-genai)\n",
      "  Obtaining dependency information for grpcio-status<2.0.dev0,>=1.33.2 from https://files.pythonhosted.org/packages/ad/d6/31fbc43ff097d8c4c9fc3df741431b8018f67bf8dfbe6553a555f6e5f675/grpcio_status-1.71.0-py3-none-any.whl.metadata\n",
      "  Downloading grpcio_status-1.71.0-py3-none-any.whl.metadata (1.1 kB)\n",
      "Collecting cachetools<6.0,>=2.0.0 (from google-auth!=2.24.0,!=2.25.0,<3.0.0,>=2.14.1->google-ai-generativelanguage<0.7.0,>=0.6.16->langchain-google-genai)\n",
      "  Obtaining dependency information for cachetools<6.0,>=2.0.0 from https://files.pythonhosted.org/packages/72/76/20fa66124dbe6be5cafeb312ece67de6b61dd91a0247d1ea13db4ebb33c2/cachetools-5.5.2-py3-none-any.whl.metadata\n",
      "  Downloading cachetools-5.5.2-py3-none-any.whl.metadata (5.4 kB)\n",
      "Collecting pyasn1-modules>=0.2.1 (from google-auth!=2.24.0,!=2.25.0,<3.0.0,>=2.14.1->google-ai-generativelanguage<0.7.0,>=0.6.16->langchain-google-genai)\n",
      "  Obtaining dependency information for pyasn1-modules>=0.2.1 from https://files.pythonhosted.org/packages/47/8d/d529b5d697919ba8c11ad626e835d4039be708a35b0d22de83a269a6682c/pyasn1_modules-0.4.2-py3-none-any.whl.metadata\n",
      "  Downloading pyasn1_modules-0.4.2-py3-none-any.whl.metadata (3.5 kB)\n",
      "Collecting rsa<5,>=3.1.4 (from google-auth!=2.24.0,!=2.25.0,<3.0.0,>=2.14.1->google-ai-generativelanguage<0.7.0,>=0.6.16->langchain-google-genai)\n",
      "  Obtaining dependency information for rsa<5,>=3.1.4 from https://files.pythonhosted.org/packages/49/97/fa78e3d2f65c02c8e1268b9aba606569fe97f6c8f7c2d74394553347c145/rsa-4.9-py3-none-any.whl.metadata\n",
      "  Downloading rsa-4.9-py3-none-any.whl.metadata (4.2 kB)\n",
      "Requirement already satisfied: setuptools in c:\\users\\dinit\\documents\\research\\development\\retailarva\\notebooks\\.venv\\lib\\site-packages (from grpcio-tools>=1.41.0->qdrant-client<2.0.0,>=1.10.1->langchain-qdrant) (68.2.0)\n",
      "Requirement already satisfied: h2<5,>=3 in c:\\users\\dinit\\documents\\research\\development\\retailarva\\notebooks\\.venv\\lib\\site-packages (from httpx<1,>=0.23.0->langsmith) (4.2.0)\n",
      "Requirement already satisfied: pywin32>=226 in c:\\users\\dinit\\documents\\research\\development\\retailarva\\notebooks\\.venv\\lib\\site-packages (from portalocker<3.0.0,>=2.7.0->qdrant-client<2.0.0,>=1.10.1->langchain-qdrant) (310)\n",
      "Requirement already satisfied: mypy-extensions>=0.3.0 in c:\\users\\dinit\\documents\\research\\development\\retailarva\\notebooks\\.venv\\lib\\site-packages (from typing-inspect<1,>=0.4.0->dataclasses-json<0.7,>=0.5.7->langchain-community) (1.0.0)\n",
      "Requirement already satisfied: sniffio>=1.1 in c:\\users\\dinit\\documents\\research\\development\\retailarva\\notebooks\\.venv\\lib\\site-packages (from anyio->httpx<1,>=0.23.0->langsmith) (1.3.1)\n",
      "Requirement already satisfied: hyperframe<7,>=6.1 in c:\\users\\dinit\\documents\\research\\development\\retailarva\\notebooks\\.venv\\lib\\site-packages (from h2<5,>=3->httpx<1,>=0.23.0->langsmith) (6.1.0)\n",
      "Requirement already satisfied: hpack<5,>=4.1 in c:\\users\\dinit\\documents\\research\\development\\retailarva\\notebooks\\.venv\\lib\\site-packages (from h2<5,>=3->httpx<1,>=0.23.0->langsmith) (4.1.0)\n",
      "Collecting pyasn1<0.7.0,>=0.6.1 (from pyasn1-modules>=0.2.1->google-auth!=2.24.0,!=2.25.0,<3.0.0,>=2.14.1->google-ai-generativelanguage<0.7.0,>=0.6.16->langchain-google-genai)\n",
      "  Obtaining dependency information for pyasn1<0.7.0,>=0.6.1 from https://files.pythonhosted.org/packages/c8/f1/d6a797abb14f6283c0ddff96bbdd46937f64122b8c925cab503dd37f8214/pyasn1-0.6.1-py3-none-any.whl.metadata\n",
      "  Downloading pyasn1-0.6.1-py3-none-any.whl.metadata (8.4 kB)\n",
      "Downloading langchain_google_genai-2.1.2-py3-none-any.whl (42 kB)\n",
      "   ---------------------------------------- 0.0/42.0 kB ? eta -:--:--\n",
      "   --------- ------------------------------ 10.2/42.0 kB ? eta -:--:--\n",
      "   ---------------------------------------- 42.0/42.0 kB 676.4 kB/s eta 0:00:00\n",
      "Downloading pandas-2.2.3-cp311-cp311-win_amd64.whl (11.6 MB)\n",
      "   ---------------------------------------- 0.0/11.6 MB ? eta -:--:--\n",
      "   ---------------------------------------- 0.0/11.6 MB ? eta -:--:--\n",
      "   ---------------------------------------- 0.0/11.6 MB 487.6 kB/s eta 0:00:24\n",
      "   ---------------------------------------- 0.1/11.6 MB 651.6 kB/s eta 0:00:18\n",
      "   ---------------------------------------- 0.1/11.6 MB 595.3 kB/s eta 0:00:20\n",
      "   ---------------------------------------- 0.1/11.6 MB 654.9 kB/s eta 0:00:18\n",
      "    --------------------------------------- 0.2/11.6 MB 614.4 kB/s eta 0:00:19\n",
      "    --------------------------------------- 0.2/11.6 MB 586.1 kB/s eta 0:00:20\n",
      "    --------------------------------------- 0.2/11.6 MB 565.6 kB/s eta 0:00:21\n",
      "    --------------------------------------- 0.3/11.6 MB 603.8 kB/s eta 0:00:19\n",
      "    --------------------------------------- 0.3/11.6 MB 603.8 kB/s eta 0:00:19\n",
      "    --------------------------------------- 0.3/11.6 MB 603.8 kB/s eta 0:00:19\n",
      "    --------------------------------------- 0.3/11.6 MB 603.8 kB/s eta 0:00:19\n",
      "    --------------------------------------- 0.3/11.6 MB 603.8 kB/s eta 0:00:19\n",
      "    --------------------------------------- 0.3/11.6 MB 603.8 kB/s eta 0:00:19\n",
      "   - -------------------------------------- 0.3/11.6 MB 452.0 kB/s eta 0:00:26\n",
      "   - -------------------------------------- 0.3/11.6 MB 427.3 kB/s eta 0:00:27\n",
      "   - -------------------------------------- 0.3/11.6 MB 427.8 kB/s eta 0:00:27\n",
      "   - -------------------------------------- 0.4/11.6 MB 432.3 kB/s eta 0:00:27\n",
      "   - -------------------------------------- 0.4/11.6 MB 452.5 kB/s eta 0:00:25\n",
      "   - -------------------------------------- 0.5/11.6 MB 477.6 kB/s eta 0:00:24\n",
      "   - -------------------------------------- 0.5/11.6 MB 493.8 kB/s eta 0:00:23\n",
      "   - -------------------------------------- 0.5/11.6 MB 509.4 kB/s eta 0:00:22\n",
      "   - -------------------------------------- 0.6/11.6 MB 518.4 kB/s eta 0:00:22\n",
      "   -- ------------------------------------- 0.6/11.6 MB 525.8 kB/s eta 0:00:21\n",
      "   -- ------------------------------------- 0.6/11.6 MB 548.7 kB/s eta 0:00:20\n",
      "   -- ------------------------------------- 0.7/11.6 MB 560.3 kB/s eta 0:00:20\n",
      "   -- ------------------------------------- 0.7/11.6 MB 555.5 kB/s eta 0:00:20\n",
      "   -- ------------------------------------- 0.7/11.6 MB 551.1 kB/s eta 0:00:20\n",
      "   -- ------------------------------------- 0.8/11.6 MB 571.4 kB/s eta 0:00:19\n",
      "   -- ------------------------------------- 0.8/11.6 MB 580.9 kB/s eta 0:00:19\n",
      "   --- ------------------------------------ 0.9/11.6 MB 612.1 kB/s eta 0:00:18\n",
      "   --- ------------------------------------ 0.9/11.6 MB 613.4 kB/s eta 0:00:18\n",
      "   --- ------------------------------------ 1.0/11.6 MB 634.9 kB/s eta 0:00:17\n",
      "   --- ------------------------------------ 1.0/11.6 MB 635.5 kB/s eta 0:00:17\n",
      "   --- ------------------------------------ 1.1/11.6 MB 655.1 kB/s eta 0:00:17\n",
      "   --- ------------------------------------ 1.1/11.6 MB 673.6 kB/s eta 0:00:16\n",
      "   ---- ----------------------------------- 1.2/11.6 MB 703.1 kB/s eta 0:00:15\n",
      "   ---- ----------------------------------- 1.2/11.6 MB 708.0 kB/s eta 0:00:15\n",
      "   ---- ----------------------------------- 1.3/11.6 MB 728.6 kB/s eta 0:00:15\n",
      "   ---- ----------------------------------- 1.4/11.6 MB 748.7 kB/s eta 0:00:14\n",
      "   ----- ---------------------------------- 1.5/11.6 MB 768.9 kB/s eta 0:00:14\n",
      "   ----- ---------------------------------- 1.5/11.6 MB 787.3 kB/s eta 0:00:13\n",
      "   ----- ---------------------------------- 1.6/11.6 MB 789.3 kB/s eta 0:00:13\n",
      "   ----- ---------------------------------- 1.7/11.6 MB 821.4 kB/s eta 0:00:13\n",
      "   ------ --------------------------------- 1.8/11.6 MB 846.0 kB/s eta 0:00:12\n",
      "   ------ --------------------------------- 1.8/11.6 MB 852.9 kB/s eta 0:00:12\n",
      "   ------ --------------------------------- 1.8/11.6 MB 856.1 kB/s eta 0:00:12\n",
      "   ------ --------------------------------- 1.9/11.6 MB 845.6 kB/s eta 0:00:12\n",
      "   ------ --------------------------------- 1.9/11.6 MB 854.1 kB/s eta 0:00:12\n",
      "   ------ --------------------------------- 2.0/11.6 MB 872.1 kB/s eta 0:00:11\n",
      "   ------- -------------------------------- 2.1/11.6 MB 880.8 kB/s eta 0:00:11\n",
      "   ------- -------------------------------- 2.2/11.6 MB 901.9 kB/s eta 0:00:11\n",
      "   ------- -------------------------------- 2.3/11.6 MB 922.2 kB/s eta 0:00:11\n",
      "   -------- ------------------------------- 2.3/11.6 MB 925.7 kB/s eta 0:00:11\n",
      "   -------- ------------------------------- 2.4/11.6 MB 946.9 kB/s eta 0:00:10\n",
      "   -------- ------------------------------- 2.5/11.6 MB 965.1 kB/s eta 0:00:10\n",
      "   --------- ------------------------------ 2.6/11.6 MB 992.6 kB/s eta 0:00:10\n",
      "   --------- ------------------------------ 2.7/11.6 MB 1.0 MB/s eta 0:00:09\n",
      "   --------- ------------------------------ 2.8/11.6 MB 1.0 MB/s eta 0:00:09\n",
      "   ---------- ----------------------------- 2.9/11.6 MB 1.0 MB/s eta 0:00:09\n",
      "   ---------- ----------------------------- 3.1/11.6 MB 1.1 MB/s eta 0:00:08\n",
      "   ---------- ----------------------------- 3.2/11.6 MB 1.1 MB/s eta 0:00:08\n",
      "   ----------- ---------------------------- 3.2/11.6 MB 1.1 MB/s eta 0:00:08\n",
      "   ----------- ---------------------------- 3.3/11.6 MB 1.1 MB/s eta 0:00:08\n",
      "   ----------- ---------------------------- 3.4/11.6 MB 1.1 MB/s eta 0:00:08\n",
      "   ------------ --------------------------- 3.5/11.6 MB 1.1 MB/s eta 0:00:08\n",
      "   ------------ --------------------------- 3.6/11.6 MB 1.2 MB/s eta 0:00:07\n",
      "   ------------ --------------------------- 3.7/11.6 MB 1.2 MB/s eta 0:00:07\n",
      "   ------------- -------------------------- 3.8/11.6 MB 1.2 MB/s eta 0:00:07\n",
      "   ------------- -------------------------- 3.9/11.6 MB 1.2 MB/s eta 0:00:07\n",
      "   ------------- -------------------------- 4.0/11.6 MB 1.2 MB/s eta 0:00:07\n",
      "   -------------- ------------------------- 4.1/11.6 MB 1.2 MB/s eta 0:00:07\n",
      "   -------------- ------------------------- 4.2/11.6 MB 1.2 MB/s eta 0:00:07\n",
      "   -------------- ------------------------- 4.3/11.6 MB 1.3 MB/s eta 0:00:06\n",
      "   --------------- ------------------------ 4.4/11.6 MB 1.3 MB/s eta 0:00:06\n",
      "   --------------- ------------------------ 4.5/11.6 MB 1.3 MB/s eta 0:00:06\n",
      "   --------------- ------------------------ 4.6/11.6 MB 1.3 MB/s eta 0:00:06\n",
      "   ---------------- ----------------------- 4.7/11.6 MB 1.3 MB/s eta 0:00:06\n",
      "   ---------------- ----------------------- 4.7/11.6 MB 1.3 MB/s eta 0:00:06\n",
      "   ---------------- ----------------------- 4.7/11.6 MB 1.3 MB/s eta 0:00:06\n",
      "   ---------------- ----------------------- 4.7/11.6 MB 1.3 MB/s eta 0:00:06\n",
      "   ---------------- ----------------------- 4.7/11.6 MB 1.3 MB/s eta 0:00:06\n",
      "   ---------------- ----------------------- 4.7/11.6 MB 1.2 MB/s eta 0:00:06\n",
      "   ---------------- ----------------------- 4.9/11.6 MB 1.3 MB/s eta 0:00:06\n",
      "   ----------------- ---------------------- 5.0/11.6 MB 1.3 MB/s eta 0:00:06\n",
      "   ----------------- ---------------------- 5.1/11.6 MB 1.3 MB/s eta 0:00:06\n",
      "   ----------------- ---------------------- 5.2/11.6 MB 1.3 MB/s eta 0:00:06\n",
      "   ------------------ --------------------- 5.3/11.6 MB 1.3 MB/s eta 0:00:05\n",
      "   ------------------ --------------------- 5.3/11.6 MB 1.3 MB/s eta 0:00:05\n",
      "   ------------------ --------------------- 5.4/11.6 MB 1.3 MB/s eta 0:00:05\n",
      "   ------------------- -------------------- 5.5/11.6 MB 1.3 MB/s eta 0:00:05\n",
      "   ------------------- -------------------- 5.6/11.6 MB 1.3 MB/s eta 0:00:05\n",
      "   ------------------- -------------------- 5.6/11.6 MB 1.3 MB/s eta 0:00:05\n",
      "   ------------------- -------------------- 5.6/11.6 MB 1.3 MB/s eta 0:00:05\n",
      "   ------------------- -------------------- 5.6/11.6 MB 1.3 MB/s eta 0:00:05\n",
      "   ------------------- -------------------- 5.6/11.6 MB 1.3 MB/s eta 0:00:05\n",
      "   ------------------- -------------------- 5.7/11.6 MB 1.3 MB/s eta 0:00:05\n",
      "   -------------------- ------------------- 5.9/11.6 MB 1.3 MB/s eta 0:00:05\n",
      "   -------------------- ------------------- 6.0/11.6 MB 1.3 MB/s eta 0:00:05\n",
      "   -------------------- ------------------- 6.0/11.6 MB 1.3 MB/s eta 0:00:05\n",
      "   --------------------- ------------------ 6.1/11.6 MB 1.3 MB/s eta 0:00:05\n",
      "   --------------------- ------------------ 6.2/11.6 MB 1.3 MB/s eta 0:00:05\n",
      "   --------------------- ------------------ 6.3/11.6 MB 1.3 MB/s eta 0:00:05\n",
      "   --------------------- ------------------ 6.3/11.6 MB 1.3 MB/s eta 0:00:05\n",
      "   --------------------- ------------------ 6.3/11.6 MB 1.3 MB/s eta 0:00:05\n",
      "   --------------------- ------------------ 6.4/11.6 MB 1.3 MB/s eta 0:00:05\n",
      "   ---------------------- ----------------- 6.4/11.6 MB 1.3 MB/s eta 0:00:05\n",
      "   ---------------------- ----------------- 6.5/11.6 MB 1.3 MB/s eta 0:00:04\n",
      "   ---------------------- ----------------- 6.5/11.6 MB 1.3 MB/s eta 0:00:04\n",
      "   ---------------------- ----------------- 6.6/11.6 MB 1.3 MB/s eta 0:00:04\n",
      "   ----------------------- ---------------- 6.7/11.6 MB 1.3 MB/s eta 0:00:04\n",
      "   ----------------------- ---------------- 6.9/11.6 MB 1.3 MB/s eta 0:00:04\n",
      "   ------------------------ --------------- 7.0/11.6 MB 1.3 MB/s eta 0:00:04\n",
      "   ------------------------ --------------- 7.2/11.6 MB 1.3 MB/s eta 0:00:04\n",
      "   ------------------------- -------------- 7.3/11.6 MB 1.4 MB/s eta 0:00:04\n",
      "   ------------------------- -------------- 7.4/11.6 MB 1.4 MB/s eta 0:00:04\n",
      "   -------------------------- ------------- 7.6/11.6 MB 1.4 MB/s eta 0:00:03\n",
      "   -------------------------- ------------- 7.7/11.6 MB 1.4 MB/s eta 0:00:03\n",
      "   -------------------------- ------------- 7.8/11.6 MB 1.4 MB/s eta 0:00:03\n",
      "   --------------------------- ------------ 7.9/11.6 MB 1.4 MB/s eta 0:00:03\n",
      "   --------------------------- ------------ 8.0/11.6 MB 1.4 MB/s eta 0:00:03\n",
      "   ---------------------------- ----------- 8.2/11.6 MB 1.4 MB/s eta 0:00:03\n",
      "   ---------------------------- ----------- 8.3/11.6 MB 1.4 MB/s eta 0:00:03\n",
      "   ---------------------------- ----------- 8.3/11.6 MB 1.4 MB/s eta 0:00:03\n",
      "   ---------------------------- ----------- 8.4/11.6 MB 1.4 MB/s eta 0:00:03\n",
      "   ---------------------------- ----------- 8.4/11.6 MB 1.4 MB/s eta 0:00:03\n",
      "   ---------------------------- ----------- 8.4/11.6 MB 1.4 MB/s eta 0:00:03\n",
      "   ---------------------------- ----------- 8.4/11.6 MB 1.4 MB/s eta 0:00:03\n",
      "   ---------------------------- ----------- 8.4/11.6 MB 1.4 MB/s eta 0:00:03\n",
      "   ---------------------------- ----------- 8.4/11.6 MB 1.4 MB/s eta 0:00:03\n",
      "   ----------------------------- ---------- 8.4/11.6 MB 1.4 MB/s eta 0:00:03\n",
      "   ----------------------------- ---------- 8.6/11.6 MB 1.4 MB/s eta 0:00:03\n",
      "   ----------------------------- ---------- 8.7/11.6 MB 1.4 MB/s eta 0:00:03\n",
      "   ------------------------------ --------- 8.8/11.6 MB 1.4 MB/s eta 0:00:02\n",
      "   ------------------------------ --------- 8.9/11.6 MB 1.4 MB/s eta 0:00:02\n",
      "   ------------------------------- -------- 9.1/11.6 MB 1.4 MB/s eta 0:00:02\n",
      "   ------------------------------- -------- 9.1/11.6 MB 1.4 MB/s eta 0:00:02\n",
      "   -------------------------------- ------- 9.3/11.6 MB 1.5 MB/s eta 0:00:02\n",
      "   -------------------------------- ------- 9.5/11.6 MB 1.5 MB/s eta 0:00:02\n",
      "   --------------------------------- ------ 9.6/11.6 MB 1.5 MB/s eta 0:00:02\n",
      "   --------------------------------- ------ 9.8/11.6 MB 1.5 MB/s eta 0:00:02\n",
      "   ---------------------------------- ----- 9.9/11.6 MB 1.5 MB/s eta 0:00:02\n",
      "   ---------------------------------- ----- 10.0/11.6 MB 1.5 MB/s eta 0:00:02\n",
      "   ----------------------------------- ---- 10.2/11.6 MB 1.5 MB/s eta 0:00:01\n",
      "   ----------------------------------- ---- 10.3/11.6 MB 1.5 MB/s eta 0:00:01\n",
      "   ----------------------------------- ---- 10.4/11.6 MB 1.6 MB/s eta 0:00:01\n",
      "   ------------------------------------ --- 10.6/11.6 MB 1.7 MB/s eta 0:00:01\n",
      "   ------------------------------------- -- 10.8/11.6 MB 1.8 MB/s eta 0:00:01\n",
      "   ------------------------------------- -- 10.9/11.6 MB 1.8 MB/s eta 0:00:01\n",
      "   -------------------------------------- - 11.0/11.6 MB 1.8 MB/s eta 0:00:01\n",
      "   -------------------------------------- - 11.2/11.6 MB 1.8 MB/s eta 0:00:01\n",
      "   -------------------------------------- - 11.3/11.6 MB 1.9 MB/s eta 0:00:01\n",
      "   ---------------------------------------  11.4/11.6 MB 1.9 MB/s eta 0:00:01\n",
      "   ---------------------------------------  11.5/11.6 MB 1.9 MB/s eta 0:00:01\n",
      "   ---------------------------------------  11.6/11.6 MB 1.9 MB/s eta 0:00:01\n",
      "   ---------------------------------------- 11.6/11.6 MB 1.9 MB/s eta 0:00:00\n",
      "Downloading filetype-1.2.0-py2.py3-none-any.whl (19 kB)\n",
      "Downloading google_ai_generativelanguage-0.6.17-py3-none-any.whl (1.4 MB)\n",
      "   ---------------------------------------- 0.0/1.4 MB ? eta -:--:--\n",
      "   -- ------------------------------------- 0.1/1.4 MB 4.1 MB/s eta 0:00:01\n",
      "   ----- ---------------------------------- 0.2/1.4 MB 3.0 MB/s eta 0:00:01\n",
      "   --------- ------------------------------ 0.3/1.4 MB 2.9 MB/s eta 0:00:01\n",
      "   ------------ --------------------------- 0.4/1.4 MB 2.9 MB/s eta 0:00:01\n",
      "   --------------- ------------------------ 0.5/1.4 MB 2.6 MB/s eta 0:00:01\n",
      "   ------------------- -------------------- 0.6/1.4 MB 2.5 MB/s eta 0:00:01\n",
      "   ---------------------- ----------------- 0.8/1.4 MB 2.6 MB/s eta 0:00:01\n",
      "   ------------------------- -------------- 0.9/1.4 MB 2.5 MB/s eta 0:00:01\n",
      "   ---------------------------- ----------- 1.0/1.4 MB 2.5 MB/s eta 0:00:01\n",
      "   ------------------------------ --------- 1.0/1.4 MB 2.4 MB/s eta 0:00:01\n",
      "   ---------------------------------- ----- 1.2/1.4 MB 2.4 MB/s eta 0:00:01\n",
      "   ------------------------------------ --- 1.2/1.4 MB 2.3 MB/s eta 0:00:01\n",
      "   ---------------------------------------  1.4/1.4 MB 2.3 MB/s eta 0:00:01\n",
      "   ---------------------------------------- 1.4/1.4 MB 2.3 MB/s eta 0:00:00\n",
      "Downloading pytz-2025.2-py2.py3-none-any.whl (509 kB)\n",
      "   ---------------------------------------- 0.0/509.2 kB ? eta -:--:--\n",
      "   ------- -------------------------------- 92.2/509.2 kB 2.6 MB/s eta 0:00:01\n",
      "   --------------- ------------------------ 194.6/509.2 kB 2.9 MB/s eta 0:00:01\n",
      "   --------------------- ------------------ 276.5/509.2 kB 2.1 MB/s eta 0:00:01\n",
      "   ------------------------------- -------- 399.4/509.2 kB 2.3 MB/s eta 0:00:01\n",
      "   ---------------------------------------- 509.2/509.2 kB 2.3 MB/s eta 0:00:00\n",
      "Downloading tzdata-2025.2-py2.py3-none-any.whl (347 kB)\n",
      "   ---------------------------------------- 0.0/347.8 kB ? eta -:--:--\n",
      "   -------- ------------------------------- 71.7/347.8 kB 3.8 MB/s eta 0:00:01\n",
      "   ------------------------- -------------- 225.3/347.8 kB 3.5 MB/s eta 0:00:01\n",
      "   -------------------------------------- - 337.9/347.8 kB 3.0 MB/s eta 0:00:01\n",
      "   ---------------------------------------- 347.8/347.8 kB 2.7 MB/s eta 0:00:00\n",
      "Downloading google_auth-2.39.0-py2.py3-none-any.whl (212 kB)\n",
      "   ---------------------------------------- 0.0/212.3 kB ? eta -:--:--\n",
      "   ------------- -------------------------- 71.7/212.3 kB 2.0 MB/s eta 0:00:01\n",
      "   ---------------------------------------- 212.3/212.3 kB 2.6 MB/s eta 0:00:00\n",
      "Downloading proto_plus-1.26.1-py3-none-any.whl (50 kB)\n",
      "   ---------------------------------------- 0.0/50.2 kB ? eta -:--:--\n",
      "   ---------------------------------------- 50.2/50.2 kB 2.5 MB/s eta 0:00:00\n",
      "Downloading cachetools-5.5.2-py3-none-any.whl (10 kB)\n",
      "Downloading googleapis_common_protos-1.70.0-py3-none-any.whl (294 kB)\n",
      "   ---------------------------------------- 0.0/294.5 kB ? eta -:--:--\n",
      "   -------- ------------------------------- 61.4/294.5 kB ? eta -:--:--\n",
      "   ------------------------------------ --- 266.2/294.5 kB 4.1 MB/s eta 0:00:01\n",
      "   ---------------------------------------- 294.5/294.5 kB 3.6 MB/s eta 0:00:00\n",
      "Downloading grpcio_status-1.71.0-py3-none-any.whl (14 kB)\n",
      "Downloading pyasn1_modules-0.4.2-py3-none-any.whl (181 kB)\n",
      "   ---------------------------------------- 0.0/181.3 kB ? eta -:--:--\n",
      "   ------------------------ --------------- 112.6/181.3 kB 3.3 MB/s eta 0:00:01\n",
      "   ---------------------------------------- 181.3/181.3 kB 2.8 MB/s eta 0:00:00\n",
      "Downloading rsa-4.9-py3-none-any.whl (34 kB)\n",
      "Downloading google_api_core-2.24.2-py3-none-any.whl (160 kB)\n",
      "   ---------------------------------------- 0.0/160.1 kB ? eta -:--:--\n",
      "   ------- -------------------------------- 30.7/160.1 kB 1.3 MB/s eta 0:00:01\n",
      "   ---------------------------------------- 160.1/160.1 kB 1.9 MB/s eta 0:00:00\n",
      "Downloading pyasn1-0.6.1-py3-none-any.whl (83 kB)\n",
      "   ---------------------------------------- 0.0/83.1 kB ? eta -:--:--\n",
      "   ---------------------------------------- 83.1/83.1 kB 2.4 MB/s eta 0:00:00\n",
      "Installing collected packages: pytz, filetype, tzdata, pyasn1, proto-plus, googleapis-common-protos, cachetools, rsa, pyasn1-modules, pandas, grpcio-status, google-auth, google-api-core, google-ai-generativelanguage, langchain-google-genai\n",
      "Successfully installed cachetools-5.5.2 filetype-1.2.0 google-ai-generativelanguage-0.6.17 google-api-core-2.24.2 google-auth-2.39.0 googleapis-common-protos-1.70.0 grpcio-status-1.71.0 langchain-google-genai-2.1.2 pandas-2.2.3 proto-plus-1.26.1 pyasn1-0.6.1 pyasn1-modules-0.4.2 pytz-2025.2 rsa-4.9 tzdata-2025.2\n",
      "Note: you may need to restart the kernel to use updated packages.\n"
     ]
    },
    {
     "name": "stderr",
     "output_type": "stream",
     "text": [
      "\n",
      "[notice] A new release of pip is available: 23.2.1 -> 25.0.1\n",
      "[notice] To update, run: python.exe -m pip install --upgrade pip\n"
     ]
    }
   ],
   "execution_count": 2
  },
  {
   "cell_type": "code",
   "source": [
    "import pandas as pd"
   ],
   "metadata": {
    "id": "M3Yo57zKtELa",
    "ExecuteTime": {
     "end_time": "2025-04-15T10:01:22.256802Z",
     "start_time": "2025-04-15T10:01:22.251907Z"
    }
   },
   "outputs": [],
   "execution_count": 20
  },
  {
   "cell_type": "code",
   "source": "csv_file_path = './dataset_v3.csv'",
   "metadata": {
    "id": "mDkDS5YYthSP",
    "ExecuteTime": {
     "end_time": "2025-04-15T10:01:23.726355Z",
     "start_time": "2025-04-15T10:01:23.720944Z"
    }
   },
   "outputs": [],
   "execution_count": 21
  },
  {
   "cell_type": "code",
   "source": [
    "df = pd.read_csv(csv_file_path)\n",
    "\n",
    "# Generate sequential IDs starting from 1\n",
    "df['Id'] = range(1, len(df) + 1)\n",
    "\n",
    "output_file = './numbered_dataset_v3.csv'\n",
    "df.to_csv(output_file, index=False)\n",
    "\n",
    "print(f\"Updated CSV file with new IDs has been saved as '{output_file}'\")\n",
    "print(\"First few rows of the updated DataFrame:\")\n",
    "print(df.head())"
   ],
   "metadata": {
    "colab": {
     "base_uri": "https://localhost:8080/"
    },
    "collapsed": true,
    "id": "VHbUSzrPDejw",
    "outputId": "598fe53f-1ec8-4e94-c84a-3b42b69dbe2f",
    "ExecuteTime": {
     "end_time": "2025-04-15T10:01:25.747663Z",
     "start_time": "2025-04-15T10:01:25.725207Z"
    }
   },
   "outputs": [
    {
     "name": "stdout",
     "output_type": "stream",
     "text": [
      "Updated CSV file with new IDs has been saved as './numbered_dataset_v3.csv'\n",
      "First few rows of the updated DataFrame:\n",
      "   Id                                     Name         Brand      Price  \\\n",
      "0   1             The Ordinary Peeling Solution  The Ordinary  6,350.00   \n",
      "1   2  COSRX Advanced Snail 92 All In One Cream         COSRX  6,650.00   \n",
      "2   3          CeraVe Daily Moisturizing Lotion        CeraVe  7,950.00   \n",
      "3   4      CeraVe PM Facial Moisturizing Lotion        CeraVe  7,250.00   \n",
      "4   5      CeraVe AM Facial Moisturizing Lotion        CeraVe  7,250.00   \n",
      "\n",
      "          Category                                        Ingredients   \\\n",
      "0  Exfoliating Peel  Glycolic Acid, Lactic Acid, Tartaric Acid, Cit...   \n",
      "1       Moisturizer  Snail Secretion Filtrate, Betaine, Caprylic/Ca...   \n",
      "2       Moisturizer  Purified Water, Glycerin, Caprylic/Capric Trig...   \n",
      "3       Moisturizer  Aqua/Water, Glycerin, Caprylic/Capric Triglyce...   \n",
      "4       Moisturizer  Aqua/Water, Glycerin, Caprylic/Capric Triglyce...   \n",
      "\n",
      "                                   Key Ingredients   \\\n",
      "0                     Glycolic Acid, Salicylic Acid   \n",
      "1                   Snail Mucin, Sodium Hyaluronate   \n",
      "2             Ceramides 1, 3, 6-II, Hyaluronic Acid   \n",
      "3  Niacinamide, Hyaluronic Acid, Ceramides 1,3,6-II   \n",
      "4           Niacinamide, Ceramides, Hyaluronic Acid   \n",
      "\n",
      "                                            Benefit   \\\n",
      "0  Improves texture, clears pore congestion, targ...   \n",
      "1  Deep hydration, repairs damaged skin, reduces ...   \n",
      "2  Hydrates for 24 hours, restores skin barrier, ...   \n",
      "3  Hydrates, calms skin, repairs barrier, non-com...   \n",
      "4  Hydrates, protects skin from UV damage, non-co...   \n",
      "\n",
      "                              Potential Side Effects Natural  ...  \\\n",
      "0  Sun sensitivity, tingling, redness, potential ...      No  ...   \n",
      "1  Minor breakouts in rare cases, potential react...     Yes  ...   \n",
      "2  May not suit extremely oily skin, parabens may...      No  ...   \n",
      "3  May be too light for very dry skin, contains a...      No  ...   \n",
      "4                          No side effects mentioned      No  ...   \n",
      "\n",
      "                                              Usage   \\\n",
      "0  Use once or twice a week on dry skin, Leave on...   \n",
      "1  Apply on face after cleansing and toning, avoi...   \n",
      "2  Apply liberally as often as needed or as direc...   \n",
      "3  Apply liberally to face and neck at night or a...   \n",
      "4  Apply liberally to face and neck in the mornin...   \n",
      "\n",
      "                                    Application Tips  \\\n",
      "0  Apply evenly using fingertips on clean/dry ski...   \n",
      "1  Use at the final step of skincare , Apply with...   \n",
      "2  Use after cleansing , Especially post-shower f...   \n",
      "3  Use on clean/dry skin after cleansing and toni...   \n",
      "4  Apply a generous amount to face and neck , Rea...   \n",
      "\n",
      "                            Skin Type   \\\n",
      "0            Normal, Oily, Combination   \n",
      "1  Dry, Normal, Combination, Sensitive   \n",
      "2                    Normal , Dry Skin   \n",
      "3                         Normal, Oily   \n",
      "4            Normal, Oily, Combination   \n",
      "\n",
      "                                      Skin Concern  Average Rating   \\\n",
      "0          Dullness, Uneven Texture, Enlarged Pores             4.8   \n",
      "1  Redness, Dullness, Scarring, Dryness, Fine Lines             4.9   \n",
      "2              Dryness, Dehydration, Sensitive Skin             4.8   \n",
      "3          Sensitivity, Dehydration, Barrier Repair             5.0   \n",
      "4   Sun Damage, Oiliness, Dryness, Uneven skin tone             4.8   \n",
      "\n",
      "                                    Customer Reviews  \\\n",
      "0  \"Skin feels baby-soft after one use! – 5 stars...   \n",
      "1  \"Calms, hydrates, soothes acne-prone and sensi...   \n",
      "2  \"Best lotion for dry, sensitive skin! – 5 star...   \n",
      "3  \"Good moisturizer – 5 stars\", \"Effective and c...   \n",
      "4  \"Great moisturizer, keeps skin soft and hydrat...   \n",
      "\n",
      "                                      Expert Review             Allergens   \\\n",
      "0            Backed by clinical dermatology research  Fragrances, Parabens   \n",
      "1         Dermatologist tested and K-beauty approved             Parabens    \n",
      "2                    Dermatologist Recommended Brand             Parabens    \n",
      "3                Trusted by dermatologists worldwide                   NaN   \n",
      "4  Dermatologist recommended for sensitive and ac...              Parabens   \n",
      "\n",
      "  For Sensitive Skin                                             Claims   \n",
      "0                  No    Clinically formulated, High-strength exfoliator  \n",
      "1                 Yes  Hypoallergenic, Cruelty-Free, Dermatologist Te...  \n",
      "2                 Yes  Fragrance-free, Oil-free, Non-comedogenic, Nat...  \n",
      "3                 Yes  Fragrance-free, Oil-free, Non-comedogenic, Hyp...  \n",
      "4                 Yes  SPF 30, Non-comedogenic, Fragrance-free, Barri...  \n",
      "\n",
      "[5 rows x 21 columns]\n"
     ]
    }
   ],
   "execution_count": 22
  },
  {
   "cell_type": "code",
   "source": [
    "dataset_path = './numbered_dataset_v3.csv'\n",
    "json_file_path = './products.json'"
   ],
   "metadata": {
    "id": "Tp3l1CwMD4il",
    "ExecuteTime": {
     "end_time": "2025-04-15T10:01:28.188150Z",
     "start_time": "2025-04-15T10:01:28.181108Z"
    }
   },
   "outputs": [],
   "execution_count": 23
  },
  {
   "cell_type": "code",
   "source": [
    "df = pd.read_csv(dataset_path)"
   ],
   "metadata": {
    "id": "KrzsFjGnBFyH",
    "ExecuteTime": {
     "end_time": "2025-04-15T10:01:29.711118Z",
     "start_time": "2025-04-15T10:01:29.698144Z"
    }
   },
   "outputs": [],
   "execution_count": 24
  },
  {
   "cell_type": "code",
   "source": [
    "df['Concentrations'][:5]"
   ],
   "metadata": {
    "colab": {
     "base_uri": "https://localhost:8080/",
     "height": 241
    },
    "id": "s5XJ9RAvR9c4",
    "outputId": "2cd9a887-40a8-4c59-c070-ed0dae0fd72f",
    "ExecuteTime": {
     "end_time": "2025-04-15T10:01:31.130559Z",
     "start_time": "2025-04-15T10:01:31.122767Z"
    }
   },
   "outputs": [
    {
     "data": {
      "text/plain": [
       "0                                     AHA 30%, BHA 2%\n",
       "1               Snail Mucin 92%, 1000 ppm Hyaluronate\n",
       "2            Hyaluronic Acid (low %), Ceramides blend\n",
       "3                Niacinamide (medium-high), Ceramides\n",
       "4    Niacinamide (medium), Ceramides, Hyaluronic Acid\n",
       "Name: Concentrations, dtype: object"
      ]
     },
     "execution_count": 25,
     "metadata": {},
     "output_type": "execute_result"
    }
   ],
   "execution_count": 25
  },
  {
   "cell_type": "code",
   "source": [
    "print(df.columns)"
   ],
   "metadata": {
    "colab": {
     "base_uri": "https://localhost:8080/"
    },
    "id": "w6jkY0A5F-Kr",
    "outputId": "fb4a5bec-2fc8-4817-89a9-ef422c789ea5",
    "ExecuteTime": {
     "end_time": "2025-04-15T10:01:33.128639Z",
     "start_time": "2025-04-15T10:01:33.122639Z"
    }
   },
   "outputs": [
    {
     "name": "stdout",
     "output_type": "stream",
     "text": [
      "Index(['Id', 'Name ', 'Brand ', 'Price', 'Category ', 'Ingredients ',\n",
      "       'Key Ingredients ', 'Benefit ', 'Potential Side Effects', 'Natural',\n",
      "       'Concentrations', 'Usage ', 'Application Tips', 'Skin Type ',\n",
      "       'Skin Concern ', 'Average Rating ', 'Customer Reviews',\n",
      "       'Expert Review ', 'Allergens ', 'For Sensitive Skin ', 'Claims '],\n",
      "      dtype='object')\n"
     ]
    }
   ],
   "execution_count": 26
  },
  {
   "cell_type": "code",
   "source": [
    "def parse_reviews(review_string):\n",
    "    if pd.isna(review_string):  # Handle NaN values\n",
    "        return []\n",
    "    # Split reviews by quotes and filter out empty strings\n",
    "    reviews = [r.strip() for r in review_string.split('\"') if r.strip() and \"stars\" in r]\n",
    "    result = []\n",
    "    for review in reviews:\n",
    "        # Extract review text and rating\n",
    "        parts = review.rsplit(\" – \", 1)\n",
    "        if len(parts) == 2:\n",
    "            text = parts[0].strip()\n",
    "            rating = float(parts[1].replace(\" stars\", \"\").strip())\n",
    "            result.append({\"review\": text, \"rating\": rating})\n",
    "    return result"
   ],
   "metadata": {
    "id": "ipp6U1YlZzLG",
    "ExecuteTime": {
     "end_time": "2025-04-15T10:01:35.243448Z",
     "start_time": "2025-04-15T10:01:35.238121Z"
    }
   },
   "outputs": [],
   "execution_count": 27
  },
  {
   "cell_type": "code",
   "source": [
    "def parse_allergens(allergen_string):\n",
    "    if pd.isna(allergen_string):  # Handle NaN values\n",
    "        return None\n",
    "    return [allergen.strip() for allergen in allergen_string.split(\", \")]"
   ],
   "metadata": {
    "id": "qbtVWaHDb5wp",
    "ExecuteTime": {
     "end_time": "2025-04-15T10:01:38.471670Z",
     "start_time": "2025-04-15T10:01:38.464263Z"
    }
   },
   "outputs": [],
   "execution_count": 28
  },
  {
   "cell_type": "code",
   "source": [
    "import json\n",
    "\n",
    "def to_json(df, json_file_path):\n",
    "  json_array = []\n",
    "\n",
    "  for index, row in df.iterrows():\n",
    "    is_natural = True if row[\"Natural\"] == \"Yes\" else False\n",
    "    reviews = parse_reviews(row[\"Customer Reviews\"])\n",
    "    allergens = parse_allergens(row[\"Allergens \"])\n",
    "\n",
    "    json_obj = {\n",
    "        \"Id\": row[\"Id\"],\n",
    "        \"Name\": row[\"Name \"],\n",
    "        \"Brand\": row[\"Brand \"],\n",
    "        \"Category\": row[\"Category \"],\n",
    "        \"Price\": row[\"Price\"],\n",
    "        \"Ingredients\": row[\"Ingredients \"].split(\", \") if row[\"Ingredients \"] else [],\n",
    "        \"Key Ingredients\": row[\"Key Ingredients \"].split(\", \") if row[\"Key Ingredients \"] else [],\n",
    "        \"Benefits\": row[\"Benefit \"].split(\", \") if row[\"Benefit \"] else [],\n",
    "        \"Potential Side Effects\": row[\"Potential Side Effects\"].split(\", \") if row[\"Potential Side Effects\"] else [],\n",
    "        \"Natural\": is_natural,\n",
    "        \"Concentrations\": row[\"Concentrations\"].split(\", \") if row[\"Concentrations\"] else [],\n",
    "        \"Usage\": row[\"Usage \"],\n",
    "        \"Application Tips\": row[\"Application Tips\"],\n",
    "        \"Skin Type\": row[\"Skin Type \"].split(\", \") if row[\"Skin Type \"] else [],\n",
    "        \"Skin Concerns\": row[\"Skin Concern \"].split(\", \") if row[\"Skin Concern \"] else [],\n",
    "        \"Average Rating\": float(row[\"Average Rating \"]),\n",
    "        \"Customer Reviews\": reviews,\n",
    "        \"Expert Review\": row[\"Expert Review \"],\n",
    "        \"Allergens\": allergens,\n",
    "        \"For Sensitive Skin\": row[\"For Sensitive Skin \"],\n",
    "        \"Claims\": row[\"Claims \"].split(\", \") if row[\"Claims \"] else [],\n",
    "    }\n",
    "    json_array.append(json_obj)\n",
    "  return json_array"
   ],
   "metadata": {
    "id": "JF3P0wopEWgS",
    "ExecuteTime": {
     "end_time": "2025-04-15T10:01:43.465623Z",
     "start_time": "2025-04-15T10:01:43.458687Z"
    }
   },
   "outputs": [],
   "execution_count": 29
  },
  {
   "cell_type": "code",
   "source": [
    "json_arr = to_json(df, json_file_path)\n",
    "print(len(json_arr))"
   ],
   "metadata": {
    "colab": {
     "base_uri": "https://localhost:8080/"
    },
    "id": "qVtKWZfKFk2S",
    "outputId": "761cc12a-7772-4c13-d8f7-6d9f4cc365c6",
    "ExecuteTime": {
     "end_time": "2025-04-15T10:01:47.705251Z",
     "start_time": "2025-04-15T10:01:47.690815Z"
    }
   },
   "outputs": [
    {
     "name": "stdout",
     "output_type": "stream",
     "text": [
      "100\n"
     ]
    }
   ],
   "execution_count": 30
  },
  {
   "cell_type": "code",
   "source": [
    "for i in json_arr[:4]:\n",
    "  print(i)"
   ],
   "metadata": {
    "colab": {
     "base_uri": "https://localhost:8080/"
    },
    "id": "q5LLRsljchiD",
    "outputId": "de869289-9f0a-4542-b17d-0f056ec8f152",
    "ExecuteTime": {
     "end_time": "2025-04-15T10:01:50.740502Z",
     "start_time": "2025-04-15T10:01:50.731553Z"
    }
   },
   "outputs": [
    {
     "name": "stdout",
     "output_type": "stream",
     "text": [
      "{'Id': 1, 'Name': 'The Ordinary Peeling Solution', 'Brand': 'The Ordinary', 'Category': 'Exfoliating Peel', 'Price': '6,350.00', 'Ingredients': ['Glycolic Acid', 'Lactic Acid', 'Tartaric Acid', 'Citric Acid', 'Salicylic Acid', 'Sodium Hyaluronate Crosspolymer', 'Tasmannia Lanceolata Fruit/Leaf Extract'], 'Key Ingredients': ['Glycolic Acid', 'Salicylic Acid'], 'Benefits': ['Improves texture', 'clears pore congestion', 'targets uneven skin tone'], 'Potential Side Effects': ['Sun sensitivity', 'tingling', 'redness', 'potential irritation'], 'Natural': False, 'Concentrations': ['AHA 30%', 'BHA 2%'], 'Usage': 'Use once or twice a week on dry skin, Leave on for max 10 minutes and rinse, Avoid eye contour', 'Application Tips': 'Apply evenly using fingertips on clean/dry skin , Do not use on wet or compromised skin , Patch test recommended , Use sunscreen afterward', 'Skin Type': ['Normal', 'Oily', 'Combination'], 'Skin Concerns': ['Dullness', 'Uneven Texture', 'Enlarged Pores'], 'Average Rating': 4.8, 'Customer Reviews': [{'review': 'Skin feels baby-soft after one use!', 'rating': 5.0}, {'review': 'Brightened my complexion overnight.', 'rating': 4.5}, {'review': 'Strong but very effective, definitely for experienced users.', 'rating': 4.5}], 'Expert Review': 'Backed by clinical dermatology research', 'Allergens': ['Fragrances', 'Parabens'], 'For Sensitive Skin': 'No', 'Claims': ['Clinically formulated', 'High-strength exfoliator']}\n",
      "{'Id': 2, 'Name': 'COSRX Advanced Snail 92 All In One Cream', 'Brand': 'COSRX', 'Category': 'Moisturizer', 'Price': '6,650.00', 'Ingredients': ['Snail Secretion Filtrate', 'Betaine', 'Caprylic/Capric Triglyceride', 'Butylene Glycol', 'Cetearyl Olivate', 'Sorbitan Olivate', 'Cetearyl Alcohol', 'Carbomer', 'Ethyl Hexanediol', 'Phenoxyethanol', 'Arginine', 'Dimethicone', 'Sodium Polyacrylate', 'Sodium Hyaluronate', 'Allantoin', 'Palmitic Acid', 'Panthenol', 'Xanthan Gum', 'Stearic Acid', 'Adenosine', 'Water', 'Myristic Acid'], 'Key Ingredients': ['Snail Mucin', 'Sodium Hyaluronate'], 'Benefits': ['Deep hydration', 'repairs damaged skin', 'reduces fine lines', 'soothes and nourishes', 'brightens and softens texture'], 'Potential Side Effects': ['Minor breakouts in rare cases', 'potential reaction to snail filtrate'], 'Natural': True, 'Concentrations': ['Snail Mucin 92%', '1000 ppm Hyaluronate'], 'Usage': 'Apply on face after cleansing and toning, avoiding eye and mouth area, Gently pat until absorbed', 'Application Tips': 'Use at the final step of skincare , Apply with clean hands and gently pat for full absorption', 'Skin Type': ['Dry', 'Normal', 'Combination', 'Sensitive'], 'Skin Concerns': ['Redness', 'Dullness', 'Scarring', 'Dryness', 'Fine Lines'], 'Average Rating': 4.9, 'Customer Reviews': [], 'Expert Review': 'Dermatologist tested and K-beauty approved', 'Allergens': ['Parabens'], 'For Sensitive Skin': 'Yes', 'Claims': ['Hypoallergenic', 'Cruelty-Free', 'Dermatologist Tested']}\n",
      "{'Id': 3, 'Name': 'CeraVe Daily Moisturizing Lotion', 'Brand': 'CeraVe', 'Category': 'Moisturizer', 'Price': '7,950.00', 'Ingredients': ['Purified Water', 'Glycerin', 'Caprylic/Capric Triglyceride', 'Behentrimonium Methosulfate', 'Cetearyl Alcohol', 'Ceteareth-20', 'Cetyl Alcohol', 'Polyglyceryl-3-Diisosterate', 'Dimethicone', 'Hyaluronic Acid', 'Ceramides 1', '3', '6-II', 'Cholesterol', 'Phytosphingosine', 'Potassium Phosphate', 'Dipotassium phosphate', 'Methylparaben', 'Propylparaben', 'Disodium EDTA', 'Sodium Lauroyl Lactylate', 'Polysorbate 20', 'Carbomer', 'Xanthan Gum.'], 'Key Ingredients': ['Ceramides 1', '3', '6-II', 'Hyaluronic Acid'], 'Benefits': ['Hydrates for 24 hours', 'restores skin barrier', 'lightweight', 'non-greasy', 'relieves dryness'], 'Potential Side Effects': ['May not suit extremely oily skin', 'parabens may irritate very sensitive skin'], 'Natural': False, 'Concentrations': ['Hyaluronic Acid (low %)', 'Ceramides blend'], 'Usage': 'Apply liberally as often as needed or as directed by physician', 'Application Tips': 'Use after cleansing , Especially post-shower for max absorption , Ideal for layering under SPF or makeup', 'Skin Type': ['Normal ', 'Dry Skin'], 'Skin Concerns': ['Dryness', 'Dehydration', 'Sensitive Skin'], 'Average Rating': 4.8, 'Customer Reviews': [{'review': 'Best lotion for dry, sensitive skin!', 'rating': 5.0}, {'review': 'Feels so light and hydrates all day.', 'rating': 5.0}, {'review': 'My eczema is under control now.', 'rating': 4.5}, {'review': 'Gentle and absorbs fast.', 'rating': 4.5}, {'review': 'Will repurchase for sure!', 'rating': 5.0}], 'Expert Review': 'Dermatologist Recommended Brand', 'Allergens': ['Parabens'], 'For Sensitive Skin': 'Yes', 'Claims': ['Fragrance-free', 'Oil-free', 'Non-comedogenic', 'National Eczema Association Approved']}\n",
      "{'Id': 4, 'Name': 'CeraVe PM Facial Moisturizing Lotion', 'Brand': 'CeraVe', 'Category': 'Moisturizer', 'Price': '7,250.00', 'Ingredients': ['Aqua/Water', 'Glycerin', 'Caprylic/Capric Triglyceride', 'Niacinamide', 'Cetearyl Alcohol', 'Potassium Phosphate', 'Ceramide NP', 'Ceramide AP', 'Ceramide EOP', 'Carbomer', 'Dimethicone', 'Ceteareth-20', 'Behentrimonium Methosulfate', 'Sodium Lauroyl Lactylate', 'Sodium Hyaluronate', 'Cholesterol', 'Phenoxyethanol', 'Disodium EDTA', 'Dipotassium Phosphate', 'Caprylyl Glycol', 'Phytosphingosine', 'Xanthan Gum', 'Polyglyceryl-3 Diisostearate', 'Ethylhexylglycerin'], 'Key Ingredients': ['Niacinamide', 'Hyaluronic Acid', 'Ceramides 1,3,6-II'], 'Benefits': ['Hydrates', 'calms skin', 'repairs barrier', 'non-comedogenic', 'fragrance-free', 'hypoallergenic'], 'Potential Side Effects': ['May be too light for very dry skin', 'contains alcohol derivatives that may irritate very sensitive skin'], 'Natural': False, 'Concentrations': ['Niacinamide (medium-high)', 'Ceramides'], 'Usage': 'Apply liberally to face and neck at night or as directed by physician', 'Application Tips': 'Use on clean/dry skin after cleansing and toning , Can be layered with other nighttime serums or treatments', 'Skin Type': ['Normal', 'Oily'], 'Skin Concerns': ['Sensitivity', 'Dehydration', 'Barrier Repair'], 'Average Rating': 5.0, 'Customer Reviews': [{'review': 'Good moisturizer', 'rating': 5.0}, {'review': 'Effective and calming', 'rating': 5.0}], 'Expert Review': 'Trusted by dermatologists worldwide', 'Allergens': None, 'For Sensitive Skin': 'Yes', 'Claims': ['Fragrance-free', 'Oil-free', 'Non-comedogenic', 'Hypoallergenic']}\n"
     ]
    }
   ],
   "execution_count": 31
  },
  {
   "cell_type": "code",
   "source": [
    "# Write JSON data to a file\n",
    "with open(json_file_path, mode='w', encoding='utf-8') as json_file:\n",
    "  json.dump(json_arr, json_file, indent=4)"
   ],
   "metadata": {
    "id": "AgL3w1Drdhht",
    "ExecuteTime": {
     "end_time": "2025-04-15T10:01:53.642273Z",
     "start_time": "2025-04-15T10:01:53.627273Z"
    }
   },
   "outputs": [],
   "execution_count": 32
  },
  {
   "cell_type": "code",
   "source": [
    "#read the content of json file\n",
    "with open(json_file_path, 'r') as f:\n",
    "    products_json = json.load(f)"
   ],
   "metadata": {
    "id": "ODygJUQcdlag",
    "ExecuteTime": {
     "end_time": "2025-04-15T10:01:55.655961Z",
     "start_time": "2025-04-15T10:01:55.645775Z"
    }
   },
   "outputs": [],
   "execution_count": 33
  },
  {
   "cell_type": "code",
   "source": [
    "for product in products_json[:5]:\n",
    "  print(product)"
   ],
   "metadata": {
    "colab": {
     "base_uri": "https://localhost:8080/"
    },
    "id": "4S0weXxZd8nk",
    "outputId": "cb087344-3da9-424f-879d-ae841247f75c",
    "ExecuteTime": {
     "end_time": "2025-04-15T10:01:58.223900Z",
     "start_time": "2025-04-15T10:01:58.215855Z"
    }
   },
   "outputs": [
    {
     "name": "stdout",
     "output_type": "stream",
     "text": [
      "{'Id': 1, 'Name': 'The Ordinary Peeling Solution', 'Brand': 'The Ordinary', 'Category': 'Exfoliating Peel', 'Price': '6,350.00', 'Ingredients': ['Glycolic Acid', 'Lactic Acid', 'Tartaric Acid', 'Citric Acid', 'Salicylic Acid', 'Sodium Hyaluronate Crosspolymer', 'Tasmannia Lanceolata Fruit/Leaf Extract'], 'Key Ingredients': ['Glycolic Acid', 'Salicylic Acid'], 'Benefits': ['Improves texture', 'clears pore congestion', 'targets uneven skin tone'], 'Potential Side Effects': ['Sun sensitivity', 'tingling', 'redness', 'potential irritation'], 'Natural': False, 'Concentrations': ['AHA 30%', 'BHA 2%'], 'Usage': 'Use once or twice a week on dry skin, Leave on for max 10 minutes and rinse, Avoid eye contour', 'Application Tips': 'Apply evenly using fingertips on clean/dry skin , Do not use on wet or compromised skin , Patch test recommended , Use sunscreen afterward', 'Skin Type': ['Normal', 'Oily', 'Combination'], 'Skin Concerns': ['Dullness', 'Uneven Texture', 'Enlarged Pores'], 'Average Rating': 4.8, 'Customer Reviews': [{'review': 'Skin feels baby-soft after one use!', 'rating': 5.0}, {'review': 'Brightened my complexion overnight.', 'rating': 4.5}, {'review': 'Strong but very effective, definitely for experienced users.', 'rating': 4.5}], 'Expert Review': 'Backed by clinical dermatology research', 'Allergens': ['Fragrances', 'Parabens'], 'For Sensitive Skin': 'No', 'Claims': ['Clinically formulated', 'High-strength exfoliator']}\n",
      "{'Id': 2, 'Name': 'COSRX Advanced Snail 92 All In One Cream', 'Brand': 'COSRX', 'Category': 'Moisturizer', 'Price': '6,650.00', 'Ingredients': ['Snail Secretion Filtrate', 'Betaine', 'Caprylic/Capric Triglyceride', 'Butylene Glycol', 'Cetearyl Olivate', 'Sorbitan Olivate', 'Cetearyl Alcohol', 'Carbomer', 'Ethyl Hexanediol', 'Phenoxyethanol', 'Arginine', 'Dimethicone', 'Sodium Polyacrylate', 'Sodium Hyaluronate', 'Allantoin', 'Palmitic Acid', 'Panthenol', 'Xanthan Gum', 'Stearic Acid', 'Adenosine', 'Water', 'Myristic Acid'], 'Key Ingredients': ['Snail Mucin', 'Sodium Hyaluronate'], 'Benefits': ['Deep hydration', 'repairs damaged skin', 'reduces fine lines', 'soothes and nourishes', 'brightens and softens texture'], 'Potential Side Effects': ['Minor breakouts in rare cases', 'potential reaction to snail filtrate'], 'Natural': True, 'Concentrations': ['Snail Mucin 92%', '1000 ppm Hyaluronate'], 'Usage': 'Apply on face after cleansing and toning, avoiding eye and mouth area, Gently pat until absorbed', 'Application Tips': 'Use at the final step of skincare , Apply with clean hands and gently pat for full absorption', 'Skin Type': ['Dry', 'Normal', 'Combination', 'Sensitive'], 'Skin Concerns': ['Redness', 'Dullness', 'Scarring', 'Dryness', 'Fine Lines'], 'Average Rating': 4.9, 'Customer Reviews': [], 'Expert Review': 'Dermatologist tested and K-beauty approved', 'Allergens': ['Parabens'], 'For Sensitive Skin': 'Yes', 'Claims': ['Hypoallergenic', 'Cruelty-Free', 'Dermatologist Tested']}\n",
      "{'Id': 3, 'Name': 'CeraVe Daily Moisturizing Lotion', 'Brand': 'CeraVe', 'Category': 'Moisturizer', 'Price': '7,950.00', 'Ingredients': ['Purified Water', 'Glycerin', 'Caprylic/Capric Triglyceride', 'Behentrimonium Methosulfate', 'Cetearyl Alcohol', 'Ceteareth-20', 'Cetyl Alcohol', 'Polyglyceryl-3-Diisosterate', 'Dimethicone', 'Hyaluronic Acid', 'Ceramides 1', '3', '6-II', 'Cholesterol', 'Phytosphingosine', 'Potassium Phosphate', 'Dipotassium phosphate', 'Methylparaben', 'Propylparaben', 'Disodium EDTA', 'Sodium Lauroyl Lactylate', 'Polysorbate 20', 'Carbomer', 'Xanthan Gum.'], 'Key Ingredients': ['Ceramides 1', '3', '6-II', 'Hyaluronic Acid'], 'Benefits': ['Hydrates for 24 hours', 'restores skin barrier', 'lightweight', 'non-greasy', 'relieves dryness'], 'Potential Side Effects': ['May not suit extremely oily skin', 'parabens may irritate very sensitive skin'], 'Natural': False, 'Concentrations': ['Hyaluronic Acid (low %)', 'Ceramides blend'], 'Usage': 'Apply liberally as often as needed or as directed by physician', 'Application Tips': 'Use after cleansing , Especially post-shower for max absorption , Ideal for layering under SPF or makeup', 'Skin Type': ['Normal ', 'Dry Skin'], 'Skin Concerns': ['Dryness', 'Dehydration', 'Sensitive Skin'], 'Average Rating': 4.8, 'Customer Reviews': [{'review': 'Best lotion for dry, sensitive skin!', 'rating': 5.0}, {'review': 'Feels so light and hydrates all day.', 'rating': 5.0}, {'review': 'My eczema is under control now.', 'rating': 4.5}, {'review': 'Gentle and absorbs fast.', 'rating': 4.5}, {'review': 'Will repurchase for sure!', 'rating': 5.0}], 'Expert Review': 'Dermatologist Recommended Brand', 'Allergens': ['Parabens'], 'For Sensitive Skin': 'Yes', 'Claims': ['Fragrance-free', 'Oil-free', 'Non-comedogenic', 'National Eczema Association Approved']}\n",
      "{'Id': 4, 'Name': 'CeraVe PM Facial Moisturizing Lotion', 'Brand': 'CeraVe', 'Category': 'Moisturizer', 'Price': '7,250.00', 'Ingredients': ['Aqua/Water', 'Glycerin', 'Caprylic/Capric Triglyceride', 'Niacinamide', 'Cetearyl Alcohol', 'Potassium Phosphate', 'Ceramide NP', 'Ceramide AP', 'Ceramide EOP', 'Carbomer', 'Dimethicone', 'Ceteareth-20', 'Behentrimonium Methosulfate', 'Sodium Lauroyl Lactylate', 'Sodium Hyaluronate', 'Cholesterol', 'Phenoxyethanol', 'Disodium EDTA', 'Dipotassium Phosphate', 'Caprylyl Glycol', 'Phytosphingosine', 'Xanthan Gum', 'Polyglyceryl-3 Diisostearate', 'Ethylhexylglycerin'], 'Key Ingredients': ['Niacinamide', 'Hyaluronic Acid', 'Ceramides 1,3,6-II'], 'Benefits': ['Hydrates', 'calms skin', 'repairs barrier', 'non-comedogenic', 'fragrance-free', 'hypoallergenic'], 'Potential Side Effects': ['May be too light for very dry skin', 'contains alcohol derivatives that may irritate very sensitive skin'], 'Natural': False, 'Concentrations': ['Niacinamide (medium-high)', 'Ceramides'], 'Usage': 'Apply liberally to face and neck at night or as directed by physician', 'Application Tips': 'Use on clean/dry skin after cleansing and toning , Can be layered with other nighttime serums or treatments', 'Skin Type': ['Normal', 'Oily'], 'Skin Concerns': ['Sensitivity', 'Dehydration', 'Barrier Repair'], 'Average Rating': 5.0, 'Customer Reviews': [{'review': 'Good moisturizer', 'rating': 5.0}, {'review': 'Effective and calming', 'rating': 5.0}], 'Expert Review': 'Trusted by dermatologists worldwide', 'Allergens': None, 'For Sensitive Skin': 'Yes', 'Claims': ['Fragrance-free', 'Oil-free', 'Non-comedogenic', 'Hypoallergenic']}\n",
      "{'Id': 5, 'Name': 'CeraVe AM Facial Moisturizing Lotion', 'Brand': 'CeraVe', 'Category': 'Moisturizer', 'Price': '7,250.00', 'Ingredients': ['Aqua/Water', 'Glycerin', 'Caprylic/Capric Triglyceride', 'Niacinamide', 'Ceramide NP', 'Ceramide AP', 'Ceramide EOP', 'Dimethicone', 'Cetearyl Alcohol', 'Behentrimonium Methosulfate', 'Potassium Phosphate', 'Sodium Lauroyl Lactylate', 'Sodium Hyaluronate', 'Cholesterol', 'Phenoxyethanol', 'Disodium EDTA', 'Dipotassium Phosphate', 'Caprylyl Glycol'], 'Key Ingredients': ['Niacinamide', 'Ceramides', 'Hyaluronic Acid'], 'Benefits': ['Hydrates', 'protects skin from UV damage', 'non-comedogenic', 'replenishes skin barrier', 'SPF 30 protection'], 'Potential Side Effects': ['No side effects mentioned'], 'Natural': False, 'Concentrations': ['Niacinamide (medium)', 'Ceramides', 'Hyaluronic Acid'], 'Usage': 'Apply liberally to face and neck in the morning after cleansing and before makeup', 'Application Tips': 'Apply a generous amount to face and neck , Reapply throughout the day for prolonged sun exposure , Can be used alone or layered with other skincare products', 'Skin Type': ['Normal', 'Oily', 'Combination'], 'Skin Concerns': ['Sun Damage', 'Oiliness', 'Dryness', 'Uneven skin tone'], 'Average Rating': 4.8, 'Customer Reviews': [{'review': 'Great moisturizer, keeps skin soft and hydrated', 'rating': 5.0}, {'review': 'Provides good SPF protection', 'rating': 5.0}, {'review': 'Not heavy or greasy', 'rating': 5.0}], 'Expert Review': 'Dermatologist recommended for sensitive and acne-prone skin; offers broad-spectrum UV protection', 'Allergens': ['Parabens'], 'For Sensitive Skin': 'Yes', 'Claims': ['SPF 30', 'Non-comedogenic', 'Fragrance-free', 'Barrier Repair']}\n"
     ]
    }
   ],
   "execution_count": 34
  }
 ]
}

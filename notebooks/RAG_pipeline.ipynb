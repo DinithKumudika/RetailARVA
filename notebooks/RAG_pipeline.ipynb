{
  "cells": [
    {
      "cell_type": "code",
      "execution_count": null,
      "metadata": {
        "collapsed": true,
        "id": "bVMrNitKsmc0"
      },
      "outputs": [],
      "source": [
        "%pip install --upgrade langchain langchain-community langchain-core langchain-ollama langchainhub langchain-qdrant langchain-text-splitters langsmith langchain-google-genai 'ollama<0.4.0'"
      ]
    },
    {
      "cell_type": "code",
      "execution_count": null,
      "metadata": {
        "id": "zFh0zdslKw6h"
      },
      "outputs": [],
      "source": [
        "import os\n",
        "os.environ[\"LANGCHAIN_TRACING_V2\"] = \"true\"\n",
        "os.environ[\"LANGCHAIN_API_KEY\"] = \"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\"\n",
        "os.environ[\"LANGCHAIN_ENDPOINT\"] = \"https://api.smith.langchain.com\"\n",
        "os.environ[\"LANGCHAIN_PROJECT\"] = \"rag-massed-compute\"\n",
        "os.environ[\"OLLAMA_URL\"] = 'http://localhost:11434'\n",
        "os.environ[\"OLLAMA_CHAT_MODEL_ID\"] = \"llama3.1:latest\"\n",
        "os.environ[\"OLLAMA_EMBEDDING_MODEL_ID\"] = \"bge-large\"\n",
        "os.environ[\"QDRANT_API_KEY\"] = \"\"\n",
        "os.environ[\"QDRANT_CLUSTER_URL\"] = \"\""
      ]
    },
    {
      "cell_type": "code",
      "execution_count": null,
      "metadata": {
        "id": "L3zhN5QfK0ri"
      },
      "outputs": [],
      "source": [
        "OLLAMA_URL= os.environ[\"OLLAMA_URL\"]\n",
        "OLLAMA_CHAT_MODEL_ID = os.environ[\"OLLAMA_CHAT_MODEL_ID\"]\n",
        "OLLAMA_EMBEDDING_MODEL_ID = os.environ[\"OLLAMA_EMBEDDING_MODEL_ID\"]\n",
        "QDRANT_API_KEY = ''\n",
        "QDRANT_CLUSTER_URL = ''"
      ]
    },
    {
      "cell_type": "code",
      "execution_count": null,
      "metadata": {
        "id": "pkUnnF-DLO_8"
      },
      "outputs": [],
      "source": [
        "import csv\n",
        "import json\n",
        "\n",
        "def csv_to_json(csv_file_path, json_file_path):\n",
        "    # Open the CSV file\n",
        "    with open(csv_file_path, mode='r', encoding='utf-8') as csv_file:\n",
        "        csv_reader = csv.DictReader(csv_file)\n",
        "\n",
        "        # Prepare a list to hold JSON data\n",
        "        json_data = []\n",
        "\n",
        "        # Convert each row in CSV to the JSON format\n",
        "        for row in csv_reader:\n",
        "            json_row = {\n",
        "                \"id\": int(row[\"id\"]),\n",
        "                \"name\": row[\"name\"],\n",
        "                \"brand\": row[\"brand\"],\n",
        "                \"category\": row[\"category\"],\n",
        "                \"price\": float(row[\"price\"]),\n",
        "                \"ingredients\": row[\"ingredients\"].split(\", \") if row[\"ingredients\"] else [],\n",
        "                \"key_ingredients\": row[\"key_ingredients\"].split(\", \") if row[\"key_ingredients\"] else [],\n",
        "                \"benefits\": row[\"benefits\"].split(\", \") if row[\"benefits\"] else [],\n",
        "                \"side_effects\": row[\"side_effects\"] if row[\"side_effects\"] else None,\n",
        "                \"is_natural\": int(row[\"is_natural\"]),\n",
        "                \"concentrations\": row[\"concentrations\"],\n",
        "                \"usage\": row[\"usage\"],\n",
        "                \"application_tips\": row[\"application_tips\"],\n",
        "                \"skin_types\": row[\"skin_types\"].split(\", \") if row[\"skin_types\"] else [],\n",
        "                \"skin_concerns\": row[\"skin_concerns\"].split(\", \") if row[\"skin_concerns\"] else [],\n",
        "                \"allergens\": row[\"allergens\"] if row[\"allergens\"] else None,\n",
        "                \"sensitivities\": row[\"sensitivities\"] if row[\"sensitivities\"] else None\n",
        "            }\n",
        "            json_data.append(json_row)\n",
        "\n",
        "    # Write JSON data to a file\n",
        "    with open(json_file_path, mode='w', encoding='utf-8') as json_file:\n",
        "        json.dump(json_data, json_file, indent=4)"
      ]
    },
    {
      "cell_type": "code",
      "execution_count": null,
      "metadata": {
        "colab": {
          "base_uri": "https://localhost:8080/"
        },
        "id": "5f6VODDNm_Me",
        "outputId": "f59c4cac-ef4f-4d4c-ef4d-8f0be6359d57"
      },
      "outputs": [
        {
          "name": "stdout",
          "output_type": "stream",
          "text": [
            "Mounted at /content/drive\n"
          ]
        }
      ],
      "source": [
        "from google.colab import drive\n",
        "drive.mount('/content/drive')"
      ]
    },
    {
      "cell_type": "code",
      "execution_count": null,
      "metadata": {
        "id": "V_JdZGzbmxAp"
      },
      "outputs": [],
      "source": [
        "csv_file_path = '/content/drive/MyDrive/4th year research/Development/data/products.csv'\n",
        "json_file_path = '/content/drive/MyDrive/4th year research/Development/data/products.json'"
      ]
    },
    {
      "cell_type": "code",
      "execution_count": null,
      "metadata": {
        "colab": {
          "base_uri": "https://localhost:8080/"
        },
        "id": "rFGKl6tvnTnn",
        "outputId": "a9f6521c-2b5d-4c18-d952-e68c32ac346e"
      },
      "outputs": [
        {
          "name": "stdout",
          "output_type": "stream",
          "text": [
            "CSV data has been successfully converted to JSON and saved to /content/drive/MyDrive/4th year research/Development/data/products.json\n"
          ]
        }
      ],
      "source": [
        "csv_to_json(csv_file_path, json_file_path)\n",
        "print(f\"CSV data has been successfully converted to JSON and saved to {json_file_path}\")"
      ]
    },
    {
      "cell_type": "code",
      "execution_count": null,
      "metadata": {
        "id": "_Lzply6EpBtF"
      },
      "outputs": [],
      "source": [
        "#read the content of json file\n",
        "with open('/content/drive/MyDrive/4th year research/Development/data/products.json', 'r') as f:\n",
        "    products_json = json.load(f)"
      ]
    },
    {
      "cell_type": "code",
      "execution_count": null,
      "metadata": {
        "id": "lWf8cg-HnmFE"
      },
      "outputs": [],
      "source": [
        "def generate_product_profiles(products_json):\n",
        "    product_docs = []\n",
        "\n",
        "    for product in products_json:\n",
        "        # Prepare template strings\n",
        "        ingredients_list = '\\n'.join(f\"- {ingredient}\" for ingredient in product.get(\"ingredients\", []))\n",
        "        key_ingredients_list = '\\n'.join(f\"- {key_ingredient}\" for key_ingredient in product.get(\"key_ingredients\", []))\n",
        "        benefits_list = '\\n'.join(f\"- {benefit}\" for benefit in product.get(\"benefits\", []))\n",
        "        side_effects_list = f\"- {product['side_effects']}\" if product[\"side_effects\"] else \"None\"\n",
        "        application_tips_list = product[\"application_tips\"] if product[\"application_tips\"] else \"None\"\n",
        "        skin_types_list = '\\n'.join(f\"- {skin_type}\" for skin_type in product.get(\"skin_types\", []))\n",
        "        skin_concerns_list = '\\n'.join(f\"- {skin_concern}\" for skin_concern in product.get(\"skin_concerns\", []))\n",
        "        allergens_list = f\"- {product['allergens']}\" if product[\"allergens\"] else \"None\"\n",
        "        sensitivities_list = f\"- {product['sensitivities']}\" if product[\"sensitivities\"] else \"None\"\n",
        "\n",
        "        # Format the product profile\n",
        "        product_profile = f\"\"\"\n",
        "            Product Profile : {product[\"id\"]}\n",
        "            ---------------\n",
        "\n",
        "            Basic Information\n",
        "            -----------------\n",
        "            Name: {product[\"name\"]}\n",
        "            Brand: {product[\"brand\"]}\n",
        "            Category: {product[\"category\"]}\n",
        "            Price: LKR{product[\"price\"]:.2f}\n",
        "            Is Natural: {product[\"is_natural\"]}\n",
        "            Ingredient concentrations level: {product[\"concentrations\"]}\n",
        "\n",
        "            Composition\n",
        "            -----------\n",
        "            Ingredients:\n",
        "            {ingredients_list}\n",
        "\n",
        "            Key Ingredients:\n",
        "            {key_ingredients_list}\n",
        "\n",
        "            Benefits and Usage\n",
        "            ------------------\n",
        "            Benefits:\n",
        "            {benefits_list}\n",
        "\n",
        "            Side Effects:\n",
        "            {side_effects_list}\n",
        "\n",
        "            Usage Instructions:\n",
        "            {product[\"usage\"]}\n",
        "\n",
        "            Application Tips:\n",
        "            {application_tips_list}\n",
        "\n",
        "            Skin Compatibility\n",
        "            ------------------\n",
        "            Suitable for Skin Types:\n",
        "            {skin_types_list}\n",
        "\n",
        "            Addresses Skin Concerns:\n",
        "            {skin_concerns_list}\n",
        "\n",
        "            Special Considerations\n",
        "            ----------------------\n",
        "            Allergens:\n",
        "            {allergens_list}\n",
        "\n",
        "            Sensitivities:\n",
        "            {sensitivities_list}\n",
        "        \"\"\"\n",
        "\n",
        "        # Add formatted profile to the list\n",
        "        product_docs.append({\n",
        "            \"template\": product_profile.strip(),\n",
        "            \"metadata\": {\n",
        "                \"id\": product[\"id\"],\n",
        "                \"name\": product[\"name\"],\n",
        "                \"brand\": product[\"brand\"],\n",
        "                \"category\": product[\"category\"],\n",
        "                \"price\": product[\"price\"]\n",
        "            }\n",
        "        })\n",
        "\n",
        "    return product_docs"
      ]
    },
    {
      "cell_type": "code",
      "execution_count": null,
      "metadata": {
        "id": "FYAgGDqMor74"
      },
      "outputs": [],
      "source": [
        "product_docs = generate_product_profiles(products_json)"
      ]
    },
    {
      "cell_type": "code",
      "execution_count": null,
      "metadata": {
        "collapsed": true,
        "id": "PNg7GbIkpJ7y"
      },
      "outputs": [],
      "source": [
        "#print formatted dictionary\n",
        "for doc in product_docs[:2]:\n",
        "    print(doc)"
      ]
    },
    {
      "cell_type": "markdown",
      "metadata": {
        "id": "nFLa86APpvHi"
      },
      "source": [
        "### Generate engaging product descriptions using product profiles"
      ]
    },
    {
      "cell_type": "code",
      "execution_count": null,
      "metadata": {
        "id": "If4MZaOm3feq"
      },
      "outputs": [],
      "source": [
        "GEMINI_API_KEY=userdata.get('GEMINI_API_KEY')\n",
        "os.environ[\"GOOGLE_API_KEY\"] = GEMINI_API_KEY"
      ]
    },
    {
      "cell_type": "code",
      "execution_count": null,
      "metadata": {
        "id": "rA3GEDX-pVwv"
      },
      "outputs": [],
      "source": [
        "product_copywrite_prompt = \"\"\"\n",
        "You are an expert product copywriter. Based on the given product profile, write a professional and engaging product description that covers all the essential details, benefits, usage instructions, and any special considerations.\n",
        "Create a summary discription of a skincare product based on the given structured product details.\n",
        "Use only then given product information and phrase them as use see fit.\n",
        "Don't remove any vital information from the product profile.\n",
        "Be accurate and through.\n",
        "\n",
        "Product Profile:\n",
        "{product_profile}\n",
        "\n",
        "Product Description:\n",
        "\"\"\""
      ]
    },
    {
      "cell_type": "markdown",
      "metadata": {
        "id": "Y7Q2lo_q8h2Q"
      },
      "source": [
        "### Product Copywriter Agent"
      ]
    },
    {
      "cell_type": "code",
      "execution_count": null,
      "metadata": {
        "id": "3DOnTDwIoWpB"
      },
      "outputs": [],
      "source": [
        "from langchain.prompts import PromptTemplate\n",
        "from langchain.chains import LLMChain\n",
        "from langchain_google_genai import ChatGoogleGenerativeAI\n",
        "\n",
        "def product_copywriter_agent(product_profile, prompt_template):\n",
        "  prompt = PromptTemplate(input_variables=[\"product_profile\"], template=prompt_template)\n",
        "\n",
        "  agent = ChatGoogleGenerativeAI(\n",
        "    model=\"gemini-1.5-pro\",\n",
        "    temperature=0,\n",
        "    max_retries=2,\n",
        "  )\n",
        "\n",
        "  product_copywrite_chain = LLMChain(llm=agent, prompt=prompt)\n",
        "\n",
        "  product_description = product_copywrite_chain.run(product_profile=product_profile)\n",
        "\n",
        "  return product_description"
      ]
    },
    {
      "cell_type": "markdown",
      "metadata": {
        "id": "XPVA0_s9BUEj"
      },
      "source": [
        "### Use agent to get product descriptions"
      ]
    },
    {
      "cell_type": "code",
      "execution_count": null,
      "metadata": {
        "id": "rdwRFTjg66RG"
      },
      "outputs": [],
      "source": [
        "import time\n",
        "\n",
        "product_descriptions = []\n",
        "\n",
        "for doc in product_docs:\n",
        "  agent_response = product_copywriter_agent(doc[\"template\"], product_copywrite_prompt)\n",
        "  product_description = {\n",
        "      \"id\": doc[\"metadata\"][\"id\"],\n",
        "      \"metadata\": doc[\"metadata\"],\n",
        "      \"content\": agent_response\n",
        "  }\n",
        "  product_descriptions.append(product_description)\n",
        "  print(f\"Product description for product {doc['metadata']['id']} generated\")\n",
        "  time.sleep(3)"
      ]
    },
    {
      "cell_type": "markdown",
      "metadata": {
        "id": "74PEMnNaBaSn"
      },
      "source": [
        "### Write product descriptions to a json file"
      ]
    },
    {
      "cell_type": "code",
      "execution_count": null,
      "metadata": {
        "id": "TA--dWvvaaAX"
      },
      "outputs": [],
      "source": [
        "output_file = \"/content/drive/MyDrive/4th year research/Development/data/product_descriptions.json\""
      ]
    },
    {
      "cell_type": "code",
      "execution_count": null,
      "metadata": {
        "colab": {
          "base_uri": "https://localhost:8080/"
        },
        "id": "8DCabll08fcV",
        "outputId": "394e57a6-8869-4c2c-bbcf-c6f9d3372812"
      },
      "outputs": [
        {
          "name": "stdout",
          "output_type": "stream",
          "text": [
            "Product description written to /content/drive/MyDrive/4th year research/Development/data/product_descriptions.json\n"
          ]
        }
      ],
      "source": [
        "with open(output_file, \"w\") as file:\n",
        "    json.dump(product_descriptions, file, indent=4)\n",
        "\n",
        "print(f\"Product description written to {output_file}\")"
      ]
    },
    {
      "cell_type": "markdown",
      "metadata": {
        "id": "PRut960NaOc0"
      },
      "source": [
        "### Read product descriptions from the json file"
      ]
    },
    {
      "cell_type": "code",
      "execution_count": null,
      "metadata": {
        "id": "IpWkEYbvaNWg"
      },
      "outputs": [],
      "source": [
        "# read from the product_descriptions json\n",
        "with open(output_file, 'r') as f:\n",
        "    product_descriptions = json.load(f)"
      ]
    },
    {
      "cell_type": "code",
      "execution_count": null,
      "metadata": {
        "colab": {
          "base_uri": "https://localhost:8080/"
        },
        "id": "HMYPti5fFkd0",
        "outputId": "78cd24f2-fc04-480a-ab3f-7e7c649effff"
      },
      "outputs": [
        {
          "data": {
            "text/plain": [
              "90"
            ]
          },
          "execution_count": 10,
          "metadata": {},
          "output_type": "execute_result"
        }
      ],
      "source": [
        "len(product_descriptions)"
      ]
    },
    {
      "cell_type": "code",
      "execution_count": null,
      "metadata": {
        "colab": {
          "base_uri": "https://localhost:8080/"
        },
        "id": "t6X7lkxpakPv",
        "outputId": "37ca2f21-5c8e-480e-b5c4-4ec8710ef4f4"
      },
      "outputs": [
        {
          "data": {
            "text/plain": [
              "[{'id': 1,\n",
              "  'metadata': {'id': 1,\n",
              "   'name': 'Himalaya Purifying Neem Face Wash 100ml',\n",
              "   'brand': 'Himalaya',\n",
              "   'category': 'Face Wash',\n",
              "   'price': 1334.8},\n",
              "  'content': 'Himalaya Purifying Neem Face Wash (100ml) is a natural, daily face wash formulated to purify your skin and remove impurities.  Harnessing the power of Neem and Turmeric, this cleanser effectively addresses acne and oil control, making it suitable for all skin types.  Simply apply to a wet face, lather, and rinse. While generally well-tolerated, some individuals sensitive to Turmeric may experience dryness.  For LKR 1334.80, experience the clarifying benefits of this natural face wash from a trusted brand like Himalaya.\\n'},\n",
              " {'id': 2,\n",
              "  'metadata': {'id': 2,\n",
              "   'name': 'Dr. Rashel Intimate Magic Pink Cream',\n",
              "   'brand': 'Dr. Rashel',\n",
              "   'category': 'Cream',\n",
              "   'price': 1504.0},\n",
              "  'content': 'Dr. Rashel Intimate Magic Pink Cream is a natural, herbal-extract based cream designed to lighten and brighten intimate areas.  Its high concentration of herbal extracts effectively targets pigmentation for a more even skin tone.  Suitable for all skin types, this cream is gently massaged onto the desired areas as needed.  While generally well-tolerated, individuals with sensitivities to herbal extracts may experience mild irritation.  If irritation occurs, discontinue use.  For LKR 1504.00, achieve a brighter, more confident you with Dr. Rashel Intimate Magic Pink Cream.\\n'}]"
            ]
          },
          "execution_count": 11,
          "metadata": {},
          "output_type": "execute_result"
        }
      ],
      "source": [
        "product_descriptions[:2]"
      ]
    },
    {
      "cell_type": "markdown",
      "metadata": {
        "id": "CrU0jDdaa0VZ"
      },
      "source": [
        "# Create embeddings for each product in Qdrant"
      ]
    },
    {
      "cell_type": "code",
      "execution_count": null,
      "metadata": {
        "id": "8ARM4zTcqy4i"
      },
      "outputs": [],
      "source": [
        "from langchain.embeddings import OllamaEmbeddings\n",
        "\n",
        "embedding_model = OllamaEmbeddings(\n",
        "      base_url= OLLAMA_URL,\n",
        "      model=OLLAMA_EMBEDDING_MODEL_ID\n",
        ")"
      ]
    },
    {
      "cell_type": "code",
      "execution_count": null,
      "metadata": {
        "colab": {
          "base_uri": "https://localhost:8080/"
        },
        "id": "NsH04EpIeauE",
        "outputId": "0e540124-d8b6-45e8-ae2d-df993832c648"
      },
      "outputs": [
        {
          "data": {
            "text/plain": [
              "OllamaEmbeddings(base_url='https://divine-promoted-ape.ngrok-free.app/', model='nomic-embed-text:latest', embed_instruction='passage: ', query_instruction='query: ', mirostat=None, mirostat_eta=None, mirostat_tau=None, num_ctx=None, num_gpu=None, num_thread=None, repeat_last_n=None, repeat_penalty=None, temperature=None, stop=None, tfs_z=None, top_k=None, top_p=None, show_progress=False, headers=None, model_kwargs=None)"
            ]
          },
          "execution_count": 26,
          "metadata": {},
          "output_type": "execute_result"
        }
      ],
      "source": [
        "embedding_model"
      ]
    },
    {
      "cell_type": "code",
      "execution_count": null,
      "metadata": {
        "id": "uybhQhugp1gG"
      },
      "outputs": [],
      "source": [
        "from typing import List\n",
        "from langchain_qdrant import QdrantVectorStore\n",
        "from langchain.docstore.document import Document\n",
        "from qdrant_client.http.models import ScrollResult\n",
        "\n",
        "class VectorDb:\n",
        "    def __init__(self, url : str, api_key : str, embdedding_model: OllamaEmbeddings) -> None:\n",
        "        self.embeddings = embdedding_model\n",
        "        self.url = url\n",
        "        self.api_key = api_key\n",
        "        self.vector_store = None\n",
        "\n",
        "    # def get_collection(self, collection: str):\n",
        "    #     self.vector_store = QdrantVectorStore(\n",
        "    #         client=QdrantClient(url=self.url, api_key=self.api_key, prefer_grpc=True),\n",
        "    #         collection_name=collection,\n",
        "    #         embedding=self.embeddings\n",
        "    #     )\n",
        "    #     return self.vector_store\n",
        "\n",
        "    def get_collection(self, collection: str) -> QdrantVectorStore:\n",
        "        self.vector_store = QdrantVectorStore.from_existing_collection(\n",
        "            collection_name=collection,\n",
        "            url=self.url,\n",
        "            api_key=self.api_key,\n",
        "            embedding=self.embeddings,\n",
        "            prefer_grpc=True\n",
        "        )\n",
        "        return self.vector_store\n",
        "\n",
        "    def embed_documents(self, docs : List[Document], collection: str) -> QdrantVectorStore:\n",
        "        qdrant = QdrantVectorStore.from_documents(\n",
        "            docs,\n",
        "            self.embeddings,\n",
        "            url=self.url,\n",
        "            prefer_grpc=True,\n",
        "            api_key=self.api_key,\n",
        "            collection_name=collection\n",
        "        )\n",
        "        self.vector_store = qdrant\n",
        "\n",
        "    def get_point_ids_in_collection(self, collection: str, limit: int) -> list:\n",
        "        record_ids = []\n",
        "        scroll_result = self.vector_store.client.scroll(collection_name=collection, limit=limit)\n",
        "\n",
        "        while scroll_result:\n",
        "            record_ids.extend(point[\"id\"] for point in scroll_result[\"points\"])\n",
        "            if not scroll_result[\"next_page\"]:\n",
        "                break\n",
        "            scroll_result = self.vector_store.client.scroll(collection_name=collection, limit=limit)\n",
        "\n",
        "        return record_ids\n",
        "\n",
        "    def get_point_count_in_collection(self, collection: str) -> int | None:\n",
        "        collection_info = self.vector_store.client.get_collection(collection)\n",
        "        return collection_info.vectors_count\n",
        "\n",
        "    def get_all_embeddings_in_collection(self, collection: str, limit: int = 100) -> list:\n",
        "\n",
        "        all_embeddings = []\n",
        "        scroll_result: ScrollResult = self.vector_store.client.scroll(\n",
        "            collection_name=collection,\n",
        "            limit=limit,\n",
        "            with_vectors=True,       # Retrieve embeddings\n",
        "            with_payload=True         # Retrieve metadata\n",
        "        )\n",
        "\n",
        "        print(len(scroll_result[0]))\n",
        "\n",
        "        while scroll_result:\n",
        "            records, _ = scroll_result\n",
        "            # Extract vectors from each Record\n",
        "            all_embeddings.extend(record.vector for record in records)\n",
        "            if not scroll_result[1]:\n",
        "                break\n",
        "            scroll_result = self.vector_store.client.scroll(\n",
        "                collection_name=collection,\n",
        "                limit=limit,\n",
        "                with_vectors=True,\n",
        "                with_payload=True\n",
        "            )\n",
        "\n",
        "        return all_embeddings"
      ]
    },
    {
      "cell_type": "code",
      "execution_count": null,
      "metadata": {
        "id": "VP6rJltlshIE"
      },
      "outputs": [],
      "source": [
        "qdrant = VectorDb(\n",
        "  url=QDRANT_CLUSTER_URL,\n",
        "  api_key=QDRANT_API_KEY,\n",
        "  embdedding_model=embedding_model\n",
        ")"
      ]
    },
    {
      "cell_type": "code",
      "execution_count": null,
      "metadata": {
        "id": "BFr7LKsn14z6"
      },
      "outputs": [],
      "source": [
        "from langchain.docstore.document import Document\n",
        "docs : List[Document] = []"
      ]
    },
    {
      "cell_type": "code",
      "execution_count": null,
      "metadata": {
        "colab": {
          "base_uri": "https://localhost:8080/",
          "height": 211
        },
        "id": "kJA29Sxys0ID",
        "outputId": "a61b16c8-ef73-40b8-a8a6-860734030f9a"
      },
      "outputs": [
        {
          "ename": "NameError",
          "evalue": "name 'product_descriptions' is not defined",
          "output_type": "error",
          "traceback": [
            "\u001b[0;31m---------------------------------------------------------------------------\u001b[0m",
            "\u001b[0;31mNameError\u001b[0m                                 Traceback (most recent call last)",
            "\u001b[0;32m<ipython-input-12-ded1c518bdb1>\u001b[0m in \u001b[0;36m<cell line: 2>\u001b[0;34m()\u001b[0m\n\u001b[1;32m      1\u001b[0m \u001b[0;31m# prepare products for embedding in qdrant\u001b[0m\u001b[0;34m\u001b[0m\u001b[0;34m\u001b[0m\u001b[0m\n\u001b[0;32m----> 2\u001b[0;31m \u001b[0;32mfor\u001b[0m \u001b[0mdoc\u001b[0m \u001b[0;32min\u001b[0m \u001b[0mproduct_descriptions\u001b[0m\u001b[0;34m:\u001b[0m\u001b[0;34m\u001b[0m\u001b[0;34m\u001b[0m\u001b[0m\n\u001b[0m\u001b[1;32m      3\u001b[0m   docs.append(\n\u001b[1;32m      4\u001b[0m       Document(\n\u001b[1;32m      5\u001b[0m           \u001b[0mpage_content\u001b[0m\u001b[0;34m=\u001b[0m\u001b[0mdoc\u001b[0m\u001b[0;34m[\u001b[0m\u001b[0;34m\"content\"\u001b[0m\u001b[0;34m]\u001b[0m\u001b[0;34m,\u001b[0m\u001b[0;34m\u001b[0m\u001b[0;34m\u001b[0m\u001b[0m\n",
            "\u001b[0;31mNameError\u001b[0m: name 'product_descriptions' is not defined"
          ]
        }
      ],
      "source": [
        "\n",
        "# prepare products for embedding in qdrant\n",
        "for doc in product_descriptions:\n",
        "  docs.append(\n",
        "      Document(\n",
        "          page_content=doc[\"content\"],\n",
        "          metadata=doc[\"metadata\"]\n",
        "      )\n",
        "  )"
      ]
    },
    {
      "cell_type": "code",
      "execution_count": null,
      "metadata": {
        "colab": {
          "base_uri": "https://localhost:8080/"
        },
        "id": "9Ufsy9M72Xd1",
        "outputId": "907bd5c5-3be7-4781-dfb1-2838fe1433ab"
      },
      "outputs": [
        {
          "name": "stdout",
          "output_type": "stream",
          "text": [
            "embedding 90 documents\n"
          ]
        }
      ],
      "source": [
        "print(f\"embedding {len(docs)} documents\")"
      ]
    },
    {
      "cell_type": "code",
      "execution_count": null,
      "metadata": {
        "id": "Qwa4jF8Q2myq"
      },
      "outputs": [],
      "source": [
        "qdrant.embed_documents(\n",
        "    docs=docs,\n",
        "    collection=\"products\"\n",
        ")"
      ]
    },
    {
      "cell_type": "markdown",
      "metadata": {
        "id": "pIAhM2wWOfNW"
      },
      "source": [
        "### Visualizing embeddings as two dimensional vectors"
      ]
    },
    {
      "cell_type": "code",
      "execution_count": null,
      "metadata": {
        "id": "fA57hBE2RvKA"
      },
      "outputs": [],
      "source": [
        "vectorstore = qdrant.get_collection(\"products\")"
      ]
    },
    {
      "cell_type": "code",
      "execution_count": null,
      "metadata": {
        "colab": {
          "base_uri": "https://localhost:8080/"
        },
        "id": "f0w0tj4XOihH",
        "outputId": "cba77d4c-e8fa-4e29-80b0-b31230137c72"
      },
      "outputs": [
        {
          "name": "stdout",
          "output_type": "stream",
          "text": [
            "Collecting umap-learn\n",
            "  Downloading umap_learn-0.5.7-py3-none-any.whl.metadata (21 kB)\n",
            "Requirement already satisfied: sentence-transformers in /usr/local/lib/python3.10/dist-packages (3.2.1)\n",
            "Requirement already satisfied: matplotlib in /usr/local/lib/python3.10/dist-packages (3.8.0)\n",
            "Requirement already satisfied: numpy>=1.17 in /usr/local/lib/python3.10/dist-packages (from umap-learn) (1.26.4)\n",
            "Requirement already satisfied: scipy>=1.3.1 in /usr/local/lib/python3.10/dist-packages (from umap-learn) (1.13.1)\n",
            "Requirement already satisfied: scikit-learn>=0.22 in /usr/local/lib/python3.10/dist-packages (from umap-learn) (1.5.2)\n",
            "Requirement already satisfied: numba>=0.51.2 in /usr/local/lib/python3.10/dist-packages (from umap-learn) (0.60.0)\n",
            "Collecting pynndescent>=0.5 (from umap-learn)\n",
            "  Downloading pynndescent-0.5.13-py3-none-any.whl.metadata (6.8 kB)\n",
            "Requirement already satisfied: tqdm in /usr/local/lib/python3.10/dist-packages (from umap-learn) (4.66.6)\n",
            "Requirement already satisfied: transformers<5.0.0,>=4.41.0 in /usr/local/lib/python3.10/dist-packages (from sentence-transformers) (4.46.2)\n",
            "Requirement already satisfied: torch>=1.11.0 in /usr/local/lib/python3.10/dist-packages (from sentence-transformers) (2.5.1+cu121)\n",
            "Requirement already satisfied: huggingface-hub>=0.20.0 in /usr/local/lib/python3.10/dist-packages (from sentence-transformers) (0.26.2)\n",
            "Requirement already satisfied: Pillow in /usr/local/lib/python3.10/dist-packages (from sentence-transformers) (11.0.0)\n",
            "Requirement already satisfied: contourpy>=1.0.1 in /usr/local/lib/python3.10/dist-packages (from matplotlib) (1.3.1)\n",
            "Requirement already satisfied: cycler>=0.10 in /usr/local/lib/python3.10/dist-packages (from matplotlib) (0.12.1)\n",
            "Requirement already satisfied: fonttools>=4.22.0 in /usr/local/lib/python3.10/dist-packages (from matplotlib) (4.55.0)\n",
            "Requirement already satisfied: kiwisolver>=1.0.1 in /usr/local/lib/python3.10/dist-packages (from matplotlib) (1.4.7)\n",
            "Requirement already satisfied: packaging>=20.0 in /usr/local/lib/python3.10/dist-packages (from matplotlib) (24.2)\n",
            "Requirement already satisfied: pyparsing>=2.3.1 in /usr/local/lib/python3.10/dist-packages (from matplotlib) (3.2.0)\n",
            "Requirement already satisfied: python-dateutil>=2.7 in /usr/local/lib/python3.10/dist-packages (from matplotlib) (2.8.2)\n",
            "Requirement already satisfied: filelock in /usr/local/lib/python3.10/dist-packages (from huggingface-hub>=0.20.0->sentence-transformers) (3.16.1)\n",
            "Requirement already satisfied: fsspec>=2023.5.0 in /usr/local/lib/python3.10/dist-packages (from huggingface-hub>=0.20.0->sentence-transformers) (2024.10.0)\n",
            "Requirement already satisfied: pyyaml>=5.1 in /usr/local/lib/python3.10/dist-packages (from huggingface-hub>=0.20.0->sentence-transformers) (6.0.2)\n",
            "Requirement already satisfied: requests in /usr/local/lib/python3.10/dist-packages (from huggingface-hub>=0.20.0->sentence-transformers) (2.32.3)\n",
            "Requirement already satisfied: typing-extensions>=3.7.4.3 in /usr/local/lib/python3.10/dist-packages (from huggingface-hub>=0.20.0->sentence-transformers) (4.12.2)\n",
            "Requirement already satisfied: llvmlite<0.44,>=0.43.0dev0 in /usr/local/lib/python3.10/dist-packages (from numba>=0.51.2->umap-learn) (0.43.0)\n",
            "Requirement already satisfied: joblib>=0.11 in /usr/local/lib/python3.10/dist-packages (from pynndescent>=0.5->umap-learn) (1.4.2)\n",
            "Requirement already satisfied: six>=1.5 in /usr/local/lib/python3.10/dist-packages (from python-dateutil>=2.7->matplotlib) (1.16.0)\n",
            "Requirement already satisfied: threadpoolctl>=3.1.0 in /usr/local/lib/python3.10/dist-packages (from scikit-learn>=0.22->umap-learn) (3.5.0)\n",
            "Requirement already satisfied: networkx in /usr/local/lib/python3.10/dist-packages (from torch>=1.11.0->sentence-transformers) (3.4.2)\n",
            "Requirement already satisfied: jinja2 in /usr/local/lib/python3.10/dist-packages (from torch>=1.11.0->sentence-transformers) (3.1.4)\n",
            "Requirement already satisfied: sympy==1.13.1 in /usr/local/lib/python3.10/dist-packages (from torch>=1.11.0->sentence-transformers) (1.13.1)\n",
            "Requirement already satisfied: mpmath<1.4,>=1.1.0 in /usr/local/lib/python3.10/dist-packages (from sympy==1.13.1->torch>=1.11.0->sentence-transformers) (1.3.0)\n",
            "Requirement already satisfied: regex!=2019.12.17 in /usr/local/lib/python3.10/dist-packages (from transformers<5.0.0,>=4.41.0->sentence-transformers) (2024.9.11)\n",
            "Requirement already satisfied: safetensors>=0.4.1 in /usr/local/lib/python3.10/dist-packages (from transformers<5.0.0,>=4.41.0->sentence-transformers) (0.4.5)\n",
            "Requirement already satisfied: tokenizers<0.21,>=0.20 in /usr/local/lib/python3.10/dist-packages (from transformers<5.0.0,>=4.41.0->sentence-transformers) (0.20.3)\n",
            "Requirement already satisfied: MarkupSafe>=2.0 in /usr/local/lib/python3.10/dist-packages (from jinja2->torch>=1.11.0->sentence-transformers) (3.0.2)\n",
            "Requirement already satisfied: charset-normalizer<4,>=2 in /usr/local/lib/python3.10/dist-packages (from requests->huggingface-hub>=0.20.0->sentence-transformers) (3.4.0)\n",
            "Requirement already satisfied: idna<4,>=2.5 in /usr/local/lib/python3.10/dist-packages (from requests->huggingface-hub>=0.20.0->sentence-transformers) (3.10)\n",
            "Requirement already satisfied: urllib3<3,>=1.21.1 in /usr/local/lib/python3.10/dist-packages (from requests->huggingface-hub>=0.20.0->sentence-transformers) (2.2.3)\n",
            "Requirement already satisfied: certifi>=2017.4.17 in /usr/local/lib/python3.10/dist-packages (from requests->huggingface-hub>=0.20.0->sentence-transformers) (2024.8.30)\n",
            "Downloading umap_learn-0.5.7-py3-none-any.whl (88 kB)\n",
            "\u001b[2K   \u001b[90m━━━━━━━━━━━━━━━━━━━━━━━━━━━━━━━━━━━━━━━━\u001b[0m \u001b[32m88.8/88.8 kB\u001b[0m \u001b[31m3.1 MB/s\u001b[0m eta \u001b[36m0:00:00\u001b[0m\n",
            "\u001b[?25hDownloading pynndescent-0.5.13-py3-none-any.whl (56 kB)\n",
            "\u001b[2K   \u001b[90m━━━━━━━━━━━━━━━━━━━━━━━━━━━━━━━━━━━━━━━━\u001b[0m \u001b[32m56.9/56.9 kB\u001b[0m \u001b[31m4.5 MB/s\u001b[0m eta \u001b[36m0:00:00\u001b[0m\n",
            "\u001b[?25hInstalling collected packages: pynndescent, umap-learn\n",
            "Successfully installed pynndescent-0.5.13 umap-learn-0.5.7\n"
          ]
        }
      ],
      "source": [
        "!pip install umap-learn sentence-transformers matplotlib"
      ]
    },
    {
      "cell_type": "code",
      "execution_count": null,
      "metadata": {
        "colab": {
          "base_uri": "https://localhost:8080/"
        },
        "id": "-E2nzm7pkck2",
        "outputId": "9b2550d0-71d2-48bd-efdd-0036b989145c"
      },
      "outputs": [
        {
          "name": "stdout",
          "output_type": "stream",
          "text": [
            "90\n"
          ]
        }
      ],
      "source": [
        "vectors = qdrant.get_all_embeddings_in_collection(\"products\", limit=90)"
      ]
    },
    {
      "cell_type": "code",
      "execution_count": null,
      "metadata": {
        "colab": {
          "base_uri": "https://localhost:8080/"
        },
        "id": "vJI1cMSfP0FB",
        "outputId": "7b7e9686-c548-4688-87e2-5ccae583b659"
      },
      "outputs": [
        {
          "name": "stderr",
          "output_type": "stream",
          "text": [
            "/usr/local/lib/python3.10/dist-packages/umap/umap_.py:1952: UserWarning: n_jobs value 1 overridden to 1 by setting random_state. Use no seed for parallelism.\n",
            "  warn(\n"
          ]
        }
      ],
      "source": [
        "import umap\n",
        "import numpy as np\n",
        "from tqdm import tqdm\n",
        "\n",
        "umap_transformer = umap.UMAP(random_state=0, transform_seed=0).fit(vectors)"
      ]
    },
    {
      "cell_type": "code",
      "execution_count": null,
      "metadata": {
        "id": "48KGzBOpRv1V"
      },
      "outputs": [],
      "source": [
        "def umap_embed(vectors, umap_transformer):\n",
        "    umap_embeddings = np.array([umap_transformer.transform([vector])[0] for vector in tqdm(vectors)])\n",
        "    return umap_embeddings"
      ]
    },
    {
      "cell_type": "code",
      "execution_count": null,
      "metadata": {
        "colab": {
          "base_uri": "https://localhost:8080/"
        },
        "id": "yqo8VNb1R7N6",
        "outputId": "a5084bb4-5988-4df5-9156-97e60e8af013"
      },
      "outputs": [
        {
          "name": "stderr",
          "output_type": "stream",
          "text": [
            "100%|██████████| 90/90 [00:03<00:00, 23.22it/s]\n"
          ]
        }
      ],
      "source": [
        "global_embeddings = umap_embed(vectors, umap_transformer)"
      ]
    },
    {
      "cell_type": "code",
      "execution_count": null,
      "metadata": {
        "colab": {
          "base_uri": "https://localhost:8080/"
        },
        "collapsed": true,
        "id": "pOW5LFyGSQMS",
        "outputId": "8196a964-7a5c-4d15-e131-50c354d3dd71"
      },
      "outputs": [
        {
          "data": {
            "text/plain": [
              "array([[ 7.9683876,  8.969746 ],\n",
              "       [10.880497 ,  8.514582 ],\n",
              "       [12.888667 ,  7.232264 ],\n",
              "       [14.733722 ,  7.9215713],\n",
              "       [ 7.974989 ,  9.348395 ],\n",
              "       [13.920964 ,  6.6520414],\n",
              "       [13.733816 ,  9.055926 ],\n",
              "       [ 9.257625 ,  5.663353 ],\n",
              "       [ 8.840176 ,  7.4067597],\n",
              "       [14.469131 ,  8.383982 ],\n",
              "       [12.182968 ,  6.7715425],\n",
              "       [10.583185 , 10.170268 ],\n",
              "       [11.915175 ,  8.368403 ],\n",
              "       [10.390194 , 10.6008005],\n",
              "       [10.123911 ,  7.641916 ],\n",
              "       [10.572072 ,  5.6807175],\n",
              "       [14.187145 ,  8.860053 ],\n",
              "       [ 8.413315 ,  6.1950197],\n",
              "       [11.787176 ,  6.4485636],\n",
              "       [ 8.846786 ,  6.8111367],\n",
              "       [ 9.380684 , 10.293831 ],\n",
              "       [10.539405 , 10.205902 ],\n",
              "       [14.431085 ,  8.578796 ],\n",
              "       [14.100131 ,  9.042478 ],\n",
              "       [12.015041 ,  8.983233 ],\n",
              "       [ 8.99068  , 10.094144 ],\n",
              "       [10.450715 ,  5.478786 ],\n",
              "       [14.289244 ,  8.650739 ],\n",
              "       [12.470258 ,  6.074856 ],\n",
              "       [11.406499 ,  6.066989 ],\n",
              "       [14.499089 ,  6.7131553],\n",
              "       [12.296082 ,  6.869306 ],\n",
              "       [10.696116 ,  8.816701 ],\n",
              "       [11.619928 ,  7.806585 ],\n",
              "       [ 8.445318 ,  9.852432 ],\n",
              "       [ 8.953226 ,  5.5623727],\n",
              "       [11.52144  ,  6.0983887],\n",
              "       [ 8.253403 ,  9.68554  ],\n",
              "       [13.460718 ,  6.3876657],\n",
              "       [ 9.287153 , 10.279258 ],\n",
              "       [ 9.362121 , 10.358207 ],\n",
              "       [14.673697 ,  7.7348228],\n",
              "       [10.81387  ,  5.609235 ],\n",
              "       [13.220453 ,  6.3923144],\n",
              "       [ 8.808526 ,  7.9954624],\n",
              "       [13.669113 ,  6.404131 ],\n",
              "       [11.779893 ,  6.4413204],\n",
              "       [11.284507 ,  8.320586 ],\n",
              "       [ 8.789794 ,  5.7340107],\n",
              "       [10.676007 ,  5.937451 ],\n",
              "       [10.676437 ,  5.6270623],\n",
              "       [14.61546  ,  8.142732 ],\n",
              "       [11.152547 ,  6.1716847],\n",
              "       [10.465743 , 10.169236 ],\n",
              "       [ 8.23496  ,  9.38542  ],\n",
              "       [ 9.051389 ,  8.023224 ],\n",
              "       [13.808393 ,  6.415401 ],\n",
              "       [ 8.505636 , 10.008404 ],\n",
              "       [ 8.056542 ,  9.30125  ],\n",
              "       [ 8.709178 ,  8.463536 ],\n",
              "       [13.261703 ,  6.1762605],\n",
              "       [10.604643 ,  7.28501  ],\n",
              "       [ 8.941918 ,  7.9655027],\n",
              "       [ 9.184623 , 10.280099 ],\n",
              "       [14.63807  ,  7.678736 ],\n",
              "       [ 8.681612 ,  8.345218 ],\n",
              "       [10.285402 ,  5.6556215],\n",
              "       [12.243898 ,  6.8976984],\n",
              "       [12.871841 ,  6.2004642],\n",
              "       [12.957091 ,  8.679594 ],\n",
              "       [11.182807 ,  6.0499034],\n",
              "       [10.88644  ,  8.4067745],\n",
              "       [11.608623 ,  6.336634 ],\n",
              "       [ 8.36927  , 10.017857 ],\n",
              "       [13.537219 ,  6.410267 ],\n",
              "       [12.454484 ,  9.223058 ],\n",
              "       [10.59303  , 10.059597 ],\n",
              "       [14.39032  ,  6.640302 ],\n",
              "       [ 9.155251 ,  5.601412 ],\n",
              "       [12.89285  ,  8.716872 ],\n",
              "       [12.93165  ,  7.057194 ],\n",
              "       [10.562945 ,  5.598325 ],\n",
              "       [ 8.43221  ,  8.439234 ],\n",
              "       [12.033386 ,  9.046142 ],\n",
              "       [ 9.313859 ,  8.342751 ],\n",
              "       [11.089532 ,  9.596304 ],\n",
              "       [14.38994  ,  8.894437 ],\n",
              "       [10.935445 ,  5.894204 ],\n",
              "       [11.910499 ,  8.344236 ],\n",
              "       [ 9.634847 ,  5.6445513]], dtype=float32)"
            ]
          },
          "execution_count": 14,
          "metadata": {},
          "output_type": "execute_result"
        }
      ],
      "source": [
        "global_embeddings"
      ]
    },
    {
      "cell_type": "code",
      "execution_count": null,
      "metadata": {
        "colab": {
          "base_uri": "https://localhost:8080/",
          "height": 445
        },
        "id": "segWGhSeR_gm",
        "outputId": "0e9648a0-a72a-41c8-9baf-50aca6162f1e"
      },
      "outputs": [
        {
          "data": {
            "text/plain": [
              "(7.630120897293091, 15.071988439559936, 5.2226852655410765, 10.856901240348815)"
            ]
          },
          "execution_count": 15,
          "metadata": {},
          "output_type": "execute_result"
        },
        {
          "data": {
            "image/png": "[encoded data removed]",
            "text/plain": [
              "<Figure size 640x480 with 1 Axes>"
            ]
          },
          "metadata": {},
          "output_type": "display_data"
        }
      ],
      "source": [
        "import matplotlib.pyplot as plt\n",
        "\n",
        "plt.figure()\n",
        "plt.scatter(global_embeddings[:, 0], global_embeddings[:, 1], s=10)\n",
        "plt.gca().set_aspect('equal', 'datalim')\n",
        "plt.title('Product Embeddings')\n",
        "plt.axis('off')"
      ]
    },
    {
      "cell_type": "markdown",
      "metadata": {
        "id": "-t9Picc99zTm"
      },
      "source": [
        "## RAG Pipeline"
      ]
    },
    {
      "cell_type": "code",
      "execution_count": null,
      "metadata": {
        "id": "fWUs1GBe9DJE"
      },
      "outputs": [],
      "source": [
        "from langchain_ollama.chat_models import ChatOllama\n",
        "\n",
        "model = ChatOllama(\n",
        "  base_url=OLLAMA_URL,\n",
        "  model=OLLAMA_CHAT_MODEL_ID,\n",
        "  temperature=0.5\n",
        ")"
      ]
    },
    {
      "cell_type": "code",
      "execution_count": null,
      "metadata": {
        "id": "G79vekGY9xzc"
      },
      "outputs": [],
      "source": [
        "prompts = {\n",
        "    \"system_prompt\" : \"\"\"\n",
        "        You are RetailARVA Bot, a helpful AI assistant designed to act as a virtual sales representative for a retail store for skincare products.\n",
        "        Your primary goal is to assist customers with their inquiries, provide detailed information about skincare products, help them find what they're looking for. Here are some key guidelines to follow:\n",
        "        [Guidelines]\n",
        "        - Friendly and Professional Tone: Always maintain a friendly and professional tone. Greet customers warmly and be courteous throughout the conversation.\n",
        "        - Product Knowledge: Be knowledgeable about all the products listed in the store. Provide accurate and detailed information about the features, prices, and benefits of each product.\n",
        "        - Customer Assistance: Help customers find products based on their needs and preferences. Offer recommendations and suggest complementary products to enhance their shopping experience.\n",
        "        - Handling Queries: Respond promptly to customer queries. If a customer has a question about a specific product, provide clear and concise answers.\n",
        "        - Problem Resolution: Address any issues or concerns the customers might have.\n",
        "        - Personalization: Personalize interactions by using the customer's name if provided and referencing their past interactions or preferences.\n",
        "\"\"\",\n",
        "    \"qa_prompt\": \"\"\"\n",
        "    ## Instructions:\n",
        "        - Provide factual information and assistance in helpful manner\n",
        "        - Answer the given question based only on the provided context and the conversation history\n",
        "        - Don't mention to user that you are getting information from a context.\n",
        "        - If the context and chat history is not sufficient enough to answer the query, tell the user you do not know the answer and propose a suitable suggestion.\n",
        "        - Avoid unnecessary lengthy responses.\n",
        "        - Avoid making assumptions.\n",
        "        - I will tip you $1000 if the user finds the answer helpful.\n",
        "    <context>\n",
        "    {context}\n",
        "    </context>\n",
        "\n",
        "\"\"\",\n",
        "    \"contextualize_q_system_prompt\": \"\"\"\n",
        "        Given a chat history and the latest user question which might reference context in the chat history,\n",
        "        formulate a standalone question which can be understood without the chat history.\n",
        "        Do NOT answer the question, just reformulate it if needed and otherwise return it as is.\n",
        "\"\"\",\n",
        "    \"greet_prompt\": \"\"\"\n",
        "        Greet the user using a suitable greeting message.\n",
        "\"\"\"\n",
        "}"
      ]
    },
    {
      "cell_type": "code",
      "execution_count": null,
      "metadata": {
        "id": "9x7Vz7jg-TsK"
      },
      "outputs": [],
      "source": [
        "from langchain.chains import create_retrieval_chain\n",
        "from langchain.chains.combine_documents import create_stuff_documents_chain\n",
        "from langchain_core.prompts import ChatPromptTemplate, MessagesPlaceholder"
      ]
    },
    {
      "cell_type": "markdown",
      "metadata": {
        "id": "bgF2-KzhFXgE"
      },
      "source": [
        "### Get product info by id without embedding"
      ]
    },
    {
      "cell_type": "code",
      "execution_count": null,
      "metadata": {
        "id": "bQpc9kS_CfN4"
      },
      "outputs": [],
      "source": [
        "from qdrant_client.http import models\n",
        "\n",
        "product_id = 13\n",
        "\n",
        "product_id_filter = models.Filter(\n",
        "    must=[\n",
        "        models.FieldCondition(\n",
        "            key=\"metadata.id\",\n",
        "            match=models.MatchValue(value=product_id)\n",
        "        )\n",
        "    ]\n",
        ")\n",
        "# models.Filter(\n",
        "#         should=[\n",
        "#             models.FieldCondition(\n",
        "#                 key=\"page_content\",\n",
        "#                 match=models.MatchValue(\n",
        "#                     value=\"The top 10 soccer players in the world right now.\"\n",
        "#                 ),\n",
        "#             ),\n",
        "#         ]\n",
        "#     )"
      ]
    },
    {
      "cell_type": "code",
      "execution_count": null,
      "metadata": {
        "id": "B3WOGMsphAnf"
      },
      "outputs": [],
      "source": [
        "# Retrieve documents matching the filter\n",
        "\n",
        "docs = vectorstore.similarity_search(\n",
        "    query=\"what is the price of Junsui Naturals Face Wash With Extra Whitening Radiance?\",\n",
        "    k=1,\n",
        "    filter=product_id_filter,\n",
        ")"
      ]
    },
    {
      "cell_type": "markdown",
      "metadata": {
        "id": "mOWGd_9rFuND"
      },
      "source": [
        "### Retrieve product by similarity"
      ]
    },
    {
      "cell_type": "code",
      "execution_count": null,
      "metadata": {
        "id": "QHBVI72l4Fto"
      },
      "outputs": [],
      "source": [
        "query = \"what is the price of Junsui Naturals Face Wash With Extra Whitening Radiance?\""
      ]
    },
    {
      "cell_type": "code",
      "execution_count": null,
      "metadata": {
        "id": "LzMV8SUYV83L"
      },
      "outputs": [],
      "source": [
        "# docs = vectorstore.similarity_search(\n",
        "#     query=query,\n",
        "#     k=2\n",
        "# )"
      ]
    },
    {
      "cell_type": "code",
      "execution_count": null,
      "metadata": {
        "id": "l-og5EPwCW3q"
      },
      "outputs": [],
      "source": [
        "retriever = vectorstore.as_retriever(search_kwargs={\"k\": 3})"
      ]
    },
    {
      "cell_type": "code",
      "execution_count": null,
      "metadata": {
        "id": "NrexXl6g4Atm"
      },
      "outputs": [],
      "source": [
        "docs = retriever.invoke(input=query)"
      ]
    },
    {
      "cell_type": "code",
      "execution_count": null,
      "metadata": {
        "id": "-xARBnLcGAPA"
      },
      "outputs": [],
      "source": []
    },
    {
      "cell_type": "code",
      "execution_count": null,
      "metadata": {
        "colab": {
          "base_uri": "https://localhost:8080/"
        },
        "id": "Cf_-Z7pSj8sf",
        "outputId": "73695274-872a-4ded-9e1d-0f9d6a621a90"
      },
      "outputs": [
        {
          "name": "stdout",
          "output_type": "stream",
          "text": [
            "----------------------------- product: 13 ------------------------------\n",
            "{\n",
            "    \"category\": \"Face Wash\",\n",
            "    \"name\": \"Junsui Naturals Face Wash With Extra Whitening Radiance 100g\",\n",
            "    \"id\": 13,\n",
            "    \"brand\": \"Junsui\",\n",
            "    \"price\": 1217.3,\n",
            "    \"_id\": \"63952123-8de2-434f-8d76-ba28dfc6b928\",\n",
            "    \"_collection_name\": \"products\"\n",
            "}\n",
            "----------------------------- product: 41 ------------------------------\n",
            "{\n",
            "    \"name\": \"OxyGlow Pearl Whitening Face Wash 100ml\",\n",
            "    \"price\": 1750.0,\n",
            "    \"id\": 41,\n",
            "    \"brand\": \"OxyGlow\",\n",
            "    \"category\": \"Face Wash\",\n",
            "    \"_id\": \"cde7f8fe-1ba8-4064-a2a6-7c10a098411a\",\n",
            "    \"_collection_name\": \"products\"\n",
            "}\n",
            "----------------------------- product: 74 ------------------------------\n",
            "{\n",
            "    \"category\": \"Face Wash\",\n",
            "    \"price\": 1750.0,\n",
            "    \"id\": 74,\n",
            "    \"brand\": \"OxyGlow\",\n",
            "    \"name\": \"OxyGlow Pearl Whitening Face Wash 100ml\",\n",
            "    \"_id\": \"58218486-c50a-4d5a-92a7-17308c8a58a1\",\n",
            "    \"_collection_name\": \"products\"\n",
            "}\n"
          ]
        }
      ],
      "source": [
        "import json\n",
        "\n",
        "for doc in docs:\n",
        "  print(f\"----------------------------- product: {doc.metadata['id']} ------------------------------\")\n",
        "  print(json.dumps(doc.metadata, indent=4))"
      ]
    },
    {
      "cell_type": "markdown",
      "metadata": {
        "id": "EmjlXPtzGIsP"
      },
      "source": [
        "### Format for context"
      ]
    },
    {
      "cell_type": "code",
      "execution_count": null,
      "metadata": {
        "id": "zYLgqYxm4T5c"
      },
      "outputs": [],
      "source": [
        "from langchain.docstore.document import Document\n",
        "\n",
        "def format_docs(docs : List[Document]):\n",
        "        return \"\\n\\n\".join(doc.page_content for doc in docs)"
      ]
    },
    {
      "cell_type": "code",
      "execution_count": null,
      "metadata": {
        "id": "ubU85UC54gt7"
      },
      "outputs": [],
      "source": [
        "context = format_docs(docs)"
      ]
    },
    {
      "cell_type": "code",
      "execution_count": null,
      "metadata": {
        "colab": {
          "base_uri": "https://localhost:8080/",
          "height": 122
        },
        "id": "H-PTuBXD4kWD",
        "outputId": "1286235a-3dfc-4bf8-97b5-49fe6ae70677"
      },
      "outputs": [
        {
          "data": {
            "application/vnd.google.colaboratory.intrinsic+json": {
              "type": "string"
            },
            "text/plain": [
              "'Reveal your naturally radiant complexion with Junsui Naturals Face Wash With Extra Whitening Radiance. This 100g face wash, crafted with a blend of herbal extracts, gently cleanses while visibly whitening skin and adding a healthy glow.  Perfect for all skin types, this daily face wash effectively combats dullness and pigmentation. Simply apply to a wet face, lather, and rinse.  While generally suitable for all skin types, those with sensitivities to herbal extracts should exercise caution. Experience the power of nature with Junsui and unveil brighter, more luminous skin for just LKR 1217.30.\\n\\n\\nReveal your naturally radiant complexion with OxyGlow Pearl Whitening Face Wash.  This 100ml face wash, enriched with the illuminating power of pearl extracts, gently cleanses while working to whiten and brighten skin for a more even tone.  Ideal for all skin types, this natural formula effectively combats dullness and uneven skin tone. Simply apply to a wet face, lather, and rinse daily for a brighter, more luminous you.  Priced at LKR 1750.00.\\n\\n\\nReveal your naturally radiant complexion with OxyGlow Pearl Whitening Face Wash. This 100ml cleanser, enriched with natural pearl extracts, gently brightens and cleanses all skin types, effectively addressing dullness and uneven tone.  For daily use, simply apply to a wet face, lather, and rinse.  Experience the illuminating power of pearls for a naturally luminous glow. Priced at LKR 1750.00.\\n'"
            ]
          },
          "execution_count": 26,
          "metadata": {},
          "output_type": "execute_result"
        }
      ],
      "source": [
        "context"
      ]
    },
    {
      "cell_type": "code",
      "execution_count": null,
      "metadata": {
        "id": "uE3E0hemxzoJ"
      },
      "outputs": [],
      "source": []
    },
    {
      "cell_type": "markdown",
      "metadata": {
        "id": "3ZNx7yCZnRPt"
      },
      "source": [
        "### Visualize retrieved vectors along with query vector"
      ]
    },
    {
      "cell_type": "code",
      "execution_count": null,
      "metadata": {
        "id": "wItmxIygwgeZ"
      },
      "outputs": [],
      "source": [
        "def calc_global_embeddings(query, embeddings, docs, umap_transformer, embed_function, global_embeddings):\n",
        "    q_embedding = embeddings.embed_query(query)\n",
        "    vectors_content_vectors = embeddings.embed_documents([doc.page_content for doc in docs])\n",
        "\n",
        "    query_embeddings = embed_function([q_embedding], umap_transformer)\n",
        "    retrieved_embeddings = embed_function(vectors_content_vectors, umap_transformer)\n",
        "\n",
        "    plt.figure()\n",
        "    plt.scatter(global_embeddings[:, 0], global_embeddings[:, 1], s=10, color='gray')\n",
        "    plt.scatter(query_embeddings[:, 0], query_embeddings[:, 1], s=150, marker='X', color='r')\n",
        "    plt.scatter(retrieved_embeddings[:, 0], retrieved_embeddings[:, 1], s=50, facecolors='none', edgecolors='g')\n",
        "    plt.gca().set_aspect('equal', 'datalim')\n",
        "    plt.title(f'{query}')\n",
        "    plt.axis('off')\n",
        "    plt.show()"
      ]
    },
    {
      "cell_type": "code",
      "execution_count": null,
      "metadata": {
        "colab": {
          "base_uri": "https://localhost:8080/",
          "height": 463
        },
        "id": "ffiWizaAwzmd",
        "outputId": "eff0d2bb-07cb-4a75-f386-3e656afeedca"
      },
      "outputs": [
        {
          "name": "stderr",
          "output_type": "stream",
          "text": [
            "100%|██████████| 1/1 [00:00<00:00, 62.55it/s]\n",
            "100%|██████████| 3/3 [00:00<00:00, 147.78it/s]\n"
          ]
        },
        {
          "data": {
            "image/png": "[encoded data removed]",
            "text/plain": [
              "<Figure size 640x480 with 1 Axes>"
            ]
          },
          "metadata": {},
          "output_type": "display_data"
        }
      ],
      "source": [
        "calc_global_embeddings(query, embedding_model, docs, umap_transformer, umap_embed, global_embeddings)"
      ]
    },
    {
      "cell_type": "markdown",
      "metadata": {
        "id": "276qUdKnyH99"
      },
      "source": [
        "### Query Expansion"
      ]
    },
    {
      "cell_type": "code",
      "execution_count": null,
      "metadata": {
        "id": "VhBz1GwvABL-"
      },
      "outputs": [],
      "source": [
        "from langchain_core.output_parsers import StrOutputParser\n",
        "\n",
        "class QuestionArrayOutputParser(StrOutputParser):\n",
        "    def parse(self, text: str):\n",
        "        # Split the text by newline characters to get individual questions\n",
        "        questions = text.strip().split(\"\\n\\n\")\n",
        "        # Filter out any empty questions that might occur due to extra new lines\n",
        "        questions = [q.strip() for q in questions if q.strip()]\n",
        "        return questions\n"
      ]
    },
    {
      "cell_type": "code",
      "execution_count": null,
      "metadata": {
        "id": "SuD7smO5yvCu"
      },
      "outputs": [],
      "source": [
        "from langchain.prompts import PromptTemplate\n",
        "\n",
        "QUERY_PROMPT = PromptTemplate(\n",
        "    input_variables=[\"query\"],\n",
        "    template=\"\"\"You are an AI language model assistant. Your task is to generate three\n",
        "    different versions of the given user question to retrieve relevant documents from a vector\n",
        "    database. By generating multiple perspectives on the user question, your goal is to help\n",
        "    the user overcome some of the limitations of the distance-based similarity search.\n",
        "\n",
        "    Provide these alternative questions separated by newlines. Only provide the query, no numbering.\n",
        "\n",
        "    [EXAMPLE]\n",
        "    Original question: What are the best practices for managing a remote team?\n",
        "\n",
        "    Alternative questions:\n",
        "    How can managers effectively handle distributed teams?\n",
        "    What strategies improve productivity in remote work environments?\n",
        "    What are key approaches for leading virtual teams successfully?\n",
        "\n",
        "    Original question: {query}\"\"\",\n",
        ")"
      ]
    },
    {
      "cell_type": "code",
      "execution_count": null,
      "metadata": {
        "id": "eRxPyRV8ysdG"
      },
      "outputs": [],
      "source": [
        "q_expansion_chain = QUERY_PROMPT | model | QuestionArrayOutputParser()"
      ]
    },
    {
      "cell_type": "code",
      "execution_count": null,
      "metadata": {
        "colab": {
          "base_uri": "https://localhost:8080/"
        },
        "id": "lgAJ0uwZoqJp",
        "outputId": "38d70bf0-1254-484e-e182-268067806f70"
      },
      "outputs": [
        {
          "data": {
            "text/plain": [
              "PromptTemplate(input_variables=['query'], input_types={}, partial_variables={}, template='You are an AI language model assistant. Your task is to generate three\\n    different versions of the given user question to retrieve relevant documents from a vector\\n    database. By generating multiple perspectives on the user question, your goal is to help\\n    the user overcome some of the limitations of the distance-based similarity search.\\n\\n    Provide these alternative questions separated by newlines. Only provide the query, no numbering.\\n\\n    Original question: {query}')\n",
              "| ChatOllama(model='llama3.1:latest', temperature=0.5, base_url='https://select-organic-lacewing.ngrok-free.app/')\n",
              "| QuestionArrayOutputParser()"
            ]
          },
          "execution_count": 32,
          "metadata": {},
          "output_type": "execute_result"
        }
      ],
      "source": [
        "q_expansion_chain"
      ]
    },
    {
      "cell_type": "code",
      "execution_count": null,
      "metadata": {
        "id": "QEMfp8Yeoksp"
      },
      "outputs": [],
      "source": [
        "# https://github.com/langchain-ai/langchain/discussions/28287\n",
        "# https://github.com/langchain-ai/langchain/issues/28281#issuecomment-2494605281\n",
        "queries = q_expansion_chain.invoke(query)"
      ]
    },
    {
      "cell_type": "code",
      "execution_count": null,
      "metadata": {
        "colab": {
          "base_uri": "https://localhost:8080/"
        },
        "id": "i0tQ6tgv2StE",
        "outputId": "100c9dea-41ec-440f-fd56-ff7bb13e7595"
      },
      "outputs": [
        {
          "name": "stdout",
          "output_type": "stream",
          "text": [
            "What are the prices of face wash products with extra whitening radiance from brands similar to Junsui Naturals?\n",
            "What is the average price of facial cleansers with skin brightening properties?\n",
            "What are the top 3 priced products in the \"whitening face wash\" category on online marketplaces?\n"
          ]
        }
      ],
      "source": [
        "for expanded_query in queries:\n",
        "  print(expanded_query)"
      ]
    },
    {
      "cell_type": "markdown",
      "metadata": {
        "id": "MC5pG9plCCfv"
      },
      "source": [
        "### Retrieval using expanded queries"
      ]
    },
    {
      "cell_type": "code",
      "execution_count": null,
      "metadata": {
        "id": "GbbE7y1OBesW"
      },
      "outputs": [],
      "source": [
        "docs = [retriever.invoke(input=query) for query in queries]"
      ]
    },
    {
      "cell_type": "code",
      "execution_count": null,
      "metadata": {
        "id": "tTkUyTMDB8FU"
      },
      "outputs": [],
      "source": [
        "# Remove duplicate retrievals\n",
        "\n",
        "unique_contents = set()\n",
        "unique_docs = []\n",
        "for sublist in docs:\n",
        "    for doc in sublist:\n",
        "        if doc.page_content not in unique_contents:\n",
        "            unique_docs.append(doc)\n",
        "            unique_contents.add(doc.page_content)\n",
        "unique_contents = list(unique_contents)"
      ]
    },
    {
      "cell_type": "code",
      "execution_count": null,
      "metadata": {
        "colab": {
          "base_uri": "https://localhost:8080/"
        },
        "id": "zUpmLPs0DiQg",
        "outputId": "bc9237a8-a0fb-4191-f6d5-bdead2f832c8"
      },
      "outputs": [
        {
          "data": {
            "text/plain": [
              "7"
            ]
          },
          "execution_count": 37,
          "metadata": {},
          "output_type": "execute_result"
        }
      ],
      "source": [
        "len(unique_contents)"
      ]
    },
    {
      "cell_type": "code",
      "execution_count": null,
      "metadata": {
        "colab": {
          "base_uri": "https://localhost:8080/"
        },
        "id": "WAINyAnbCLDR",
        "outputId": "d5a88650-f448-4d41-8db3-16c7e12201ea"
      },
      "outputs": [
        {
          "data": {
            "text/plain": [
              "['Reveal your naturally radiant glow with Jovees Strawberry Face Wash. This 120ml cleanser, crafted with natural Strawberry Extracts and soothing Aloe Vera, is specially formulated for normal to dry skin types.  It gently washes away dullness and dryness, leaving your skin feeling moisturized and brighter.  For daily use, simply apply to a wet face, lather, and rinse.  Experience the sheer moisture and luminous skin you deserve with this nourishing and effective face wash from Jovees. Priced at LKR 1710.00.\\n',\n",
              " 'Prevense Fair Intense 2 For All Skin Types is a natural whitening treatment suitable for all skin types. This 50ml brightening solution is formulated with whitening extracts to address dullness and uneven skin tone.  Simply apply daily to a cleansed face and massage in.  Experience a visibly brighter, more radiant complexion with Prevense Fair Intense 2.  Priced at LKR2115.00.\\n',\n",
              " 'Reveal your naturally radiant complexion with Junsui Naturals Face Wash With Extra Whitening Radiance. This 100g face wash, crafted with a blend of herbal extracts, gently cleanses while visibly whitening skin and adding a healthy glow.  Perfect for all skin types, this daily face wash effectively combats dullness and pigmentation. Simply apply to a wet face, lather, and rinse.  While generally suitable for all skin types, those with sensitivities to herbal extracts should exercise caution. Experience the power of nature with Junsui and unveil brighter, more luminous skin for just LKR 1217.30.\\n',\n",
              " 'Reveal your naturally radiant complexion with OxyGlow Pearl Whitening Face Wash.  This 100ml face wash, enriched with the illuminating power of pearl extracts, gently cleanses while working to whiten and brighten skin for a more even tone.  Ideal for all skin types, this natural formula effectively combats dullness and uneven skin tone. Simply apply to a wet face, lather, and rinse daily for a brighter, more luminous you.  Priced at LKR 1750.00.\\n',\n",
              " 'Reveal your radiant best with OxyGlow Gold & Saffron Face Wash. This luxurious, 100ml cleanser is infused with the natural power of gold and saffron to brighten and revitalize all skin types.  Daily use helps combat dullness and dryness, leaving your skin feeling refreshed and luminous. Simply apply to a wet face, lather gently, and rinse.  Experience the opulence of gold and saffron for a naturally vibrant complexion. Priced at LKR 1885.00.\\n',\n",
              " 'Reveal your naturally radiant complexion with OxyGlow Pearl Whitening Face Wash. This 100ml cleanser, enriched with natural pearl extracts, gently brightens and cleanses all skin types, effectively addressing dullness and uneven tone.  For daily use, simply apply to a wet face, lather, and rinse.  Experience the illuminating power of pearls for a naturally luminous glow. Priced at LKR 1750.00.\\n',\n",
              " '**Prevense Cleanser for All Skin Types (120ml)**\\n\\nRevive and refresh your complexion with Prevense Cleanser, a natural and effective daily cleanser suitable for all skin types.  Formulated with a blend of natural extracts, this gentle cleanser effectively removes dullness and oiliness, leaving your skin feeling clean and revitalized.  Simply apply to a wet face, lather, and rinse.  Experience the refreshing benefits of Prevense Cleanser and reveal a brighter, healthier-looking you. Priced at LKR 825.00.\\n']"
            ]
          },
          "execution_count": 38,
          "metadata": {},
          "output_type": "execute_result"
        }
      ],
      "source": [
        "unique_contents"
      ]
    },
    {
      "cell_type": "code",
      "execution_count": null,
      "metadata": {
        "colab": {
          "base_uri": "https://localhost:8080/",
          "height": 463
        },
        "id": "ObWiCVjjg9bS",
        "outputId": "1c10c2a4-0f59-4ac8-d8cd-3bb8ecbd657e"
      },
      "outputs": [
        {
          "name": "stderr",
          "output_type": "stream",
          "text": [
            "100%|██████████| 1/1 [00:00<00:00, 141.78it/s]\n",
            "100%|██████████| 7/7 [00:00<00:00, 258.99it/s]\n"
          ]
        },
        {
          "data": {
            "image/png": "[encoded data removed]",
            "text/plain": [
              "<Figure size 640x480 with 1 Axes>"
            ]
          },
          "metadata": {},
          "output_type": "display_data"
        }
      ],
      "source": [
        "from langchain.schema import Document\n",
        "\n",
        "calc_global_embeddings(query, embedding_model, [Document(page_content=doc) for doc in unique_contents], umap_transformer, umap_embed, global_embeddings)"
      ]
    },
    {
      "cell_type": "markdown",
      "metadata": {
        "id": "E_AHu3oLCfkn"
      },
      "source": [
        "### Rerank using the BERT cross encoder"
      ]
    },
    {
      "cell_type": "code",
      "execution_count": null,
      "metadata": {
        "colab": {
          "base_uri": "https://localhost:8080/",
          "height": 281,
          "referenced_widgets": [
            "4c7f8871e254457aa424d99c9b600dd5",
            "f8a6314da9aa4642a4b6421810a9b2e5",
            "3547e6f6fc6a4c1cb5de19910f59851d",
            "f1b752f0f18541c4b48a4392b0337c7d",
            "6de730f9ce75474799bfa3a8b92d15ec",
            "69fe37eda77b468db45bc0b4b531bc1c",
            "19db3c9e2d3a4012a3b373295ca9bad3",
            "175c351bdfbe430d935f780674369ffa",
            "fa07b4b118ac47678afd34a44b939dd0",
            "4d93e7a8e53d4fc49d89970d01ca76f6",
            "8061ccc1ea59401e870c7f7f8c274f55",
            "959c9204b69c4c66a893f8291cde6c59",
            "c871b0f89ad641b9a88d7d51ea4faab0",
            "f621f45729c440d6b9f595e2ee8582c9",
            "3200bddda2a54818ad84cfabff82a162",
            "2da68f79719b4894b9d8070b64776426",
            "f74ad9b939a044a2831bb2b014c48229",
            "fb6f4c197493441ca12a02593f640274",
            "7060685c5ff342acbda926b4bd2eb33b",
            "33bf602efb564f06a5c42210d7c24480",
            "34c34ac2180743c599bd55cf59df257a",
            "dd1800c786d840deae69c3bcf5bcf0d2",
            "a8c5a35eb74c4829b1bfa7db996b48be",
            "7d71e6e200c44f7699e12048baf52ed4",
            "edcdaae8b63e4e5fa95208631216c9ee",
            "b32c7b7429034b6b8fff7f70a81e3111",
            "ef66fcff1b2f4b6f9ef0e67d12e64186",
            "7a0a63809f0b4260baf14a5d32533268",
            "d3e457c9d16d49a0a4602f32567096a9",
            "751fdf23ad954d638784c99af08a2407",
            "dcc0c1a47ca14048b386ad5cc6bc7cd1",
            "4704b05d52a34a1193e630ca9774c3ad",
            "82e6874e35de489dbd430e39c07df0db",
            "d83650c66efb445cbd87dac40faf079c",
            "2d49dae0157e4dad90d2a3383e17acb9",
            "b2538c0a41364bc6a6d9d786eff49811",
            "1ef010c4c3954634bc6301bd59da1175",
            "a8f0696cdc8f4b5c9b5932c561627423",
            "344053a7774b4bf09ee33e8c2f1827fc",
            "ecb10eb61d0e4506b7100bbe5029163a",
            "349b2ace5a7d46b2bff64fac5d599ea5",
            "f4f7da83a2b84e388b0b356d41e9ed49",
            "ad2ce79640f6410bb63c3282b46994d4",
            "0b5c0ab632184ef4bb6cd1315c9a25f5",
            "273a48666ef2411eba3ed76f11a06b68",
            "8da1d1c7fc9e43c58c1b0200bde04efe",
            "ff822af0e5394517814f37825a1a8646",
            "0792135f68d040cd975299ef752cc493",
            "2664034e0ce84fbb922a3d374b879ceb",
            "d67d8cd7b6f2486a8c424ba8114d77b3",
            "0a9a7a009fb14469a530ecfe295131e3",
            "adefc64386044bac90a11e6aa7a4dfd6",
            "21ff926fe0984d2884acbf91ea1a38f5",
            "f61c39842fb64b68ac9b113c96433643",
            "27c9e890481449ef9b8ebb3b9b0a7a61"
          ]
        },
        "id": "HCk0KbunCeao",
        "outputId": "f18d3a8b-d5df-40e1-93b9-b61eaf949f7c"
      },
      "outputs": [
        {
          "name": "stderr",
          "output_type": "stream",
          "text": [
            "/usr/local/lib/python3.10/dist-packages/huggingface_hub/utils/_auth.py:94: UserWarning: \n",
            "The secret `HF_TOKEN` does not exist in your Colab secrets.\n",
            "To authenticate with the Hugging Face Hub, create a token in your settings tab (https://huggingface.co/settings/tokens), set it as secret in your Google Colab and restart your session.\n",
            "You will be able to reuse this secret in all of your notebooks.\n",
            "Please note that authentication is recommended but still optional to access public models or datasets.\n",
            "  warnings.warn(\n"
          ]
        },
        {
          "data": {
            "application/vnd.jupyter.widget-view+json": {
              "model_id": "4c7f8871e254457aa424d99c9b600dd5",
              "version_major": 2,
              "version_minor": 0
            },
            "text/plain": [
              "config.json:   0%|          | 0.00/794 [00:00<?, ?B/s]"
            ]
          },
          "metadata": {},
          "output_type": "display_data"
        },
        {
          "data": {
            "application/vnd.jupyter.widget-view+json": {
              "model_id": "959c9204b69c4c66a893f8291cde6c59",
              "version_major": 2,
              "version_minor": 0
            },
            "text/plain": [
              "pytorch_model.bin:   0%|          | 0.00/90.9M [00:00<?, ?B/s]"
            ]
          },
          "metadata": {},
          "output_type": "display_data"
        },
        {
          "data": {
            "application/vnd.jupyter.widget-view+json": {
              "model_id": "a8c5a35eb74c4829b1bfa7db996b48be",
              "version_major": 2,
              "version_minor": 0
            },
            "text/plain": [
              "tokenizer_config.json:   0%|          | 0.00/316 [00:00<?, ?B/s]"
            ]
          },
          "metadata": {},
          "output_type": "display_data"
        },
        {
          "data": {
            "application/vnd.jupyter.widget-view+json": {
              "model_id": "d83650c66efb445cbd87dac40faf079c",
              "version_major": 2,
              "version_minor": 0
            },
            "text/plain": [
              "vocab.txt:   0%|          | 0.00/232k [00:00<?, ?B/s]"
            ]
          },
          "metadata": {},
          "output_type": "display_data"
        },
        {
          "data": {
            "application/vnd.jupyter.widget-view+json": {
              "model_id": "273a48666ef2411eba3ed76f11a06b68",
              "version_major": 2,
              "version_minor": 0
            },
            "text/plain": [
              "special_tokens_map.json:   0%|          | 0.00/112 [00:00<?, ?B/s]"
            ]
          },
          "metadata": {},
          "output_type": "display_data"
        }
      ],
      "source": [
        "from sentence_transformers import CrossEncoder\n",
        "cross_encoder = CrossEncoder('cross-encoder/ms-marco-MiniLM-L-6-v2')"
      ]
    },
    {
      "cell_type": "code",
      "execution_count": null,
      "metadata": {
        "id": "iJM-y6WGC0wv"
      },
      "outputs": [],
      "source": [
        "# create query and retrieved document pairs for reranking\n",
        "pairs = []\n",
        "for doc in unique_contents:\n",
        "    pairs.append([query, doc])"
      ]
    },
    {
      "cell_type": "code",
      "execution_count": null,
      "metadata": {
        "colab": {
          "base_uri": "https://localhost:8080/"
        },
        "id": "VwwXwRVkDtyQ",
        "outputId": "55eea045-76a9-4fbe-f8cc-dd1ccbf1cdd4"
      },
      "outputs": [
        {
          "data": {
            "text/plain": [
              "array([-0.17874435, -0.21204603,  6.2478857 ,  2.4545326 , -1.1123807 ,\n",
              "        1.5223377 , -4.756909  ], dtype=float32)"
            ]
          },
          "execution_count": 42,
          "metadata": {},
          "output_type": "execute_result"
        }
      ],
      "source": [
        "scores = cross_encoder.predict(pairs)\n",
        "scores"
      ]
    },
    {
      "cell_type": "code",
      "execution_count": null,
      "metadata": {
        "colab": {
          "base_uri": "https://localhost:8080/"
        },
        "id": "IvMJgobKESv0",
        "outputId": "5948e565-ae95-4db0-99b8-5ca64684f070"
      },
      "outputs": [
        {
          "data": {
            "text/plain": [
              "[(6.2478857,\n",
              "  'Reveal your naturally radiant complexion with Junsui Naturals Face Wash With Extra Whitening Radiance. This 100g face wash, crafted with a blend of herbal extracts, gently cleanses while visibly whitening skin and adding a healthy glow.  Perfect for all skin types, this daily face wash effectively combats dullness and pigmentation. Simply apply to a wet face, lather, and rinse.  While generally suitable for all skin types, those with sensitivities to herbal extracts should exercise caution. Experience the power of nature with Junsui and unveil brighter, more luminous skin for just LKR 1217.30.\\n'),\n",
              " (2.4545326,\n",
              "  'Reveal your naturally radiant complexion with OxyGlow Pearl Whitening Face Wash.  This 100ml face wash, enriched with the illuminating power of pearl extracts, gently cleanses while working to whiten and brighten skin for a more even tone.  Ideal for all skin types, this natural formula effectively combats dullness and uneven skin tone. Simply apply to a wet face, lather, and rinse daily for a brighter, more luminous you.  Priced at LKR 1750.00.\\n'),\n",
              " (1.5223377,\n",
              "  'Reveal your naturally radiant complexion with OxyGlow Pearl Whitening Face Wash. This 100ml cleanser, enriched with natural pearl extracts, gently brightens and cleanses all skin types, effectively addressing dullness and uneven tone.  For daily use, simply apply to a wet face, lather, and rinse.  Experience the illuminating power of pearls for a naturally luminous glow. Priced at LKR 1750.00.\\n'),\n",
              " (-0.17874435,\n",
              "  'Reveal your naturally radiant glow with Jovees Strawberry Face Wash. This 120ml cleanser, crafted with natural Strawberry Extracts and soothing Aloe Vera, is specially formulated for normal to dry skin types.  It gently washes away dullness and dryness, leaving your skin feeling moisturized and brighter.  For daily use, simply apply to a wet face, lather, and rinse.  Experience the sheer moisture and luminous skin you deserve with this nourishing and effective face wash from Jovees. Priced at LKR 1710.00.\\n'),\n",
              " (-0.21204603,\n",
              "  'Prevense Fair Intense 2 For All Skin Types is a natural whitening treatment suitable for all skin types. This 50ml brightening solution is formulated with whitening extracts to address dullness and uneven skin tone.  Simply apply daily to a cleansed face and massage in.  Experience a visibly brighter, more radiant complexion with Prevense Fair Intense 2.  Priced at LKR2115.00.\\n'),\n",
              " (-1.1123807,\n",
              "  'Reveal your radiant best with OxyGlow Gold & Saffron Face Wash. This luxurious, 100ml cleanser is infused with the natural power of gold and saffron to brighten and revitalize all skin types.  Daily use helps combat dullness and dryness, leaving your skin feeling refreshed and luminous. Simply apply to a wet face, lather gently, and rinse.  Experience the opulence of gold and saffron for a naturally vibrant complexion. Priced at LKR 1885.00.\\n'),\n",
              " (-4.756909,\n",
              "  '**Prevense Cleanser for All Skin Types (120ml)**\\n\\nRevive and refresh your complexion with Prevense Cleanser, a natural and effective daily cleanser suitable for all skin types.  Formulated with a blend of natural extracts, this gentle cleanser effectively removes dullness and oiliness, leaving your skin feeling clean and revitalized.  Simply apply to a wet face, lather, and rinse.  Experience the refreshing benefits of Prevense Cleanser and reveal a brighter, healthier-looking you. Priced at LKR 825.00.\\n')]"
            ]
          },
          "execution_count": 43,
          "metadata": {},
          "output_type": "execute_result"
        }
      ],
      "source": [
        "scored_docs = zip(scores, unique_contents)\n",
        "sorted_docs = sorted(scored_docs, reverse=True)\n",
        "sorted_docs"
      ]
    },
    {
      "cell_type": "code",
      "execution_count": null,
      "metadata": {
        "colab": {
          "base_uri": "https://localhost:8080/"
        },
        "id": "2QAvSuIxEmKM",
        "outputId": "1478b080-13a1-4760-85e1-542724761028"
      },
      "outputs": [
        {
          "data": {
            "text/plain": [
              "['Reveal your naturally radiant complexion with Junsui Naturals Face Wash With Extra Whitening Radiance. This 100g face wash, crafted with a blend of herbal extracts, gently cleanses while visibly whitening skin and adding a healthy glow.  Perfect for all skin types, this daily face wash effectively combats dullness and pigmentation. Simply apply to a wet face, lather, and rinse.  While generally suitable for all skin types, those with sensitivities to herbal extracts should exercise caution. Experience the power of nature with Junsui and unveil brighter, more luminous skin for just LKR 1217.30.\\n',\n",
              " 'Reveal your naturally radiant complexion with OxyGlow Pearl Whitening Face Wash.  This 100ml face wash, enriched with the illuminating power of pearl extracts, gently cleanses while working to whiten and brighten skin for a more even tone.  Ideal for all skin types, this natural formula effectively combats dullness and uneven skin tone. Simply apply to a wet face, lather, and rinse daily for a brighter, more luminous you.  Priced at LKR 1750.00.\\n',\n",
              " 'Reveal your naturally radiant complexion with OxyGlow Pearl Whitening Face Wash. This 100ml cleanser, enriched with natural pearl extracts, gently brightens and cleanses all skin types, effectively addressing dullness and uneven tone.  For daily use, simply apply to a wet face, lather, and rinse.  Experience the illuminating power of pearls for a naturally luminous glow. Priced at LKR 1750.00.\\n',\n",
              " 'Reveal your naturally radiant glow with Jovees Strawberry Face Wash. This 120ml cleanser, crafted with natural Strawberry Extracts and soothing Aloe Vera, is specially formulated for normal to dry skin types.  It gently washes away dullness and dryness, leaving your skin feeling moisturized and brighter.  For daily use, simply apply to a wet face, lather, and rinse.  Experience the sheer moisture and luminous skin you deserve with this nourishing and effective face wash from Jovees. Priced at LKR 1710.00.\\n',\n",
              " 'Prevense Fair Intense 2 For All Skin Types is a natural whitening treatment suitable for all skin types. This 50ml brightening solution is formulated with whitening extracts to address dullness and uneven skin tone.  Simply apply daily to a cleansed face and massage in.  Experience a visibly brighter, more radiant complexion with Prevense Fair Intense 2.  Priced at LKR2115.00.\\n']"
            ]
          },
          "execution_count": 45,
          "metadata": {},
          "output_type": "execute_result"
        }
      ],
      "source": [
        "# Get top 5 documents\n",
        "reranked_docs = [doc for _, doc in sorted_docs][0:5]\n",
        "reranked_docs"
      ]
    },
    {
      "cell_type": "markdown",
      "metadata": {
        "id": "xqzKS9olKxmr"
      },
      "source": [
        "### Addressing Lost in the Model problem"
      ]
    },
    {
      "cell_type": "code",
      "execution_count": null,
      "metadata": {
        "id": "0nSd6La9KxJb"
      },
      "outputs": [],
      "source": [
        "from langchain_community.document_transformers import (\n",
        "    LongContextReorder\n",
        ")"
      ]
    },
    {
      "cell_type": "code",
      "execution_count": null,
      "metadata": {
        "colab": {
          "base_uri": "https://localhost:8080/"
        },
        "id": "dZMDcCaVK5f1",
        "outputId": "59b13adc-ad62-41e1-96ce-c6e3727e0447"
      },
      "outputs": [
        {
          "data": {
            "text/plain": [
              "['Reveal your naturally radiant complexion with Junsui Naturals Face Wash With Extra Whitening Radiance. This 100g face wash, crafted with a blend of herbal extracts, gently cleanses while visibly whitening skin and adding a healthy glow.  Perfect for all skin types, this daily face wash effectively combats dullness and pigmentation. Simply apply to a wet face, lather, and rinse.  While generally suitable for all skin types, those with sensitivities to herbal extracts should exercise caution. Experience the power of nature with Junsui and unveil brighter, more luminous skin for just LKR 1217.30.\\n',\n",
              " 'Reveal your naturally radiant complexion with OxyGlow Pearl Whitening Face Wash. This 100ml cleanser, enriched with natural pearl extracts, gently brightens and cleanses all skin types, effectively addressing dullness and uneven tone.  For daily use, simply apply to a wet face, lather, and rinse.  Experience the illuminating power of pearls for a naturally luminous glow. Priced at LKR 1750.00.\\n',\n",
              " 'Prevense Fair Intense 2 For All Skin Types is a natural whitening treatment suitable for all skin types. This 50ml brightening solution is formulated with whitening extracts to address dullness and uneven skin tone.  Simply apply daily to a cleansed face and massage in.  Experience a visibly brighter, more radiant complexion with Prevense Fair Intense 2.  Priced at LKR2115.00.\\n',\n",
              " 'Reveal your naturally radiant glow with Jovees Strawberry Face Wash. This 120ml cleanser, crafted with natural Strawberry Extracts and soothing Aloe Vera, is specially formulated for normal to dry skin types.  It gently washes away dullness and dryness, leaving your skin feeling moisturized and brighter.  For daily use, simply apply to a wet face, lather, and rinse.  Experience the sheer moisture and luminous skin you deserve with this nourishing and effective face wash from Jovees. Priced at LKR 1710.00.\\n',\n",
              " 'Reveal your naturally radiant complexion with OxyGlow Pearl Whitening Face Wash.  This 100ml face wash, enriched with the illuminating power of pearl extracts, gently cleanses while working to whiten and brighten skin for a more even tone.  Ideal for all skin types, this natural formula effectively combats dullness and uneven skin tone. Simply apply to a wet face, lather, and rinse daily for a brighter, more luminous you.  Priced at LKR 1750.00.\\n']"
            ]
          },
          "execution_count": 47,
          "metadata": {},
          "output_type": "execute_result"
        }
      ],
      "source": [
        "reordering = LongContextReorder()\n",
        "reordered_docs = reordering.transform_documents(reranked_docs)\n",
        "reordered_docs"
      ]
    },
    {
      "cell_type": "code",
      "execution_count": null,
      "metadata": {
        "colab": {
          "base_uri": "https://localhost:8080/"
        },
        "id": "7s7KpJR-mP3T",
        "outputId": "7bb9b8a2-4ede-4884-9412-080fe5b573c0"
      },
      "outputs": [
        {
          "data": {
            "text/plain": [
              "5"
            ]
          },
          "execution_count": 49,
          "metadata": {},
          "output_type": "execute_result"
        }
      ],
      "source": [
        "len(reordered_docs)"
      ]
    },
    {
      "cell_type": "code",
      "execution_count": null,
      "metadata": {
        "colab": {
          "base_uri": "https://localhost:8080/",
          "height": 463
        },
        "id": "fFKTjlKdldDV",
        "outputId": "cff98a66-0a4b-445e-ee52-4d6fb8f9b188"
      },
      "outputs": [
        {
          "name": "stderr",
          "output_type": "stream",
          "text": [
            "100%|██████████| 1/1 [00:00<00:00, 77.19it/s]\n",
            "100%|██████████| 5/5 [00:00<00:00, 163.80it/s]\n"
          ]
        },
        {
          "data": {
            "image/png": "[encoded data removed]",
            "text/plain": [
              "<Figure size 640x480 with 1 Axes>"
            ]
          },
          "metadata": {},
          "output_type": "display_data"
        }
      ],
      "source": [
        "from langchain.schema import Document\n",
        "\n",
        "calc_global_embeddings(query, embedding_model, [Document(page_content=doc) for doc in reordered_docs], umap_transformer, umap_embed, global_embeddings)"
      ]
    },
    {
      "cell_type": "markdown",
      "metadata": {
        "id": "H0bfkzKsGMj6"
      },
      "source": [
        "### Generation"
      ]
    },
    {
      "cell_type": "code",
      "execution_count": null,
      "metadata": {
        "id": "ZXsHhZxty_R4"
      },
      "outputs": [],
      "source": [
        "# chat_prompt = ChatPromptTemplate.from_messages(\n",
        "#     [\n",
        "#         (\"system\", f\"{prompts['system_prompt']} \\n {prompts['qa_prompt']}\"),\n",
        "#         (\"human\", \"{input}\")\n",
        "#     ]\n",
        "# )"
      ]
    },
    {
      "cell_type": "code",
      "execution_count": null,
      "metadata": {
        "id": "mQmiA5ux5b9C"
      },
      "outputs": [],
      "source": [
        "from langchain_core.prompts import ChatPromptTemplate\n",
        "from langchain.chains import create_history_aware_retriever\n",
        "\n",
        "contextualize_q_prompt = ChatPromptTemplate.from_messages(\n",
        "    [\n",
        "        (\"system\", prompts['contextualize_q_system_prompt']),\n",
        "        MessagesPlaceholder(\"chat_history\"),\n",
        "        (\"human\", \"{input}\"),\n",
        "    ]\n",
        ")\n",
        "\n",
        "history_aware_retriever = create_history_aware_retriever(\n",
        "    model, retriever, contextualize_q_prompt\n",
        ")"
      ]
    },
    {
      "cell_type": "code",
      "execution_count": null,
      "metadata": {
        "id": "cEDufzuZ41YB"
      },
      "outputs": [],
      "source": [
        "qa_prompt = ChatPromptTemplate.from_messages(\n",
        "    [\n",
        "        (\"system\", f\"{prompts['system_prompt']} \\n {prompts['qa_prompt']}\"),\n",
        "        MessagesPlaceholder(\"chat_history\"),\n",
        "        (\"human\", \"{input}\"),\n",
        "    ]\n",
        ")"
      ]
    },
    {
      "cell_type": "code",
      "execution_count": null,
      "metadata": {
        "id": "llYAtK4x0IBq"
      },
      "outputs": [],
      "source": [
        "qa_chain = create_stuff_documents_chain(model, prompt=qa_prompt)"
      ]
    },
    {
      "cell_type": "code",
      "execution_count": null,
      "metadata": {
        "id": "N6eNVPCR0nii"
      },
      "outputs": [],
      "source": [
        "rag_chain = create_retrieval_chain(history_aware_retriever, qa_chain)"
      ]
    },
    {
      "cell_type": "code",
      "execution_count": null,
      "metadata": {
        "id": "3P9o9jcn7FOq"
      },
      "outputs": [],
      "source": [
        "from langchain_core.messages import HumanMessage, AIMessage"
      ]
    },
    {
      "cell_type": "code",
      "execution_count": null,
      "metadata": {
        "id": "MURrEyJq7LEn"
      },
      "outputs": [],
      "source": [
        "chat_history = []"
      ]
    },
    {
      "cell_type": "code",
      "execution_count": null,
      "metadata": {
        "id": "SDvUEBMu7NgO"
      },
      "outputs": [],
      "source": [
        "user_query = \"what is the price of Junsui Naturals Face Wash With Extra Whitening Radiance?\""
      ]
    },
    {
      "cell_type": "code",
      "execution_count": null,
      "metadata": {
        "id": "Da-KL0FuEtlx"
      },
      "outputs": [],
      "source": [
        "from langchain.schema import Document\n",
        "\n",
        "# Convert reordered_docs (strings) back to Document objects\n",
        "reordered_docs = [Document(page_content=doc) for doc in reordered_docs]\n",
        "\n",
        "# Combine the content for the context\n",
        "context = \" \".join([doc.page_content for doc in reordered_docs])"
      ]
    },
    {
      "cell_type": "code",
      "execution_count": null,
      "metadata": {
        "colab": {
          "base_uri": "https://localhost:8080/"
        },
        "id": "t0xHRlOtCgvm",
        "outputId": "6c17a990-b655-4098-c89a-1b3b5139545d"
      },
      "outputs": [
        {
          "data": {
            "text/plain": [
              "[Document(metadata={}, page_content='Reveal your naturally radiant complexion with Junsui Naturals Face Wash With Extra Whitening Radiance. This 100g face wash, crafted with a blend of herbal extracts, gently cleanses while visibly whitening skin and adding a healthy glow.  Perfect for all skin types, this daily face wash effectively combats dullness and pigmentation. Simply apply to a wet face, lather, and rinse.  While generally suitable for all skin types, those with sensitivities to herbal extracts should exercise caution. Experience the power of nature with Junsui and unveil brighter, more luminous skin for just LKR 1217.30.\\n'),\n",
              " Document(metadata={}, page_content='Reveal your naturally radiant complexion with OxyGlow Pearl Whitening Face Wash. This 100ml cleanser, enriched with natural pearl extracts, gently brightens and cleanses all skin types, effectively addressing dullness and uneven tone.  For daily use, simply apply to a wet face, lather, and rinse.  Experience the illuminating power of pearls for a naturally luminous glow. Priced at LKR 1750.00.\\n'),\n",
              " Document(metadata={}, page_content='Prevense Fair Intense 2 For All Skin Types is a natural whitening treatment suitable for all skin types. This 50ml brightening solution is formulated with whitening extracts to address dullness and uneven skin tone.  Simply apply daily to a cleansed face and massage in.  Experience a visibly brighter, more radiant complexion with Prevense Fair Intense 2.  Priced at LKR2115.00.\\n'),\n",
              " Document(metadata={}, page_content='Reveal your naturally radiant glow with Jovees Strawberry Face Wash. This 120ml cleanser, crafted with natural Strawberry Extracts and soothing Aloe Vera, is specially formulated for normal to dry skin types.  It gently washes away dullness and dryness, leaving your skin feeling moisturized and brighter.  For daily use, simply apply to a wet face, lather, and rinse.  Experience the sheer moisture and luminous skin you deserve with this nourishing and effective face wash from Jovees. Priced at LKR 1710.00.\\n'),\n",
              " Document(metadata={}, page_content='Reveal your naturally radiant complexion with OxyGlow Pearl Whitening Face Wash.  This 100ml face wash, enriched with the illuminating power of pearl extracts, gently cleanses while working to whiten and brighten skin for a more even tone.  Ideal for all skin types, this natural formula effectively combats dullness and uneven skin tone. Simply apply to a wet face, lather, and rinse daily for a brighter, more luminous you.  Priced at LKR 1750.00.\\n')]"
            ]
          },
          "execution_count": 59,
          "metadata": {},
          "output_type": "execute_result"
        }
      ],
      "source": [
        "reordered_docs"
      ]
    },
    {
      "cell_type": "code",
      "execution_count": null,
      "metadata": {
        "id": "2hrA4hd87X_d"
      },
      "outputs": [],
      "source": [
        "response = qa_chain.invoke({\n",
        "    \"input\": query,\n",
        "    \"context\": reordered_docs,\n",
        "    \"chat_history\": chat_history\n",
        "})"
      ]
    },
    {
      "cell_type": "code",
      "execution_count": null,
      "metadata": {
        "colab": {
          "base_uri": "https://localhost:8080/",
          "height": 53
        },
        "id": "HgWyg90fGla5",
        "outputId": "005e87f5-92f1-477d-d7f0-15b66b01363f"
      },
      "outputs": [
        {
          "data": {
            "application/vnd.google.colaboratory.intrinsic+json": {
              "type": "string"
            },
            "text/plain": [
              "'The price of Junsui Naturals Face Wash With Extra Whitening Radiance is LKR 1217.30 for a 100g face wash. Would you like to know more about this product or perhaps find a complementary product to enhance your skincare routine?'"
            ]
          },
          "execution_count": 61,
          "metadata": {},
          "output_type": "execute_result"
        }
      ],
      "source": [
        "response"
      ]
    },
    {
      "cell_type": "code",
      "execution_count": null,
      "metadata": {
        "id": "YWtbleUZ7ibI"
      },
      "outputs": [],
      "source": [
        "chat_history.extend([\n",
        "    HumanMessage(content=user_query),\n",
        "    AIMessage(content=response)\n",
        "])"
      ]
    },
    {
      "cell_type": "code",
      "execution_count": null,
      "metadata": {
        "colab": {
          "base_uri": "https://localhost:8080/"
        },
        "id": "0yfziv8M94F_",
        "outputId": "ba055027-16e3-4a58-f36f-a2317c0b9c9f"
      },
      "outputs": [
        {
          "data": {
            "text/plain": [
              "[HumanMessage(content='what is the price of Junsui Naturals Face Wash With Extra Whitening Radiance?', additional_kwargs={}, response_metadata={}),\n",
              " AIMessage(content='The price of Junsui Naturals Face Wash With Extra Whitening Radiance is LKR 1217.30 for a 100g face wash. Would you like to know more about this product or perhaps find a complementary product to enhance your skincare routine?', additional_kwargs={}, response_metadata={})]"
            ]
          },
          "execution_count": 63,
          "metadata": {},
          "output_type": "execute_result"
        }
      ],
      "source": [
        "chat_history"
      ]
    },
    {
      "cell_type": "markdown",
      "metadata": {
        "id": "Fu-Ou2uYuI4p"
      },
      "source": [
        "### Demo using Gradio UI"
      ]
    },
    {
      "cell_type": "code",
      "execution_count": null,
      "metadata": {
        "colab": {
          "base_uri": "https://localhost:8080/"
        },
        "collapsed": true,
        "id": "WR_L76VOuGku",
        "outputId": "9d8a4f6a-d80c-42e7-881e-7a0ddbe92bb0"
      },
      "outputs": [
        {
          "name": "stdout",
          "output_type": "stream",
          "text": [
            "Collecting gradio\n",
            "  Downloading gradio-5.7.1-py3-none-any.whl.metadata (16 kB)\n",
            "Collecting aiofiles<24.0,>=22.0 (from gradio)\n",
            "  Downloading aiofiles-23.2.1-py3-none-any.whl.metadata (9.7 kB)\n",
            "Requirement already satisfied: anyio<5.0,>=3.0 in /usr/local/lib/python3.10/dist-packages (from gradio) (3.7.1)\n",
            "Collecting fastapi<1.0,>=0.115.2 (from gradio)\n",
            "  Downloading fastapi-0.115.5-py3-none-any.whl.metadata (27 kB)\n",
            "Collecting ffmpy (from gradio)\n",
            "  Downloading ffmpy-0.4.0-py3-none-any.whl.metadata (2.9 kB)\n",
            "Collecting gradio-client==1.5.0 (from gradio)\n",
            "  Downloading gradio_client-1.5.0-py3-none-any.whl.metadata (7.1 kB)\n",
            "Requirement already satisfied: httpx>=0.24.1 in /usr/local/lib/python3.10/dist-packages (from gradio) (0.27.2)\n",
            "Requirement already satisfied: huggingface-hub>=0.25.1 in /usr/local/lib/python3.10/dist-packages (from gradio) (0.26.2)\n",
            "Requirement already satisfied: jinja2<4.0 in /usr/local/lib/python3.10/dist-packages (from gradio) (3.1.4)\n",
            "Collecting markupsafe~=2.0 (from gradio)\n",
            "  Downloading MarkupSafe-2.1.5-cp310-cp310-manylinux_2_17_x86_64.manylinux2014_x86_64.whl.metadata (3.0 kB)\n",
            "Requirement already satisfied: numpy<3.0,>=1.0 in /usr/local/lib/python3.10/dist-packages (from gradio) (1.26.4)\n",
            "Requirement already satisfied: orjson~=3.0 in /usr/local/lib/python3.10/dist-packages (from gradio) (3.10.11)\n",
            "Requirement already satisfied: packaging in /usr/local/lib/python3.10/dist-packages (from gradio) (24.2)\n",
            "Requirement already satisfied: pandas<3.0,>=1.0 in /usr/local/lib/python3.10/dist-packages (from gradio) (2.2.2)\n",
            "Requirement already satisfied: pillow<12.0,>=8.0 in /usr/local/lib/python3.10/dist-packages (from gradio) (11.0.0)\n",
            "Requirement already satisfied: pydantic>=2.0 in /usr/local/lib/python3.10/dist-packages (from gradio) (2.9.2)\n",
            "Collecting pydub (from gradio)\n",
            "  Downloading pydub-0.25.1-py2.py3-none-any.whl.metadata (1.4 kB)\n",
            "Collecting python-multipart==0.0.12 (from gradio)\n",
            "  Downloading python_multipart-0.0.12-py3-none-any.whl.metadata (1.9 kB)\n",
            "Requirement already satisfied: pyyaml<7.0,>=5.0 in /usr/local/lib/python3.10/dist-packages (from gradio) (6.0.2)\n",
            "Collecting ruff>=0.2.2 (from gradio)\n",
            "  Downloading ruff-0.8.1-py3-none-manylinux_2_17_x86_64.manylinux2014_x86_64.whl.metadata (25 kB)\n",
            "Collecting safehttpx<1.0,>=0.1.1 (from gradio)\n",
            "  Downloading safehttpx-0.1.1-py3-none-any.whl.metadata (4.1 kB)\n",
            "Collecting semantic-version~=2.0 (from gradio)\n",
            "  Downloading semantic_version-2.10.0-py2.py3-none-any.whl.metadata (9.7 kB)\n",
            "Collecting starlette<1.0,>=0.40.0 (from gradio)\n",
            "  Downloading starlette-0.41.3-py3-none-any.whl.metadata (6.0 kB)\n",
            "Collecting tomlkit==0.12.0 (from gradio)\n",
            "  Downloading tomlkit-0.12.0-py3-none-any.whl.metadata (2.7 kB)\n",
            "Requirement already satisfied: typer<1.0,>=0.12 in /usr/local/lib/python3.10/dist-packages (from gradio) (0.13.0)\n",
            "Requirement already satisfied: typing-extensions~=4.0 in /usr/local/lib/python3.10/dist-packages (from gradio) (4.12.2)\n",
            "Collecting uvicorn>=0.14.0 (from gradio)\n",
            "  Downloading uvicorn-0.32.1-py3-none-any.whl.metadata (6.6 kB)\n",
            "Requirement already satisfied: fsspec in /usr/local/lib/python3.10/dist-packages (from gradio-client==1.5.0->gradio) (2024.10.0)\n",
            "Collecting websockets<13.0,>=10.0 (from gradio-client==1.5.0->gradio)\n",
            "  Downloading websockets-12.0-cp310-cp310-manylinux_2_5_x86_64.manylinux1_x86_64.manylinux_2_17_x86_64.manylinux2014_x86_64.whl.metadata (6.6 kB)\n",
            "Requirement already satisfied: idna>=2.8 in /usr/local/lib/python3.10/dist-packages (from anyio<5.0,>=3.0->gradio) (3.10)\n",
            "Requirement already satisfied: sniffio>=1.1 in /usr/local/lib/python3.10/dist-packages (from anyio<5.0,>=3.0->gradio) (1.3.1)\n",
            "Requirement already satisfied: exceptiongroup in /usr/local/lib/python3.10/dist-packages (from anyio<5.0,>=3.0->gradio) (1.2.2)\n",
            "Requirement already satisfied: certifi in /usr/local/lib/python3.10/dist-packages (from httpx>=0.24.1->gradio) (2024.8.30)\n",
            "Requirement already satisfied: httpcore==1.* in /usr/local/lib/python3.10/dist-packages (from httpx>=0.24.1->gradio) (1.0.7)\n",
            "Requirement already satisfied: h11<0.15,>=0.13 in /usr/local/lib/python3.10/dist-packages (from httpcore==1.*->httpx>=0.24.1->gradio) (0.14.0)\n",
            "Requirement already satisfied: filelock in /usr/local/lib/python3.10/dist-packages (from huggingface-hub>=0.25.1->gradio) (3.16.1)\n",
            "Requirement already satisfied: requests in /usr/local/lib/python3.10/dist-packages (from huggingface-hub>=0.25.1->gradio) (2.32.3)\n",
            "Requirement already satisfied: tqdm>=4.42.1 in /usr/local/lib/python3.10/dist-packages (from huggingface-hub>=0.25.1->gradio) (4.66.6)\n",
            "Requirement already satisfied: python-dateutil>=2.8.2 in /usr/local/lib/python3.10/dist-packages (from pandas<3.0,>=1.0->gradio) (2.8.2)\n",
            "Requirement already satisfied: pytz>=2020.1 in /usr/local/lib/python3.10/dist-packages (from pandas<3.0,>=1.0->gradio) (2024.2)\n",
            "Requirement already satisfied: tzdata>=2022.7 in /usr/local/lib/python3.10/dist-packages (from pandas<3.0,>=1.0->gradio) (2024.2)\n",
            "Requirement already satisfied: annotated-types>=0.6.0 in /usr/local/lib/python3.10/dist-packages (from pydantic>=2.0->gradio) (0.7.0)\n",
            "Requirement already satisfied: pydantic-core==2.23.4 in /usr/local/lib/python3.10/dist-packages (from pydantic>=2.0->gradio) (2.23.4)\n",
            "Requirement already satisfied: click>=8.0.0 in /usr/local/lib/python3.10/dist-packages (from typer<1.0,>=0.12->gradio) (8.1.7)\n",
            "Requirement already satisfied: shellingham>=1.3.0 in /usr/local/lib/python3.10/dist-packages (from typer<1.0,>=0.12->gradio) (1.5.4)\n",
            "Requirement already satisfied: rich>=10.11.0 in /usr/local/lib/python3.10/dist-packages (from typer<1.0,>=0.12->gradio) (13.9.4)\n",
            "Requirement already satisfied: six>=1.5 in /usr/local/lib/python3.10/dist-packages (from python-dateutil>=2.8.2->pandas<3.0,>=1.0->gradio) (1.16.0)\n",
            "Requirement already satisfied: markdown-it-py>=2.2.0 in /usr/local/lib/python3.10/dist-packages (from rich>=10.11.0->typer<1.0,>=0.12->gradio) (3.0.0)\n",
            "Requirement already satisfied: pygments<3.0.0,>=2.13.0 in /usr/local/lib/python3.10/dist-packages (from rich>=10.11.0->typer<1.0,>=0.12->gradio) (2.18.0)\n",
            "Requirement already satisfied: charset-normalizer<4,>=2 in /usr/local/lib/python3.10/dist-packages (from requests->huggingface-hub>=0.25.1->gradio) (3.4.0)\n",
            "Requirement already satisfied: urllib3<3,>=1.21.1 in /usr/local/lib/python3.10/dist-packages (from requests->huggingface-hub>=0.25.1->gradio) (2.2.3)\n",
            "Requirement already satisfied: mdurl~=0.1 in /usr/local/lib/python3.10/dist-packages (from markdown-it-py>=2.2.0->rich>=10.11.0->typer<1.0,>=0.12->gradio) (0.1.2)\n",
            "Downloading gradio-5.7.1-py3-none-any.whl (57.1 MB)\n",
            "\u001b[2K   \u001b[90m━━━━━━━━━━━━━━━━━━━━━━━━━━━━━━━━━━━━━━━━\u001b[0m \u001b[32m57.1/57.1 MB\u001b[0m \u001b[31m8.7 MB/s\u001b[0m eta \u001b[36m0:00:00\u001b[0m\n",
            "\u001b[?25hDownloading gradio_client-1.5.0-py3-none-any.whl (320 kB)\n",
            "\u001b[2K   \u001b[90m━━━━━━━━━━━━━━━━━━━━━━━━━━━━━━━━━━━━━━━━\u001b[0m \u001b[32m320.1/320.1 kB\u001b[0m \u001b[31m19.9 MB/s\u001b[0m eta \u001b[36m0:00:00\u001b[0m\n",
            "\u001b[?25hDownloading python_multipart-0.0.12-py3-none-any.whl (23 kB)\n",
            "Downloading tomlkit-0.12.0-py3-none-any.whl (37 kB)\n",
            "Downloading aiofiles-23.2.1-py3-none-any.whl (15 kB)\n",
            "Downloading fastapi-0.115.5-py3-none-any.whl (94 kB)\n",
            "\u001b[2K   \u001b[90m━━━━━━━━━━━━━━━━━━━━━━━━━━━━━━━━━━━━━━━━\u001b[0m \u001b[32m94.9/94.9 kB\u001b[0m \u001b[31m6.7 MB/s\u001b[0m eta \u001b[36m0:00:00\u001b[0m\n",
            "\u001b[?25hDownloading MarkupSafe-2.1.5-cp310-cp310-manylinux_2_17_x86_64.manylinux2014_x86_64.whl (25 kB)\n",
            "Downloading ruff-0.8.1-py3-none-manylinux_2_17_x86_64.manylinux2014_x86_64.whl (11.2 MB)\n",
            "\u001b[2K   \u001b[90m━━━━━━━━━━━━━━━━━━━━━━━━━━━━━━━━━━━━━━━━\u001b[0m \u001b[32m11.2/11.2 MB\u001b[0m \u001b[31m64.4 MB/s\u001b[0m eta \u001b[36m0:00:00\u001b[0m\n",
            "\u001b[?25hDownloading safehttpx-0.1.1-py3-none-any.whl (8.4 kB)\n",
            "Downloading semantic_version-2.10.0-py2.py3-none-any.whl (15 kB)\n",
            "Downloading starlette-0.41.3-py3-none-any.whl (73 kB)\n",
            "\u001b[2K   \u001b[90m━━━━━━━━━━━━━━━━━━━━━━━━━━━━━━━━━━━━━━━━\u001b[0m \u001b[32m73.2/73.2 kB\u001b[0m \u001b[31m5.5 MB/s\u001b[0m eta \u001b[36m0:00:00\u001b[0m\n",
            "\u001b[?25hDownloading uvicorn-0.32.1-py3-none-any.whl (63 kB)\n",
            "\u001b[2K   \u001b[90m━━━━━━━━━━━━━━━━━━━━━━━━━━━━━━━━━━━━━━━━\u001b[0m \u001b[32m63.8/63.8 kB\u001b[0m \u001b[31m4.6 MB/s\u001b[0m eta \u001b[36m0:00:00\u001b[0m\n",
            "\u001b[?25hDownloading ffmpy-0.4.0-py3-none-any.whl (5.8 kB)\n",
            "Downloading pydub-0.25.1-py2.py3-none-any.whl (32 kB)\n",
            "Downloading websockets-12.0-cp310-cp310-manylinux_2_5_x86_64.manylinux1_x86_64.manylinux_2_17_x86_64.manylinux2014_x86_64.whl (130 kB)\n",
            "\u001b[2K   \u001b[90m━━━━━━━━━━━━━━━━━━━━━━━━━━━━━━━━━━━━━━━━\u001b[0m \u001b[32m130.2/130.2 kB\u001b[0m \u001b[31m9.3 MB/s\u001b[0m eta \u001b[36m0:00:00\u001b[0m\n",
            "\u001b[?25hInstalling collected packages: pydub, websockets, uvicorn, tomlkit, semantic-version, ruff, python-multipart, markupsafe, ffmpy, aiofiles, starlette, safehttpx, gradio-client, fastapi, gradio\n",
            "  Attempting uninstall: markupsafe\n",
            "    Found existing installation: MarkupSafe 3.0.2\n",
            "    Uninstalling MarkupSafe-3.0.2:\n",
            "      Successfully uninstalled MarkupSafe-3.0.2\n",
            "Successfully installed aiofiles-23.2.1 fastapi-0.115.5 ffmpy-0.4.0 gradio-5.7.1 gradio-client-1.5.0 markupsafe-2.1.5 pydub-0.25.1 python-multipart-0.0.12 ruff-0.8.1 safehttpx-0.1.1 semantic-version-2.10.0 starlette-0.41.3 tomlkit-0.12.0 uvicorn-0.32.1 websockets-12.0\n"
          ]
        }
      ],
      "source": [
        "!pip install gradio"
      ]
    },
    {
      "cell_type": "code",
      "execution_count": null,
      "metadata": {
        "colab": {
          "base_uri": "https://localhost:8080/"
        },
        "id": "hFkripbjxNvO",
        "outputId": "40ce9aa1-3c40-420d-e687-090bfc979c71"
      },
      "outputs": [
        {
          "name": "stderr",
          "output_type": "stream",
          "text": [
            "/usr/local/lib/python3.10/dist-packages/sentence_transformers/cross_encoder/CrossEncoder.py:13: TqdmExperimentalWarning: Using `tqdm.autonotebook.tqdm` in notebook mode. Use `tqdm.tqdm` instead to force console mode (e.g. in jupyter console)\n",
            "  from tqdm.autonotebook import tqdm, trange\n"
          ]
        }
      ],
      "source": [
        "from langchain_core.output_parsers import StrOutputParser\n",
        "from sentence_transformers import CrossEncoder\n",
        "from langchain_community.document_transformers import (\n",
        "    LongContextReorder\n",
        "  )\n",
        "from langchain_core.prompts import ChatPromptTemplate\n",
        "from langchain.chains import create_history_aware_retriever\n",
        "from langchain_core.messages import HumanMessage, AIMessage\n",
        "from langchain_core.runnables.base import RunnableSerializable\n",
        "from langchain.schema import Document\n",
        "from langchain.prompts import PromptTemplate"
      ]
    },
    {
      "cell_type": "code",
      "execution_count": null,
      "metadata": {
        "colab": {
          "base_uri": "https://localhost:8080/",
          "height": 301,
          "referenced_widgets": [
            "3db75e3dfd654a9d936efce392381740",
            "0c9129c7ad47497186867141caa7b0b9",
            "a7bd8b5b00b9460e9fcfbf75c9c8320f",
            "351b3808053f43acb08fd2a1a4e1cbb3",
            "62440b9632314fa9b3e67dbb161bf5ef",
            "2d800721547e403d8c194339c4334f90",
            "e9f8c1672dd24cf78464a829d0251ef9",
            "2b54f3a9be5c4132a9a6e499f3178bb1",
            "305d2a209fa6403fb9107aecce537484",
            "09cc97ba69344e6bb818293421b7ad15",
            "9c7afe162662480e8c219fdcf0716063",
            "39c12f2fa2fa43cfa47e17b7f9b4de10",
            "97a140f35f744712a69f2bf6a4111c50",
            "eb52d5c903624c70809fb26b7ae98a32",
            "6d7364c65ed04d17baf624915e3e97b0",
            "92296443062445328895be6e5877b481",
            "822d7422659f4544af546451d34f8414",
            "53eb8fd837b04843b522919cfbf77214",
            "0b1079a7e4be4075b51a1a5fc7430837",
            "b3dbe83ef4354735a107a5438256119a",
            "eaa1bffd528b4156988c600916ec9c63",
            "ecac3ca0294d417b8773d9321ae2a468",
            "b8bebb34797f455988a1381217141a53",
            "acc98165955d46109a99ea8a8922412e",
            "fdbd36ab6bb54e9e881b07a9ecba6d31",
            "dc563aaf2e134e33990914484df990ca",
            "a373ccc1485e4485800bf4199997434b",
            "9de54dc5805e47d8b63eaefcc99635bd",
            "f4a59bc5934f4c8cbdd4fd7bba9c2da2",
            "e808b0827235476a9052b3150f83c644",
            "eb36de05940c41e3b0e43e657cc5d81a",
            "3caf97310cfd4e2796d5cfa13f91cf05",
            "b8c6e2bac10b41ccbace0c2178eee06e",
            "d973cc04294e40cbb599591869d1493a",
            "88dbb4435b0f4790aa959994f386310f",
            "3bd68f71b8d14631be9de6cd54755c54",
            "09a58db52a36420488034edaa97f9e4d",
            "6b091fad22d249e797202b7c65381237",
            "58c3c06dc9284ce3a56eeb9643a20fea",
            "a74c5507c2f842d9bb1c1fa7e4eafd6d",
            "7374f73819504f1a85deaa10e39e49ca",
            "b39b303965fc4c9e86e826558fcc5844",
            "2a06c723def94295bad3eeeefde46206",
            "1d5e3503a2fe46cf82e3a0a49bcdf22f",
            "288c501d093d414ba529e903eebaecfa",
            "71bb701f28cc46f7a967d724d862ba49",
            "e20115b2803244ff81cefe978beadf2b",
            "38a4b01101f643f690fd922b52819b5a",
            "fc24715170774380a7a86c93cb24b64a",
            "08ad2dcfcd9944638ce44ce6afb58478",
            "69749a1601fd4312acf4f440895e512b",
            "a94f1cbf91c84c148c284996856b8605",
            "e0d9d8928b934caabb299b37cbfe3594",
            "a6b0cbfe02db4e828af0ed64218712fe",
            "10945aa415814523ab97bbd6451006a3"
          ]
        },
        "id": "6WA5UDkNya-x",
        "outputId": "56f384fa-2e38-46b6-e027-3dd1485d4a09"
      },
      "outputs": [
        {
          "name": "stderr",
          "output_type": "stream",
          "text": [
            "/usr/local/lib/python3.10/dist-packages/huggingface_hub/utils/_auth.py:94: UserWarning: \n",
            "The secret `HF_TOKEN` does not exist in your Colab secrets.\n",
            "To authenticate with the Hugging Face Hub, create a token in your settings tab (https://huggingface.co/settings/tokens), set it as secret in your Google Colab and restart your session.\n",
            "You will be able to reuse this secret in all of your notebooks.\n",
            "Please note that authentication is recommended but still optional to access public models or datasets.\n",
            "  warnings.warn(\n"
          ]
        },
        {
          "data": {
            "application/vnd.jupyter.widget-view+json": {
              "model_id": "3db75e3dfd654a9d936efce392381740",
              "version_major": 2,
              "version_minor": 0
            },
            "text/plain": [
              "config.json:   0%|          | 0.00/794 [00:00<?, ?B/s]"
            ]
          },
          "metadata": {},
          "output_type": "display_data"
        },
        {
          "data": {
            "application/vnd.jupyter.widget-view+json": {
              "model_id": "39c12f2fa2fa43cfa47e17b7f9b4de10",
              "version_major": 2,
              "version_minor": 0
            },
            "text/plain": [
              "pytorch_model.bin:   0%|          | 0.00/90.9M [00:00<?, ?B/s]"
            ]
          },
          "metadata": {},
          "output_type": "display_data"
        },
        {
          "data": {
            "application/vnd.jupyter.widget-view+json": {
              "model_id": "b8bebb34797f455988a1381217141a53",
              "version_major": 2,
              "version_minor": 0
            },
            "text/plain": [
              "tokenizer_config.json:   0%|          | 0.00/316 [00:00<?, ?B/s]"
            ]
          },
          "metadata": {},
          "output_type": "display_data"
        },
        {
          "data": {
            "application/vnd.jupyter.widget-view+json": {
              "model_id": "d973cc04294e40cbb599591869d1493a",
              "version_major": 2,
              "version_minor": 0
            },
            "text/plain": [
              "vocab.txt:   0%|          | 0.00/232k [00:00<?, ?B/s]"
            ]
          },
          "metadata": {},
          "output_type": "display_data"
        },
        {
          "data": {
            "application/vnd.jupyter.widget-view+json": {
              "model_id": "288c501d093d414ba529e903eebaecfa",
              "version_major": 2,
              "version_minor": 0
            },
            "text/plain": [
              "special_tokens_map.json:   0%|          | 0.00/112 [00:00<?, ?B/s]"
            ]
          },
          "metadata": {},
          "output_type": "display_data"
        }
      ],
      "source": [
        "cross_encoder = CrossEncoder('cross-encoder/ms-marco-MiniLM-L-6-v2')"
      ]
    },
    {
      "cell_type": "code",
      "execution_count": null,
      "metadata": {
        "id": "ARLzaUbs0mlm"
      },
      "outputs": [],
      "source": [
        "retriever = vectorstore.as_retriever(search_kwargs={\"k\": 3})"
      ]
    },
    {
      "cell_type": "code",
      "execution_count": null,
      "metadata": {
        "id": "_ZvafJkBy-QB"
      },
      "outputs": [],
      "source": [
        "contextualize_q_prompt = ChatPromptTemplate.from_messages(\n",
        "  [\n",
        "      (\"system\", prompts['contextualize_q_system_prompt']),\n",
        "      MessagesPlaceholder(\"chat_history\"),\n",
        "      (\"human\", \"{input}\"),\n",
        "  ]\n",
        ")\n",
        "\n",
        "history_aware_retriever = create_history_aware_retriever(\n",
        "  model, retriever, contextualize_q_prompt\n",
        ")\n",
        "\n",
        "qa_prompt = ChatPromptTemplate.from_messages(\n",
        "  [\n",
        "      (\"system\", f\"{prompts['system_prompt']} \\n {prompts['qa_prompt']}\"),\n",
        "      MessagesPlaceholder(\"chat_history\"),\n",
        "      (\"human\", \"{input}\"),\n",
        "  ]\n",
        ")"
      ]
    },
    {
      "cell_type": "code",
      "execution_count": null,
      "metadata": {
        "id": "8a2pKoX3zPxS"
      },
      "outputs": [],
      "source": [
        "qa_chain = create_stuff_documents_chain(model, prompt=qa_prompt)\n",
        "rag_chain = create_retrieval_chain(history_aware_retriever, qa_chain)"
      ]
    },
    {
      "cell_type": "code",
      "execution_count": null,
      "metadata": {
        "id": "THS25As-zgkn"
      },
      "outputs": [],
      "source": [
        "chat_history = []"
      ]
    },
    {
      "cell_type": "code",
      "execution_count": null,
      "metadata": {
        "id": "lsL6zcIYunTs"
      },
      "outputs": [],
      "source": [
        "def run(query):\n",
        "  q_expansion_chain = QUERY_PROMPT | model | QuestionArrayOutputParser()\n",
        "  queries = q_expansion_chain.invoke(query)\n",
        "\n",
        "  for expanded_query in queries:\n",
        "    print(\"<----------------------- Expanded Queries ------------------------------------>\")\n",
        "    print(expanded_query)\n",
        "\n",
        "  docs = [retriever.invoke(input=query) for query in queries]\n",
        "\n",
        "  # Remove duplicate retrievals\n",
        "\n",
        "  unique_contents = set()\n",
        "  unique_docs = []\n",
        "  for sublist in docs:\n",
        "    for doc in sublist:\n",
        "        if doc.page_content not in unique_contents:\n",
        "            unique_docs.append(doc)\n",
        "            unique_contents.add(doc.page_content)\n",
        "  unique_contents = list(unique_contents)\n",
        "  print(f\"{len(unique_contents)} docs retrieved from query expansion\")\n",
        "\n",
        "  # create query and retrieved document pairs for reranking\n",
        "  pairs = []\n",
        "  for doc in unique_contents:\n",
        "    pairs.append([query, doc])\n",
        "\n",
        "  scores = cross_encoder.predict(pairs)\n",
        "  print(f\"scores from cross encoder for {len(unique_contents)} docs: {scores}\")\n",
        "\n",
        "  # sort documents by their scores\n",
        "  scored_docs = zip(scores, unique_contents)\n",
        "  sorted_docs = sorted(scored_docs, reverse=True)\n",
        "\n",
        "  # Get top 5 documents\n",
        "  reranked_docs = [doc for _, doc in sorted_docs][0:5]\n",
        "  reranked_docs\n",
        "\n",
        "  # address lost in the middle by reordering\n",
        "  reordering = LongContextReorder()\n",
        "  reordered_docs = reordering.transform_documents(reranked_docs)\n",
        "\n",
        "  # Convert reordered_docs (strings) back to Document objects\n",
        "  reordered_docs = [Document(page_content=doc) for doc in reordered_docs]\n",
        "\n",
        "  response = qa_chain.invoke({\n",
        "    \"input\": query,\n",
        "    \"context\": reordered_docs,\n",
        "    \"chat_history\": chat_history\n",
        "  })\n",
        "\n",
        "  chat_history.extend([\n",
        "    HumanMessage(content=query),\n",
        "    AIMessage(content=response)\n",
        "  ])\n",
        "\n",
        "  return response"
      ]
    },
    {
      "cell_type": "code",
      "execution_count": null,
      "metadata": {
        "id": "5LzL0kbCz8qg"
      },
      "outputs": [],
      "source": [
        "def chat_fucntion(message, history: list):\n",
        "    print(f\"history: {history}\")\n",
        "    chat_response = run(message)\n",
        "    return chat_response"
      ]
    },
    {
      "cell_type": "code",
      "execution_count": null,
      "metadata": {
        "id": "FQUhgHVZ2L1O"
      },
      "outputs": [],
      "source": [
        "parser = StrOutputParser()"
      ]
    },
    {
      "cell_type": "code",
      "execution_count": null,
      "metadata": {
        "id": "1cQJ1NPF1nCt"
      },
      "outputs": [],
      "source": [
        "def greet() -> str:\n",
        "        prompt = PromptTemplate.from_template(f\"{prompts['system_prompt']}\\n{prompts['greet_prompt']}\")\n",
        "        llm_chain : RunnableSerializable = prompt | model | parser\n",
        "\n",
        "        response = llm_chain.invoke({})\n",
        "\n",
        "        chat_history.extend([\n",
        "          AIMessage(content=response)\n",
        "        ])\n",
        "\n",
        "        return response"
      ]
    },
    {
      "cell_type": "code",
      "execution_count": null,
      "metadata": {
        "id": "lCqYsPh01Bzy"
      },
      "outputs": [],
      "source": [
        "def greet_user():\n",
        "    greeting = greet()\n",
        "    return greeting"
      ]
    },
    {
      "cell_type": "code",
      "execution_count": null,
      "metadata": {
        "id": "VPp9Zmlwwp7g"
      },
      "outputs": [],
      "source": [
        "user_query = \"what is the price of Junsui Naturals Face Wash With Extra Whitening Radiance?\""
      ]
    },
    {
      "cell_type": "code",
      "execution_count": null,
      "metadata": {
        "colab": {
          "background_save": true,
          "base_uri": "https://localhost:8080/",
          "height": 1000
        },
        "id": "e5zClYcV0I6C",
        "outputId": "d1ce92a7-96c4-409e-e89d-4a10f976dbfa"
      },
      "outputs": [
        {
          "name": "stderr",
          "output_type": "stream",
          "text": [
            "/usr/local/lib/python3.10/dist-packages/gradio/components/chatbot.py:237: UserWarning: You have not specified a value for the `type` parameter. Defaulting to the 'tuples' format for chatbot messages, but this is deprecated and will be removed in a future version of Gradio. Please set type='messages' instead, which uses openai-style dictionaries with 'role' and 'content' keys.\n",
            "  warnings.warn(\n"
          ]
        },
        {
          "name": "stdout",
          "output_type": "stream",
          "text": [
            "Colab notebook detected. This cell will run indefinitely so that you can see errors and logs. To turn off, set debug=False in launch().\n",
            "* Running on public URL: https://f5904eae8a8dfb2eba.gradio.live\n",
            "\n",
            "This share link expires in 72 hours. For free permanent hosting and GPU upgrades, run `gradio deploy` from the terminal in the working directory to deploy to Hugging Face Spaces (https://huggingface.co/spaces)\n"
          ]
        },
        {
          "data": {
            "text/html": [
              "<div><iframe src=\"https://f5904eae8a8dfb2eba.gradio.live\" width=\"100%\" height=\"500\" allow=\"autoplay; camera; microphone; clipboard-read; clipboard-write;\" frameborder=\"0\" allowfullscreen></iframe></div>"
            ],
            "text/plain": [
              "<IPython.core.display.HTML object>"
            ]
          },
          "metadata": {},
          "output_type": "display_data"
        },
        {
          "name": "stdout",
          "output_type": "stream",
          "text": [
            "history: []\n",
            "<----------------------- Expanded Queries ------------------------------------>\n",
            "Original question: what can you do for me?\n",
            "<----------------------- Expanded Queries ------------------------------------>\n",
            "Alternative questions:\n",
            "What services or features can I utilize with your assistance?\n",
            "How can you assist me in achieving my goals or solving a problem?\n",
            "Can you provide information on the capabilities and functions of our interaction?\n",
            "5 docs retrieved from query expansion\n",
            "scores from cross encoder for 5 docs: [-8.314337  -8.192134  -7.93719   -7.68518   -7.8239484]\n"
          ]
        },
        {
          "name": "stderr",
          "output_type": "stream",
          "text": [
            "Traceback (most recent call last):\n",
            "  File \"/usr/local/lib/python3.10/dist-packages/gradio/queueing.py\", line 624, in process_events\n",
            "    response = await route_utils.call_process_api(\n",
            "  File \"/usr/local/lib/python3.10/dist-packages/gradio/route_utils.py\", line 323, in call_process_api\n",
            "    output = await app.get_blocks().process_api(\n",
            "  File \"/usr/local/lib/python3.10/dist-packages/gradio/blocks.py\", line 2029, in process_api\n",
            "    data = await self.postprocess_data(block_fn, result[\"prediction\"], state)\n",
            "  File \"/usr/local/lib/python3.10/dist-packages/gradio/blocks.py\", line 1835, in postprocess_data\n",
            "    prediction_value = block.postprocess(prediction_value)\n",
            "  File \"/usr/local/lib/python3.10/dist-packages/gradio/components/chatbot.py\", line 551, in postprocess\n",
            "    self._check_format(value, \"tuples\")\n",
            "  File \"/usr/local/lib/python3.10/dist-packages/gradio/components/chatbot.py\", line 349, in _check_format\n",
            "    raise Error(\n",
            "gradio.exceptions.Error: 'Data incompatible with tuples format. Each message should be a list of length 2.'\n"
          ]
        }
      ],
      "source": [
        "import gradio as gr\n",
        "# https://github.com/gradio-app/gradio/issues/9463\n",
        "# https://github.com/gradio-app/gradio/issues/9962\n",
        "\n",
        "gr.ChatInterface(\n",
        "    fn=chat_fucntion,\n",
        "    title=\"RetailARVA Bot\",\n",
        "    chatbot=gr.Chatbot(height=500, value=[[None, greet_user()]]),\n",
        "    textbox=gr.Textbox(placeholder=\"Message chatbot\", container=False, scale=7),\n",
        "    theme=gr.themes.Monochrome(),\n",
        "    submit_btn=\"Send\",\n",
        "    stop_btn=\"Stop\",\n",
        ").launch(share=True, debug=True)"
      ]
    },
    {
      "cell_type": "code",
      "execution_count": null,
      "metadata": {
        "id": "r8Y7DxpZpG7v"
      },
      "outputs": [],
      "source": [
        "# prompt: explain the reason for gradio.exceptions.Error: 'Data incompatible with tuples format. Each message should be a list of length 2.' error\n",
        "\n",
        "gr.Chatbot(height=500, value=[[None, greet_user()]])"
      ]
    }
  ],
  "metadata": {
    "colab": {
      "provenance": []
    },
    "kernelspec": {
      "display_name": "Python 3",
      "name": "python3"
    },
    "language_info": {
      "name": "python"
    },
    "widgets": {
      "application/vnd.jupyter.widget-state+json": {
        "0792135f68d040cd975299ef752cc493": {
          "model_module": "@jupyter-widgets/controls",
          "model_module_version": "1.5.0",
          "model_name": "HTMLModel",
          "state": {
            "_dom_classes": [],
            "_model_module": "@jupyter-widgets/controls",
            "_model_module_version": "1.5.0",
            "_model_name": "HTMLModel",
            "_view_count": null,
            "_view_module": "@jupyter-widgets/controls",
            "_view_module_version": "1.5.0",
            "_view_name": "HTMLView",
            "description": "",
            "description_tooltip": null,
            "layout": "IPY_MODEL_f61c39842fb64b68ac9b113c96433643",
            "placeholder": "​",
            "style": "IPY_MODEL_27c9e890481449ef9b8ebb3b9b0a7a61",
            "value": " 112/112 [00:00&lt;00:00, 4.78kB/s]"
          }
        },
        "08ad2dcfcd9944638ce44ce6afb58478": {
          "model_module": "@jupyter-widgets/base",
          "model_module_version": "1.2.0",
          "model_name": "LayoutModel",
          "state": {
            "_model_module": "@jupyter-widgets/base",
            "_model_module_version": "1.2.0",
            "_model_name": "LayoutModel",
            "_view_count": null,
            "_view_module": "@jupyter-widgets/base",
            "_view_module_version": "1.2.0",
            "_view_name": "LayoutView",
            "align_content": null,
            "align_items": null,
            "align_self": null,
            "border": null,
            "bottom": null,
            "display": null,
            "flex": null,
            "flex_flow": null,
            "grid_area": null,
            "grid_auto_columns": null,
            "grid_auto_flow": null,
            "grid_auto_rows": null,
            "grid_column": null,
            "grid_gap": null,
            "grid_row": null,
            "grid_template_areas": null,
            "grid_template_columns": null,
            "grid_template_rows": null,
            "height": null,
            "justify_content": null,
            "justify_items": null,
            "left": null,
            "margin": null,
            "max_height": null,
            "max_width": null,
            "min_height": null,
            "min_width": null,
            "object_fit": null,
            "object_position": null,
            "order": null,
            "overflow": null,
            "overflow_x": null,
            "overflow_y": null,
            "padding": null,
            "right": null,
            "top": null,
            "visibility": null,
            "width": null
          }
        },
        "09a58db52a36420488034edaa97f9e4d": {
          "model_module": "@jupyter-widgets/controls",
          "model_module_version": "1.5.0",
          "model_name": "HTMLModel",
          "state": {
            "_dom_classes": [],
            "_model_module": "@jupyter-widgets/controls",
            "_model_module_version": "1.5.0",
            "_model_name": "HTMLModel",
            "_view_count": null,
            "_view_module": "@jupyter-widgets/controls",
            "_view_module_version": "1.5.0",
            "_view_name": "HTMLView",
            "description": "",
            "description_tooltip": null,
            "layout": "IPY_MODEL_2a06c723def94295bad3eeeefde46206",
            "placeholder": "​",
            "style": "IPY_MODEL_1d5e3503a2fe46cf82e3a0a49bcdf22f",
            "value": " 232k/232k [00:00&lt;00:00, 675kB/s]"
          }
        },
        "09cc97ba69344e6bb818293421b7ad15": {
          "model_module": "@jupyter-widgets/base",
          "model_module_version": "1.2.0",
          "model_name": "LayoutModel",
          "state": {
            "_model_module": "@jupyter-widgets/base",
            "_model_module_version": "1.2.0",
            "_model_name": "LayoutModel",
            "_view_count": null,
            "_view_module": "@jupyter-widgets/base",
            "_view_module_version": "1.2.0",
            "_view_name": "LayoutView",
            "align_content": null,
            "align_items": null,
            "align_self": null,
            "border": null,
            "bottom": null,
            "display": null,
            "flex": null,
            "flex_flow": null,
            "grid_area": null,
            "grid_auto_columns": null,
            "grid_auto_flow": null,
            "grid_auto_rows": null,
            "grid_column": null,
            "grid_gap": null,
            "grid_row": null,
            "grid_template_areas": null,
            "grid_template_columns": null,
            "grid_template_rows": null,
            "height": null,
            "justify_content": null,
            "justify_items": null,
            "left": null,
            "margin": null,
            "max_height": null,
            "max_width": null,
            "min_height": null,
            "min_width": null,
            "object_fit": null,
            "object_position": null,
            "order": null,
            "overflow": null,
            "overflow_x": null,
            "overflow_y": null,
            "padding": null,
            "right": null,
            "top": null,
            "visibility": null,
            "width": null
          }
        },
        "0a9a7a009fb14469a530ecfe295131e3": {
          "model_module": "@jupyter-widgets/controls",
          "model_module_version": "1.5.0",
          "model_name": "DescriptionStyleModel",
          "state": {
            "_model_module": "@jupyter-widgets/controls",
            "_model_module_version": "1.5.0",
            "_model_name": "DescriptionStyleModel",
            "_view_count": null,
            "_view_module": "@jupyter-widgets/base",
            "_view_module_version": "1.2.0",
            "_view_name": "StyleView",
            "description_width": ""
          }
        },
        "0b1079a7e4be4075b51a1a5fc7430837": {
          "model_module": "@jupyter-widgets/base",
          "model_module_version": "1.2.0",
          "model_name": "LayoutModel",
          "state": {
            "_model_module": "@jupyter-widgets/base",
            "_model_module_version": "1.2.0",
            "_model_name": "LayoutModel",
            "_view_count": null,
            "_view_module": "@jupyter-widgets/base",
            "_view_module_version": "1.2.0",
            "_view_name": "LayoutView",
            "align_content": null,
            "align_items": null,
            "align_self": null,
            "border": null,
            "bottom": null,
            "display": null,
            "flex": null,
            "flex_flow": null,
            "grid_area": null,
            "grid_auto_columns": null,
            "grid_auto_flow": null,
            "grid_auto_rows": null,
            "grid_column": null,
            "grid_gap": null,
            "grid_row": null,
            "grid_template_areas": null,
            "grid_template_columns": null,
            "grid_template_rows": null,
            "height": null,
            "justify_content": null,
            "justify_items": null,
            "left": null,
            "margin": null,
            "max_height": null,
            "max_width": null,
            "min_height": null,
            "min_width": null,
            "object_fit": null,
            "object_position": null,
            "order": null,
            "overflow": null,
            "overflow_x": null,
            "overflow_y": null,
            "padding": null,
            "right": null,
            "top": null,
            "visibility": null,
            "width": null
          }
        },
        "0b5c0ab632184ef4bb6cd1315c9a25f5": {
          "model_module": "@jupyter-widgets/controls",
          "model_module_version": "1.5.0",
          "model_name": "DescriptionStyleModel",
          "state": {
            "_model_module": "@jupyter-widgets/controls",
            "_model_module_version": "1.5.0",
            "_model_name": "DescriptionStyleModel",
            "_view_count": null,
            "_view_module": "@jupyter-widgets/base",
            "_view_module_version": "1.2.0",
            "_view_name": "StyleView",
            "description_width": ""
          }
        },
        "0c9129c7ad47497186867141caa7b0b9": {
          "model_module": "@jupyter-widgets/controls",
          "model_module_version": "1.5.0",
          "model_name": "HTMLModel",
          "state": {
            "_dom_classes": [],
            "_model_module": "@jupyter-widgets/controls",
            "_model_module_version": "1.5.0",
            "_model_name": "HTMLModel",
            "_view_count": null,
            "_view_module": "@jupyter-widgets/controls",
            "_view_module_version": "1.5.0",
            "_view_name": "HTMLView",
            "description": "",
            "description_tooltip": null,
            "layout": "IPY_MODEL_2d800721547e403d8c194339c4334f90",
            "placeholder": "​",
            "style": "IPY_MODEL_e9f8c1672dd24cf78464a829d0251ef9",
            "value": "config.json: 100%"
          }
        },
        "10945aa415814523ab97bbd6451006a3": {
          "model_module": "@jupyter-widgets/controls",
          "model_module_version": "1.5.0",
          "model_name": "DescriptionStyleModel",
          "state": {
            "_model_module": "@jupyter-widgets/controls",
            "_model_module_version": "1.5.0",
            "_model_name": "DescriptionStyleModel",
            "_view_count": null,
            "_view_module": "@jupyter-widgets/base",
            "_view_module_version": "1.2.0",
            "_view_name": "StyleView",
            "description_width": ""
          }
        },
        "175c351bdfbe430d935f780674369ffa": {
          "model_module": "@jupyter-widgets/base",
          "model_module_version": "1.2.0",
          "model_name": "LayoutModel",
          "state": {
            "_model_module": "@jupyter-widgets/base",
            "_model_module_version": "1.2.0",
            "_model_name": "LayoutModel",
            "_view_count": null,
            "_view_module": "@jupyter-widgets/base",
            "_view_module_version": "1.2.0",
            "_view_name": "LayoutView",
            "align_content": null,
            "align_items": null,
            "align_self": null,
            "border": null,
            "bottom": null,
            "display": null,
            "flex": null,
            "flex_flow": null,
            "grid_area": null,
            "grid_auto_columns": null,
            "grid_auto_flow": null,
            "grid_auto_rows": null,
            "grid_column": null,
            "grid_gap": null,
            "grid_row": null,
            "grid_template_areas": null,
            "grid_template_columns": null,
            "grid_template_rows": null,
            "height": null,
            "justify_content": null,
            "justify_items": null,
            "left": null,
            "margin": null,
            "max_height": null,
            "max_width": null,
            "min_height": null,
            "min_width": null,
            "object_fit": null,
            "object_position": null,
            "order": null,
            "overflow": null,
            "overflow_x": null,
            "overflow_y": null,
            "padding": null,
            "right": null,
            "top": null,
            "visibility": null,
            "width": null
          }
        },
        "19db3c9e2d3a4012a3b373295ca9bad3": {
          "model_module": "@jupyter-widgets/controls",
          "model_module_version": "1.5.0",
          "model_name": "DescriptionStyleModel",
          "state": {
            "_model_module": "@jupyter-widgets/controls",
            "_model_module_version": "1.5.0",
            "_model_name": "DescriptionStyleModel",
            "_view_count": null,
            "_view_module": "@jupyter-widgets/base",
            "_view_module_version": "1.2.0",
            "_view_name": "StyleView",
            "description_width": ""
          }
        },
        "1d5e3503a2fe46cf82e3a0a49bcdf22f": {
          "model_module": "@jupyter-widgets/controls",
          "model_module_version": "1.5.0",
          "model_name": "DescriptionStyleModel",
          "state": {
            "_model_module": "@jupyter-widgets/controls",
            "_model_module_version": "1.5.0",
            "_model_name": "DescriptionStyleModel",
            "_view_count": null,
            "_view_module": "@jupyter-widgets/base",
            "_view_module_version": "1.2.0",
            "_view_name": "StyleView",
            "description_width": ""
          }
        },
        "1ef010c4c3954634bc6301bd59da1175": {
          "model_module": "@jupyter-widgets/controls",
          "model_module_version": "1.5.0",
          "model_name": "HTMLModel",
          "state": {
            "_dom_classes": [],
            "_model_module": "@jupyter-widgets/controls",
            "_model_module_version": "1.5.0",
            "_model_name": "HTMLModel",
            "_view_count": null,
            "_view_module": "@jupyter-widgets/controls",
            "_view_module_version": "1.5.0",
            "_view_name": "HTMLView",
            "description": "",
            "description_tooltip": null,
            "layout": "IPY_MODEL_ad2ce79640f6410bb63c3282b46994d4",
            "placeholder": "​",
            "style": "IPY_MODEL_0b5c0ab632184ef4bb6cd1315c9a25f5",
            "value": " 232k/232k [00:00&lt;00:00, 2.84MB/s]"
          }
        },
        "21ff926fe0984d2884acbf91ea1a38f5": {
          "model_module": "@jupyter-widgets/controls",
          "model_module_version": "1.5.0",
          "model_name": "ProgressStyleModel",
          "state": {
            "_model_module": "@jupyter-widgets/controls",
            "_model_module_version": "1.5.0",
            "_model_name": "ProgressStyleModel",
            "_view_count": null,
            "_view_module": "@jupyter-widgets/base",
            "_view_module_version": "1.2.0",
            "_view_name": "StyleView",
            "bar_color": null,
            "description_width": ""
          }
        },
        "2664034e0ce84fbb922a3d374b879ceb": {
          "model_module": "@jupyter-widgets/base",
          "model_module_version": "1.2.0",
          "model_name": "LayoutModel",
          "state": {
            "_model_module": "@jupyter-widgets/base",
            "_model_module_version": "1.2.0",
            "_model_name": "LayoutModel",
            "_view_count": null,
            "_view_module": "@jupyter-widgets/base",
            "_view_module_version": "1.2.0",
            "_view_name": "LayoutView",
            "align_content": null,
            "align_items": null,
            "align_self": null,
            "border": null,
            "bottom": null,
            "display": null,
            "flex": null,
            "flex_flow": null,
            "grid_area": null,
            "grid_auto_columns": null,
            "grid_auto_flow": null,
            "grid_auto_rows": null,
            "grid_column": null,
            "grid_gap": null,
            "grid_row": null,
            "grid_template_areas": null,
            "grid_template_columns": null,
            "grid_template_rows": null,
            "height": null,
            "justify_content": null,
            "justify_items": null,
            "left": null,
            "margin": null,
            "max_height": null,
            "max_width": null,
            "min_height": null,
            "min_width": null,
            "object_fit": null,
            "object_position": null,
            "order": null,
            "overflow": null,
            "overflow_x": null,
            "overflow_y": null,
            "padding": null,
            "right": null,
            "top": null,
            "visibility": null,
            "width": null
          }
        },
        "273a48666ef2411eba3ed76f11a06b68": {
          "model_module": "@jupyter-widgets/controls",
          "model_module_version": "1.5.0",
          "model_name": "HBoxModel",
          "state": {
            "_dom_classes": [],
            "_model_module": "@jupyter-widgets/controls",
            "_model_module_version": "1.5.0",
            "_model_name": "HBoxModel",
            "_view_count": null,
            "_view_module": "@jupyter-widgets/controls",
            "_view_module_version": "1.5.0",
            "_view_name": "HBoxView",
            "box_style": "",
            "children": [
              "IPY_MODEL_8da1d1c7fc9e43c58c1b0200bde04efe",
              "IPY_MODEL_ff822af0e5394517814f37825a1a8646",
              "IPY_MODEL_0792135f68d040cd975299ef752cc493"
            ],
            "layout": "IPY_MODEL_2664034e0ce84fbb922a3d374b879ceb"
          }
        },
        "27c9e890481449ef9b8ebb3b9b0a7a61": {
          "model_module": "@jupyter-widgets/controls",
          "model_module_version": "1.5.0",
          "model_name": "DescriptionStyleModel",
          "state": {
            "_model_module": "@jupyter-widgets/controls",
            "_model_module_version": "1.5.0",
            "_model_name": "DescriptionStyleModel",
            "_view_count": null,
            "_view_module": "@jupyter-widgets/base",
            "_view_module_version": "1.2.0",
            "_view_name": "StyleView",
            "description_width": ""
          }
        },
        "288c501d093d414ba529e903eebaecfa": {
          "model_module": "@jupyter-widgets/controls",
          "model_module_version": "1.5.0",
          "model_name": "HBoxModel",
          "state": {
            "_dom_classes": [],
            "_model_module": "@jupyter-widgets/controls",
            "_model_module_version": "1.5.0",
            "_model_name": "HBoxModel",
            "_view_count": null,
            "_view_module": "@jupyter-widgets/controls",
            "_view_module_version": "1.5.0",
            "_view_name": "HBoxView",
            "box_style": "",
            "children": [
              "IPY_MODEL_71bb701f28cc46f7a967d724d862ba49",
              "IPY_MODEL_e20115b2803244ff81cefe978beadf2b",
              "IPY_MODEL_38a4b01101f643f690fd922b52819b5a"
            ],
            "layout": "IPY_MODEL_fc24715170774380a7a86c93cb24b64a"
          }
        },
        "2a06c723def94295bad3eeeefde46206": {
          "model_module": "@jupyter-widgets/base",
          "model_module_version": "1.2.0",
          "model_name": "LayoutModel",
          "state": {
            "_model_module": "@jupyter-widgets/base",
            "_model_module_version": "1.2.0",
            "_model_name": "LayoutModel",
            "_view_count": null,
            "_view_module": "@jupyter-widgets/base",
            "_view_module_version": "1.2.0",
            "_view_name": "LayoutView",
            "align_content": null,
            "align_items": null,
            "align_self": null,
            "border": null,
            "bottom": null,
            "display": null,
            "flex": null,
            "flex_flow": null,
            "grid_area": null,
            "grid_auto_columns": null,
            "grid_auto_flow": null,
            "grid_auto_rows": null,
            "grid_column": null,
            "grid_gap": null,
            "grid_row": null,
            "grid_template_areas": null,
            "grid_template_columns": null,
            "grid_template_rows": null,
            "height": null,
            "justify_content": null,
            "justify_items": null,
            "left": null,
            "margin": null,
            "max_height": null,
            "max_width": null,
            "min_height": null,
            "min_width": null,
            "object_fit": null,
            "object_position": null,
            "order": null,
            "overflow": null,
            "overflow_x": null,
            "overflow_y": null,
            "padding": null,
            "right": null,
            "top": null,
            "visibility": null,
            "width": null
          }
        },
        "2b54f3a9be5c4132a9a6e499f3178bb1": {
          "model_module": "@jupyter-widgets/base",
          "model_module_version": "1.2.0",
          "model_name": "LayoutModel",
          "state": {
            "_model_module": "@jupyter-widgets/base",
            "_model_module_version": "1.2.0",
            "_model_name": "LayoutModel",
            "_view_count": null,
            "_view_module": "@jupyter-widgets/base",
            "_view_module_version": "1.2.0",
            "_view_name": "LayoutView",
            "align_content": null,
            "align_items": null,
            "align_self": null,
            "border": null,
            "bottom": null,
            "display": null,
            "flex": null,
            "flex_flow": null,
            "grid_area": null,
            "grid_auto_columns": null,
            "grid_auto_flow": null,
            "grid_auto_rows": null,
            "grid_column": null,
            "grid_gap": null,
            "grid_row": null,
            "grid_template_areas": null,
            "grid_template_columns": null,
            "grid_template_rows": null,
            "height": null,
            "justify_content": null,
            "justify_items": null,
            "left": null,
            "margin": null,
            "max_height": null,
            "max_width": null,
            "min_height": null,
            "min_width": null,
            "object_fit": null,
            "object_position": null,
            "order": null,
            "overflow": null,
            "overflow_x": null,
            "overflow_y": null,
            "padding": null,
            "right": null,
            "top": null,
            "visibility": null,
            "width": null
          }
        },
        "2d49dae0157e4dad90d2a3383e17acb9": {
          "model_module": "@jupyter-widgets/controls",
          "model_module_version": "1.5.0",
          "model_name": "HTMLModel",
          "state": {
            "_dom_classes": [],
            "_model_module": "@jupyter-widgets/controls",
            "_model_module_version": "1.5.0",
            "_model_name": "HTMLModel",
            "_view_count": null,
            "_view_module": "@jupyter-widgets/controls",
            "_view_module_version": "1.5.0",
            "_view_name": "HTMLView",
            "description": "",
            "description_tooltip": null,
            "layout": "IPY_MODEL_344053a7774b4bf09ee33e8c2f1827fc",
            "placeholder": "​",
            "style": "IPY_MODEL_ecb10eb61d0e4506b7100bbe5029163a",
            "value": "vocab.txt: 100%"
          }
        },
        "2d800721547e403d8c194339c4334f90": {
          "model_module": "@jupyter-widgets/base",
          "model_module_version": "1.2.0",
          "model_name": "LayoutModel",
          "state": {
            "_model_module": "@jupyter-widgets/base",
            "_model_module_version": "1.2.0",
            "_model_name": "LayoutModel",
            "_view_count": null,
            "_view_module": "@jupyter-widgets/base",
            "_view_module_version": "1.2.0",
            "_view_name": "LayoutView",
            "align_content": null,
            "align_items": null,
            "align_self": null,
            "border": null,
            "bottom": null,
            "display": null,
            "flex": null,
            "flex_flow": null,
            "grid_area": null,
            "grid_auto_columns": null,
            "grid_auto_flow": null,
            "grid_auto_rows": null,
            "grid_column": null,
            "grid_gap": null,
            "grid_row": null,
            "grid_template_areas": null,
            "grid_template_columns": null,
            "grid_template_rows": null,
            "height": null,
            "justify_content": null,
            "justify_items": null,
            "left": null,
            "margin": null,
            "max_height": null,
            "max_width": null,
            "min_height": null,
            "min_width": null,
            "object_fit": null,
            "object_position": null,
            "order": null,
            "overflow": null,
            "overflow_x": null,
            "overflow_y": null,
            "padding": null,
            "right": null,
            "top": null,
            "visibility": null,
            "width": null
          }
        },
        "2da68f79719b4894b9d8070b64776426": {
          "model_module": "@jupyter-widgets/base",
          "model_module_version": "1.2.0",
          "model_name": "LayoutModel",
          "state": {
            "_model_module": "@jupyter-widgets/base",
            "_model_module_version": "1.2.0",
            "_model_name": "LayoutModel",
            "_view_count": null,
            "_view_module": "@jupyter-widgets/base",
            "_view_module_version": "1.2.0",
            "_view_name": "LayoutView",
            "align_content": null,
            "align_items": null,
            "align_self": null,
            "border": null,
            "bottom": null,
            "display": null,
            "flex": null,
            "flex_flow": null,
            "grid_area": null,
            "grid_auto_columns": null,
            "grid_auto_flow": null,
            "grid_auto_rows": null,
            "grid_column": null,
            "grid_gap": null,
            "grid_row": null,
            "grid_template_areas": null,
            "grid_template_columns": null,
            "grid_template_rows": null,
            "height": null,
            "justify_content": null,
            "justify_items": null,
            "left": null,
            "margin": null,
            "max_height": null,
            "max_width": null,
            "min_height": null,
            "min_width": null,
            "object_fit": null,
            "object_position": null,
            "order": null,
            "overflow": null,
            "overflow_x": null,
            "overflow_y": null,
            "padding": null,
            "right": null,
            "top": null,
            "visibility": null,
            "width": null
          }
        },
        "305d2a209fa6403fb9107aecce537484": {
          "model_module": "@jupyter-widgets/controls",
          "model_module_version": "1.5.0",
          "model_name": "ProgressStyleModel",
          "state": {
            "_model_module": "@jupyter-widgets/controls",
            "_model_module_version": "1.5.0",
            "_model_name": "ProgressStyleModel",
            "_view_count": null,
            "_view_module": "@jupyter-widgets/base",
            "_view_module_version": "1.2.0",
            "_view_name": "StyleView",
            "bar_color": null,
            "description_width": ""
          }
        },
        "3200bddda2a54818ad84cfabff82a162": {
          "model_module": "@jupyter-widgets/controls",
          "model_module_version": "1.5.0",
          "model_name": "HTMLModel",
          "state": {
            "_dom_classes": [],
            "_model_module": "@jupyter-widgets/controls",
            "_model_module_version": "1.5.0",
            "_model_name": "HTMLModel",
            "_view_count": null,
            "_view_module": "@jupyter-widgets/controls",
            "_view_module_version": "1.5.0",
            "_view_name": "HTMLView",
            "description": "",
            "description_tooltip": null,
            "layout": "IPY_MODEL_34c34ac2180743c599bd55cf59df257a",
            "placeholder": "​",
            "style": "IPY_MODEL_dd1800c786d840deae69c3bcf5bcf0d2",
            "value": " 90.9M/90.9M [00:00&lt;00:00, 124MB/s]"
          }
        },
        "33bf602efb564f06a5c42210d7c24480": {
          "model_module": "@jupyter-widgets/controls",
          "model_module_version": "1.5.0",
          "model_name": "ProgressStyleModel",
          "state": {
            "_model_module": "@jupyter-widgets/controls",
            "_model_module_version": "1.5.0",
            "_model_name": "ProgressStyleModel",
            "_view_count": null,
            "_view_module": "@jupyter-widgets/base",
            "_view_module_version": "1.2.0",
            "_view_name": "StyleView",
            "bar_color": null,
            "description_width": ""
          }
        },
        "344053a7774b4bf09ee33e8c2f1827fc": {
          "model_module": "@jupyter-widgets/base",
          "model_module_version": "1.2.0",
          "model_name": "LayoutModel",
          "state": {
            "_model_module": "@jupyter-widgets/base",
            "_model_module_version": "1.2.0",
            "_model_name": "LayoutModel",
            "_view_count": null,
            "_view_module": "@jupyter-widgets/base",
            "_view_module_version": "1.2.0",
            "_view_name": "LayoutView",
            "align_content": null,
            "align_items": null,
            "align_self": null,
            "border": null,
            "bottom": null,
            "display": null,
            "flex": null,
            "flex_flow": null,
            "grid_area": null,
            "grid_auto_columns": null,
            "grid_auto_flow": null,
            "grid_auto_rows": null,
            "grid_column": null,
            "grid_gap": null,
            "grid_row": null,
            "grid_template_areas": null,
            "grid_template_columns": null,
            "grid_template_rows": null,
            "height": null,
            "justify_content": null,
            "justify_items": null,
            "left": null,
            "margin": null,
            "max_height": null,
            "max_width": null,
            "min_height": null,
            "min_width": null,
            "object_fit": null,
            "object_position": null,
            "order": null,
            "overflow": null,
            "overflow_x": null,
            "overflow_y": null,
            "padding": null,
            "right": null,
            "top": null,
            "visibility": null,
            "width": null
          }
        },
        "349b2ace5a7d46b2bff64fac5d599ea5": {
          "model_module": "@jupyter-widgets/base",
          "model_module_version": "1.2.0",
          "model_name": "LayoutModel",
          "state": {
            "_model_module": "@jupyter-widgets/base",
            "_model_module_version": "1.2.0",
            "_model_name": "LayoutModel",
            "_view_count": null,
            "_view_module": "@jupyter-widgets/base",
            "_view_module_version": "1.2.0",
            "_view_name": "LayoutView",
            "align_content": null,
            "align_items": null,
            "align_self": null,
            "border": null,
            "bottom": null,
            "display": null,
            "flex": null,
            "flex_flow": null,
            "grid_area": null,
            "grid_auto_columns": null,
            "grid_auto_flow": null,
            "grid_auto_rows": null,
            "grid_column": null,
            "grid_gap": null,
            "grid_row": null,
            "grid_template_areas": null,
            "grid_template_columns": null,
            "grid_template_rows": null,
            "height": null,
            "justify_content": null,
            "justify_items": null,
            "left": null,
            "margin": null,
            "max_height": null,
            "max_width": null,
            "min_height": null,
            "min_width": null,
            "object_fit": null,
            "object_position": null,
            "order": null,
            "overflow": null,
            "overflow_x": null,
            "overflow_y": null,
            "padding": null,
            "right": null,
            "top": null,
            "visibility": null,
            "width": null
          }
        },
        "34c34ac2180743c599bd55cf59df257a": {
          "model_module": "@jupyter-widgets/base",
          "model_module_version": "1.2.0",
          "model_name": "LayoutModel",
          "state": {
            "_model_module": "@jupyter-widgets/base",
            "_model_module_version": "1.2.0",
            "_model_name": "LayoutModel",
            "_view_count": null,
            "_view_module": "@jupyter-widgets/base",
            "_view_module_version": "1.2.0",
            "_view_name": "LayoutView",
            "align_content": null,
            "align_items": null,
            "align_self": null,
            "border": null,
            "bottom": null,
            "display": null,
            "flex": null,
            "flex_flow": null,
            "grid_area": null,
            "grid_auto_columns": null,
            "grid_auto_flow": null,
            "grid_auto_rows": null,
            "grid_column": null,
            "grid_gap": null,
            "grid_row": null,
            "grid_template_areas": null,
            "grid_template_columns": null,
            "grid_template_rows": null,
            "height": null,
            "justify_content": null,
            "justify_items": null,
            "left": null,
            "margin": null,
            "max_height": null,
            "max_width": null,
            "min_height": null,
            "min_width": null,
            "object_fit": null,
            "object_position": null,
            "order": null,
            "overflow": null,
            "overflow_x": null,
            "overflow_y": null,
            "padding": null,
            "right": null,
            "top": null,
            "visibility": null,
            "width": null
          }
        },
        "351b3808053f43acb08fd2a1a4e1cbb3": {
          "model_module": "@jupyter-widgets/controls",
          "model_module_version": "1.5.0",
          "model_name": "HTMLModel",
          "state": {
            "_dom_classes": [],
            "_model_module": "@jupyter-widgets/controls",
            "_model_module_version": "1.5.0",
            "_model_name": "HTMLModel",
            "_view_count": null,
            "_view_module": "@jupyter-widgets/controls",
            "_view_module_version": "1.5.0",
            "_view_name": "HTMLView",
            "description": "",
            "description_tooltip": null,
            "layout": "IPY_MODEL_09cc97ba69344e6bb818293421b7ad15",
            "placeholder": "​",
            "style": "IPY_MODEL_9c7afe162662480e8c219fdcf0716063",
            "value": " 794/794 [00:00&lt;00:00, 26.7kB/s]"
          }
        },
        "3547e6f6fc6a4c1cb5de19910f59851d": {
          "model_module": "@jupyter-widgets/controls",
          "model_module_version": "1.5.0",
          "model_name": "FloatProgressModel",
          "state": {
            "_dom_classes": [],
            "_model_module": "@jupyter-widgets/controls",
            "_model_module_version": "1.5.0",
            "_model_name": "FloatProgressModel",
            "_view_count": null,
            "_view_module": "@jupyter-widgets/controls",
            "_view_module_version": "1.5.0",
            "_view_name": "ProgressView",
            "bar_style": "success",
            "description": "",
            "description_tooltip": null,
            "layout": "IPY_MODEL_175c351bdfbe430d935f780674369ffa",
            "max": 794,
            "min": 0,
            "orientation": "horizontal",
            "style": "IPY_MODEL_fa07b4b118ac47678afd34a44b939dd0",
            "value": 794
          }
        },
        "38a4b01101f643f690fd922b52819b5a": {
          "model_module": "@jupyter-widgets/controls",
          "model_module_version": "1.5.0",
          "model_name": "HTMLModel",
          "state": {
            "_dom_classes": [],
            "_model_module": "@jupyter-widgets/controls",
            "_model_module_version": "1.5.0",
            "_model_name": "HTMLModel",
            "_view_count": null,
            "_view_module": "@jupyter-widgets/controls",
            "_view_module_version": "1.5.0",
            "_view_name": "HTMLView",
            "description": "",
            "description_tooltip": null,
            "layout": "IPY_MODEL_a6b0cbfe02db4e828af0ed64218712fe",
            "placeholder": "​",
            "style": "IPY_MODEL_10945aa415814523ab97bbd6451006a3",
            "value": " 112/112 [00:00&lt;00:00, 1.53kB/s]"
          }
        },
        "39c12f2fa2fa43cfa47e17b7f9b4de10": {
          "model_module": "@jupyter-widgets/controls",
          "model_module_version": "1.5.0",
          "model_name": "HBoxModel",
          "state": {
            "_dom_classes": [],
            "_model_module": "@jupyter-widgets/controls",
            "_model_module_version": "1.5.0",
            "_model_name": "HBoxModel",
            "_view_count": null,
            "_view_module": "@jupyter-widgets/controls",
            "_view_module_version": "1.5.0",
            "_view_name": "HBoxView",
            "box_style": "",
            "children": [
              "IPY_MODEL_97a140f35f744712a69f2bf6a4111c50",
              "IPY_MODEL_eb52d5c903624c70809fb26b7ae98a32",
              "IPY_MODEL_6d7364c65ed04d17baf624915e3e97b0"
            ],
            "layout": "IPY_MODEL_92296443062445328895be6e5877b481"
          }
        },
        "3bd68f71b8d14631be9de6cd54755c54": {
          "model_module": "@jupyter-widgets/controls",
          "model_module_version": "1.5.0",
          "model_name": "FloatProgressModel",
          "state": {
            "_dom_classes": [],
            "_model_module": "@jupyter-widgets/controls",
            "_model_module_version": "1.5.0",
            "_model_name": "FloatProgressModel",
            "_view_count": null,
            "_view_module": "@jupyter-widgets/controls",
            "_view_module_version": "1.5.0",
            "_view_name": "ProgressView",
            "bar_style": "success",
            "description": "",
            "description_tooltip": null,
            "layout": "IPY_MODEL_7374f73819504f1a85deaa10e39e49ca",
            "max": 231508,
            "min": 0,
            "orientation": "horizontal",
            "style": "IPY_MODEL_b39b303965fc4c9e86e826558fcc5844",
            "value": 231508
          }
        },
        "3caf97310cfd4e2796d5cfa13f91cf05": {
          "model_module": "@jupyter-widgets/base",
          "model_module_version": "1.2.0",
          "model_name": "LayoutModel",
          "state": {
            "_model_module": "@jupyter-widgets/base",
            "_model_module_version": "1.2.0",
            "_model_name": "LayoutModel",
            "_view_count": null,
            "_view_module": "@jupyter-widgets/base",
            "_view_module_version": "1.2.0",
            "_view_name": "LayoutView",
            "align_content": null,
            "align_items": null,
            "align_self": null,
            "border": null,
            "bottom": null,
            "display": null,
            "flex": null,
            "flex_flow": null,
            "grid_area": null,
            "grid_auto_columns": null,
            "grid_auto_flow": null,
            "grid_auto_rows": null,
            "grid_column": null,
            "grid_gap": null,
            "grid_row": null,
            "grid_template_areas": null,
            "grid_template_columns": null,
            "grid_template_rows": null,
            "height": null,
            "justify_content": null,
            "justify_items": null,
            "left": null,
            "margin": null,
            "max_height": null,
            "max_width": null,
            "min_height": null,
            "min_width": null,
            "object_fit": null,
            "object_position": null,
            "order": null,
            "overflow": null,
            "overflow_x": null,
            "overflow_y": null,
            "padding": null,
            "right": null,
            "top": null,
            "visibility": null,
            "width": null
          }
        },
        "3db75e3dfd654a9d936efce392381740": {
          "model_module": "@jupyter-widgets/controls",
          "model_module_version": "1.5.0",
          "model_name": "HBoxModel",
          "state": {
            "_dom_classes": [],
            "_model_module": "@jupyter-widgets/controls",
            "_model_module_version": "1.5.0",
            "_model_name": "HBoxModel",
            "_view_count": null,
            "_view_module": "@jupyter-widgets/controls",
            "_view_module_version": "1.5.0",
            "_view_name": "HBoxView",
            "box_style": "",
            "children": [
              "IPY_MODEL_0c9129c7ad47497186867141caa7b0b9",
              "IPY_MODEL_a7bd8b5b00b9460e9fcfbf75c9c8320f",
              "IPY_MODEL_351b3808053f43acb08fd2a1a4e1cbb3"
            ],
            "layout": "IPY_MODEL_62440b9632314fa9b3e67dbb161bf5ef"
          }
        },
        "4704b05d52a34a1193e630ca9774c3ad": {
          "model_module": "@jupyter-widgets/base",
          "model_module_version": "1.2.0",
          "model_name": "LayoutModel",
          "state": {
            "_model_module": "@jupyter-widgets/base",
            "_model_module_version": "1.2.0",
            "_model_name": "LayoutModel",
            "_view_count": null,
            "_view_module": "@jupyter-widgets/base",
            "_view_module_version": "1.2.0",
            "_view_name": "LayoutView",
            "align_content": null,
            "align_items": null,
            "align_self": null,
            "border": null,
            "bottom": null,
            "display": null,
            "flex": null,
            "flex_flow": null,
            "grid_area": null,
            "grid_auto_columns": null,
            "grid_auto_flow": null,
            "grid_auto_rows": null,
            "grid_column": null,
            "grid_gap": null,
            "grid_row": null,
            "grid_template_areas": null,
            "grid_template_columns": null,
            "grid_template_rows": null,
            "height": null,
            "justify_content": null,
            "justify_items": null,
            "left": null,
            "margin": null,
            "max_height": null,
            "max_width": null,
            "min_height": null,
            "min_width": null,
            "object_fit": null,
            "object_position": null,
            "order": null,
            "overflow": null,
            "overflow_x": null,
            "overflow_y": null,
            "padding": null,
            "right": null,
            "top": null,
            "visibility": null,
            "width": null
          }
        },
        "4c7f8871e254457aa424d99c9b600dd5": {
          "model_module": "@jupyter-widgets/controls",
          "model_module_version": "1.5.0",
          "model_name": "HBoxModel",
          "state": {
            "_dom_classes": [],
            "_model_module": "@jupyter-widgets/controls",
            "_model_module_version": "1.5.0",
            "_model_name": "HBoxModel",
            "_view_count": null,
            "_view_module": "@jupyter-widgets/controls",
            "_view_module_version": "1.5.0",
            "_view_name": "HBoxView",
            "box_style": "",
            "children": [
              "IPY_MODEL_f8a6314da9aa4642a4b6421810a9b2e5",
              "IPY_MODEL_3547e6f6fc6a4c1cb5de19910f59851d",
              "IPY_MODEL_f1b752f0f18541c4b48a4392b0337c7d"
            ],
            "layout": "IPY_MODEL_6de730f9ce75474799bfa3a8b92d15ec"
          }
        },
        "4d93e7a8e53d4fc49d89970d01ca76f6": {
          "model_module": "@jupyter-widgets/base",
          "model_module_version": "1.2.0",
          "model_name": "LayoutModel",
          "state": {
            "_model_module": "@jupyter-widgets/base",
            "_model_module_version": "1.2.0",
            "_model_name": "LayoutModel",
            "_view_count": null,
            "_view_module": "@jupyter-widgets/base",
            "_view_module_version": "1.2.0",
            "_view_name": "LayoutView",
            "align_content": null,
            "align_items": null,
            "align_self": null,
            "border": null,
            "bottom": null,
            "display": null,
            "flex": null,
            "flex_flow": null,
            "grid_area": null,
            "grid_auto_columns": null,
            "grid_auto_flow": null,
            "grid_auto_rows": null,
            "grid_column": null,
            "grid_gap": null,
            "grid_row": null,
            "grid_template_areas": null,
            "grid_template_columns": null,
            "grid_template_rows": null,
            "height": null,
            "justify_content": null,
            "justify_items": null,
            "left": null,
            "margin": null,
            "max_height": null,
            "max_width": null,
            "min_height": null,
            "min_width": null,
            "object_fit": null,
            "object_position": null,
            "order": null,
            "overflow": null,
            "overflow_x": null,
            "overflow_y": null,
            "padding": null,
            "right": null,
            "top": null,
            "visibility": null,
            "width": null
          }
        },
        "53eb8fd837b04843b522919cfbf77214": {
          "model_module": "@jupyter-widgets/controls",
          "model_module_version": "1.5.0",
          "model_name": "DescriptionStyleModel",
          "state": {
            "_model_module": "@jupyter-widgets/controls",
            "_model_module_version": "1.5.0",
            "_model_name": "DescriptionStyleModel",
            "_view_count": null,
            "_view_module": "@jupyter-widgets/base",
            "_view_module_version": "1.2.0",
            "_view_name": "StyleView",
            "description_width": ""
          }
        },
        "58c3c06dc9284ce3a56eeb9643a20fea": {
          "model_module": "@jupyter-widgets/base",
          "model_module_version": "1.2.0",
          "model_name": "LayoutModel",
          "state": {
            "_model_module": "@jupyter-widgets/base",
            "_model_module_version": "1.2.0",
            "_model_name": "LayoutModel",
            "_view_count": null,
            "_view_module": "@jupyter-widgets/base",
            "_view_module_version": "1.2.0",
            "_view_name": "LayoutView",
            "align_content": null,
            "align_items": null,
            "align_self": null,
            "border": null,
            "bottom": null,
            "display": null,
            "flex": null,
            "flex_flow": null,
            "grid_area": null,
            "grid_auto_columns": null,
            "grid_auto_flow": null,
            "grid_auto_rows": null,
            "grid_column": null,
            "grid_gap": null,
            "grid_row": null,
            "grid_template_areas": null,
            "grid_template_columns": null,
            "grid_template_rows": null,
            "height": null,
            "justify_content": null,
            "justify_items": null,
            "left": null,
            "margin": null,
            "max_height": null,
            "max_width": null,
            "min_height": null,
            "min_width": null,
            "object_fit": null,
            "object_position": null,
            "order": null,
            "overflow": null,
            "overflow_x": null,
            "overflow_y": null,
            "padding": null,
            "right": null,
            "top": null,
            "visibility": null,
            "width": null
          }
        },
        "62440b9632314fa9b3e67dbb161bf5ef": {
          "model_module": "@jupyter-widgets/base",
          "model_module_version": "1.2.0",
          "model_name": "LayoutModel",
          "state": {
            "_model_module": "@jupyter-widgets/base",
            "_model_module_version": "1.2.0",
            "_model_name": "LayoutModel",
            "_view_count": null,
            "_view_module": "@jupyter-widgets/base",
            "_view_module_version": "1.2.0",
            "_view_name": "LayoutView",
            "align_content": null,
            "align_items": null,
            "align_self": null,
            "border": null,
            "bottom": null,
            "display": null,
            "flex": null,
            "flex_flow": null,
            "grid_area": null,
            "grid_auto_columns": null,
            "grid_auto_flow": null,
            "grid_auto_rows": null,
            "grid_column": null,
            "grid_gap": null,
            "grid_row": null,
            "grid_template_areas": null,
            "grid_template_columns": null,
            "grid_template_rows": null,
            "height": null,
            "justify_content": null,
            "justify_items": null,
            "left": null,
            "margin": null,
            "max_height": null,
            "max_width": null,
            "min_height": null,
            "min_width": null,
            "object_fit": null,
            "object_position": null,
            "order": null,
            "overflow": null,
            "overflow_x": null,
            "overflow_y": null,
            "padding": null,
            "right": null,
            "top": null,
            "visibility": null,
            "width": null
          }
        },
        "69749a1601fd4312acf4f440895e512b": {
          "model_module": "@jupyter-widgets/controls",
          "model_module_version": "1.5.0",
          "model_name": "DescriptionStyleModel",
          "state": {
            "_model_module": "@jupyter-widgets/controls",
            "_model_module_version": "1.5.0",
            "_model_name": "DescriptionStyleModel",
            "_view_count": null,
            "_view_module": "@jupyter-widgets/base",
            "_view_module_version": "1.2.0",
            "_view_name": "StyleView",
            "description_width": ""
          }
        },
        "69fe37eda77b468db45bc0b4b531bc1c": {
          "model_module": "@jupyter-widgets/base",
          "model_module_version": "1.2.0",
          "model_name": "LayoutModel",
          "state": {
            "_model_module": "@jupyter-widgets/base",
            "_model_module_version": "1.2.0",
            "_model_name": "LayoutModel",
            "_view_count": null,
            "_view_module": "@jupyter-widgets/base",
            "_view_module_version": "1.2.0",
            "_view_name": "LayoutView",
            "align_content": null,
            "align_items": null,
            "align_self": null,
            "border": null,
            "bottom": null,
            "display": null,
            "flex": null,
            "flex_flow": null,
            "grid_area": null,
            "grid_auto_columns": null,
            "grid_auto_flow": null,
            "grid_auto_rows": null,
            "grid_column": null,
            "grid_gap": null,
            "grid_row": null,
            "grid_template_areas": null,
            "grid_template_columns": null,
            "grid_template_rows": null,
            "height": null,
            "justify_content": null,
            "justify_items": null,
            "left": null,
            "margin": null,
            "max_height": null,
            "max_width": null,
            "min_height": null,
            "min_width": null,
            "object_fit": null,
            "object_position": null,
            "order": null,
            "overflow": null,
            "overflow_x": null,
            "overflow_y": null,
            "padding": null,
            "right": null,
            "top": null,
            "visibility": null,
            "width": null
          }
        },
        "6b091fad22d249e797202b7c65381237": {
          "model_module": "@jupyter-widgets/base",
          "model_module_version": "1.2.0",
          "model_name": "LayoutModel",
          "state": {
            "_model_module": "@jupyter-widgets/base",
            "_model_module_version": "1.2.0",
            "_model_name": "LayoutModel",
            "_view_count": null,
            "_view_module": "@jupyter-widgets/base",
            "_view_module_version": "1.2.0",
            "_view_name": "LayoutView",
            "align_content": null,
            "align_items": null,
            "align_self": null,
            "border": null,
            "bottom": null,
            "display": null,
            "flex": null,
            "flex_flow": null,
            "grid_area": null,
            "grid_auto_columns": null,
            "grid_auto_flow": null,
            "grid_auto_rows": null,
            "grid_column": null,
            "grid_gap": null,
            "grid_row": null,
            "grid_template_areas": null,
            "grid_template_columns": null,
            "grid_template_rows": null,
            "height": null,
            "justify_content": null,
            "justify_items": null,
            "left": null,
            "margin": null,
            "max_height": null,
            "max_width": null,
            "min_height": null,
            "min_width": null,
            "object_fit": null,
            "object_position": null,
            "order": null,
            "overflow": null,
            "overflow_x": null,
            "overflow_y": null,
            "padding": null,
            "right": null,
            "top": null,
            "visibility": null,
            "width": null
          }
        },
        "6d7364c65ed04d17baf624915e3e97b0": {
          "model_module": "@jupyter-widgets/controls",
          "model_module_version": "1.5.0",
          "model_name": "HTMLModel",
          "state": {
            "_dom_classes": [],
            "_model_module": "@jupyter-widgets/controls",
            "_model_module_version": "1.5.0",
            "_model_name": "HTMLModel",
            "_view_count": null,
            "_view_module": "@jupyter-widgets/controls",
            "_view_module_version": "1.5.0",
            "_view_name": "HTMLView",
            "description": "",
            "description_tooltip": null,
            "layout": "IPY_MODEL_eaa1bffd528b4156988c600916ec9c63",
            "placeholder": "​",
            "style": "IPY_MODEL_ecac3ca0294d417b8773d9321ae2a468",
            "value": " 90.9M/90.9M [00:01&lt;00:00, 93.0MB/s]"
          }
        },
        "6de730f9ce75474799bfa3a8b92d15ec": {
          "model_module": "@jupyter-widgets/base",
          "model_module_version": "1.2.0",
          "model_name": "LayoutModel",
          "state": {
            "_model_module": "@jupyter-widgets/base",
            "_model_module_version": "1.2.0",
            "_model_name": "LayoutModel",
            "_view_count": null,
            "_view_module": "@jupyter-widgets/base",
            "_view_module_version": "1.2.0",
            "_view_name": "LayoutView",
            "align_content": null,
            "align_items": null,
            "align_self": null,
            "border": null,
            "bottom": null,
            "display": null,
            "flex": null,
            "flex_flow": null,
            "grid_area": null,
            "grid_auto_columns": null,
            "grid_auto_flow": null,
            "grid_auto_rows": null,
            "grid_column": null,
            "grid_gap": null,
            "grid_row": null,
            "grid_template_areas": null,
            "grid_template_columns": null,
            "grid_template_rows": null,
            "height": null,
            "justify_content": null,
            "justify_items": null,
            "left": null,
            "margin": null,
            "max_height": null,
            "max_width": null,
            "min_height": null,
            "min_width": null,
            "object_fit": null,
            "object_position": null,
            "order": null,
            "overflow": null,
            "overflow_x": null,
            "overflow_y": null,
            "padding": null,
            "right": null,
            "top": null,
            "visibility": null,
            "width": null
          }
        },
        "7060685c5ff342acbda926b4bd2eb33b": {
          "model_module": "@jupyter-widgets/base",
          "model_module_version": "1.2.0",
          "model_name": "LayoutModel",
          "state": {
            "_model_module": "@jupyter-widgets/base",
            "_model_module_version": "1.2.0",
            "_model_name": "LayoutModel",
            "_view_count": null,
            "_view_module": "@jupyter-widgets/base",
            "_view_module_version": "1.2.0",
            "_view_name": "LayoutView",
            "align_content": null,
            "align_items": null,
            "align_self": null,
            "border": null,
            "bottom": null,
            "display": null,
            "flex": null,
            "flex_flow": null,
            "grid_area": null,
            "grid_auto_columns": null,
            "grid_auto_flow": null,
            "grid_auto_rows": null,
            "grid_column": null,
            "grid_gap": null,
            "grid_row": null,
            "grid_template_areas": null,
            "grid_template_columns": null,
            "grid_template_rows": null,
            "height": null,
            "justify_content": null,
            "justify_items": null,
            "left": null,
            "margin": null,
            "max_height": null,
            "max_width": null,
            "min_height": null,
            "min_width": null,
            "object_fit": null,
            "object_position": null,
            "order": null,
            "overflow": null,
            "overflow_x": null,
            "overflow_y": null,
            "padding": null,
            "right": null,
            "top": null,
            "visibility": null,
            "width": null
          }
        },
        "71bb701f28cc46f7a967d724d862ba49": {
          "model_module": "@jupyter-widgets/controls",
          "model_module_version": "1.5.0",
          "model_name": "HTMLModel",
          "state": {
            "_dom_classes": [],
            "_model_module": "@jupyter-widgets/controls",
            "_model_module_version": "1.5.0",
            "_model_name": "HTMLModel",
            "_view_count": null,
            "_view_module": "@jupyter-widgets/controls",
            "_view_module_version": "1.5.0",
            "_view_name": "HTMLView",
            "description": "",
            "description_tooltip": null,
            "layout": "IPY_MODEL_08ad2dcfcd9944638ce44ce6afb58478",
            "placeholder": "​",
            "style": "IPY_MODEL_69749a1601fd4312acf4f440895e512b",
            "value": "special_tokens_map.json: 100%"
          }
        },
        "7374f73819504f1a85deaa10e39e49ca": {
          "model_module": "@jupyter-widgets/base",
          "model_module_version": "1.2.0",
          "model_name": "LayoutModel",
          "state": {
            "_model_module": "@jupyter-widgets/base",
            "_model_module_version": "1.2.0",
            "_model_name": "LayoutModel",
            "_view_count": null,
            "_view_module": "@jupyter-widgets/base",
            "_view_module_version": "1.2.0",
            "_view_name": "LayoutView",
            "align_content": null,
            "align_items": null,
            "align_self": null,
            "border": null,
            "bottom": null,
            "display": null,
            "flex": null,
            "flex_flow": null,
            "grid_area": null,
            "grid_auto_columns": null,
            "grid_auto_flow": null,
            "grid_auto_rows": null,
            "grid_column": null,
            "grid_gap": null,
            "grid_row": null,
            "grid_template_areas": null,
            "grid_template_columns": null,
            "grid_template_rows": null,
            "height": null,
            "justify_content": null,
            "justify_items": null,
            "left": null,
            "margin": null,
            "max_height": null,
            "max_width": null,
            "min_height": null,
            "min_width": null,
            "object_fit": null,
            "object_position": null,
            "order": null,
            "overflow": null,
            "overflow_x": null,
            "overflow_y": null,
            "padding": null,
            "right": null,
            "top": null,
            "visibility": null,
            "width": null
          }
        },
        "751fdf23ad954d638784c99af08a2407": {
          "model_module": "@jupyter-widgets/base",
          "model_module_version": "1.2.0",
          "model_name": "LayoutModel",
          "state": {
            "_model_module": "@jupyter-widgets/base",
            "_model_module_version": "1.2.0",
            "_model_name": "LayoutModel",
            "_view_count": null,
            "_view_module": "@jupyter-widgets/base",
            "_view_module_version": "1.2.0",
            "_view_name": "LayoutView",
            "align_content": null,
            "align_items": null,
            "align_self": null,
            "border": null,
            "bottom": null,
            "display": null,
            "flex": null,
            "flex_flow": null,
            "grid_area": null,
            "grid_auto_columns": null,
            "grid_auto_flow": null,
            "grid_auto_rows": null,
            "grid_column": null,
            "grid_gap": null,
            "grid_row": null,
            "grid_template_areas": null,
            "grid_template_columns": null,
            "grid_template_rows": null,
            "height": null,
            "justify_content": null,
            "justify_items": null,
            "left": null,
            "margin": null,
            "max_height": null,
            "max_width": null,
            "min_height": null,
            "min_width": null,
            "object_fit": null,
            "object_position": null,
            "order": null,
            "overflow": null,
            "overflow_x": null,
            "overflow_y": null,
            "padding": null,
            "right": null,
            "top": null,
            "visibility": null,
            "width": null
          }
        },
        "7a0a63809f0b4260baf14a5d32533268": {
          "model_module": "@jupyter-widgets/base",
          "model_module_version": "1.2.0",
          "model_name": "LayoutModel",
          "state": {
            "_model_module": "@jupyter-widgets/base",
            "_model_module_version": "1.2.0",
            "_model_name": "LayoutModel",
            "_view_count": null,
            "_view_module": "@jupyter-widgets/base",
            "_view_module_version": "1.2.0",
            "_view_name": "LayoutView",
            "align_content": null,
            "align_items": null,
            "align_self": null,
            "border": null,
            "bottom": null,
            "display": null,
            "flex": null,
            "flex_flow": null,
            "grid_area": null,
            "grid_auto_columns": null,
            "grid_auto_flow": null,
            "grid_auto_rows": null,
            "grid_column": null,
            "grid_gap": null,
            "grid_row": null,
            "grid_template_areas": null,
            "grid_template_columns": null,
            "grid_template_rows": null,
            "height": null,
            "justify_content": null,
            "justify_items": null,
            "left": null,
            "margin": null,
            "max_height": null,
            "max_width": null,
            "min_height": null,
            "min_width": null,
            "object_fit": null,
            "object_position": null,
            "order": null,
            "overflow": null,
            "overflow_x": null,
            "overflow_y": null,
            "padding": null,
            "right": null,
            "top": null,
            "visibility": null,
            "width": null
          }
        },
        "7d71e6e200c44f7699e12048baf52ed4": {
          "model_module": "@jupyter-widgets/controls",
          "model_module_version": "1.5.0",
          "model_name": "HTMLModel",
          "state": {
            "_dom_classes": [],
            "_model_module": "@jupyter-widgets/controls",
            "_model_module_version": "1.5.0",
            "_model_name": "HTMLModel",
            "_view_count": null,
            "_view_module": "@jupyter-widgets/controls",
            "_view_module_version": "1.5.0",
            "_view_name": "HTMLView",
            "description": "",
            "description_tooltip": null,
            "layout": "IPY_MODEL_7a0a63809f0b4260baf14a5d32533268",
            "placeholder": "​",
            "style": "IPY_MODEL_d3e457c9d16d49a0a4602f32567096a9",
            "value": "tokenizer_config.json: 100%"
          }
        },
        "8061ccc1ea59401e870c7f7f8c274f55": {
          "model_module": "@jupyter-widgets/controls",
          "model_module_version": "1.5.0",
          "model_name": "DescriptionStyleModel",
          "state": {
            "_model_module": "@jupyter-widgets/controls",
            "_model_module_version": "1.5.0",
            "_model_name": "DescriptionStyleModel",
            "_view_count": null,
            "_view_module": "@jupyter-widgets/base",
            "_view_module_version": "1.2.0",
            "_view_name": "StyleView",
            "description_width": ""
          }
        },
        "822d7422659f4544af546451d34f8414": {
          "model_module": "@jupyter-widgets/base",
          "model_module_version": "1.2.0",
          "model_name": "LayoutModel",
          "state": {
            "_model_module": "@jupyter-widgets/base",
            "_model_module_version": "1.2.0",
            "_model_name": "LayoutModel",
            "_view_count": null,
            "_view_module": "@jupyter-widgets/base",
            "_view_module_version": "1.2.0",
            "_view_name": "LayoutView",
            "align_content": null,
            "align_items": null,
            "align_self": null,
            "border": null,
            "bottom": null,
            "display": null,
            "flex": null,
            "flex_flow": null,
            "grid_area": null,
            "grid_auto_columns": null,
            "grid_auto_flow": null,
            "grid_auto_rows": null,
            "grid_column": null,
            "grid_gap": null,
            "grid_row": null,
            "grid_template_areas": null,
            "grid_template_columns": null,
            "grid_template_rows": null,
            "height": null,
            "justify_content": null,
            "justify_items": null,
            "left": null,
            "margin": null,
            "max_height": null,
            "max_width": null,
            "min_height": null,
            "min_width": null,
            "object_fit": null,
            "object_position": null,
            "order": null,
            "overflow": null,
            "overflow_x": null,
            "overflow_y": null,
            "padding": null,
            "right": null,
            "top": null,
            "visibility": null,
            "width": null
          }
        },
        "82e6874e35de489dbd430e39c07df0db": {
          "model_module": "@jupyter-widgets/controls",
          "model_module_version": "1.5.0",
          "model_name": "DescriptionStyleModel",
          "state": {
            "_model_module": "@jupyter-widgets/controls",
            "_model_module_version": "1.5.0",
            "_model_name": "DescriptionStyleModel",
            "_view_count": null,
            "_view_module": "@jupyter-widgets/base",
            "_view_module_version": "1.2.0",
            "_view_name": "StyleView",
            "description_width": ""
          }
        },
        "88dbb4435b0f4790aa959994f386310f": {
          "model_module": "@jupyter-widgets/controls",
          "model_module_version": "1.5.0",
          "model_name": "HTMLModel",
          "state": {
            "_dom_classes": [],
            "_model_module": "@jupyter-widgets/controls",
            "_model_module_version": "1.5.0",
            "_model_name": "HTMLModel",
            "_view_count": null,
            "_view_module": "@jupyter-widgets/controls",
            "_view_module_version": "1.5.0",
            "_view_name": "HTMLView",
            "description": "",
            "description_tooltip": null,
            "layout": "IPY_MODEL_58c3c06dc9284ce3a56eeb9643a20fea",
            "placeholder": "​",
            "style": "IPY_MODEL_a74c5507c2f842d9bb1c1fa7e4eafd6d",
            "value": "vocab.txt: 100%"
          }
        },
        "8da1d1c7fc9e43c58c1b0200bde04efe": {
          "model_module": "@jupyter-widgets/controls",
          "model_module_version": "1.5.0",
          "model_name": "HTMLModel",
          "state": {
            "_dom_classes": [],
            "_model_module": "@jupyter-widgets/controls",
            "_model_module_version": "1.5.0",
            "_model_name": "HTMLModel",
            "_view_count": null,
            "_view_module": "@jupyter-widgets/controls",
            "_view_module_version": "1.5.0",
            "_view_name": "HTMLView",
            "description": "",
            "description_tooltip": null,
            "layout": "IPY_MODEL_d67d8cd7b6f2486a8c424ba8114d77b3",
            "placeholder": "​",
            "style": "IPY_MODEL_0a9a7a009fb14469a530ecfe295131e3",
            "value": "special_tokens_map.json: 100%"
          }
        },
        "92296443062445328895be6e5877b481": {
          "model_module": "@jupyter-widgets/base",
          "model_module_version": "1.2.0",
          "model_name": "LayoutModel",
          "state": {
            "_model_module": "@jupyter-widgets/base",
            "_model_module_version": "1.2.0",
            "_model_name": "LayoutModel",
            "_view_count": null,
            "_view_module": "@jupyter-widgets/base",
            "_view_module_version": "1.2.0",
            "_view_name": "LayoutView",
            "align_content": null,
            "align_items": null,
            "align_self": null,
            "border": null,
            "bottom": null,
            "display": null,
            "flex": null,
            "flex_flow": null,
            "grid_area": null,
            "grid_auto_columns": null,
            "grid_auto_flow": null,
            "grid_auto_rows": null,
            "grid_column": null,
            "grid_gap": null,
            "grid_row": null,
            "grid_template_areas": null,
            "grid_template_columns": null,
            "grid_template_rows": null,
            "height": null,
            "justify_content": null,
            "justify_items": null,
            "left": null,
            "margin": null,
            "max_height": null,
            "max_width": null,
            "min_height": null,
            "min_width": null,
            "object_fit": null,
            "object_position": null,
            "order": null,
            "overflow": null,
            "overflow_x": null,
            "overflow_y": null,
            "padding": null,
            "right": null,
            "top": null,
            "visibility": null,
            "width": null
          }
        },
        "959c9204b69c4c66a893f8291cde6c59": {
          "model_module": "@jupyter-widgets/controls",
          "model_module_version": "1.5.0",
          "model_name": "HBoxModel",
          "state": {
            "_dom_classes": [],
            "_model_module": "@jupyter-widgets/controls",
            "_model_module_version": "1.5.0",
            "_model_name": "HBoxModel",
            "_view_count": null,
            "_view_module": "@jupyter-widgets/controls",
            "_view_module_version": "1.5.0",
            "_view_name": "HBoxView",
            "box_style": "",
            "children": [
              "IPY_MODEL_c871b0f89ad641b9a88d7d51ea4faab0",
              "IPY_MODEL_f621f45729c440d6b9f595e2ee8582c9",
              "IPY_MODEL_3200bddda2a54818ad84cfabff82a162"
            ],
            "layout": "IPY_MODEL_2da68f79719b4894b9d8070b64776426"
          }
        },
        "97a140f35f744712a69f2bf6a4111c50": {
          "model_module": "@jupyter-widgets/controls",
          "model_module_version": "1.5.0",
          "model_name": "HTMLModel",
          "state": {
            "_dom_classes": [],
            "_model_module": "@jupyter-widgets/controls",
            "_model_module_version": "1.5.0",
            "_model_name": "HTMLModel",
            "_view_count": null,
            "_view_module": "@jupyter-widgets/controls",
            "_view_module_version": "1.5.0",
            "_view_name": "HTMLView",
            "description": "",
            "description_tooltip": null,
            "layout": "IPY_MODEL_822d7422659f4544af546451d34f8414",
            "placeholder": "​",
            "style": "IPY_MODEL_53eb8fd837b04843b522919cfbf77214",
            "value": "pytorch_model.bin: 100%"
          }
        },
        "9c7afe162662480e8c219fdcf0716063": {
          "model_module": "@jupyter-widgets/controls",
          "model_module_version": "1.5.0",
          "model_name": "DescriptionStyleModel",
          "state": {
            "_model_module": "@jupyter-widgets/controls",
            "_model_module_version": "1.5.0",
            "_model_name": "DescriptionStyleModel",
            "_view_count": null,
            "_view_module": "@jupyter-widgets/base",
            "_view_module_version": "1.2.0",
            "_view_name": "StyleView",
            "description_width": ""
          }
        },
        "9de54dc5805e47d8b63eaefcc99635bd": {
          "model_module": "@jupyter-widgets/base",
          "model_module_version": "1.2.0",
          "model_name": "LayoutModel",
          "state": {
            "_model_module": "@jupyter-widgets/base",
            "_model_module_version": "1.2.0",
            "_model_name": "LayoutModel",
            "_view_count": null,
            "_view_module": "@jupyter-widgets/base",
            "_view_module_version": "1.2.0",
            "_view_name": "LayoutView",
            "align_content": null,
            "align_items": null,
            "align_self": null,
            "border": null,
            "bottom": null,
            "display": null,
            "flex": null,
            "flex_flow": null,
            "grid_area": null,
            "grid_auto_columns": null,
            "grid_auto_flow": null,
            "grid_auto_rows": null,
            "grid_column": null,
            "grid_gap": null,
            "grid_row": null,
            "grid_template_areas": null,
            "grid_template_columns": null,
            "grid_template_rows": null,
            "height": null,
            "justify_content": null,
            "justify_items": null,
            "left": null,
            "margin": null,
            "max_height": null,
            "max_width": null,
            "min_height": null,
            "min_width": null,
            "object_fit": null,
            "object_position": null,
            "order": null,
            "overflow": null,
            "overflow_x": null,
            "overflow_y": null,
            "padding": null,
            "right": null,
            "top": null,
            "visibility": null,
            "width": null
          }
        },
        "a373ccc1485e4485800bf4199997434b": {
          "model_module": "@jupyter-widgets/base",
          "model_module_version": "1.2.0",
          "model_name": "LayoutModel",
          "state": {
            "_model_module": "@jupyter-widgets/base",
            "_model_module_version": "1.2.0",
            "_model_name": "LayoutModel",
            "_view_count": null,
            "_view_module": "@jupyter-widgets/base",
            "_view_module_version": "1.2.0",
            "_view_name": "LayoutView",
            "align_content": null,
            "align_items": null,
            "align_self": null,
            "border": null,
            "bottom": null,
            "display": null,
            "flex": null,
            "flex_flow": null,
            "grid_area": null,
            "grid_auto_columns": null,
            "grid_auto_flow": null,
            "grid_auto_rows": null,
            "grid_column": null,
            "grid_gap": null,
            "grid_row": null,
            "grid_template_areas": null,
            "grid_template_columns": null,
            "grid_template_rows": null,
            "height": null,
            "justify_content": null,
            "justify_items": null,
            "left": null,
            "margin": null,
            "max_height": null,
            "max_width": null,
            "min_height": null,
            "min_width": null,
            "object_fit": null,
            "object_position": null,
            "order": null,
            "overflow": null,
            "overflow_x": null,
            "overflow_y": null,
            "padding": null,
            "right": null,
            "top": null,
            "visibility": null,
            "width": null
          }
        },
        "a6b0cbfe02db4e828af0ed64218712fe": {
          "model_module": "@jupyter-widgets/base",
          "model_module_version": "1.2.0",
          "model_name": "LayoutModel",
          "state": {
            "_model_module": "@jupyter-widgets/base",
            "_model_module_version": "1.2.0",
            "_model_name": "LayoutModel",
            "_view_count": null,
            "_view_module": "@jupyter-widgets/base",
            "_view_module_version": "1.2.0",
            "_view_name": "LayoutView",
            "align_content": null,
            "align_items": null,
            "align_self": null,
            "border": null,
            "bottom": null,
            "display": null,
            "flex": null,
            "flex_flow": null,
            "grid_area": null,
            "grid_auto_columns": null,
            "grid_auto_flow": null,
            "grid_auto_rows": null,
            "grid_column": null,
            "grid_gap": null,
            "grid_row": null,
            "grid_template_areas": null,
            "grid_template_columns": null,
            "grid_template_rows": null,
            "height": null,
            "justify_content": null,
            "justify_items": null,
            "left": null,
            "margin": null,
            "max_height": null,
            "max_width": null,
            "min_height": null,
            "min_width": null,
            "object_fit": null,
            "object_position": null,
            "order": null,
            "overflow": null,
            "overflow_x": null,
            "overflow_y": null,
            "padding": null,
            "right": null,
            "top": null,
            "visibility": null,
            "width": null
          }
        },
        "a74c5507c2f842d9bb1c1fa7e4eafd6d": {
          "model_module": "@jupyter-widgets/controls",
          "model_module_version": "1.5.0",
          "model_name": "DescriptionStyleModel",
          "state": {
            "_model_module": "@jupyter-widgets/controls",
            "_model_module_version": "1.5.0",
            "_model_name": "DescriptionStyleModel",
            "_view_count": null,
            "_view_module": "@jupyter-widgets/base",
            "_view_module_version": "1.2.0",
            "_view_name": "StyleView",
            "description_width": ""
          }
        },
        "a7bd8b5b00b9460e9fcfbf75c9c8320f": {
          "model_module": "@jupyter-widgets/controls",
          "model_module_version": "1.5.0",
          "model_name": "FloatProgressModel",
          "state": {
            "_dom_classes": [],
            "_model_module": "@jupyter-widgets/controls",
            "_model_module_version": "1.5.0",
            "_model_name": "FloatProgressModel",
            "_view_count": null,
            "_view_module": "@jupyter-widgets/controls",
            "_view_module_version": "1.5.0",
            "_view_name": "ProgressView",
            "bar_style": "success",
            "description": "",
            "description_tooltip": null,
            "layout": "IPY_MODEL_2b54f3a9be5c4132a9a6e499f3178bb1",
            "max": 794,
            "min": 0,
            "orientation": "horizontal",
            "style": "IPY_MODEL_305d2a209fa6403fb9107aecce537484",
            "value": 794
          }
        },
        "a8c5a35eb74c4829b1bfa7db996b48be": {
          "model_module": "@jupyter-widgets/controls",
          "model_module_version": "1.5.0",
          "model_name": "HBoxModel",
          "state": {
            "_dom_classes": [],
            "_model_module": "@jupyter-widgets/controls",
            "_model_module_version": "1.5.0",
            "_model_name": "HBoxModel",
            "_view_count": null,
            "_view_module": "@jupyter-widgets/controls",
            "_view_module_version": "1.5.0",
            "_view_name": "HBoxView",
            "box_style": "",
            "children": [
              "IPY_MODEL_7d71e6e200c44f7699e12048baf52ed4",
              "IPY_MODEL_edcdaae8b63e4e5fa95208631216c9ee",
              "IPY_MODEL_b32c7b7429034b6b8fff7f70a81e3111"
            ],
            "layout": "IPY_MODEL_ef66fcff1b2f4b6f9ef0e67d12e64186"
          }
        },
        "a8f0696cdc8f4b5c9b5932c561627423": {
          "model_module": "@jupyter-widgets/base",
          "model_module_version": "1.2.0",
          "model_name": "LayoutModel",
          "state": {
            "_model_module": "@jupyter-widgets/base",
            "_model_module_version": "1.2.0",
            "_model_name": "LayoutModel",
            "_view_count": null,
            "_view_module": "@jupyter-widgets/base",
            "_view_module_version": "1.2.0",
            "_view_name": "LayoutView",
            "align_content": null,
            "align_items": null,
            "align_self": null,
            "border": null,
            "bottom": null,
            "display": null,
            "flex": null,
            "flex_flow": null,
            "grid_area": null,
            "grid_auto_columns": null,
            "grid_auto_flow": null,
            "grid_auto_rows": null,
            "grid_column": null,
            "grid_gap": null,
            "grid_row": null,
            "grid_template_areas": null,
            "grid_template_columns": null,
            "grid_template_rows": null,
            "height": null,
            "justify_content": null,
            "justify_items": null,
            "left": null,
            "margin": null,
            "max_height": null,
            "max_width": null,
            "min_height": null,
            "min_width": null,
            "object_fit": null,
            "object_position": null,
            "order": null,
            "overflow": null,
            "overflow_x": null,
            "overflow_y": null,
            "padding": null,
            "right": null,
            "top": null,
            "visibility": null,
            "width": null
          }
        },
        "a94f1cbf91c84c148c284996856b8605": {
          "model_module": "@jupyter-widgets/base",
          "model_module_version": "1.2.0",
          "model_name": "LayoutModel",
          "state": {
            "_model_module": "@jupyter-widgets/base",
            "_model_module_version": "1.2.0",
            "_model_name": "LayoutModel",
            "_view_count": null,
            "_view_module": "@jupyter-widgets/base",
            "_view_module_version": "1.2.0",
            "_view_name": "LayoutView",
            "align_content": null,
            "align_items": null,
            "align_self": null,
            "border": null,
            "bottom": null,
            "display": null,
            "flex": null,
            "flex_flow": null,
            "grid_area": null,
            "grid_auto_columns": null,
            "grid_auto_flow": null,
            "grid_auto_rows": null,
            "grid_column": null,
            "grid_gap": null,
            "grid_row": null,
            "grid_template_areas": null,
            "grid_template_columns": null,
            "grid_template_rows": null,
            "height": null,
            "justify_content": null,
            "justify_items": null,
            "left": null,
            "margin": null,
            "max_height": null,
            "max_width": null,
            "min_height": null,
            "min_width": null,
            "object_fit": null,
            "object_position": null,
            "order": null,
            "overflow": null,
            "overflow_x": null,
            "overflow_y": null,
            "padding": null,
            "right": null,
            "top": null,
            "visibility": null,
            "width": null
          }
        },
        "acc98165955d46109a99ea8a8922412e": {
          "model_module": "@jupyter-widgets/controls",
          "model_module_version": "1.5.0",
          "model_name": "HTMLModel",
          "state": {
            "_dom_classes": [],
            "_model_module": "@jupyter-widgets/controls",
            "_model_module_version": "1.5.0",
            "_model_name": "HTMLModel",
            "_view_count": null,
            "_view_module": "@jupyter-widgets/controls",
            "_view_module_version": "1.5.0",
            "_view_name": "HTMLView",
            "description": "",
            "description_tooltip": null,
            "layout": "IPY_MODEL_9de54dc5805e47d8b63eaefcc99635bd",
            "placeholder": "​",
            "style": "IPY_MODEL_f4a59bc5934f4c8cbdd4fd7bba9c2da2",
            "value": "tokenizer_config.json: 100%"
          }
        },
        "ad2ce79640f6410bb63c3282b46994d4": {
          "model_module": "@jupyter-widgets/base",
          "model_module_version": "1.2.0",
          "model_name": "LayoutModel",
          "state": {
            "_model_module": "@jupyter-widgets/base",
            "_model_module_version": "1.2.0",
            "_model_name": "LayoutModel",
            "_view_count": null,
            "_view_module": "@jupyter-widgets/base",
            "_view_module_version": "1.2.0",
            "_view_name": "LayoutView",
            "align_content": null,
            "align_items": null,
            "align_self": null,
            "border": null,
            "bottom": null,
            "display": null,
            "flex": null,
            "flex_flow": null,
            "grid_area": null,
            "grid_auto_columns": null,
            "grid_auto_flow": null,
            "grid_auto_rows": null,
            "grid_column": null,
            "grid_gap": null,
            "grid_row": null,
            "grid_template_areas": null,
            "grid_template_columns": null,
            "grid_template_rows": null,
            "height": null,
            "justify_content": null,
            "justify_items": null,
            "left": null,
            "margin": null,
            "max_height": null,
            "max_width": null,
            "min_height": null,
            "min_width": null,
            "object_fit": null,
            "object_position": null,
            "order": null,
            "overflow": null,
            "overflow_x": null,
            "overflow_y": null,
            "padding": null,
            "right": null,
            "top": null,
            "visibility": null,
            "width": null
          }
        },
        "adefc64386044bac90a11e6aa7a4dfd6": {
          "model_module": "@jupyter-widgets/base",
          "model_module_version": "1.2.0",
          "model_name": "LayoutModel",
          "state": {
            "_model_module": "@jupyter-widgets/base",
            "_model_module_version": "1.2.0",
            "_model_name": "LayoutModel",
            "_view_count": null,
            "_view_module": "@jupyter-widgets/base",
            "_view_module_version": "1.2.0",
            "_view_name": "LayoutView",
            "align_content": null,
            "align_items": null,
            "align_self": null,
            "border": null,
            "bottom": null,
            "display": null,
            "flex": null,
            "flex_flow": null,
            "grid_area": null,
            "grid_auto_columns": null,
            "grid_auto_flow": null,
            "grid_auto_rows": null,
            "grid_column": null,
            "grid_gap": null,
            "grid_row": null,
            "grid_template_areas": null,
            "grid_template_columns": null,
            "grid_template_rows": null,
            "height": null,
            "justify_content": null,
            "justify_items": null,
            "left": null,
            "margin": null,
            "max_height": null,
            "max_width": null,
            "min_height": null,
            "min_width": null,
            "object_fit": null,
            "object_position": null,
            "order": null,
            "overflow": null,
            "overflow_x": null,
            "overflow_y": null,
            "padding": null,
            "right": null,
            "top": null,
            "visibility": null,
            "width": null
          }
        },
        "b2538c0a41364bc6a6d9d786eff49811": {
          "model_module": "@jupyter-widgets/controls",
          "model_module_version": "1.5.0",
          "model_name": "FloatProgressModel",
          "state": {
            "_dom_classes": [],
            "_model_module": "@jupyter-widgets/controls",
            "_model_module_version": "1.5.0",
            "_model_name": "FloatProgressModel",
            "_view_count": null,
            "_view_module": "@jupyter-widgets/controls",
            "_view_module_version": "1.5.0",
            "_view_name": "ProgressView",
            "bar_style": "success",
            "description": "",
            "description_tooltip": null,
            "layout": "IPY_MODEL_349b2ace5a7d46b2bff64fac5d599ea5",
            "max": 231508,
            "min": 0,
            "orientation": "horizontal",
            "style": "IPY_MODEL_f4f7da83a2b84e388b0b356d41e9ed49",
            "value": 231508
          }
        },
        "b32c7b7429034b6b8fff7f70a81e3111": {
          "model_module": "@jupyter-widgets/controls",
          "model_module_version": "1.5.0",
          "model_name": "HTMLModel",
          "state": {
            "_dom_classes": [],
            "_model_module": "@jupyter-widgets/controls",
            "_model_module_version": "1.5.0",
            "_model_name": "HTMLModel",
            "_view_count": null,
            "_view_module": "@jupyter-widgets/controls",
            "_view_module_version": "1.5.0",
            "_view_name": "HTMLView",
            "description": "",
            "description_tooltip": null,
            "layout": "IPY_MODEL_4704b05d52a34a1193e630ca9774c3ad",
            "placeholder": "​",
            "style": "IPY_MODEL_82e6874e35de489dbd430e39c07df0db",
            "value": " 316/316 [00:00&lt;00:00, 14.6kB/s]"
          }
        },
        "b39b303965fc4c9e86e826558fcc5844": {
          "model_module": "@jupyter-widgets/controls",
          "model_module_version": "1.5.0",
          "model_name": "ProgressStyleModel",
          "state": {
            "_model_module": "@jupyter-widgets/controls",
            "_model_module_version": "1.5.0",
            "_model_name": "ProgressStyleModel",
            "_view_count": null,
            "_view_module": "@jupyter-widgets/base",
            "_view_module_version": "1.2.0",
            "_view_name": "StyleView",
            "bar_color": null,
            "description_width": ""
          }
        },
        "b3dbe83ef4354735a107a5438256119a": {
          "model_module": "@jupyter-widgets/controls",
          "model_module_version": "1.5.0",
          "model_name": "ProgressStyleModel",
          "state": {
            "_model_module": "@jupyter-widgets/controls",
            "_model_module_version": "1.5.0",
            "_model_name": "ProgressStyleModel",
            "_view_count": null,
            "_view_module": "@jupyter-widgets/base",
            "_view_module_version": "1.2.0",
            "_view_name": "StyleView",
            "bar_color": null,
            "description_width": ""
          }
        },
        "b8bebb34797f455988a1381217141a53": {
          "model_module": "@jupyter-widgets/controls",
          "model_module_version": "1.5.0",
          "model_name": "HBoxModel",
          "state": {
            "_dom_classes": [],
            "_model_module": "@jupyter-widgets/controls",
            "_model_module_version": "1.5.0",
            "_model_name": "HBoxModel",
            "_view_count": null,
            "_view_module": "@jupyter-widgets/controls",
            "_view_module_version": "1.5.0",
            "_view_name": "HBoxView",
            "box_style": "",
            "children": [
              "IPY_MODEL_acc98165955d46109a99ea8a8922412e",
              "IPY_MODEL_fdbd36ab6bb54e9e881b07a9ecba6d31",
              "IPY_MODEL_dc563aaf2e134e33990914484df990ca"
            ],
            "layout": "IPY_MODEL_a373ccc1485e4485800bf4199997434b"
          }
        },
        "b8c6e2bac10b41ccbace0c2178eee06e": {
          "model_module": "@jupyter-widgets/controls",
          "model_module_version": "1.5.0",
          "model_name": "DescriptionStyleModel",
          "state": {
            "_model_module": "@jupyter-widgets/controls",
            "_model_module_version": "1.5.0",
            "_model_name": "DescriptionStyleModel",
            "_view_count": null,
            "_view_module": "@jupyter-widgets/base",
            "_view_module_version": "1.2.0",
            "_view_name": "StyleView",
            "description_width": ""
          }
        },
        "c871b0f89ad641b9a88d7d51ea4faab0": {
          "model_module": "@jupyter-widgets/controls",
          "model_module_version": "1.5.0",
          "model_name": "HTMLModel",
          "state": {
            "_dom_classes": [],
            "_model_module": "@jupyter-widgets/controls",
            "_model_module_version": "1.5.0",
            "_model_name": "HTMLModel",
            "_view_count": null,
            "_view_module": "@jupyter-widgets/controls",
            "_view_module_version": "1.5.0",
            "_view_name": "HTMLView",
            "description": "",
            "description_tooltip": null,
            "layout": "IPY_MODEL_f74ad9b939a044a2831bb2b014c48229",
            "placeholder": "​",
            "style": "IPY_MODEL_fb6f4c197493441ca12a02593f640274",
            "value": "pytorch_model.bin: 100%"
          }
        },
        "d3e457c9d16d49a0a4602f32567096a9": {
          "model_module": "@jupyter-widgets/controls",
          "model_module_version": "1.5.0",
          "model_name": "DescriptionStyleModel",
          "state": {
            "_model_module": "@jupyter-widgets/controls",
            "_model_module_version": "1.5.0",
            "_model_name": "DescriptionStyleModel",
            "_view_count": null,
            "_view_module": "@jupyter-widgets/base",
            "_view_module_version": "1.2.0",
            "_view_name": "StyleView",
            "description_width": ""
          }
        },
        "d67d8cd7b6f2486a8c424ba8114d77b3": {
          "model_module": "@jupyter-widgets/base",
          "model_module_version": "1.2.0",
          "model_name": "LayoutModel",
          "state": {
            "_model_module": "@jupyter-widgets/base",
            "_model_module_version": "1.2.0",
            "_model_name": "LayoutModel",
            "_view_count": null,
            "_view_module": "@jupyter-widgets/base",
            "_view_module_version": "1.2.0",
            "_view_name": "LayoutView",
            "align_content": null,
            "align_items": null,
            "align_self": null,
            "border": null,
            "bottom": null,
            "display": null,
            "flex": null,
            "flex_flow": null,
            "grid_area": null,
            "grid_auto_columns": null,
            "grid_auto_flow": null,
            "grid_auto_rows": null,
            "grid_column": null,
            "grid_gap": null,
            "grid_row": null,
            "grid_template_areas": null,
            "grid_template_columns": null,
            "grid_template_rows": null,
            "height": null,
            "justify_content": null,
            "justify_items": null,
            "left": null,
            "margin": null,
            "max_height": null,
            "max_width": null,
            "min_height": null,
            "min_width": null,
            "object_fit": null,
            "object_position": null,
            "order": null,
            "overflow": null,
            "overflow_x": null,
            "overflow_y": null,
            "padding": null,
            "right": null,
            "top": null,
            "visibility": null,
            "width": null
          }
        },
        "d83650c66efb445cbd87dac40faf079c": {
          "model_module": "@jupyter-widgets/controls",
          "model_module_version": "1.5.0",
          "model_name": "HBoxModel",
          "state": {
            "_dom_classes": [],
            "_model_module": "@jupyter-widgets/controls",
            "_model_module_version": "1.5.0",
            "_model_name": "HBoxModel",
            "_view_count": null,
            "_view_module": "@jupyter-widgets/controls",
            "_view_module_version": "1.5.0",
            "_view_name": "HBoxView",
            "box_style": "",
            "children": [
              "IPY_MODEL_2d49dae0157e4dad90d2a3383e17acb9",
              "IPY_MODEL_b2538c0a41364bc6a6d9d786eff49811",
              "IPY_MODEL_1ef010c4c3954634bc6301bd59da1175"
            ],
            "layout": "IPY_MODEL_a8f0696cdc8f4b5c9b5932c561627423"
          }
        },
        "d973cc04294e40cbb599591869d1493a": {
          "model_module": "@jupyter-widgets/controls",
          "model_module_version": "1.5.0",
          "model_name": "HBoxModel",
          "state": {
            "_dom_classes": [],
            "_model_module": "@jupyter-widgets/controls",
            "_model_module_version": "1.5.0",
            "_model_name": "HBoxModel",
            "_view_count": null,
            "_view_module": "@jupyter-widgets/controls",
            "_view_module_version": "1.5.0",
            "_view_name": "HBoxView",
            "box_style": "",
            "children": [
              "IPY_MODEL_88dbb4435b0f4790aa959994f386310f",
              "IPY_MODEL_3bd68f71b8d14631be9de6cd54755c54",
              "IPY_MODEL_09a58db52a36420488034edaa97f9e4d"
            ],
            "layout": "IPY_MODEL_6b091fad22d249e797202b7c65381237"
          }
        },
        "dc563aaf2e134e33990914484df990ca": {
          "model_module": "@jupyter-widgets/controls",
          "model_module_version": "1.5.0",
          "model_name": "HTMLModel",
          "state": {
            "_dom_classes": [],
            "_model_module": "@jupyter-widgets/controls",
            "_model_module_version": "1.5.0",
            "_model_name": "HTMLModel",
            "_view_count": null,
            "_view_module": "@jupyter-widgets/controls",
            "_view_module_version": "1.5.0",
            "_view_name": "HTMLView",
            "description": "",
            "description_tooltip": null,
            "layout": "IPY_MODEL_3caf97310cfd4e2796d5cfa13f91cf05",
            "placeholder": "​",
            "style": "IPY_MODEL_b8c6e2bac10b41ccbace0c2178eee06e",
            "value": " 316/316 [00:00&lt;00:00, 4.97kB/s]"
          }
        },
        "dcc0c1a47ca14048b386ad5cc6bc7cd1": {
          "model_module": "@jupyter-widgets/controls",
          "model_module_version": "1.5.0",
          "model_name": "ProgressStyleModel",
          "state": {
            "_model_module": "@jupyter-widgets/controls",
            "_model_module_version": "1.5.0",
            "_model_name": "ProgressStyleModel",
            "_view_count": null,
            "_view_module": "@jupyter-widgets/base",
            "_view_module_version": "1.2.0",
            "_view_name": "StyleView",
            "bar_color": null,
            "description_width": ""
          }
        },
        "dd1800c786d840deae69c3bcf5bcf0d2": {
          "model_module": "@jupyter-widgets/controls",
          "model_module_version": "1.5.0",
          "model_name": "DescriptionStyleModel",
          "state": {
            "_model_module": "@jupyter-widgets/controls",
            "_model_module_version": "1.5.0",
            "_model_name": "DescriptionStyleModel",
            "_view_count": null,
            "_view_module": "@jupyter-widgets/base",
            "_view_module_version": "1.2.0",
            "_view_name": "StyleView",
            "description_width": ""
          }
        },
        "e0d9d8928b934caabb299b37cbfe3594": {
          "model_module": "@jupyter-widgets/controls",
          "model_module_version": "1.5.0",
          "model_name": "ProgressStyleModel",
          "state": {
            "_model_module": "@jupyter-widgets/controls",
            "_model_module_version": "1.5.0",
            "_model_name": "ProgressStyleModel",
            "_view_count": null,
            "_view_module": "@jupyter-widgets/base",
            "_view_module_version": "1.2.0",
            "_view_name": "StyleView",
            "bar_color": null,
            "description_width": ""
          }
        },
        "e20115b2803244ff81cefe978beadf2b": {
          "model_module": "@jupyter-widgets/controls",
          "model_module_version": "1.5.0",
          "model_name": "FloatProgressModel",
          "state": {
            "_dom_classes": [],
            "_model_module": "@jupyter-widgets/controls",
            "_model_module_version": "1.5.0",
            "_model_name": "FloatProgressModel",
            "_view_count": null,
            "_view_module": "@jupyter-widgets/controls",
            "_view_module_version": "1.5.0",
            "_view_name": "ProgressView",
            "bar_style": "success",
            "description": "",
            "description_tooltip": null,
            "layout": "IPY_MODEL_a94f1cbf91c84c148c284996856b8605",
            "max": 112,
            "min": 0,
            "orientation": "horizontal",
            "style": "IPY_MODEL_e0d9d8928b934caabb299b37cbfe3594",
            "value": 112
          }
        },
        "e808b0827235476a9052b3150f83c644": {
          "model_module": "@jupyter-widgets/base",
          "model_module_version": "1.2.0",
          "model_name": "LayoutModel",
          "state": {
            "_model_module": "@jupyter-widgets/base",
            "_model_module_version": "1.2.0",
            "_model_name": "LayoutModel",
            "_view_count": null,
            "_view_module": "@jupyter-widgets/base",
            "_view_module_version": "1.2.0",
            "_view_name": "LayoutView",
            "align_content": null,
            "align_items": null,
            "align_self": null,
            "border": null,
            "bottom": null,
            "display": null,
            "flex": null,
            "flex_flow": null,
            "grid_area": null,
            "grid_auto_columns": null,
            "grid_auto_flow": null,
            "grid_auto_rows": null,
            "grid_column": null,
            "grid_gap": null,
            "grid_row": null,
            "grid_template_areas": null,
            "grid_template_columns": null,
            "grid_template_rows": null,
            "height": null,
            "justify_content": null,
            "justify_items": null,
            "left": null,
            "margin": null,
            "max_height": null,
            "max_width": null,
            "min_height": null,
            "min_width": null,
            "object_fit": null,
            "object_position": null,
            "order": null,
            "overflow": null,
            "overflow_x": null,
            "overflow_y": null,
            "padding": null,
            "right": null,
            "top": null,
            "visibility": null,
            "width": null
          }
        },
        "e9f8c1672dd24cf78464a829d0251ef9": {
          "model_module": "@jupyter-widgets/controls",
          "model_module_version": "1.5.0",
          "model_name": "DescriptionStyleModel",
          "state": {
            "_model_module": "@jupyter-widgets/controls",
            "_model_module_version": "1.5.0",
            "_model_name": "DescriptionStyleModel",
            "_view_count": null,
            "_view_module": "@jupyter-widgets/base",
            "_view_module_version": "1.2.0",
            "_view_name": "StyleView",
            "description_width": ""
          }
        },
        "eaa1bffd528b4156988c600916ec9c63": {
          "model_module": "@jupyter-widgets/base",
          "model_module_version": "1.2.0",
          "model_name": "LayoutModel",
          "state": {
            "_model_module": "@jupyter-widgets/base",
            "_model_module_version": "1.2.0",
            "_model_name": "LayoutModel",
            "_view_count": null,
            "_view_module": "@jupyter-widgets/base",
            "_view_module_version": "1.2.0",
            "_view_name": "LayoutView",
            "align_content": null,
            "align_items": null,
            "align_self": null,
            "border": null,
            "bottom": null,
            "display": null,
            "flex": null,
            "flex_flow": null,
            "grid_area": null,
            "grid_auto_columns": null,
            "grid_auto_flow": null,
            "grid_auto_rows": null,
            "grid_column": null,
            "grid_gap": null,
            "grid_row": null,
            "grid_template_areas": null,
            "grid_template_columns": null,
            "grid_template_rows": null,
            "height": null,
            "justify_content": null,
            "justify_items": null,
            "left": null,
            "margin": null,
            "max_height": null,
            "max_width": null,
            "min_height": null,
            "min_width": null,
            "object_fit": null,
            "object_position": null,
            "order": null,
            "overflow": null,
            "overflow_x": null,
            "overflow_y": null,
            "padding": null,
            "right": null,
            "top": null,
            "visibility": null,
            "width": null
          }
        },
        "eb36de05940c41e3b0e43e657cc5d81a": {
          "model_module": "@jupyter-widgets/controls",
          "model_module_version": "1.5.0",
          "model_name": "ProgressStyleModel",
          "state": {
            "_model_module": "@jupyter-widgets/controls",
            "_model_module_version": "1.5.0",
            "_model_name": "ProgressStyleModel",
            "_view_count": null,
            "_view_module": "@jupyter-widgets/base",
            "_view_module_version": "1.2.0",
            "_view_name": "StyleView",
            "bar_color": null,
            "description_width": ""
          }
        },
        "eb52d5c903624c70809fb26b7ae98a32": {
          "model_module": "@jupyter-widgets/controls",
          "model_module_version": "1.5.0",
          "model_name": "FloatProgressModel",
          "state": {
            "_dom_classes": [],
            "_model_module": "@jupyter-widgets/controls",
            "_model_module_version": "1.5.0",
            "_model_name": "FloatProgressModel",
            "_view_count": null,
            "_view_module": "@jupyter-widgets/controls",
            "_view_module_version": "1.5.0",
            "_view_name": "ProgressView",
            "bar_style": "success",
            "description": "",
            "description_tooltip": null,
            "layout": "IPY_MODEL_0b1079a7e4be4075b51a1a5fc7430837",
            "max": 90903017,
            "min": 0,
            "orientation": "horizontal",
            "style": "IPY_MODEL_b3dbe83ef4354735a107a5438256119a",
            "value": 90903017
          }
        },
        "ecac3ca0294d417b8773d9321ae2a468": {
          "model_module": "@jupyter-widgets/controls",
          "model_module_version": "1.5.0",
          "model_name": "DescriptionStyleModel",
          "state": {
            "_model_module": "@jupyter-widgets/controls",
            "_model_module_version": "1.5.0",
            "_model_name": "DescriptionStyleModel",
            "_view_count": null,
            "_view_module": "@jupyter-widgets/base",
            "_view_module_version": "1.2.0",
            "_view_name": "StyleView",
            "description_width": ""
          }
        },
        "ecb10eb61d0e4506b7100bbe5029163a": {
          "model_module": "@jupyter-widgets/controls",
          "model_module_version": "1.5.0",
          "model_name": "DescriptionStyleModel",
          "state": {
            "_model_module": "@jupyter-widgets/controls",
            "_model_module_version": "1.5.0",
            "_model_name": "DescriptionStyleModel",
            "_view_count": null,
            "_view_module": "@jupyter-widgets/base",
            "_view_module_version": "1.2.0",
            "_view_name": "StyleView",
            "description_width": ""
          }
        },
        "edcdaae8b63e4e5fa95208631216c9ee": {
          "model_module": "@jupyter-widgets/controls",
          "model_module_version": "1.5.0",
          "model_name": "FloatProgressModel",
          "state": {
            "_dom_classes": [],
            "_model_module": "@jupyter-widgets/controls",
            "_model_module_version": "1.5.0",
            "_model_name": "FloatProgressModel",
            "_view_count": null,
            "_view_module": "@jupyter-widgets/controls",
            "_view_module_version": "1.5.0",
            "_view_name": "ProgressView",
            "bar_style": "success",
            "description": "",
            "description_tooltip": null,
            "layout": "IPY_MODEL_751fdf23ad954d638784c99af08a2407",
            "max": 316,
            "min": 0,
            "orientation": "horizontal",
            "style": "IPY_MODEL_dcc0c1a47ca14048b386ad5cc6bc7cd1",
            "value": 316
          }
        },
        "ef66fcff1b2f4b6f9ef0e67d12e64186": {
          "model_module": "@jupyter-widgets/base",
          "model_module_version": "1.2.0",
          "model_name": "LayoutModel",
          "state": {
            "_model_module": "@jupyter-widgets/base",
            "_model_module_version": "1.2.0",
            "_model_name": "LayoutModel",
            "_view_count": null,
            "_view_module": "@jupyter-widgets/base",
            "_view_module_version": "1.2.0",
            "_view_name": "LayoutView",
            "align_content": null,
            "align_items": null,
            "align_self": null,
            "border": null,
            "bottom": null,
            "display": null,
            "flex": null,
            "flex_flow": null,
            "grid_area": null,
            "grid_auto_columns": null,
            "grid_auto_flow": null,
            "grid_auto_rows": null,
            "grid_column": null,
            "grid_gap": null,
            "grid_row": null,
            "grid_template_areas": null,
            "grid_template_columns": null,
            "grid_template_rows": null,
            "height": null,
            "justify_content": null,
            "justify_items": null,
            "left": null,
            "margin": null,
            "max_height": null,
            "max_width": null,
            "min_height": null,
            "min_width": null,
            "object_fit": null,
            "object_position": null,
            "order": null,
            "overflow": null,
            "overflow_x": null,
            "overflow_y": null,
            "padding": null,
            "right": null,
            "top": null,
            "visibility": null,
            "width": null
          }
        },
        "f1b752f0f18541c4b48a4392b0337c7d": {
          "model_module": "@jupyter-widgets/controls",
          "model_module_version": "1.5.0",
          "model_name": "HTMLModel",
          "state": {
            "_dom_classes": [],
            "_model_module": "@jupyter-widgets/controls",
            "_model_module_version": "1.5.0",
            "_model_name": "HTMLModel",
            "_view_count": null,
            "_view_module": "@jupyter-widgets/controls",
            "_view_module_version": "1.5.0",
            "_view_name": "HTMLView",
            "description": "",
            "description_tooltip": null,
            "layout": "IPY_MODEL_4d93e7a8e53d4fc49d89970d01ca76f6",
            "placeholder": "​",
            "style": "IPY_MODEL_8061ccc1ea59401e870c7f7f8c274f55",
            "value": " 794/794 [00:00&lt;00:00, 38.0kB/s]"
          }
        },
        "f4a59bc5934f4c8cbdd4fd7bba9c2da2": {
          "model_module": "@jupyter-widgets/controls",
          "model_module_version": "1.5.0",
          "model_name": "DescriptionStyleModel",
          "state": {
            "_model_module": "@jupyter-widgets/controls",
            "_model_module_version": "1.5.0",
            "_model_name": "DescriptionStyleModel",
            "_view_count": null,
            "_view_module": "@jupyter-widgets/base",
            "_view_module_version": "1.2.0",
            "_view_name": "StyleView",
            "description_width": ""
          }
        },
        "f4f7da83a2b84e388b0b356d41e9ed49": {
          "model_module": "@jupyter-widgets/controls",
          "model_module_version": "1.5.0",
          "model_name": "ProgressStyleModel",
          "state": {
            "_model_module": "@jupyter-widgets/controls",
            "_model_module_version": "1.5.0",
            "_model_name": "ProgressStyleModel",
            "_view_count": null,
            "_view_module": "@jupyter-widgets/base",
            "_view_module_version": "1.2.0",
            "_view_name": "StyleView",
            "bar_color": null,
            "description_width": ""
          }
        },
        "f61c39842fb64b68ac9b113c96433643": {
          "model_module": "@jupyter-widgets/base",
          "model_module_version": "1.2.0",
          "model_name": "LayoutModel",
          "state": {
            "_model_module": "@jupyter-widgets/base",
            "_model_module_version": "1.2.0",
            "_model_name": "LayoutModel",
            "_view_count": null,
            "_view_module": "@jupyter-widgets/base",
            "_view_module_version": "1.2.0",
            "_view_name": "LayoutView",
            "align_content": null,
            "align_items": null,
            "align_self": null,
            "border": null,
            "bottom": null,
            "display": null,
            "flex": null,
            "flex_flow": null,
            "grid_area": null,
            "grid_auto_columns": null,
            "grid_auto_flow": null,
            "grid_auto_rows": null,
            "grid_column": null,
            "grid_gap": null,
            "grid_row": null,
            "grid_template_areas": null,
            "grid_template_columns": null,
            "grid_template_rows": null,
            "height": null,
            "justify_content": null,
            "justify_items": null,
            "left": null,
            "margin": null,
            "max_height": null,
            "max_width": null,
            "min_height": null,
            "min_width": null,
            "object_fit": null,
            "object_position": null,
            "order": null,
            "overflow": null,
            "overflow_x": null,
            "overflow_y": null,
            "padding": null,
            "right": null,
            "top": null,
            "visibility": null,
            "width": null
          }
        },
        "f621f45729c440d6b9f595e2ee8582c9": {
          "model_module": "@jupyter-widgets/controls",
          "model_module_version": "1.5.0",
          "model_name": "FloatProgressModel",
          "state": {
            "_dom_classes": [],
            "_model_module": "@jupyter-widgets/controls",
            "_model_module_version": "1.5.0",
            "_model_name": "FloatProgressModel",
            "_view_count": null,
            "_view_module": "@jupyter-widgets/controls",
            "_view_module_version": "1.5.0",
            "_view_name": "ProgressView",
            "bar_style": "success",
            "description": "",
            "description_tooltip": null,
            "layout": "IPY_MODEL_7060685c5ff342acbda926b4bd2eb33b",
            "max": 90903017,
            "min": 0,
            "orientation": "horizontal",
            "style": "IPY_MODEL_33bf602efb564f06a5c42210d7c24480",
            "value": 90903017
          }
        },
        "f74ad9b939a044a2831bb2b014c48229": {
          "model_module": "@jupyter-widgets/base",
          "model_module_version": "1.2.0",
          "model_name": "LayoutModel",
          "state": {
            "_model_module": "@jupyter-widgets/base",
            "_model_module_version": "1.2.0",
            "_model_name": "LayoutModel",
            "_view_count": null,
            "_view_module": "@jupyter-widgets/base",
            "_view_module_version": "1.2.0",
            "_view_name": "LayoutView",
            "align_content": null,
            "align_items": null,
            "align_self": null,
            "border": null,
            "bottom": null,
            "display": null,
            "flex": null,
            "flex_flow": null,
            "grid_area": null,
            "grid_auto_columns": null,
            "grid_auto_flow": null,
            "grid_auto_rows": null,
            "grid_column": null,
            "grid_gap": null,
            "grid_row": null,
            "grid_template_areas": null,
            "grid_template_columns": null,
            "grid_template_rows": null,
            "height": null,
            "justify_content": null,
            "justify_items": null,
            "left": null,
            "margin": null,
            "max_height": null,
            "max_width": null,
            "min_height": null,
            "min_width": null,
            "object_fit": null,
            "object_position": null,
            "order": null,
            "overflow": null,
            "overflow_x": null,
            "overflow_y": null,
            "padding": null,
            "right": null,
            "top": null,
            "visibility": null,
            "width": null
          }
        },
        "f8a6314da9aa4642a4b6421810a9b2e5": {
          "model_module": "@jupyter-widgets/controls",
          "model_module_version": "1.5.0",
          "model_name": "HTMLModel",
          "state": {
            "_dom_classes": [],
            "_model_module": "@jupyter-widgets/controls",
            "_model_module_version": "1.5.0",
            "_model_name": "HTMLModel",
            "_view_count": null,
            "_view_module": "@jupyter-widgets/controls",
            "_view_module_version": "1.5.0",
            "_view_name": "HTMLView",
            "description": "",
            "description_tooltip": null,
            "layout": "IPY_MODEL_69fe37eda77b468db45bc0b4b531bc1c",
            "placeholder": "​",
            "style": "IPY_MODEL_19db3c9e2d3a4012a3b373295ca9bad3",
            "value": "config.json: 100%"
          }
        },
        "fa07b4b118ac47678afd34a44b939dd0": {
          "model_module": "@jupyter-widgets/controls",
          "model_module_version": "1.5.0",
          "model_name": "ProgressStyleModel",
          "state": {
            "_model_module": "@jupyter-widgets/controls",
            "_model_module_version": "1.5.0",
            "_model_name": "ProgressStyleModel",
            "_view_count": null,
            "_view_module": "@jupyter-widgets/base",
            "_view_module_version": "1.2.0",
            "_view_name": "StyleView",
            "bar_color": null,
            "description_width": ""
          }
        },
        "fb6f4c197493441ca12a02593f640274": {
          "model_module": "@jupyter-widgets/controls",
          "model_module_version": "1.5.0",
          "model_name": "DescriptionStyleModel",
          "state": {
            "_model_module": "@jupyter-widgets/controls",
            "_model_module_version": "1.5.0",
            "_model_name": "DescriptionStyleModel",
            "_view_count": null,
            "_view_module": "@jupyter-widgets/base",
            "_view_module_version": "1.2.0",
            "_view_name": "StyleView",
            "description_width": ""
          }
        },
        "fc24715170774380a7a86c93cb24b64a": {
          "model_module": "@jupyter-widgets/base",
          "model_module_version": "1.2.0",
          "model_name": "LayoutModel",
          "state": {
            "_model_module": "@jupyter-widgets/base",
            "_model_module_version": "1.2.0",
            "_model_name": "LayoutModel",
            "_view_count": null,
            "_view_module": "@jupyter-widgets/base",
            "_view_module_version": "1.2.0",
            "_view_name": "LayoutView",
            "align_content": null,
            "align_items": null,
            "align_self": null,
            "border": null,
            "bottom": null,
            "display": null,
            "flex": null,
            "flex_flow": null,
            "grid_area": null,
            "grid_auto_columns": null,
            "grid_auto_flow": null,
            "grid_auto_rows": null,
            "grid_column": null,
            "grid_gap": null,
            "grid_row": null,
            "grid_template_areas": null,
            "grid_template_columns": null,
            "grid_template_rows": null,
            "height": null,
            "justify_content": null,
            "justify_items": null,
            "left": null,
            "margin": null,
            "max_height": null,
            "max_width": null,
            "min_height": null,
            "min_width": null,
            "object_fit": null,
            "object_position": null,
            "order": null,
            "overflow": null,
            "overflow_x": null,
            "overflow_y": null,
            "padding": null,
            "right": null,
            "top": null,
            "visibility": null,
            "width": null
          }
        },
        "fdbd36ab6bb54e9e881b07a9ecba6d31": {
          "model_module": "@jupyter-widgets/controls",
          "model_module_version": "1.5.0",
          "model_name": "FloatProgressModel",
          "state": {
            "_dom_classes": [],
            "_model_module": "@jupyter-widgets/controls",
            "_model_module_version": "1.5.0",
            "_model_name": "FloatProgressModel",
            "_view_count": null,
            "_view_module": "@jupyter-widgets/controls",
            "_view_module_version": "1.5.0",
            "_view_name": "ProgressView",
            "bar_style": "success",
            "description": "",
            "description_tooltip": null,
            "layout": "IPY_MODEL_e808b0827235476a9052b3150f83c644",
            "max": 316,
            "min": 0,
            "orientation": "horizontal",
            "style": "IPY_MODEL_eb36de05940c41e3b0e43e657cc5d81a",
            "value": 316
          }
        },
        "ff822af0e5394517814f37825a1a8646": {
          "model_module": "@jupyter-widgets/controls",
          "model_module_version": "1.5.0",
          "model_name": "FloatProgressModel",
          "state": {
            "_dom_classes": [],
            "_model_module": "@jupyter-widgets/controls",
            "_model_module_version": "1.5.0",
            "_model_name": "FloatProgressModel",
            "_view_count": null,
            "_view_module": "@jupyter-widgets/controls",
            "_view_module_version": "1.5.0",
            "_view_name": "ProgressView",
            "bar_style": "success",
            "description": "",
            "description_tooltip": null,
            "layout": "IPY_MODEL_adefc64386044bac90a11e6aa7a4dfd6",
            "max": 112,
            "min": 0,
            "orientation": "horizontal",
            "style": "IPY_MODEL_21ff926fe0984d2884acbf91ea1a38f5",
            "value": 112
          }
        }
      }
    }
  },
  "nbformat": 4,
  "nbformat_minor": 0
}
